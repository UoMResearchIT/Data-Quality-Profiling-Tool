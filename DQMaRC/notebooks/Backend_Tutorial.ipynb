{
 "cells": [
  {
   "cell_type": "code",
   "execution_count": 1,
   "id": "da3ddd4b",
   "metadata": {},
   "outputs": [],
   "source": [
    "import os\n",
    "# os.getcwd()\n",
    "os.chdir(\"C:/Users/Anthony.Lighterness/Work/.iWork/Project_Work/Git_Repos/data_quality_backend/DQMaRC-dev/DQMaRC\")"
   ]
  },
  {
   "cell_type": "code",
   "execution_count": 1,
   "id": "fda51f1d",
   "metadata": {},
   "outputs": [
    {
     "ename": "ModuleNotFoundError",
     "evalue": "No module named 'DataQuality'",
     "output_type": "error",
     "traceback": [
      "\u001b[1;31m---------------------------------------------------------------------------\u001b[0m",
      "\u001b[1;31mModuleNotFoundError\u001b[0m                       Traceback (most recent call last)",
      "Cell \u001b[1;32mIn[1], line 5\u001b[0m\n\u001b[0;32m      2\u001b[0m \u001b[38;5;28;01mimport\u001b[39;00m \u001b[38;5;21;01mnumpy\u001b[39;00m \u001b[38;5;28;01mas\u001b[39;00m \u001b[38;5;21;01mnp\u001b[39;00m\n\u001b[0;32m      4\u001b[0m \u001b[38;5;66;03m# Import DQMaRC\u001b[39;00m\n\u001b[1;32m----> 5\u001b[0m \u001b[38;5;28;01mfrom\u001b[39;00m \u001b[38;5;21;01mDataQuality\u001b[39;00m \u001b[38;5;28;01mimport\u001b[39;00m DataQuality\n\u001b[0;32m      7\u001b[0m \u001b[38;5;66;03m# Import utilities for data quality visualisation\u001b[39;00m\n\u001b[0;32m      8\u001b[0m \u001b[38;5;28;01mfrom\u001b[39;00m \u001b[38;5;21;01mUtilitiesDQMaRC\u001b[39;00m \u001b[38;5;28;01mimport\u001b[39;00m (\n\u001b[0;32m      9\u001b[0m     MetricCalculator,\n\u001b[0;32m     10\u001b[0m     BarPlotGenerator,\n\u001b[0;32m     11\u001b[0m     DonutChartGenerator,\n\u001b[0;32m     12\u001b[0m     overall_quality_fx, col_good, col_bad)\n",
      "\u001b[1;31mModuleNotFoundError\u001b[0m: No module named 'DataQuality'"
     ]
    }
   ],
   "source": [
    "import pandas as pd\n",
    "import numpy as np\n",
    "\n",
    "# Import DQMaRC\n",
    "from DataQuality import DataQuality\n",
    "\n",
    "# Import utilities for data quality visualisation\n",
    "from UtilitiesDQMaRC import (\n",
    "    MetricCalculator,\n",
    "    BarPlotGenerator,\n",
    "    DonutChartGenerator,\n",
    "    overall_quality_fx, col_good, col_bad)"
   ]
  },
  {
   "cell_type": "code",
   "execution_count": 3,
   "id": "b496302e",
   "metadata": {
    "execution": {
     "iopub.execute_input": "2024-05-15T08:54:56.842472Z",
     "iopub.status.busy": "2024-05-15T08:54:56.842472Z",
     "iopub.status.idle": "2024-05-15T08:54:56.973661Z",
     "shell.execute_reply": "2024-05-15T08:54:56.973661Z"
    }
   },
   "outputs": [
    {
     "data": {
      "application/vnd.jupyter.widget-view+json": {
       "model_id": "9ce1c55048754f7eb1247ed74ef04981",
       "version_major": 2,
       "version_minor": 0
      },
      "text/plain": [
       "DataGrid(auto_fit_params={'area': 'all', 'padding': 30, 'numCols': None}, base_column_header_size=30, base_col…"
      ]
     },
     "execution_count": 3,
     "metadata": {},
     "output_type": "execute_result"
    }
   ],
   "source": [
    "from ipydatagrid import DataGrid, TextRenderer\n",
    "\n",
    "# Read in example data as pandas dataframe\n",
    "df = pd.read_csv('./data/toydf_subset.csv')\n",
    "DataGrid(\n",
    "    df,\n",
    "    editable=False,\n",
    "    header_visibility='column',\n",
    "    base_column_size = 180,\n",
    "    base_column_header_size = 30,\n",
    "    header_renderer=TextRenderer(background_color='lightblue'),\n",
    "    grid_style={\"header_background_color\": \"lightblue\"}\n",
    "    )"
   ]
  },
  {
   "cell_type": "code",
   "execution_count": 4,
   "id": "97b65818",
   "metadata": {
    "execution": {
     "iopub.execute_input": "2024-05-15T08:54:56.973661Z",
     "iopub.status.busy": "2024-05-15T08:54:56.973661Z",
     "iopub.status.idle": "2024-05-15T08:54:57.004950Z",
     "shell.execute_reply": "2024-05-15T08:54:57.004950Z"
    }
   },
   "outputs": [
    {
     "name": "stdout",
     "output_type": "stream",
     "text": [
      "Warning - Using default parameters. For best results edit parameters and reload using set_test_params() method\n"
     ]
    },
    {
     "data": {
      "application/vnd.jupyter.widget-view+json": {
       "model_id": "bc466c5d331d42b4ac6932636b4c7379",
       "version_major": 2,
       "version_minor": 0
      },
      "text/plain": [
       "DataGrid(auto_fit_params={'area': 'all', 'padding': 30, 'numCols': None}, base_column_header_size=30, base_col…"
      ]
     },
     "execution_count": 4,
     "metadata": {},
     "output_type": "execute_result"
    }
   ],
   "source": [
    "# Initialise a DQ object by passing your data to the tool\n",
    "dq = DataQuality(df)\n",
    "\n",
    "# Retrieve default test parameter form the object. We will edit this in the next step\n",
    "test_params = dq.get_test_params()\n",
    "\n",
    "# View the test parameters template\n",
    "DataGrid(\n",
    "    test_params,\n",
    "    editable=True,\n",
    "    header_visibility='column',\n",
    "    base_column_size = 180,\n",
    "    base_column_header_size = 30,\n",
    "    header_renderer=TextRenderer(background_color='#fb9a99'),\n",
    "    grid_style={\"header_background_color\": \"#fb9a99\"}\n",
    "    )"
   ]
  },
  {
   "cell_type": "code",
   "execution_count": 5,
   "id": "32b6ecbc",
   "metadata": {
    "execution": {
     "iopub.execute_input": "2024-05-15T08:54:57.004950Z",
     "iopub.status.busy": "2024-05-15T08:54:57.004950Z",
     "iopub.status.idle": "2024-05-15T08:54:57.020528Z",
     "shell.execute_reply": "2024-05-15T08:54:57.020528Z"
    }
   },
   "outputs": [
    {
     "data": {
      "application/vnd.jupyter.widget-view+json": {
       "model_id": "1cff26894a9c4b4284d18b17a8cd23e3",
       "version_major": 2,
       "version_minor": 0
      },
      "text/plain": [
       "DataGrid(auto_fit_params={'area': 'all', 'padding': 30, 'numCols': None}, base_column_header_size=30, base_col…"
      ]
     },
     "execution_count": 5,
     "metadata": {},
     "output_type": "execute_result"
    }
   ],
   "source": [
    "# Read in example data as pandas dataframe\n",
    "test_params_definitions = pd.read_csv('./data/test_params_definitions.csv')\n",
    "\n",
    "DataGrid(\n",
    "    test_params_definitions,\n",
    "    editable=False,\n",
    "    header_visibility='column',\n",
    "    base_column_size = 180,\n",
    "    base_column_header_size = 30,\n",
    "    header_renderer=TextRenderer(background_color='#b2df8a'),\n",
    "    grid_style={\"header_background_color\": \"#b2df8a\"}\n",
    "    )"
   ]
  },
  {
   "cell_type": "code",
   "execution_count": 6,
   "id": "667c88a1",
   "metadata": {
    "execution": {
     "iopub.execute_input": "2024-05-15T08:54:57.020528Z",
     "iopub.status.busy": "2024-05-15T08:54:57.020528Z",
     "iopub.status.idle": "2024-05-15T08:54:57.042423Z",
     "shell.execute_reply": "2024-05-15T08:54:57.042423Z"
    }
   },
   "outputs": [],
   "source": [
    "# Datetime format\n",
    "test_params.loc[test_params['Field']=='Date_of_Diagnosis', 'Date_Format'] = \"%d/%m/%Y\"\n",
    "test_params.loc[test_params['Field']=='Date_of_Birth', 'Date_Format'] = \"%d/%m/%Y\"\n",
    "test_params.loc[test_params['Field']=='Datetime_Event1', 'Date_Format'] = \"%d/%m/%Y %H:%M\"\n",
    "test_params.loc[test_params['Field']=='Datetime_Logging1', 'Date_Format'] = \"%d/%m/%Y %H:%M\"\n",
    "\n",
    "# Another way to do this:\n",
    "# test_params.at[3,'Date_Format']=\"%d/%m/%Y\" # Date of Diagnosis\n",
    "# test_params.at[4,'Date_Format']=\"%d/%m/%Y\" # Date of Birth\n",
    "# test_params.at[15,'Date_Format']=\"%d/%m/%Y %H:%M\" # Datetime_Event1\n",
    "# test_params.at[16,'Date_Format']=\"%d/%m/%Y %H:%M\" # Datetime_Logging1"
   ]
  },
  {
   "cell_type": "code",
   "execution_count": 7,
   "id": "8cf8b51c",
   "metadata": {
    "execution": {
     "iopub.execute_input": "2024-05-15T08:54:57.042423Z",
     "iopub.status.busy": "2024-05-15T08:54:57.042423Z",
     "iopub.status.idle": "2024-05-15T08:54:57.057967Z",
     "shell.execute_reply": "2024-05-15T08:54:57.057967Z"
    }
   },
   "outputs": [
    {
     "name": "stderr",
     "output_type": "stream",
     "text": [
      "C:\\Users\\Anthony.Lighterness\\AppData\\Local\\Temp\\ipykernel_2364\\3228092927.py:8: FutureWarning: Setting an item of incompatible dtype is deprecated and will raise an error in a future version of pandas. Value 'Unknown|Not Known|na' has dtype incompatible with float64, please explicitly cast to a compatible dtype first.\n",
      "  test_params.at[2,'Completeness_Encoded_Mapping']='Unknown|Not Known|na' # use pipes for multiple possible codes for missingness\n"
     ]
    }
   ],
   "source": [
    "# Completeness\n",
    "# Set to true for all fields\n",
    "test_params['Completeness_NULL'] = True # Default value\n",
    "test_params['Completeness_Empty'] = True # Default value\n",
    "\n",
    "# Set Completeness Encoding only for the \"Gender\" column\n",
    "test_params.at[2,'Completeness_Encoded']=True\n",
    "test_params.at[2,'Completeness_Encoded_Mapping']='Unknown|Not Known|na' # use pipes for multiple possible codes for missingness"
   ]
  },
  {
   "cell_type": "code",
   "execution_count": 8,
   "id": "63ff608f",
   "metadata": {
    "execution": {
     "iopub.execute_input": "2024-05-15T08:54:57.057967Z",
     "iopub.status.busy": "2024-05-15T08:54:57.057967Z",
     "iopub.status.idle": "2024-05-15T08:54:57.073520Z",
     "shell.execute_reply": "2024-05-15T08:54:57.073520Z"
    }
   },
   "outputs": [],
   "source": [
    "# Uniqueness\n",
    "# Set to true for all fields\n",
    "test_params['Uniqueness_rows'] = True # Default value"
   ]
  },
  {
   "cell_type": "code",
   "execution_count": 9,
   "id": "af14e3b1",
   "metadata": {
    "execution": {
     "iopub.execute_input": "2024-05-15T08:54:57.073520Z",
     "iopub.status.busy": "2024-05-15T08:54:57.073520Z",
     "iopub.status.idle": "2024-05-15T08:54:57.089259Z",
     "shell.execute_reply": "2024-05-15T08:54:57.089259Z"
    }
   },
   "outputs": [
    {
     "name": "stderr",
     "output_type": "stream",
     "text": [
      "C:\\Users\\Anthony.Lighterness\\AppData\\Local\\Temp\\ipykernel_2364\\2999151425.py:4: FutureWarning: Setting an item of incompatible dtype is deprecated and will raise an error in a future version of pandas. Value 'Tumour_M_Stage' has dtype incompatible with float64, please explicitly cast to a compatible dtype first.\n",
      "  test_params.loc[test_params['Field']=='Metastatic_Indicator', 'Consistency_Compare_Field'] = 'Tumour_M_Stage'\n",
      "C:\\Users\\Anthony.Lighterness\\AppData\\Local\\Temp\\ipykernel_2364\\2999151425.py:5: FutureWarning: Setting an item of incompatible dtype is deprecated and will raise an error in a future version of pandas. Value '{[\"Absent\"]: [\"M0\"], [\"Present\"]: [\"M1\", \"M1a\"]}' has dtype incompatible with float64, please explicitly cast to a compatible dtype first.\n",
      "  test_params.loc[test_params['Field']=='Metastatic_Indicator', 'Consistency_Compare_Mapping'] = '{[\"Absent\"]: [\"M0\"], [\"Present\"]: [\"M1\", \"M1a\"]}'\n",
      "C:\\Users\\Anthony.Lighterness\\AppData\\Local\\Temp\\ipykernel_2364\\2999151425.py:9: FutureWarning: Setting an item of incompatible dtype is deprecated and will raise an error in a future version of pandas. Value 'Date_of_Diagnosis' has dtype incompatible with float64, please explicitly cast to a compatible dtype first.\n",
      "  test_params.loc[test_params['Field']=='Date_of_Birth', 'Consistency_Date_Relations_Field'] = 'Date_of_Diagnosis'\n",
      "C:\\Users\\Anthony.Lighterness\\AppData\\Local\\Temp\\ipykernel_2364\\2999151425.py:10: FutureWarning: Setting an item of incompatible dtype is deprecated and will raise an error in a future version of pandas. Value '>' has dtype incompatible with float64, please explicitly cast to a compatible dtype first.\n",
      "  test_params.loc[test_params['Field']=='Date_of_Birth', 'Consistency_Date_Relationship'] = '>' # i.e. raise an error if Date of Birth > Date of Diagnosis\n"
     ]
    }
   ],
   "source": [
    "# Consistency\n",
    "# Set up consistency checks between the \"Metastatic_Indicator\" and \"Tumour_M_Stage\" columns\n",
    "test_params.loc[test_params['Field']=='Metastatic_Indicator', 'Consistency_Compare'] = True\n",
    "test_params.loc[test_params['Field']=='Metastatic_Indicator', 'Consistency_Compare_Field'] = 'Tumour_M_Stage'\n",
    "test_params.loc[test_params['Field']=='Metastatic_Indicator', 'Consistency_Compare_Mapping'] = '{[\"Absent\"]: [\"M0\"], [\"Present\"]: [\"M1\", \"M1a\"]}'\n",
    "\n",
    "# Set up consistency checks between date fields \"Date_of_Birth\" and \"Date_of_Diagnosis\"\n",
    "test_params.loc[test_params['Field']=='Date_of_Birth', 'Consistency_Date_Relations'] = True\n",
    "test_params.loc[test_params['Field']=='Date_of_Birth', 'Consistency_Date_Relations_Field'] = 'Date_of_Diagnosis'\n",
    "test_params.loc[test_params['Field']=='Date_of_Birth', 'Consistency_Date_Relationship'] = '>' # i.e. raise an error if Date of Birth > Date of Diagnosis"
   ]
  },
  {
   "cell_type": "code",
   "execution_count": 10,
   "id": "8ebc3649",
   "metadata": {
    "execution": {
     "iopub.execute_input": "2024-05-15T08:54:57.089259Z",
     "iopub.status.busy": "2024-05-15T08:54:57.089259Z",
     "iopub.status.idle": "2024-05-15T08:54:57.104877Z",
     "shell.execute_reply": "2024-05-15T08:54:57.104877Z"
    }
   },
   "outputs": [
    {
     "name": "stderr",
     "output_type": "stream",
     "text": [
      "C:\\Users\\Anthony.Lighterness\\AppData\\Local\\Temp\\ipykernel_2364\\4144378692.py:4: FutureWarning: Setting an item of incompatible dtype is deprecated and will raise an error in a future version of pandas. Value 'Datetime_Logging1' has dtype incompatible with float64, please explicitly cast to a compatible dtype first.\n",
      "  test_params.loc[test_params['Field']=='Datetime_Event1', 'Timeliness_Date_Diff_Field'] = 'Datetime_Logging1'\n",
      "C:\\Users\\Anthony.Lighterness\\AppData\\Local\\Temp\\ipykernel_2364\\4144378692.py:5: FutureWarning: Setting an item of incompatible dtype is deprecated and will raise an error in a future version of pandas. Value '10' has dtype incompatible with float64, please explicitly cast to a compatible dtype first.\n",
      "  test_params.loc[test_params['Field']=='Datetime_Event1', 'Timeliness_Date_Diff_Threshold'] = '10' # i.e. raise an error if timediff >10 minutes\n"
     ]
    }
   ],
   "source": [
    "# Timeliness\n",
    "# Raise an error if a time difference threshold of 10 minutes is exceeded\n",
    "test_params.loc[test_params['Field']=='Datetime_Event1', 'Timeliness_Date_Diff'] = True\n",
    "test_params.loc[test_params['Field']=='Datetime_Event1', 'Timeliness_Date_Diff_Field'] = 'Datetime_Logging1'\n",
    "test_params.loc[test_params['Field']=='Datetime_Event1', 'Timeliness_Date_Diff_Threshold'] = '10' # i.e. raise an error if timediff >10 minutes"
   ]
  },
  {
   "cell_type": "code",
   "execution_count": 11,
   "id": "614b501e",
   "metadata": {
    "execution": {
     "iopub.execute_input": "2024-05-15T08:54:57.104877Z",
     "iopub.status.busy": "2024-05-15T08:54:57.104877Z",
     "iopub.status.idle": "2024-05-15T08:54:57.120410Z",
     "shell.execute_reply": "2024-05-15T08:54:57.120410Z"
    }
   },
   "outputs": [
    {
     "name": "stderr",
     "output_type": "stream",
     "text": [
      "C:\\Users\\Anthony.Lighterness\\AppData\\Local\\Temp\\ipykernel_2364\\1136909361.py:10: FutureWarning: Setting an item of incompatible dtype is deprecated and will raise an error in a future version of pandas. Value '2011-01-01' has dtype incompatible with float64, please explicitly cast to a compatible dtype first.\n",
      "  test_params.loc[test_params['Field']=='Date_of_Diagnosis', 'Validity_Date_Range_Min'] = '2011-01-01'\n",
      "C:\\Users\\Anthony.Lighterness\\AppData\\Local\\Temp\\ipykernel_2364\\1136909361.py:13: FutureWarning: Setting an item of incompatible dtype is deprecated and will raise an error in a future version of pandas. Value '2023-07-07' has dtype incompatible with float64, please explicitly cast to a compatible dtype first.\n",
      "  test_params.loc[test_params['Field']=='Date_of_Diagnosis', 'Validity_Date_Range_Max'] = '2023-07-07'\n",
      "C:\\Users\\Anthony.Lighterness\\AppData\\Local\\Temp\\ipykernel_2364\\1136909361.py:42: FutureWarning: Setting an item of incompatible dtype is deprecated and will raise an error in a future version of pandas. Value '..src/data/lookups/LU_toydf_gender.csv' has dtype incompatible with float64, please explicitly cast to a compatible dtype first.\n",
      "  test_params.loc[test_params['Field']=='Gender', 'Validity_Lookup_Table_Filename'] = lu_filename\n",
      "C:\\Users\\Anthony.Lighterness\\AppData\\Local\\Temp\\ipykernel_2364\\1136909361.py:46: FutureWarning: Setting an item of incompatible dtype is deprecated and will raise an error in a future version of pandas. Value '(\\d{2})/(\\d{2})/(\\d{4}) (\\d{2}):(\\d{2})' has dtype incompatible with float64, please explicitly cast to a compatible dtype first.\n",
      "  test_params.loc[test_params['Field']=='Datetime_Event1', 'Validity_Pattern_Regex'] = \"(\\d{2})/(\\d{2})/(\\d{4}) (\\d{2}):(\\d{2})\"\n"
     ]
    }
   ],
   "source": [
    "# Validity\n",
    "# (1) Future Dates\n",
    "test_params.loc[test_params['Field']=='Date_of_Diagnosis', 'Validity_Dates_Future'] = True\n",
    "test_params.loc[test_params['Field']=='Date_of_Birth', 'Validity_Dates_Future'] = True\n",
    "\n",
    "# (2) Date Outliers\n",
    "test_params.loc[test_params['Field']=='Date_of_Diagnosis', 'Validity_Date_Range'] = True\n",
    "test_params.loc[test_params['Field']=='Date_of_Birth', 'Validity_Date_Range'] = True\n",
    "\n",
    "test_params.loc[test_params['Field']=='Date_of_Diagnosis', 'Validity_Date_Range_Min'] = '2011-01-01'\n",
    "test_params.loc[test_params['Field']=='Date_of_Birth', 'Validity_Date_Range_Min'] = '1900-01-01'\n",
    "\n",
    "test_params.loc[test_params['Field']=='Date_of_Diagnosis', 'Validity_Date_Range_Max'] = '2023-07-07'\n",
    "test_params.loc[test_params['Field']=='Date_of_Birth', 'Validity_Date_Range_Max'] = '2023-01-01'\n",
    "\n",
    "# (3) Numerical Outliers\n",
    "test_params.loc[test_params['Field']=='Age', 'Validity_Range'] = True\n",
    "test_params.loc[test_params['Field']=='Age', 'Validity_Range_Min'] = 0\n",
    "test_params.loc[test_params['Field']=='Age', 'Validity_Range_Max'] = 120\n",
    "\n",
    "test_params.loc[test_params['Field']=='Height_cm', 'Validity_Range'] = True\n",
    "test_params.loc[test_params['Field']=='Height_cm', 'Validity_Range_Min'] = 20\n",
    "test_params.loc[test_params['Field']=='Height_cm', 'Validity_Range_Max'] = 210\n",
    "\n",
    "# (4) NHS Number Validator\n",
    "test_params.loc[test_params['Field']=='NHS_Number', 'Validity_NHS_Number'] = True\n",
    "\n",
    "# (5) UK Postcode Validator\n",
    "test_params.loc[test_params['Field']=='Postcode', 'Validity_Postcode_UK'] = True\n",
    "\n",
    "# (6) Data Standards\n",
    "# Either create and save your own data standard\n",
    "#lu_filename_user_made = './data/lookups/LU_toydf_gender_user_made.csv'\n",
    "lu_filename_user_made = 'LU_toydf_gender_user_made.csv'\n",
    "# dq.save_user_lookup(pd.DataFrame({'Code': ['Male', 'Female']}), lu_filename_user_made)\n",
    "\n",
    "# Or access a pre-defined list saved as a csv file\n",
    "lu_filename = '..src/data/lookups/LU_toydf_gender.csv'\n",
    "\n",
    "# Here we will apply a pre-defined data standard for \"gender\"\n",
    "test_params.loc[test_params['Field']=='Gender', 'Validity_Lookup_Table'] = True\n",
    "test_params.loc[test_params['Field']=='Gender', 'Validity_Lookup_Table_Filename'] = lu_filename\n",
    "\n",
    "# (7) Regular Expression Pattern\n",
    "test_params.loc[test_params['Field']=='Datetime_Event1', 'Validity_Pattern'] = True\n",
    "test_params.loc[test_params['Field']=='Datetime_Event1', 'Validity_Pattern_Regex'] = \"(\\d{2})/(\\d{2})/(\\d{4}) (\\d{2}):(\\d{2})\"\n",
    "\n",
    "test_params.loc[test_params['Field']=='Datetime_Event2', 'Validity_Pattern'] = True\n",
    "test_params.loc[test_params['Field']=='Datetime_Event2', 'Validity_Pattern_Regex'] = \"[0-9]{2}/[0-9]{2}/[0-9]{4} [0-9]{2}:[0-9]{2}\""
   ]
  },
  {
   "cell_type": "code",
   "execution_count": 12,
   "id": "7932b2f5",
   "metadata": {
    "execution": {
     "iopub.execute_input": "2024-05-15T08:54:57.120410Z",
     "iopub.status.busy": "2024-05-15T08:54:57.120410Z",
     "iopub.status.idle": "2024-05-15T08:54:57.142815Z",
     "shell.execute_reply": "2024-05-15T08:54:57.142815Z"
    }
   },
   "outputs": [],
   "source": [
    "# Accuracy\n",
    "# Set a manually validated version of the data set as the gold standard\n",
    "test_params['Gold_Standard'] = True"
   ]
  },
  {
   "cell_type": "code",
   "execution_count": 13,
   "id": "4f2a35c0",
   "metadata": {
    "execution": {
     "iopub.execute_input": "2024-05-15T08:54:57.142815Z",
     "iopub.status.busy": "2024-05-15T08:54:57.142815Z",
     "iopub.status.idle": "2024-05-15T08:54:57.158361Z",
     "shell.execute_reply": "2024-05-15T08:54:57.158361Z"
    }
   },
   "outputs": [
    {
     "data": {
      "application/vnd.jupyter.widget-view+json": {
       "model_id": "afa72eeedd0e46448543ec9ccede81c8",
       "version_major": 2,
       "version_minor": 0
      },
      "text/plain": [
       "DataGrid(auto_fit_params={'area': 'all', 'padding': 30, 'numCols': None}, base_column_header_size=30, base_col…"
      ]
     },
     "execution_count": 13,
     "metadata": {},
     "output_type": "execute_result"
    }
   ],
   "source": [
    "test_params_upload = pd.read_csv('./data/toydf_subset_test_params_24.05.16.csv')\n",
    "test_params_upload\n",
    "#df = pd.read_csv('../src/data/toydf_subset.csv')\n",
    "DataGrid(\n",
    "    test_params_upload,\n",
    "    editable=False,\n",
    "    header_visibility='column',\n",
    "    base_column_size = 180,\n",
    "    base_column_header_size = 30,\n",
    "    header_renderer=TextRenderer(background_color='orange'),\n",
    "    grid_style={\"header_background_color\": \"orange\"}\n",
    "    )"
   ]
  },
  {
   "cell_type": "code",
   "execution_count": 14,
   "id": "095f1d5a",
   "metadata": {
    "execution": {
     "iopub.execute_input": "2024-05-15T08:54:57.158361Z",
     "iopub.status.busy": "2024-05-15T08:54:57.158361Z",
     "iopub.status.idle": "2024-05-15T08:54:57.173989Z",
     "shell.execute_reply": "2024-05-15T08:54:57.173989Z"
    }
   },
   "outputs": [
    {
     "name": "stdout",
     "output_type": "stream",
     "text": [
      "Using uploaded test parameters\n"
     ]
    }
   ],
   "source": [
    "dq.set_test_params(test_params_upload)\n",
    "\n",
    "# supply gold stand data - we are using the same dataset here for ease\n",
    "dq.accuracy.set_gold_standard(df)"
   ]
  },
  {
   "cell_type": "code",
   "execution_count": 15,
   "id": "fbe1378d",
   "metadata": {
    "execution": {
     "iopub.execute_input": "2024-05-15T08:54:57.173989Z",
     "iopub.status.busy": "2024-05-15T08:54:57.173989Z",
     "iopub.status.idle": "2024-05-15T08:54:58.021363Z",
     "shell.execute_reply": "2024-05-15T08:54:58.021363Z"
    }
   },
   "outputs": [
    {
     "name": "stdout",
     "output_type": "stream",
     "text": [
      "format series not null: %d/%m/%Y\n",
      "format series not null: %d/%m/%Y\n",
      "format series not null: %d/%m/%Y\n",
      "format series not null: %d/%m/%Y\n",
      "format series not null: %d/%m/%Y %H:%M\n",
      "format series not null: %d/%m/%Y %H:%M\n",
      "format series not null: %d/%m/%Y %H:%M\n",
      "format series not null: %d/%m/%Y %H:%M\n",
      "format series not null: %d/%m/%Y %H:%M\n",
      "format series not null: %d/%m/%Y %H:%M\n"
     ]
    },
    {
     "name": "stderr",
     "output_type": "stream",
     "text": [
      "C:\\Users\\Anthony.Lighterness\\Work\\.iWork\\Project_Work\\Git_Repos\\data_quality_backend\\DQMaRC-dev\\DQMaRC\\Consistency.py:135: UserWarning: Parsing dates in %d/%m/%Y format when dayfirst=False (the default) was specified. Pass `dayfirst=True` or specify a format to silence this warning.\n",
      "  return not (pd.to_datetime(x[col], format=date_format_field1) > pd.to_datetime(x[comp_col], format=date_format_field2))\n",
      "C:\\Users\\Anthony.Lighterness\\Work\\.iWork\\Project_Work\\Git_Repos\\data_quality_backend\\DQMaRC-dev\\DQMaRC\\Consistency.py:145: UserWarning: Parsing dates in %d/%m/%Y format when dayfirst=False (the default) was specified. Pass `dayfirst=True` or specify a format to silence this warning.\n",
      "  return not (pd.to_datetime(x[col], format=date_format_field1) < pd.to_datetime(x[comp_col], format=date_format_field2))\n",
      "C:\\Users\\Anthony.Lighterness\\Work\\.iWork\\Project_Work\\Git_Repos\\data_quality_backend\\DQMaRC-dev\\DQMaRC\\Consistency.py:145: UserWarning: Parsing dates in %d/%m/%Y %H:%M format when dayfirst=False (the default) was specified. Pass `dayfirst=True` or specify a format to silence this warning.\n",
      "  return not (pd.to_datetime(x[col], format=date_format_field1) < pd.to_datetime(x[comp_col], format=date_format_field2))\n",
      "C:\\Users\\Anthony.Lighterness\\Work\\.iWork\\Project_Work\\Git_Repos\\data_quality_backend\\DQMaRC-dev\\DQMaRC\\Consistency.py:135: UserWarning: Parsing dates in %d/%m/%Y %H:%M format when dayfirst=False (the default) was specified. Pass `dayfirst=True` or specify a format to silence this warning.\n",
      "  return not (pd.to_datetime(x[col], format=date_format_field1) > pd.to_datetime(x[comp_col], format=date_format_field2))\n",
      "C:\\Users\\Anthony.Lighterness\\Work\\.iWork\\Project_Work\\Git_Repos\\data_quality_backend\\DQMaRC-dev\\DQMaRC\\Consistency.py:145: UserWarning: Parsing dates in %d/%m/%Y %H:%M format when dayfirst=False (the default) was specified. Pass `dayfirst=True` or specify a format to silence this warning.\n",
      "  return not (pd.to_datetime(x[col], format=date_format_field1) < pd.to_datetime(x[comp_col], format=date_format_field2))\n"
     ]
    },
    {
     "name": "stdout",
     "output_type": "stream",
     "text": [
      "format series not null: %d/%m/%Y %H:%M\n",
      "format series not null: %d/%m/%Y %H:%M\n",
      "Error processing row: Unknown datetime string format, unable to parse: 1991/03/2024  00:00:00, at position 0\n",
      "Error processing row: Unknown datetime string format, unable to parse: 1991/03/2024  00:00:00, at position 0\n",
      "Error processing row: Unknown datetime string format, unable to parse: 1991/03/2024  00:00:00, at position 0\n",
      "Error processing row: Unknown datetime string format, unable to parse: 1991/03/2024  00:00:00, at position 0\n",
      "Error processing row: Unknown datetime string format, unable to parse: 1991/03/2024  00:00:00, at position 0\n",
      "Error processing row: Unknown datetime string format, unable to parse: 1991/03/2024  00:00:00, at position 0\n",
      "Error processing row: Unknown datetime string format, unable to parse: 1991/03/2024  00:00:00, at position 0\n",
      "Error processing row: Unknown datetime string format, unable to parse: 1991/03/2024  00:00:00, at position 0\n",
      "Error processing row: Unknown datetime string format, unable to parse: 1991/03/2024  00:00:00, at position 0\n",
      "format series not null: %d/%m/%Y %H:%M\n",
      "format series not null: %d/%m/%Y %H:%M\n",
      "Error processing row: Out of bounds nanosecond timestamp: 01-01-1122  01:25:00, at position 0\n",
      "Error processing row: Out of bounds nanosecond timestamp: 01-01-1122  01:25:00, at position 0\n",
      "Error processing row: Out of bounds nanosecond timestamp: 01-01-1122  01:25:00, at position 0\n",
      "Error processing row: Out of bounds nanosecond timestamp: 01-01-1122  01:25:00, at position 0\n",
      "Error processing row: Out of bounds nanosecond timestamp: 01-01-1122  01:25:00, at position 0\n",
      "Error processing row: Out of bounds nanosecond timestamp: 01-01-1122  01:25:00, at position 0\n",
      "Error processing row: Out of bounds nanosecond timestamp: 01-01-1122  01:25:00, at position 0\n",
      "Error processing row: Out of bounds nanosecond timestamp: 01-01-1122  01:25:00, at position 0\n",
      "Error processing row: Out of bounds nanosecond timestamp: 01-01-1122  01:25:00, at position 0\n",
      "format series not null: %d/%m/%Y\n",
      "format series not null: %d/%m/%Y\n",
      "format series not null: %d/%m/%Y\n",
      "format series not null: %d/%m/%Y %H:%M\n"
     ]
    },
    {
     "name": "stderr",
     "output_type": "stream",
     "text": [
      "C:\\Users\\Anthony.Lighterness\\Work\\.iWork\\Project_Work\\Git_Repos\\data_quality_backend\\DQMaRC-dev\\DQMaRC\\Timeliness.py:76: UserWarning: Parsing dates in %d/%m/%Y %H:%M format when dayfirst=False (the default) was specified. Pass `dayfirst=True` or specify a format to silence this warning.\n",
      "  start_time = pd.to_datetime(x[col], format=date_format_field1)\n",
      "C:\\Users\\Anthony.Lighterness\\Work\\.iWork\\Project_Work\\Git_Repos\\data_quality_backend\\DQMaRC-dev\\DQMaRC\\Timeliness.py:77: UserWarning: Parsing dates in %d/%m/%Y %H:%M format when dayfirst=False (the default) was specified. Pass `dayfirst=True` or specify a format to silence this warning.\n",
      "  end_time = pd.to_datetime(x[date_compare_col], format=date_format_field2)\n",
      "C:\\Users\\Anthony.Lighterness\\Work\\.iWork\\Project_Work\\Git_Repos\\data_quality_backend\\DQMaRC-dev\\DQMaRC\\Timeliness.py:76: UserWarning: Parsing dates in %d/%m/%Y %H:%M format when dayfirst=False (the default) was specified. Pass `dayfirst=True` or specify a format to silence this warning.\n",
      "  start_time = pd.to_datetime(x[col], format=date_format_field1)\n",
      "C:\\Users\\Anthony.Lighterness\\Work\\.iWork\\Project_Work\\Git_Repos\\data_quality_backend\\DQMaRC-dev\\DQMaRC\\Timeliness.py:77: UserWarning: Parsing dates in %d/%m/%Y %H:%M format when dayfirst=False (the default) was specified. Pass `dayfirst=True` or specify a format to silence this warning.\n",
      "  end_time = pd.to_datetime(x[date_compare_col], format=date_format_field2)\n",
      "C:\\Users\\Anthony.Lighterness\\Work\\.iWork\\Project_Work\\Git_Repos\\data_quality_backend\\DQMaRC-dev\\DQMaRC\\Validity.py:279: UserWarning: Parsing dates in %d/%m/%Y format when dayfirst=False (the default) was specified. Pass `dayfirst=True` or specify a format to silence this warning.\n",
      "  return pd.to_datetime(x, format=date_format_field1) > datetime.now()\n",
      "C:\\Users\\Anthony.Lighterness\\Work\\.iWork\\Project_Work\\Git_Repos\\data_quality_backend\\DQMaRC-dev\\DQMaRC\\Validity.py:279: UserWarning: Parsing dates in %d/%m/%Y format when dayfirst=False (the default) was specified. Pass `dayfirst=True` or specify a format to silence this warning.\n",
      "  return pd.to_datetime(x, format=date_format_field1) > datetime.now()\n",
      "C:\\Users\\Anthony.Lighterness\\Work\\.iWork\\Project_Work\\Git_Repos\\data_quality_backend\\DQMaRC-dev\\DQMaRC\\Validity.py:279: UserWarning: Parsing dates in %d/%m/%Y format when dayfirst=False (the default) was specified. Pass `dayfirst=True` or specify a format to silence this warning.\n",
      "  return pd.to_datetime(x, format=date_format_field1) > datetime.now()\n",
      "C:\\Users\\Anthony.Lighterness\\Work\\.iWork\\Project_Work\\Git_Repos\\data_quality_backend\\DQMaRC-dev\\DQMaRC\\Validity.py:279: UserWarning: Parsing dates in %d/%m/%Y %H:%M format when dayfirst=False (the default) was specified. Pass `dayfirst=True` or specify a format to silence this warning.\n",
      "  return pd.to_datetime(x, format=date_format_field1) > datetime.now()\n"
     ]
    },
    {
     "name": "stdout",
     "output_type": "stream",
     "text": [
      "format series not null: %d/%m/%Y %H:%M\n",
      "format series not null: %d/%m/%Y %H:%M\n",
      "format series not null: %d/%m/%Y %H:%M\n",
      "format series not null: %d/%m/%Y\n",
      "Invalid input NHS Number: not a valid integer\n"
     ]
    },
    {
     "name": "stderr",
     "output_type": "stream",
     "text": [
      "C:\\Users\\Anthony.Lighterness\\Work\\.iWork\\Project_Work\\Git_Repos\\data_quality_backend\\DQMaRC-dev\\DQMaRC\\Validity.py:279: UserWarning: Parsing dates in %d/%m/%Y %H:%M format when dayfirst=False (the default) was specified. Pass `dayfirst=True` or specify a format to silence this warning.\n",
      "  return pd.to_datetime(x, format=date_format_field1) > datetime.now()\n",
      "C:\\Users\\Anthony.Lighterness\\Work\\.iWork\\Project_Work\\Git_Repos\\data_quality_backend\\DQMaRC-dev\\DQMaRC\\Validity.py:279: UserWarning: Parsing dates in %d/%m/%Y %H:%M format when dayfirst=False (the default) was specified. Pass `dayfirst=True` or specify a format to silence this warning.\n",
      "  return pd.to_datetime(x, format=date_format_field1) > datetime.now()\n",
      "C:\\Users\\Anthony.Lighterness\\Work\\.iWork\\Project_Work\\Git_Repos\\data_quality_backend\\DQMaRC-dev\\DQMaRC\\Validity.py:279: UserWarning: Parsing dates in %d/%m/%Y %H:%M format when dayfirst=False (the default) was specified. Pass `dayfirst=True` or specify a format to silence this warning.\n",
      "  return pd.to_datetime(x, format=date_format_field1) > datetime.now()\n",
      "C:\\Users\\Anthony.Lighterness\\Work\\.iWork\\Project_Work\\Git_Repos\\data_quality_backend\\DQMaRC-dev\\DQMaRC\\Validity.py:307: UserWarning: Parsing dates in %d/%m/%Y format when dayfirst=False (the default) was specified. Pass `dayfirst=True` or specify a format to silence this warning.\n",
      "  return (pd.to_datetime(x, format=date_format_field1) < min_date) | (pd.to_datetime(x, format=date_format_field1) > max_date)\n"
     ]
    }
   ],
   "source": [
    "dq.run_all_metrics()\n",
    "\n",
    "# To run separately use following methods.\n",
    "# dq.completeness.run_metrics()\n",
    "# dq.uniqueness.run_metrics()\n",
    "# dq.consistency.run_metrics()\n",
    "# dq.timeliness.run_metrics()\n",
    "# dq.validity.run_metrics()\n",
    "# dq.accuracy.run_metrics()"
   ]
  },
  {
   "cell_type": "code",
   "execution_count": 16,
   "id": "c3b00c43",
   "metadata": {
    "execution": {
     "iopub.execute_input": "2024-05-15T08:54:58.021363Z",
     "iopub.status.busy": "2024-05-15T08:54:58.021363Z",
     "iopub.status.idle": "2024-05-15T08:54:58.174340Z",
     "shell.execute_reply": "2024-05-15T08:54:58.174340Z"
    }
   },
   "outputs": [
    {
     "name": "stderr",
     "output_type": "stream",
     "text": [
      "C:\\Users\\Anthony.Lighterness\\Work\\.iWork\\Project_Work\\Git_Repos\\data_quality_backend\\DQMaRC-dev\\DQMaRC\\DataQuality.py:213: FutureWarning: DataFrame.groupby with axis=1 is deprecated. Do `frame.T.groupby(...)` without axis instead.\n",
      "  row_agg = raw.groupby(cols, axis=1).sum()[sorted(set(cols), key=cols.index)]\n"
     ]
    }
   ],
   "source": [
    "raw = dq.raw_results()\n",
    "agg = dq.aggregate_results()\n",
    "row_agg = dq.aggregate_rows()"
   ]
  },
  {
   "cell_type": "code",
   "execution_count": 17,
   "id": "d73cdc8f",
   "metadata": {
    "execution": {
     "iopub.execute_input": "2024-05-15T08:54:58.174340Z",
     "iopub.status.busy": "2024-05-15T08:54:58.174340Z",
     "iopub.status.idle": "2024-05-15T08:54:58.189959Z",
     "shell.execute_reply": "2024-05-15T08:54:58.189959Z"
    }
   },
   "outputs": [
    {
     "data": {
      "application/vnd.jupyter.widget-view+json": {
       "model_id": "b3ca6ee11b9f4c27bef153b694dfb5d5",
       "version_major": 2,
       "version_minor": 0
      },
      "text/plain": [
       "DataGrid(auto_fit_params={'area': 'all', 'padding': 30, 'numCols': None}, base_column_header_size=30, base_col…"
      ]
     },
     "execution_count": 17,
     "metadata": {},
     "output_type": "execute_result"
    }
   ],
   "source": [
    "DataGrid(\n",
    "    agg,\n",
    "    editable=False,\n",
    "    header_visibility='column',\n",
    "    base_column_size = 180,\n",
    "    base_column_header_size = 30,\n",
    "    header_renderer=TextRenderer(background_color='#fdbf6f'),\n",
    "    grid_style={\"header_background_color\": \"#fdbf6f\"}\n",
    "    )"
   ]
  },
  {
   "cell_type": "code",
   "execution_count": 18,
   "id": "d3cf75fc",
   "metadata": {
    "execution": {
     "iopub.execute_input": "2024-05-15T08:54:58.189959Z",
     "iopub.status.busy": "2024-05-15T08:54:58.189959Z",
     "iopub.status.idle": "2024-05-15T08:54:58.205581Z",
     "shell.execute_reply": "2024-05-15T08:54:58.205581Z"
    }
   },
   "outputs": [
    {
     "data": {
      "application/vnd.jupyter.widget-view+json": {
       "model_id": "2b3bc1375ad741f18e7d1a571fa7959d",
       "version_major": 2,
       "version_minor": 0
      },
      "text/plain": [
       "DataGrid(auto_fit_params={'area': 'all', 'padding': 30, 'numCols': None}, base_column_header_size=30, base_col…"
      ]
     },
     "execution_count": 18,
     "metadata": {},
     "output_type": "execute_result"
    }
   ],
   "source": [
    "DataGrid(\n",
    "    raw,\n",
    "    editable=False,\n",
    "    header_visibility='column',\n",
    "    base_column_size = 180,\n",
    "    base_column_header_size = 30,\n",
    "    header_renderer=TextRenderer(background_color='#fb8072'),\n",
    "    grid_style={\"header_background_color\": \"#fb8072\"}\n",
    "    )"
   ]
  },
  {
   "cell_type": "code",
   "execution_count": 19,
   "id": "014bb1c9",
   "metadata": {},
   "outputs": [
    {
     "data": {
      "application/vnd.jupyter.widget-view+json": {
       "model_id": "631108c20cd84cecb4265f650114be56",
       "version_major": 2,
       "version_minor": 0
      },
      "text/plain": [
       "DataGrid(auto_fit_params={'area': 'all', 'padding': 30, 'numCols': None}, base_column_header_size=30, base_col…"
      ]
     },
     "execution_count": 19,
     "metadata": {},
     "output_type": "execute_result"
    }
   ],
   "source": [
    "df_DQ_full = df.join(raw, how=\"left\")\n",
    "DataGrid(\n",
    "    df_DQ_full,\n",
    "    editable=False,\n",
    "    header_visibility='column',\n",
    "    base_column_size = 180,\n",
    "    base_column_header_size = 30,\n",
    "    header_renderer=TextRenderer(background_color='#fb8072'),\n",
    "    grid_style={\"header_background_color\": \"#fb8072\"}\n",
    "    )"
   ]
  },
  {
   "cell_type": "markdown",
   "id": "8a3a668e",
   "metadata": {},
   "source": [
    "### Completeness Example"
   ]
  },
  {
   "cell_type": "code",
   "execution_count": 20,
   "id": "1d254b21",
   "metadata": {},
   "outputs": [
    {
     "data": {
      "text/html": [
       "<div>\n",
       "<style scoped>\n",
       "    .dataframe tbody tr th:only-of-type {\n",
       "        vertical-align: middle;\n",
       "    }\n",
       "\n",
       "    .dataframe tbody tr th {\n",
       "        vertical-align: top;\n",
       "    }\n",
       "\n",
       "    .dataframe thead th {\n",
       "        text-align: right;\n",
       "    }\n",
       "</style>\n",
       "<table border=\"1\" class=\"dataframe\">\n",
       "  <thead>\n",
       "    <tr style=\"text-align: right;\">\n",
       "      <th></th>\n",
       "      <th>Gender</th>\n",
       "      <th>Completeness_NULL_|_Gender</th>\n",
       "      <th>Completeness_Empty_|_Gender</th>\n",
       "      <th>Completeness_Encoded_|_Gender</th>\n",
       "      <th>completeness_count_|_Gender</th>\n",
       "    </tr>\n",
       "  </thead>\n",
       "  <tbody>\n",
       "    <tr>\n",
       "      <th>2</th>\n",
       "      <td>.</td>\n",
       "      <td>0</td>\n",
       "      <td>0</td>\n",
       "      <td>1</td>\n",
       "      <td>1</td>\n",
       "    </tr>\n",
       "    <tr>\n",
       "      <th>7</th>\n",
       "      <td>.</td>\n",
       "      <td>0</td>\n",
       "      <td>0</td>\n",
       "      <td>1</td>\n",
       "      <td>1</td>\n",
       "    </tr>\n",
       "    <tr>\n",
       "      <th>10</th>\n",
       "      <td>NaN</td>\n",
       "      <td>1</td>\n",
       "      <td>0</td>\n",
       "      <td>0</td>\n",
       "      <td>1</td>\n",
       "    </tr>\n",
       "    <tr>\n",
       "      <th>11</th>\n",
       "      <td>NaN</td>\n",
       "      <td>1</td>\n",
       "      <td>0</td>\n",
       "      <td>0</td>\n",
       "      <td>1</td>\n",
       "    </tr>\n",
       "    <tr>\n",
       "      <th>15</th>\n",
       "      <td>.</td>\n",
       "      <td>0</td>\n",
       "      <td>0</td>\n",
       "      <td>1</td>\n",
       "      <td>1</td>\n",
       "    </tr>\n",
       "  </tbody>\n",
       "</table>\n",
       "</div>"
      ],
      "text/plain": [
       "   Gender  Completeness_NULL_|_Gender  Completeness_Empty_|_Gender  \\\n",
       "2       .                           0                            0   \n",
       "7       .                           0                            0   \n",
       "10    NaN                           1                            0   \n",
       "11    NaN                           1                            0   \n",
       "15      .                           0                            0   \n",
       "\n",
       "    Completeness_Encoded_|_Gender  completeness_count_|_Gender  \n",
       "2                               1                            1  \n",
       "7                               1                            1  \n",
       "10                              0                            1  \n",
       "11                              0                            1  \n",
       "15                              1                            1  "
      ]
     },
     "execution_count": 20,
     "metadata": {},
     "output_type": "execute_result"
    }
   ],
   "source": [
    "gender_completeness_conditions = (df_DQ_full['Completeness_NULL_|_Gender']>0) | \\\n",
    "    (df_DQ_full['Completeness_Empty_|_Gender']>0) | \\\n",
    "        (df_DQ_full['Completeness_Encoded_|_Gender']>0)\n",
    "\n",
    "df_DQ_full[['Gender','Completeness_NULL_|_Gender', \n",
    "            'Completeness_Empty_|_Gender', 'Completeness_Encoded_|_Gender', \n",
    "            'completeness_count_|_Gender']].loc[(gender_completeness_conditions)].head()\n"
   ]
  },
  {
   "cell_type": "markdown",
   "id": "2fdb3c23",
   "metadata": {},
   "source": [
    "### Uniqueness Examples"
   ]
  },
  {
   "cell_type": "code",
   "execution_count": 21,
   "id": "06f52d2f",
   "metadata": {},
   "outputs": [
    {
     "data": {
      "text/html": [
       "<div>\n",
       "<style scoped>\n",
       "    .dataframe tbody tr th:only-of-type {\n",
       "        vertical-align: middle;\n",
       "    }\n",
       "\n",
       "    .dataframe tbody tr th {\n",
       "        vertical-align: top;\n",
       "    }\n",
       "\n",
       "    .dataframe thead th {\n",
       "        text-align: right;\n",
       "    }\n",
       "</style>\n",
       "<table border=\"1\" class=\"dataframe\">\n",
       "  <thead>\n",
       "    <tr style=\"text-align: right;\">\n",
       "      <th></th>\n",
       "      <th>Patient_ID</th>\n",
       "      <th>NHS_number</th>\n",
       "    </tr>\n",
       "  </thead>\n",
       "  <tbody>\n",
       "    <tr>\n",
       "      <th>1</th>\n",
       "      <td>1</td>\n",
       "      <td>3417315905</td>\n",
       "    </tr>\n",
       "    <tr>\n",
       "      <th>11</th>\n",
       "      <td>10</td>\n",
       "      <td>6221980402</td>\n",
       "    </tr>\n",
       "  </tbody>\n",
       "</table>\n",
       "</div>"
      ],
      "text/plain": [
       "    Patient_ID  NHS_number\n",
       "1            1  3417315905\n",
       "11          10  6221980402"
      ]
     },
     "execution_count": 21,
     "metadata": {},
     "output_type": "execute_result"
    }
   ],
   "source": [
    "# Check which rows have duplication where they should be unique\n",
    "df_DQ_full[['Patient_ID', 'NHS_number']][df_DQ_full[['Patient_ID', 'NHS_number']].duplicated()]\n"
   ]
  },
  {
   "cell_type": "code",
   "execution_count": 22,
   "id": "4f60f209",
   "metadata": {},
   "outputs": [
    {
     "data": {
      "text/html": [
       "<div>\n",
       "<style scoped>\n",
       "    .dataframe tbody tr th:only-of-type {\n",
       "        vertical-align: middle;\n",
       "    }\n",
       "\n",
       "    .dataframe tbody tr th {\n",
       "        vertical-align: top;\n",
       "    }\n",
       "\n",
       "    .dataframe thead th {\n",
       "        text-align: right;\n",
       "    }\n",
       "</style>\n",
       "<table border=\"1\" class=\"dataframe\">\n",
       "  <thead>\n",
       "    <tr style=\"text-align: right;\">\n",
       "      <th></th>\n",
       "      <th>Patient_ID</th>\n",
       "      <th>NHS_number</th>\n",
       "      <th>row_uniqueness_|_full_row_uniqueness</th>\n",
       "    </tr>\n",
       "  </thead>\n",
       "  <tbody>\n",
       "    <tr>\n",
       "      <th>0</th>\n",
       "      <td>1</td>\n",
       "      <td>3417315905</td>\n",
       "      <td>1</td>\n",
       "    </tr>\n",
       "    <tr>\n",
       "      <th>1</th>\n",
       "      <td>1</td>\n",
       "      <td>3417315905</td>\n",
       "      <td>0</td>\n",
       "    </tr>\n",
       "    <tr>\n",
       "      <th>10</th>\n",
       "      <td>10</td>\n",
       "      <td>6221980402</td>\n",
       "      <td>1</td>\n",
       "    </tr>\n",
       "    <tr>\n",
       "      <th>11</th>\n",
       "      <td>10</td>\n",
       "      <td>6221980402</td>\n",
       "      <td>0</td>\n",
       "    </tr>\n",
       "  </tbody>\n",
       "</table>\n",
       "</div>"
      ],
      "text/plain": [
       "    Patient_ID  NHS_number  row_uniqueness_|_full_row_uniqueness\n",
       "0            1  3417315905                                     1\n",
       "1            1  3417315905                                     0\n",
       "10          10  6221980402                                     1\n",
       "11          10  6221980402                                     0"
      ]
     },
     "execution_count": 22,
     "metadata": {},
     "output_type": "execute_result"
    }
   ],
   "source": [
    "# Show how uniqueness flags are shown\n",
    "# uniqueness_conditions = (df_DQ_full['row_uniqueness_|_full_row_uniqueness']>0)\n",
    "uniqueness_conditions = (df_DQ_full['Patient_ID']==1) | (df_DQ_full['Patient_ID']==10)\n",
    "\n",
    "df_DQ_full[['Patient_ID', 'NHS_number', \n",
    "            'row_uniqueness_|_full_row_uniqueness']].loc[(uniqueness_conditions)]\n"
   ]
  },
  {
   "cell_type": "markdown",
   "id": "2ccd6550",
   "metadata": {},
   "source": [
    "### Consistency Examples"
   ]
  },
  {
   "cell_type": "code",
   "execution_count": 23,
   "id": "dcdecb65",
   "metadata": {},
   "outputs": [
    {
     "data": {
      "text/html": [
       "<div>\n",
       "<style scoped>\n",
       "    .dataframe tbody tr th:only-of-type {\n",
       "        vertical-align: middle;\n",
       "    }\n",
       "\n",
       "    .dataframe tbody tr th {\n",
       "        vertical-align: top;\n",
       "    }\n",
       "\n",
       "    .dataframe thead th {\n",
       "        text-align: right;\n",
       "    }\n",
       "</style>\n",
       "<table border=\"1\" class=\"dataframe\">\n",
       "  <thead>\n",
       "    <tr style=\"text-align: right;\">\n",
       "      <th></th>\n",
       "      <th>Tumour_M_Stage</th>\n",
       "      <th>Metastatic_Indicator</th>\n",
       "      <th>Consistency_Compare_|_Metastatic_Indicator</th>\n",
       "      <th>consistency_count_|_Metastatic_Indicator</th>\n",
       "    </tr>\n",
       "  </thead>\n",
       "  <tbody>\n",
       "    <tr>\n",
       "      <th>0</th>\n",
       "      <td>M0</td>\n",
       "      <td>Present</td>\n",
       "      <td>1</td>\n",
       "      <td>1</td>\n",
       "    </tr>\n",
       "    <tr>\n",
       "      <th>1</th>\n",
       "      <td>M0</td>\n",
       "      <td>Present</td>\n",
       "      <td>1</td>\n",
       "      <td>1</td>\n",
       "    </tr>\n",
       "    <tr>\n",
       "      <th>2</th>\n",
       "      <td>M0</td>\n",
       "      <td>Present</td>\n",
       "      <td>1</td>\n",
       "      <td>1</td>\n",
       "    </tr>\n",
       "    <tr>\n",
       "      <th>3</th>\n",
       "      <td>M0</td>\n",
       "      <td>Present</td>\n",
       "      <td>1</td>\n",
       "      <td>1</td>\n",
       "    </tr>\n",
       "    <tr>\n",
       "      <th>4</th>\n",
       "      <td>M0</td>\n",
       "      <td>Present</td>\n",
       "      <td>1</td>\n",
       "      <td>1</td>\n",
       "    </tr>\n",
       "  </tbody>\n",
       "</table>\n",
       "</div>"
      ],
      "text/plain": [
       "  Tumour_M_Stage Metastatic_Indicator  \\\n",
       "0             M0              Present   \n",
       "1             M0              Present   \n",
       "2             M0              Present   \n",
       "3             M0              Present   \n",
       "4             M0              Present   \n",
       "\n",
       "   Consistency_Compare_|_Metastatic_Indicator  \\\n",
       "0                                           1   \n",
       "1                                           1   \n",
       "2                                           1   \n",
       "3                                           1   \n",
       "4                                           1   \n",
       "\n",
       "   consistency_count_|_Metastatic_Indicator  \n",
       "0                                         1  \n",
       "1                                         1  \n",
       "2                                         1  \n",
       "3                                         1  \n",
       "4                                         1  "
      ]
     },
     "execution_count": 23,
     "metadata": {},
     "output_type": "execute_result"
    }
   ],
   "source": [
    "consistency_conditions_metastatic_indicator = (df_DQ_full['Consistency_Compare_|_Metastatic_Indicator']>0)\n",
    "\n",
    "df_DQ_full[['Tumour_M_Stage','Metastatic_Indicator', \n",
    "            'Consistency_Compare_|_Metastatic_Indicator', \n",
    "            'consistency_count_|_Metastatic_Indicator']].loc[(consistency_conditions_metastatic_indicator)].head(5)\n"
   ]
  },
  {
   "cell_type": "code",
   "execution_count": 24,
   "id": "33c2364c",
   "metadata": {},
   "outputs": [
    {
     "data": {
      "text/html": [
       "<div>\n",
       "<style scoped>\n",
       "    .dataframe tbody tr th:only-of-type {\n",
       "        vertical-align: middle;\n",
       "    }\n",
       "\n",
       "    .dataframe tbody tr th {\n",
       "        vertical-align: top;\n",
       "    }\n",
       "\n",
       "    .dataframe thead th {\n",
       "        text-align: right;\n",
       "    }\n",
       "</style>\n",
       "<table border=\"1\" class=\"dataframe\">\n",
       "  <thead>\n",
       "    <tr style=\"text-align: right;\">\n",
       "      <th></th>\n",
       "      <th>Date_of_Birth</th>\n",
       "      <th>Date_of_Diagnosis</th>\n",
       "      <th>Consistency_Date_Relations_|_Date_of_Birth</th>\n",
       "      <th>Consistency_Date_Relations_|_Date_of_Diagnosis</th>\n",
       "    </tr>\n",
       "  </thead>\n",
       "  <tbody>\n",
       "    <tr>\n",
       "      <th>0</th>\n",
       "      <td>07/06/2090</td>\n",
       "      <td>23/04/2033</td>\n",
       "      <td>1</td>\n",
       "      <td>1</td>\n",
       "    </tr>\n",
       "    <tr>\n",
       "      <th>19</th>\n",
       "      <td>25/10/2015</td>\n",
       "      <td>12/07/2011</td>\n",
       "      <td>1</td>\n",
       "      <td>1</td>\n",
       "    </tr>\n",
       "    <tr>\n",
       "      <th>36</th>\n",
       "      <td>10/07/2017</td>\n",
       "      <td>31/05/2015</td>\n",
       "      <td>1</td>\n",
       "      <td>1</td>\n",
       "    </tr>\n",
       "    <tr>\n",
       "      <th>66</th>\n",
       "      <td>04/07/2014</td>\n",
       "      <td>26/01/2010</td>\n",
       "      <td>1</td>\n",
       "      <td>1</td>\n",
       "    </tr>\n",
       "    <tr>\n",
       "      <th>67</th>\n",
       "      <td>13/01/2020</td>\n",
       "      <td>07/12/2010</td>\n",
       "      <td>1</td>\n",
       "      <td>1</td>\n",
       "    </tr>\n",
       "  </tbody>\n",
       "</table>\n",
       "</div>"
      ],
      "text/plain": [
       "   Date_of_Birth Date_of_Diagnosis  \\\n",
       "0     07/06/2090        23/04/2033   \n",
       "19    25/10/2015        12/07/2011   \n",
       "36    10/07/2017        31/05/2015   \n",
       "66    04/07/2014        26/01/2010   \n",
       "67    13/01/2020        07/12/2010   \n",
       "\n",
       "    Consistency_Date_Relations_|_Date_of_Birth  \\\n",
       "0                                            1   \n",
       "19                                           1   \n",
       "36                                           1   \n",
       "66                                           1   \n",
       "67                                           1   \n",
       "\n",
       "    Consistency_Date_Relations_|_Date_of_Diagnosis  \n",
       "0                                                1  \n",
       "19                                               1  \n",
       "36                                               1  \n",
       "66                                               1  \n",
       "67                                               1  "
      ]
     },
     "execution_count": 24,
     "metadata": {},
     "output_type": "execute_result"
    }
   ],
   "source": [
    "consistency_conditions_dates = (df_DQ_full['Consistency_Date_Relations_|_Date_of_Diagnosis']>0) | \\\n",
    "    (df_DQ_full['Consistency_Date_Relations_|_Date_of_Birth']>0)\n",
    "\n",
    "df_DQ_full[['Date_of_Birth','Date_of_Diagnosis',\n",
    "            'Consistency_Date_Relations_|_Date_of_Birth',\n",
    "            'Consistency_Date_Relations_|_Date_of_Diagnosis']].loc[(consistency_conditions_dates)].head(5)\n"
   ]
  },
  {
   "cell_type": "markdown",
   "id": "ffb12de0",
   "metadata": {},
   "source": [
    "### Timeliness Examples"
   ]
  },
  {
   "cell_type": "code",
   "execution_count": 25,
   "id": "39c03faf",
   "metadata": {},
   "outputs": [
    {
     "data": {
      "text/html": [
       "<div>\n",
       "<style scoped>\n",
       "    .dataframe tbody tr th:only-of-type {\n",
       "        vertical-align: middle;\n",
       "    }\n",
       "\n",
       "    .dataframe tbody tr th {\n",
       "        vertical-align: top;\n",
       "    }\n",
       "\n",
       "    .dataframe thead th {\n",
       "        text-align: right;\n",
       "    }\n",
       "</style>\n",
       "<table border=\"1\" class=\"dataframe\">\n",
       "  <thead>\n",
       "    <tr style=\"text-align: right;\">\n",
       "      <th></th>\n",
       "      <th>Datetime_Event2</th>\n",
       "      <th>Datetime_Logging2</th>\n",
       "      <th>Timeliness_Date_Diff_|_Datetime_Event2</th>\n",
       "      <th>timeliness_count_|_Datetime_Event2</th>\n",
       "    </tr>\n",
       "  </thead>\n",
       "  <tbody>\n",
       "    <tr>\n",
       "      <th>0</th>\n",
       "      <td>16/03/2024 00:00</td>\n",
       "      <td>16/03/2024 00:53</td>\n",
       "      <td>1</td>\n",
       "      <td>1</td>\n",
       "    </tr>\n",
       "    <tr>\n",
       "      <th>1</th>\n",
       "      <td>19/03/2024 00:00</td>\n",
       "      <td>19/03/2024 01:11</td>\n",
       "      <td>1</td>\n",
       "      <td>1</td>\n",
       "    </tr>\n",
       "    <tr>\n",
       "      <th>2</th>\n",
       "      <td>04/03/2024 00:00</td>\n",
       "      <td>04/03/2024 00:18</td>\n",
       "      <td>1</td>\n",
       "      <td>1</td>\n",
       "    </tr>\n",
       "    <tr>\n",
       "      <th>3</th>\n",
       "      <td>30/03/2024 00:00</td>\n",
       "      <td>30/03/2024 01:28</td>\n",
       "      <td>1</td>\n",
       "      <td>1</td>\n",
       "    </tr>\n",
       "    <tr>\n",
       "      <th>4</th>\n",
       "      <td>29/03/2024 00:00</td>\n",
       "      <td>29/03/2024 00:47</td>\n",
       "      <td>1</td>\n",
       "      <td>1</td>\n",
       "    </tr>\n",
       "  </tbody>\n",
       "</table>\n",
       "</div>"
      ],
      "text/plain": [
       "    Datetime_Event2 Datetime_Logging2  Timeliness_Date_Diff_|_Datetime_Event2  \\\n",
       "0  16/03/2024 00:00  16/03/2024 00:53                                       1   \n",
       "1  19/03/2024 00:00  19/03/2024 01:11                                       1   \n",
       "2  04/03/2024 00:00  04/03/2024 00:18                                       1   \n",
       "3  30/03/2024 00:00  30/03/2024 01:28                                       1   \n",
       "4  29/03/2024 00:00  29/03/2024 00:47                                       1   \n",
       "\n",
       "   timeliness_count_|_Datetime_Event2  \n",
       "0                                   1  \n",
       "1                                   1  \n",
       "2                                   1  \n",
       "3                                   1  \n",
       "4                                   1  "
      ]
     },
     "execution_count": 25,
     "metadata": {},
     "output_type": "execute_result"
    }
   ],
   "source": [
    "timeliness_conditions = (df_DQ_full['Timeliness_Date_Diff_|_Datetime_Event2']>0)\n",
    "\n",
    "df_DQ_full[['Datetime_Event2','Datetime_Logging2',\n",
    "            'Timeliness_Date_Diff_|_Datetime_Event2',\n",
    "            'timeliness_count_|_Datetime_Event2']].loc[(timeliness_conditions)].head(5)\n"
   ]
  },
  {
   "cell_type": "markdown",
   "id": "e0a11502",
   "metadata": {},
   "source": [
    "### Validity Examples - Future Dates"
   ]
  },
  {
   "cell_type": "code",
   "execution_count": 26,
   "id": "cd793705",
   "metadata": {},
   "outputs": [
    {
     "data": {
      "text/html": [
       "<div>\n",
       "<style scoped>\n",
       "    .dataframe tbody tr th:only-of-type {\n",
       "        vertical-align: middle;\n",
       "    }\n",
       "\n",
       "    .dataframe tbody tr th {\n",
       "        vertical-align: top;\n",
       "    }\n",
       "\n",
       "    .dataframe thead th {\n",
       "        text-align: right;\n",
       "    }\n",
       "</style>\n",
       "<table border=\"1\" class=\"dataframe\">\n",
       "  <thead>\n",
       "    <tr style=\"text-align: right;\">\n",
       "      <th></th>\n",
       "      <th>Date_of_Diagnosis</th>\n",
       "      <th>Validity_Dates_Future_|_Date_of_Diagnosis</th>\n",
       "    </tr>\n",
       "  </thead>\n",
       "  <tbody>\n",
       "    <tr>\n",
       "      <th>0</th>\n",
       "      <td>23/04/2033</td>\n",
       "      <td>1</td>\n",
       "    </tr>\n",
       "  </tbody>\n",
       "</table>\n",
       "</div>"
      ],
      "text/plain": [
       "  Date_of_Diagnosis  Validity_Dates_Future_|_Date_of_Diagnosis\n",
       "0        23/04/2033                                          1"
      ]
     },
     "execution_count": 26,
     "metadata": {},
     "output_type": "execute_result"
    }
   ],
   "source": [
    "validity_future_dates_conditions = (df_DQ_full['Validity_Dates_Future_|_Date_of_Diagnosis']>0)\n",
    "\n",
    "df_DQ_full[['Date_of_Diagnosis','Validity_Dates_Future_|_Date_of_Diagnosis']].loc[(validity_future_dates_conditions)].head(5)\n"
   ]
  },
  {
   "cell_type": "markdown",
   "id": "775e394b",
   "metadata": {},
   "source": [
    "### Validity Examples - Outlier Dates"
   ]
  },
  {
   "cell_type": "code",
   "execution_count": 27,
   "id": "38c171df",
   "metadata": {},
   "outputs": [
    {
     "data": {
      "text/html": [
       "<div>\n",
       "<style scoped>\n",
       "    .dataframe tbody tr th:only-of-type {\n",
       "        vertical-align: middle;\n",
       "    }\n",
       "\n",
       "    .dataframe tbody tr th {\n",
       "        vertical-align: top;\n",
       "    }\n",
       "\n",
       "    .dataframe thead th {\n",
       "        text-align: right;\n",
       "    }\n",
       "</style>\n",
       "<table border=\"1\" class=\"dataframe\">\n",
       "  <thead>\n",
       "    <tr style=\"text-align: right;\">\n",
       "      <th></th>\n",
       "      <th>Date_of_Diagnosis</th>\n",
       "      <th>Validity_Date_Range_|_Date_of_Diagnosis</th>\n",
       "    </tr>\n",
       "  </thead>\n",
       "  <tbody>\n",
       "    <tr>\n",
       "      <th>0</th>\n",
       "      <td>23/04/2033</td>\n",
       "      <td>1</td>\n",
       "    </tr>\n",
       "    <tr>\n",
       "      <th>4</th>\n",
       "      <td>17/09/2010</td>\n",
       "      <td>1</td>\n",
       "    </tr>\n",
       "    <tr>\n",
       "      <th>6</th>\n",
       "      <td>09/01/2013</td>\n",
       "      <td>1</td>\n",
       "    </tr>\n",
       "    <tr>\n",
       "      <th>7</th>\n",
       "      <td>19/06/2011</td>\n",
       "      <td>1</td>\n",
       "    </tr>\n",
       "    <tr>\n",
       "      <th>8</th>\n",
       "      <td>13/10/2012</td>\n",
       "      <td>1</td>\n",
       "    </tr>\n",
       "  </tbody>\n",
       "</table>\n",
       "</div>"
      ],
      "text/plain": [
       "  Date_of_Diagnosis  Validity_Date_Range_|_Date_of_Diagnosis\n",
       "0        23/04/2033                                        1\n",
       "4        17/09/2010                                        1\n",
       "6        09/01/2013                                        1\n",
       "7        19/06/2011                                        1\n",
       "8        13/10/2012                                        1"
      ]
     },
     "execution_count": 27,
     "metadata": {},
     "output_type": "execute_result"
    }
   ],
   "source": [
    "validity_outlier_dates_conditions = (df_DQ_full['Validity_Date_Range_|_Date_of_Diagnosis']>0)\n",
    "\n",
    "df_DQ_full[['Date_of_Diagnosis','Validity_Date_Range_|_Date_of_Diagnosis']].loc[(validity_outlier_dates_conditions)].head(5)\n"
   ]
  },
  {
   "cell_type": "markdown",
   "id": "046a41ef",
   "metadata": {},
   "source": [
    "### Validity Examples - NHS Numbers"
   ]
  },
  {
   "cell_type": "code",
   "execution_count": 28,
   "id": "dd7ef875",
   "metadata": {},
   "outputs": [
    {
     "data": {
      "text/html": [
       "<div>\n",
       "<style scoped>\n",
       "    .dataframe tbody tr th:only-of-type {\n",
       "        vertical-align: middle;\n",
       "    }\n",
       "\n",
       "    .dataframe tbody tr th {\n",
       "        vertical-align: top;\n",
       "    }\n",
       "\n",
       "    .dataframe thead th {\n",
       "        text-align: right;\n",
       "    }\n",
       "</style>\n",
       "<table border=\"1\" class=\"dataframe\">\n",
       "  <thead>\n",
       "    <tr style=\"text-align: right;\">\n",
       "      <th></th>\n",
       "      <th>NHS_number</th>\n",
       "      <th>Validity_NHS_Number_|_NHS_number</th>\n",
       "    </tr>\n",
       "  </thead>\n",
       "  <tbody>\n",
       "    <tr>\n",
       "      <th>6</th>\n",
       "      <td>3563445</td>\n",
       "      <td>1</td>\n",
       "    </tr>\n",
       "    <tr>\n",
       "      <th>8</th>\n",
       "      <td>3463442</td>\n",
       "      <td>1</td>\n",
       "    </tr>\n",
       "    <tr>\n",
       "      <th>20</th>\n",
       "      <td>447659901</td>\n",
       "      <td>1</td>\n",
       "    </tr>\n",
       "    <tr>\n",
       "      <th>21</th>\n",
       "      <td>823933245</td>\n",
       "      <td>1</td>\n",
       "    </tr>\n",
       "    <tr>\n",
       "      <th>22</th>\n",
       "      <td>224961403</td>\n",
       "      <td>1</td>\n",
       "    </tr>\n",
       "  </tbody>\n",
       "</table>\n",
       "</div>"
      ],
      "text/plain": [
       "   NHS_number  Validity_NHS_Number_|_NHS_number\n",
       "6     3563445                                 1\n",
       "8     3463442                                 1\n",
       "20  447659901                                 1\n",
       "21  823933245                                 1\n",
       "22  224961403                                 1"
      ]
     },
     "execution_count": 28,
     "metadata": {},
     "output_type": "execute_result"
    }
   ],
   "source": [
    "validity_NHS_number_conditions = (df_DQ_full['Validity_NHS_Number_|_NHS_number']>0)\n",
    "\n",
    "df_DQ_full[['NHS_number','Validity_NHS_Number_|_NHS_number']].loc[(validity_NHS_number_conditions)].head(5)\n"
   ]
  },
  {
   "cell_type": "markdown",
   "id": "1b3cadbc",
   "metadata": {},
   "source": [
    "### Validity Examples - UK Postcodes"
   ]
  },
  {
   "cell_type": "code",
   "execution_count": 29,
   "id": "3e89f09f",
   "metadata": {},
   "outputs": [
    {
     "data": {
      "text/html": [
       "<div>\n",
       "<style scoped>\n",
       "    .dataframe tbody tr th:only-of-type {\n",
       "        vertical-align: middle;\n",
       "    }\n",
       "\n",
       "    .dataframe tbody tr th {\n",
       "        vertical-align: top;\n",
       "    }\n",
       "\n",
       "    .dataframe thead th {\n",
       "        text-align: right;\n",
       "    }\n",
       "</style>\n",
       "<table border=\"1\" class=\"dataframe\">\n",
       "  <thead>\n",
       "    <tr style=\"text-align: right;\">\n",
       "      <th></th>\n",
       "      <th>Postcode</th>\n",
       "      <th>Validity_Postcode_UK_|_Postcode</th>\n",
       "    </tr>\n",
       "  </thead>\n",
       "  <tbody>\n",
       "    <tr>\n",
       "      <th>6</th>\n",
       "      <td>AAA 1AA</td>\n",
       "      <td>1</td>\n",
       "    </tr>\n",
       "    <tr>\n",
       "      <th>8</th>\n",
       "      <td>BB1 1ABB</td>\n",
       "      <td>1</td>\n",
       "    </tr>\n",
       "  </tbody>\n",
       "</table>\n",
       "</div>"
      ],
      "text/plain": [
       "   Postcode  Validity_Postcode_UK_|_Postcode\n",
       "6   AAA 1AA                                1\n",
       "8  BB1 1ABB                                1"
      ]
     },
     "execution_count": 29,
     "metadata": {},
     "output_type": "execute_result"
    }
   ],
   "source": [
    "validity_UK_postcodes_conditions = (df_DQ_full['Validity_Postcode_UK_|_Postcode']>0)\n",
    "\n",
    "df_DQ_full[['Postcode','Validity_Postcode_UK_|_Postcode']].loc[(validity_UK_postcodes_conditions)]\n"
   ]
  },
  {
   "cell_type": "markdown",
   "id": "fd665716",
   "metadata": {},
   "source": [
    "### Validity Examples - Invalid Codes"
   ]
  },
  {
   "cell_type": "code",
   "execution_count": 30,
   "id": "055e581e",
   "metadata": {},
   "outputs": [
    {
     "data": {
      "text/html": [
       "<div>\n",
       "<style scoped>\n",
       "    .dataframe tbody tr th:only-of-type {\n",
       "        vertical-align: middle;\n",
       "    }\n",
       "\n",
       "    .dataframe tbody tr th {\n",
       "        vertical-align: top;\n",
       "    }\n",
       "\n",
       "    .dataframe thead th {\n",
       "        text-align: right;\n",
       "    }\n",
       "</style>\n",
       "<table border=\"1\" class=\"dataframe\">\n",
       "  <thead>\n",
       "    <tr style=\"text-align: right;\">\n",
       "      <th></th>\n",
       "      <th>ICD_10_Code</th>\n",
       "      <th>Validity_Lookup_Table_|_ICD_10_Code</th>\n",
       "    </tr>\n",
       "  </thead>\n",
       "  <tbody>\n",
       "    <tr>\n",
       "      <th>2</th>\n",
       "      <td>Unkown</td>\n",
       "      <td>1</td>\n",
       "    </tr>\n",
       "    <tr>\n",
       "      <th>7</th>\n",
       "      <td>S72092Q</td>\n",
       "      <td>1</td>\n",
       "    </tr>\n",
       "    <tr>\n",
       "      <th>8</th>\n",
       "      <td>E10359</td>\n",
       "      <td>1</td>\n",
       "    </tr>\n",
       "    <tr>\n",
       "      <th>9</th>\n",
       "      <td>S42463K</td>\n",
       "      <td>1</td>\n",
       "    </tr>\n",
       "    <tr>\n",
       "      <th>10</th>\n",
       "      <td>S65911S</td>\n",
       "      <td>1</td>\n",
       "    </tr>\n",
       "    <tr>\n",
       "      <th>11</th>\n",
       "      <td>S65911S</td>\n",
       "      <td>1</td>\n",
       "    </tr>\n",
       "    <tr>\n",
       "      <th>12</th>\n",
       "      <td>X010XXD</td>\n",
       "      <td>1</td>\n",
       "    </tr>\n",
       "    <tr>\n",
       "      <th>14</th>\n",
       "      <td>S1315</td>\n",
       "      <td>1</td>\n",
       "    </tr>\n",
       "    <tr>\n",
       "      <th>17</th>\n",
       "      <td>S52353E</td>\n",
       "      <td>1</td>\n",
       "    </tr>\n",
       "    <tr>\n",
       "      <th>18</th>\n",
       "      <td>V403XXD</td>\n",
       "      <td>1</td>\n",
       "    </tr>\n",
       "  </tbody>\n",
       "</table>\n",
       "</div>"
      ],
      "text/plain": [
       "   ICD_10_Code  Validity_Lookup_Table_|_ICD_10_Code\n",
       "2       Unkown                                    1\n",
       "7      S72092Q                                    1\n",
       "8       E10359                                    1\n",
       "9      S42463K                                    1\n",
       "10     S65911S                                    1\n",
       "11     S65911S                                    1\n",
       "12     X010XXD                                    1\n",
       "14       S1315                                    1\n",
       "17     S52353E                                    1\n",
       "18     V403XXD                                    1"
      ]
     },
     "execution_count": 30,
     "metadata": {},
     "output_type": "execute_result"
    }
   ],
   "source": [
    "validity_codes_conditions = (df_DQ_full['Validity_Lookup_Table_|_ICD_10_Code']>0)\n",
    "\n",
    "df_DQ_full[['ICD_10_Code','Validity_Lookup_Table_|_ICD_10_Code']].loc[(validity_codes_conditions)].head(10)\n"
   ]
  },
  {
   "cell_type": "markdown",
   "id": "aa52142e",
   "metadata": {},
   "source": [
    "### Validity Examples - Numerical Ranges"
   ]
  },
  {
   "cell_type": "code",
   "execution_count": 31,
   "id": "155e06dd",
   "metadata": {},
   "outputs": [
    {
     "data": {
      "text/html": [
       "<div>\n",
       "<style scoped>\n",
       "    .dataframe tbody tr th:only-of-type {\n",
       "        vertical-align: middle;\n",
       "    }\n",
       "\n",
       "    .dataframe tbody tr th {\n",
       "        vertical-align: top;\n",
       "    }\n",
       "\n",
       "    .dataframe thead th {\n",
       "        text-align: right;\n",
       "    }\n",
       "</style>\n",
       "<table border=\"1\" class=\"dataframe\">\n",
       "  <thead>\n",
       "    <tr style=\"text-align: right;\">\n",
       "      <th></th>\n",
       "      <th>ICD_10_Code</th>\n",
       "      <th>Validity_Lookup_Table_|_ICD_10_Code</th>\n",
       "    </tr>\n",
       "  </thead>\n",
       "  <tbody>\n",
       "    <tr>\n",
       "      <th>2</th>\n",
       "      <td>Unkown</td>\n",
       "      <td>1</td>\n",
       "    </tr>\n",
       "    <tr>\n",
       "      <th>7</th>\n",
       "      <td>S72092Q</td>\n",
       "      <td>1</td>\n",
       "    </tr>\n",
       "    <tr>\n",
       "      <th>8</th>\n",
       "      <td>E10359</td>\n",
       "      <td>1</td>\n",
       "    </tr>\n",
       "    <tr>\n",
       "      <th>9</th>\n",
       "      <td>S42463K</td>\n",
       "      <td>1</td>\n",
       "    </tr>\n",
       "    <tr>\n",
       "      <th>10</th>\n",
       "      <td>S65911S</td>\n",
       "      <td>1</td>\n",
       "    </tr>\n",
       "    <tr>\n",
       "      <th>11</th>\n",
       "      <td>S65911S</td>\n",
       "      <td>1</td>\n",
       "    </tr>\n",
       "    <tr>\n",
       "      <th>12</th>\n",
       "      <td>X010XXD</td>\n",
       "      <td>1</td>\n",
       "    </tr>\n",
       "    <tr>\n",
       "      <th>14</th>\n",
       "      <td>S1315</td>\n",
       "      <td>1</td>\n",
       "    </tr>\n",
       "    <tr>\n",
       "      <th>17</th>\n",
       "      <td>S52353E</td>\n",
       "      <td>1</td>\n",
       "    </tr>\n",
       "    <tr>\n",
       "      <th>18</th>\n",
       "      <td>V403XXD</td>\n",
       "      <td>1</td>\n",
       "    </tr>\n",
       "  </tbody>\n",
       "</table>\n",
       "</div>"
      ],
      "text/plain": [
       "   ICD_10_Code  Validity_Lookup_Table_|_ICD_10_Code\n",
       "2       Unkown                                    1\n",
       "7      S72092Q                                    1\n",
       "8       E10359                                    1\n",
       "9      S42463K                                    1\n",
       "10     S65911S                                    1\n",
       "11     S65911S                                    1\n",
       "12     X010XXD                                    1\n",
       "14       S1315                                    1\n",
       "17     S52353E                                    1\n",
       "18     V403XXD                                    1"
      ]
     },
     "execution_count": 31,
     "metadata": {},
     "output_type": "execute_result"
    }
   ],
   "source": [
    "validity_numerical_ranges_conditions = (df_DQ_full['Validity_Lookup_Table_|_ICD_10_Code']>0)\n",
    "\n",
    "df_DQ_full[['ICD_10_Code','Validity_Lookup_Table_|_ICD_10_Code']].loc[(validity_numerical_ranges_conditions)].head(10)\n"
   ]
  },
  {
   "cell_type": "markdown",
   "id": "22b4dd56",
   "metadata": {},
   "source": [
    "### Validity Examples - Regex Patterns"
   ]
  },
  {
   "cell_type": "code",
   "execution_count": 32,
   "id": "1689f859",
   "metadata": {},
   "outputs": [
    {
     "data": {
      "text/html": [
       "<div>\n",
       "<style scoped>\n",
       "    .dataframe tbody tr th:only-of-type {\n",
       "        vertical-align: middle;\n",
       "    }\n",
       "\n",
       "    .dataframe tbody tr th {\n",
       "        vertical-align: top;\n",
       "    }\n",
       "\n",
       "    .dataframe thead th {\n",
       "        text-align: right;\n",
       "    }\n",
       "</style>\n",
       "<table border=\"1\" class=\"dataframe\">\n",
       "  <thead>\n",
       "    <tr style=\"text-align: right;\">\n",
       "      <th></th>\n",
       "      <th>Height_cm</th>\n",
       "      <th>Validity_Range_|_Height_cm</th>\n",
       "    </tr>\n",
       "  </thead>\n",
       "  <tbody>\n",
       "    <tr>\n",
       "      <th>0</th>\n",
       "      <td>220.50</td>\n",
       "      <td>1</td>\n",
       "    </tr>\n",
       "    <tr>\n",
       "      <th>4</th>\n",
       "      <td>7.48</td>\n",
       "      <td>1</td>\n",
       "    </tr>\n",
       "    <tr>\n",
       "      <th>8</th>\n",
       "      <td>296.97</td>\n",
       "      <td>1</td>\n",
       "    </tr>\n",
       "    <tr>\n",
       "      <th>10</th>\n",
       "      <td>210.99</td>\n",
       "      <td>1</td>\n",
       "    </tr>\n",
       "    <tr>\n",
       "      <th>12</th>\n",
       "      <td>289.45</td>\n",
       "      <td>1</td>\n",
       "    </tr>\n",
       "    <tr>\n",
       "      <th>16</th>\n",
       "      <td>202.02</td>\n",
       "      <td>1</td>\n",
       "    </tr>\n",
       "    <tr>\n",
       "      <th>17</th>\n",
       "      <td>227.60</td>\n",
       "      <td>1</td>\n",
       "    </tr>\n",
       "    <tr>\n",
       "      <th>19</th>\n",
       "      <td>248.42</td>\n",
       "      <td>1</td>\n",
       "    </tr>\n",
       "    <tr>\n",
       "      <th>21</th>\n",
       "      <td>297.19</td>\n",
       "      <td>1</td>\n",
       "    </tr>\n",
       "    <tr>\n",
       "      <th>23</th>\n",
       "      <td>249.22</td>\n",
       "      <td>1</td>\n",
       "    </tr>\n",
       "  </tbody>\n",
       "</table>\n",
       "</div>"
      ],
      "text/plain": [
       "    Height_cm  Validity_Range_|_Height_cm\n",
       "0      220.50                           1\n",
       "4        7.48                           1\n",
       "8      296.97                           1\n",
       "10     210.99                           1\n",
       "12     289.45                           1\n",
       "16     202.02                           1\n",
       "17     227.60                           1\n",
       "19     248.42                           1\n",
       "21     297.19                           1\n",
       "23     249.22                           1"
      ]
     },
     "execution_count": 32,
     "metadata": {},
     "output_type": "execute_result"
    }
   ],
   "source": [
    "validity_pattern_conditions = (df_DQ_full['Validity_Range_|_Height_cm']>0)\n",
    "\n",
    "df_DQ_full[['Height_cm','Validity_Range_|_Height_cm']].loc[(validity_pattern_conditions)].head(10)\n"
   ]
  },
  {
   "cell_type": "code",
   "execution_count": 33,
   "id": "b2b8bed2",
   "metadata": {
    "execution": {
     "iopub.execute_input": "2024-05-15T08:54:58.205581Z",
     "iopub.status.busy": "2024-05-15T08:54:58.205581Z",
     "iopub.status.idle": "2024-05-15T08:54:58.243310Z",
     "shell.execute_reply": "2024-05-15T08:54:58.243310Z"
    }
   },
   "outputs": [
    {
     "data": {
      "text/html": [
       "\n",
       "        <div style=\"\n",
       "            background-color: #b2df8a;\n",
       "            padding: 10px;\n",
       "            border-radius: 5px;\n",
       "            color: #33a02c;\n",
       "            border: 2px solid #33a02c;\n",
       "            text-align: center;\n",
       "            width: 300px;\">\n",
       "            Overall Quality: Good\n",
       "        </div>\n",
       "        "
      ],
      "text/plain": [
       "<IPython.core.display.HTML object>"
      ]
     },
     "execution_count": 33,
     "metadata": {},
     "output_type": "execute_result"
    }
   ],
   "source": [
    "#df_DQ_full = df.join(raw, how=\"left\")\n",
    "# source_df_raw = df.join(raw)\n",
    "\n",
    "# Prepare DQ Dashboard\n",
    "raw_subset = raw.filter(regex='completeness|validity|consistency|uniqueness_count|accuracy|timeliness')\n",
    "calculator = MetricCalculator(raw_subset)\n",
    "\n",
    "# Simulate the calculation step, calculate aggregates\n",
    "calculator.calculate_metrics()\n",
    "\n",
    "summary_results = calculator.result\n",
    "summary_results['Colour_Good'] = summary_results.apply(col_good, axis=1)\n",
    "summary_results['Colour_Bad'] = summary_results.apply(col_bad, axis=1)\n",
    "summary_results['Colour_NA'] = '#B2C3C6'\n",
    "\n",
    "# Overall quality label\n",
    "from IPython.display import HTML\n",
    "\n",
    "# Function to display overall quality in a Jupyter Notebook\n",
    "def display_overall_quality_label():\n",
    "    if not summary_results.empty:\n",
    "        data1 = summary_results[summary_results['Prop_NA'] == 0]\n",
    "        avg_prop_good = data1['Prop_Good'].mean()\n",
    "        overall_quality_level, background_color, text_colour = overall_quality_fx(avg_prop_good)\n",
    "\n",
    "        overall_quality_text = f\"Overall Quality: {overall_quality_level}\"\n",
    "        html = f\"\"\"\n",
    "        <div style=\"\n",
    "            background-color: {background_color};\n",
    "            padding: 10px;\n",
    "            border-radius: 5px;\n",
    "            color: {text_colour};\n",
    "            border: 2px solid {text_colour};\n",
    "            text-align: center;\n",
    "            width: 300px;\">\n",
    "            {overall_quality_text}\n",
    "        </div>\n",
    "        \"\"\"\n",
    "        return HTML(html)\n",
    "    else:\n",
    "        return HTML(\"<div style='text-align: center;'>No data available</div>\")\n",
    "\n",
    "# Use the function to display the result\n",
    "display_overall_quality_label()"
   ]
  },
  {
   "cell_type": "code",
   "execution_count": 34,
   "id": "92134f6f",
   "metadata": {
    "execution": {
     "iopub.execute_input": "2024-05-15T08:54:58.243310Z",
     "iopub.status.busy": "2024-05-15T08:54:58.243310Z",
     "iopub.status.idle": "2024-05-15T08:54:58.459304Z",
     "shell.execute_reply": "2024-05-15T08:54:58.459304Z"
    }
   },
   "outputs": [
    {
     "data": {
      "application/vnd.plotly.v1+json": {
       "config": {
        "plotlyServerURL": "https://plot.ly"
       },
       "data": [
        {
         "domain": {
          "x": [
           0,
           0.16799999999999998
          ],
          "y": [
           0,
           1
          ]
         },
         "hole": 0.6,
         "hoverinfo": "label+value",
         "labels": [
          "Bad",
          "Good"
         ],
         "marker": {
          "colors": [
           "#a6cee3",
           "#1f78b4"
          ]
         },
         "showlegend": false,
         "textposition": "none",
         "title": {
          "font": {
           "size": 22
          },
          "text": "95.27%"
         },
         "type": "pie",
         "values": [
          4.73,
          95.27
         ]
        },
        {
         "domain": {
          "x": [
           0.208,
           0.376
          ],
          "y": [
           0,
           1
          ]
         },
         "hole": 0.6,
         "hoverinfo": "label+value",
         "labels": [
          "Bad",
          "Good"
         ],
         "marker": {
          "colors": [
           "#fb9a99",
           "#e31a1c"
          ]
         },
         "showlegend": false,
         "textposition": "none",
         "title": {
          "font": {
           "size": 22
          },
          "text": "87.62%"
         },
         "type": "pie",
         "values": [
          12.38,
          87.62
         ]
        },
        {
         "domain": {
          "x": [
           0.416,
           0.584
          ],
          "y": [
           0,
           1
          ]
         },
         "hole": 0.6,
         "hoverinfo": "label+value",
         "labels": [
          "Bad",
          "Good"
         ],
         "marker": {
          "colors": [
           "#fdbf6f",
           "#ff7f00"
          ]
         },
         "showlegend": false,
         "textposition": "none",
         "title": {
          "font": {
           "size": 22
          },
          "text": "44.04%"
         },
         "type": "pie",
         "values": [
          55.96,
          44.04
         ]
        },
        {
         "domain": {
          "x": [
           0.624,
           0.792
          ],
          "y": [
           0,
           1
          ]
         },
         "hole": 0.6,
         "hoverinfo": "label+value",
         "labels": [
          "Bad",
          "Good"
         ],
         "marker": {
          "colors": [
           "#cab2d6",
           "#6a3d9a"
          ]
         },
         "showlegend": false,
         "textposition": "none",
         "title": {
          "font": {
           "size": 22
          },
          "text": "98.17%"
         },
         "type": "pie",
         "values": [
          1.83,
          98.17
         ]
        },
        {
         "domain": {
          "x": [
           0.832,
           1
          ],
          "y": [
           0,
           1
          ]
         },
         "hole": 0.6,
         "hoverinfo": "label+value",
         "labels": [
          "Bad",
          "Good"
         ],
         "marker": {
          "colors": [
           "#F49FA0",
           "#b15928"
          ]
         },
         "showlegend": false,
         "textposition": "none",
         "title": {
          "font": {
           "size": 22
          },
          "text": "72.05%"
         },
         "type": "pie",
         "values": [
          27.95,
          72.05
         ]
        }
       ],
       "layout": {
        "annotations": [
         {
          "font": {
           "color": "black",
           "family": "Arial, bold",
           "size": 16
          },
          "showarrow": false,
          "text": "COMPLETENESS",
          "x": 0.08399999999999999,
          "xanchor": "center",
          "xref": "paper",
          "y": 1,
          "yanchor": "bottom",
          "yref": "paper"
         },
         {
          "font": {
           "color": "black",
           "family": "Arial, bold",
           "size": 16
          },
          "showarrow": false,
          "text": "CONSISTENCY",
          "x": 0.292,
          "xanchor": "center",
          "xref": "paper",
          "y": 1,
          "yanchor": "bottom",
          "yref": "paper"
         },
         {
          "font": {
           "color": "black",
           "family": "Arial, bold",
           "size": 16
          },
          "showarrow": false,
          "text": "TIMELINESS",
          "x": 0.5,
          "xanchor": "center",
          "xref": "paper",
          "y": 1,
          "yanchor": "bottom",
          "yref": "paper"
         },
         {
          "font": {
           "color": "black",
           "family": "Arial, bold",
           "size": 16
          },
          "showarrow": false,
          "text": "UNIQUENESS",
          "x": 0.708,
          "xanchor": "center",
          "xref": "paper",
          "y": 1,
          "yanchor": "bottom",
          "yref": "paper"
         },
         {
          "font": {
           "color": "black",
           "family": "Arial, bold",
           "size": 16
          },
          "showarrow": false,
          "text": "VALIDITY",
          "x": 0.9159999999999999,
          "xanchor": "center",
          "xref": "paper",
          "y": 1,
          "yanchor": "bottom",
          "yref": "paper"
         }
        ],
        "template": {
         "data": {
          "bar": [
           {
            "error_x": {
             "color": "#2a3f5f"
            },
            "error_y": {
             "color": "#2a3f5f"
            },
            "marker": {
             "line": {
              "color": "#E5ECF6",
              "width": 0.5
             },
             "pattern": {
              "fillmode": "overlay",
              "size": 10,
              "solidity": 0.2
             }
            },
            "type": "bar"
           }
          ],
          "barpolar": [
           {
            "marker": {
             "line": {
              "color": "#E5ECF6",
              "width": 0.5
             },
             "pattern": {
              "fillmode": "overlay",
              "size": 10,
              "solidity": 0.2
             }
            },
            "type": "barpolar"
           }
          ],
          "carpet": [
           {
            "aaxis": {
             "endlinecolor": "#2a3f5f",
             "gridcolor": "white",
             "linecolor": "white",
             "minorgridcolor": "white",
             "startlinecolor": "#2a3f5f"
            },
            "baxis": {
             "endlinecolor": "#2a3f5f",
             "gridcolor": "white",
             "linecolor": "white",
             "minorgridcolor": "white",
             "startlinecolor": "#2a3f5f"
            },
            "type": "carpet"
           }
          ],
          "choropleth": [
           {
            "colorbar": {
             "outlinewidth": 0,
             "ticks": ""
            },
            "type": "choropleth"
           }
          ],
          "contour": [
           {
            "colorbar": {
             "outlinewidth": 0,
             "ticks": ""
            },
            "colorscale": [
             [
              0,
              "#0d0887"
             ],
             [
              0.1111111111111111,
              "#46039f"
             ],
             [
              0.2222222222222222,
              "#7201a8"
             ],
             [
              0.3333333333333333,
              "#9c179e"
             ],
             [
              0.4444444444444444,
              "#bd3786"
             ],
             [
              0.5555555555555556,
              "#d8576b"
             ],
             [
              0.6666666666666666,
              "#ed7953"
             ],
             [
              0.7777777777777778,
              "#fb9f3a"
             ],
             [
              0.8888888888888888,
              "#fdca26"
             ],
             [
              1,
              "#f0f921"
             ]
            ],
            "type": "contour"
           }
          ],
          "contourcarpet": [
           {
            "colorbar": {
             "outlinewidth": 0,
             "ticks": ""
            },
            "type": "contourcarpet"
           }
          ],
          "heatmap": [
           {
            "colorbar": {
             "outlinewidth": 0,
             "ticks": ""
            },
            "colorscale": [
             [
              0,
              "#0d0887"
             ],
             [
              0.1111111111111111,
              "#46039f"
             ],
             [
              0.2222222222222222,
              "#7201a8"
             ],
             [
              0.3333333333333333,
              "#9c179e"
             ],
             [
              0.4444444444444444,
              "#bd3786"
             ],
             [
              0.5555555555555556,
              "#d8576b"
             ],
             [
              0.6666666666666666,
              "#ed7953"
             ],
             [
              0.7777777777777778,
              "#fb9f3a"
             ],
             [
              0.8888888888888888,
              "#fdca26"
             ],
             [
              1,
              "#f0f921"
             ]
            ],
            "type": "heatmap"
           }
          ],
          "heatmapgl": [
           {
            "colorbar": {
             "outlinewidth": 0,
             "ticks": ""
            },
            "colorscale": [
             [
              0,
              "#0d0887"
             ],
             [
              0.1111111111111111,
              "#46039f"
             ],
             [
              0.2222222222222222,
              "#7201a8"
             ],
             [
              0.3333333333333333,
              "#9c179e"
             ],
             [
              0.4444444444444444,
              "#bd3786"
             ],
             [
              0.5555555555555556,
              "#d8576b"
             ],
             [
              0.6666666666666666,
              "#ed7953"
             ],
             [
              0.7777777777777778,
              "#fb9f3a"
             ],
             [
              0.8888888888888888,
              "#fdca26"
             ],
             [
              1,
              "#f0f921"
             ]
            ],
            "type": "heatmapgl"
           }
          ],
          "histogram": [
           {
            "marker": {
             "pattern": {
              "fillmode": "overlay",
              "size": 10,
              "solidity": 0.2
             }
            },
            "type": "histogram"
           }
          ],
          "histogram2d": [
           {
            "colorbar": {
             "outlinewidth": 0,
             "ticks": ""
            },
            "colorscale": [
             [
              0,
              "#0d0887"
             ],
             [
              0.1111111111111111,
              "#46039f"
             ],
             [
              0.2222222222222222,
              "#7201a8"
             ],
             [
              0.3333333333333333,
              "#9c179e"
             ],
             [
              0.4444444444444444,
              "#bd3786"
             ],
             [
              0.5555555555555556,
              "#d8576b"
             ],
             [
              0.6666666666666666,
              "#ed7953"
             ],
             [
              0.7777777777777778,
              "#fb9f3a"
             ],
             [
              0.8888888888888888,
              "#fdca26"
             ],
             [
              1,
              "#f0f921"
             ]
            ],
            "type": "histogram2d"
           }
          ],
          "histogram2dcontour": [
           {
            "colorbar": {
             "outlinewidth": 0,
             "ticks": ""
            },
            "colorscale": [
             [
              0,
              "#0d0887"
             ],
             [
              0.1111111111111111,
              "#46039f"
             ],
             [
              0.2222222222222222,
              "#7201a8"
             ],
             [
              0.3333333333333333,
              "#9c179e"
             ],
             [
              0.4444444444444444,
              "#bd3786"
             ],
             [
              0.5555555555555556,
              "#d8576b"
             ],
             [
              0.6666666666666666,
              "#ed7953"
             ],
             [
              0.7777777777777778,
              "#fb9f3a"
             ],
             [
              0.8888888888888888,
              "#fdca26"
             ],
             [
              1,
              "#f0f921"
             ]
            ],
            "type": "histogram2dcontour"
           }
          ],
          "mesh3d": [
           {
            "colorbar": {
             "outlinewidth": 0,
             "ticks": ""
            },
            "type": "mesh3d"
           }
          ],
          "parcoords": [
           {
            "line": {
             "colorbar": {
              "outlinewidth": 0,
              "ticks": ""
             }
            },
            "type": "parcoords"
           }
          ],
          "pie": [
           {
            "automargin": true,
            "type": "pie"
           }
          ],
          "scatter": [
           {
            "fillpattern": {
             "fillmode": "overlay",
             "size": 10,
             "solidity": 0.2
            },
            "type": "scatter"
           }
          ],
          "scatter3d": [
           {
            "line": {
             "colorbar": {
              "outlinewidth": 0,
              "ticks": ""
             }
            },
            "marker": {
             "colorbar": {
              "outlinewidth": 0,
              "ticks": ""
             }
            },
            "type": "scatter3d"
           }
          ],
          "scattercarpet": [
           {
            "marker": {
             "colorbar": {
              "outlinewidth": 0,
              "ticks": ""
             }
            },
            "type": "scattercarpet"
           }
          ],
          "scattergeo": [
           {
            "marker": {
             "colorbar": {
              "outlinewidth": 0,
              "ticks": ""
             }
            },
            "type": "scattergeo"
           }
          ],
          "scattergl": [
           {
            "marker": {
             "colorbar": {
              "outlinewidth": 0,
              "ticks": ""
             }
            },
            "type": "scattergl"
           }
          ],
          "scattermapbox": [
           {
            "marker": {
             "colorbar": {
              "outlinewidth": 0,
              "ticks": ""
             }
            },
            "type": "scattermapbox"
           }
          ],
          "scatterpolar": [
           {
            "marker": {
             "colorbar": {
              "outlinewidth": 0,
              "ticks": ""
             }
            },
            "type": "scatterpolar"
           }
          ],
          "scatterpolargl": [
           {
            "marker": {
             "colorbar": {
              "outlinewidth": 0,
              "ticks": ""
             }
            },
            "type": "scatterpolargl"
           }
          ],
          "scatterternary": [
           {
            "marker": {
             "colorbar": {
              "outlinewidth": 0,
              "ticks": ""
             }
            },
            "type": "scatterternary"
           }
          ],
          "surface": [
           {
            "colorbar": {
             "outlinewidth": 0,
             "ticks": ""
            },
            "colorscale": [
             [
              0,
              "#0d0887"
             ],
             [
              0.1111111111111111,
              "#46039f"
             ],
             [
              0.2222222222222222,
              "#7201a8"
             ],
             [
              0.3333333333333333,
              "#9c179e"
             ],
             [
              0.4444444444444444,
              "#bd3786"
             ],
             [
              0.5555555555555556,
              "#d8576b"
             ],
             [
              0.6666666666666666,
              "#ed7953"
             ],
             [
              0.7777777777777778,
              "#fb9f3a"
             ],
             [
              0.8888888888888888,
              "#fdca26"
             ],
             [
              1,
              "#f0f921"
             ]
            ],
            "type": "surface"
           }
          ],
          "table": [
           {
            "cells": {
             "fill": {
              "color": "#EBF0F8"
             },
             "line": {
              "color": "white"
             }
            },
            "header": {
             "fill": {
              "color": "#C8D4E3"
             },
             "line": {
              "color": "white"
             }
            },
            "type": "table"
           }
          ]
         },
         "layout": {
          "annotationdefaults": {
           "arrowcolor": "#2a3f5f",
           "arrowhead": 0,
           "arrowwidth": 1
          },
          "autotypenumbers": "strict",
          "coloraxis": {
           "colorbar": {
            "outlinewidth": 0,
            "ticks": ""
           }
          },
          "colorscale": {
           "diverging": [
            [
             0,
             "#8e0152"
            ],
            [
             0.1,
             "#c51b7d"
            ],
            [
             0.2,
             "#de77ae"
            ],
            [
             0.3,
             "#f1b6da"
            ],
            [
             0.4,
             "#fde0ef"
            ],
            [
             0.5,
             "#f7f7f7"
            ],
            [
             0.6,
             "#e6f5d0"
            ],
            [
             0.7,
             "#b8e186"
            ],
            [
             0.8,
             "#7fbc41"
            ],
            [
             0.9,
             "#4d9221"
            ],
            [
             1,
             "#276419"
            ]
           ],
           "sequential": [
            [
             0,
             "#0d0887"
            ],
            [
             0.1111111111111111,
             "#46039f"
            ],
            [
             0.2222222222222222,
             "#7201a8"
            ],
            [
             0.3333333333333333,
             "#9c179e"
            ],
            [
             0.4444444444444444,
             "#bd3786"
            ],
            [
             0.5555555555555556,
             "#d8576b"
            ],
            [
             0.6666666666666666,
             "#ed7953"
            ],
            [
             0.7777777777777778,
             "#fb9f3a"
            ],
            [
             0.8888888888888888,
             "#fdca26"
            ],
            [
             1,
             "#f0f921"
            ]
           ],
           "sequentialminus": [
            [
             0,
             "#0d0887"
            ],
            [
             0.1111111111111111,
             "#46039f"
            ],
            [
             0.2222222222222222,
             "#7201a8"
            ],
            [
             0.3333333333333333,
             "#9c179e"
            ],
            [
             0.4444444444444444,
             "#bd3786"
            ],
            [
             0.5555555555555556,
             "#d8576b"
            ],
            [
             0.6666666666666666,
             "#ed7953"
            ],
            [
             0.7777777777777778,
             "#fb9f3a"
            ],
            [
             0.8888888888888888,
             "#fdca26"
            ],
            [
             1,
             "#f0f921"
            ]
           ]
          },
          "colorway": [
           "#636efa",
           "#EF553B",
           "#00cc96",
           "#ab63fa",
           "#FFA15A",
           "#19d3f3",
           "#FF6692",
           "#B6E880",
           "#FF97FF",
           "#FECB52"
          ],
          "font": {
           "color": "#2a3f5f"
          },
          "geo": {
           "bgcolor": "white",
           "lakecolor": "white",
           "landcolor": "#E5ECF6",
           "showlakes": true,
           "showland": true,
           "subunitcolor": "white"
          },
          "hoverlabel": {
           "align": "left"
          },
          "hovermode": "closest",
          "mapbox": {
           "style": "light"
          },
          "paper_bgcolor": "white",
          "plot_bgcolor": "#E5ECF6",
          "polar": {
           "angularaxis": {
            "gridcolor": "white",
            "linecolor": "white",
            "ticks": ""
           },
           "bgcolor": "#E5ECF6",
           "radialaxis": {
            "gridcolor": "white",
            "linecolor": "white",
            "ticks": ""
           }
          },
          "scene": {
           "xaxis": {
            "backgroundcolor": "#E5ECF6",
            "gridcolor": "white",
            "gridwidth": 2,
            "linecolor": "white",
            "showbackground": true,
            "ticks": "",
            "zerolinecolor": "white"
           },
           "yaxis": {
            "backgroundcolor": "#E5ECF6",
            "gridcolor": "white",
            "gridwidth": 2,
            "linecolor": "white",
            "showbackground": true,
            "ticks": "",
            "zerolinecolor": "white"
           },
           "zaxis": {
            "backgroundcolor": "#E5ECF6",
            "gridcolor": "white",
            "gridwidth": 2,
            "linecolor": "white",
            "showbackground": true,
            "ticks": "",
            "zerolinecolor": "white"
           }
          },
          "shapedefaults": {
           "line": {
            "color": "#2a3f5f"
           }
          },
          "ternary": {
           "aaxis": {
            "gridcolor": "white",
            "linecolor": "white",
            "ticks": ""
           },
           "baxis": {
            "gridcolor": "white",
            "linecolor": "white",
            "ticks": ""
           },
           "bgcolor": "#E5ECF6",
           "caxis": {
            "gridcolor": "white",
            "linecolor": "white",
            "ticks": ""
           }
          },
          "title": {
           "x": 0.05
          },
          "xaxis": {
           "automargin": true,
           "gridcolor": "white",
           "linecolor": "white",
           "ticks": "",
           "title": {
            "standoff": 15
           },
           "zerolinecolor": "white",
           "zerolinewidth": 2
          },
          "yaxis": {
           "automargin": true,
           "gridcolor": "white",
           "linecolor": "white",
           "ticks": "",
           "title": {
            "standoff": 15
           },
           "zerolinecolor": "white",
           "zerolinewidth": 2
          }
         }
        }
       }
      }
     },
     "metadata": {},
     "output_type": "display_data"
    }
   ],
   "source": [
    "DonutChartGenerator(summary_results).plot_donut_charts()"
   ]
  },
  {
   "cell_type": "code",
   "execution_count": 35,
   "id": "906686b1",
   "metadata": {
    "execution": {
     "iopub.execute_input": "2024-05-15T08:54:58.490642Z",
     "iopub.status.busy": "2024-05-15T08:54:58.490642Z",
     "iopub.status.idle": "2024-05-15T08:54:58.521854Z",
     "shell.execute_reply": "2024-05-15T08:54:58.521854Z"
    }
   },
   "outputs": [
    {
     "data": {
      "application/vnd.plotly.v1+json": {
       "config": {
        "plotlyServerURL": "https://plot.ly"
       },
       "data": [
        {
         "hoverinfo": "name+x",
         "marker": {
          "color": [
           "#1f78b4",
           "#1f78b4",
           "#1f78b4",
           "#1f78b4",
           "#1f78b4",
           "#1f78b4",
           "#1f78b4",
           "#1f78b4",
           "#1f78b4",
           "#1f78b4",
           "#1f78b4",
           "#1f78b4",
           "#1f78b4",
           "#1f78b4",
           "#1f78b4",
           "#1f78b4",
           "#1f78b4",
           "#1f78b4",
           "#1f78b4"
          ]
         },
         "name": "Good",
         "orientation": "h",
         "showlegend": false,
         "type": "bar",
         "x": [
          80.73,
          83.49,
          89.91,
          89.91,
          90.83,
          91.74,
          93.58,
          93.58,
          98.17,
          99.08,
          99.08,
          100,
          100,
          100,
          100,
          100,
          100,
          100,
          100
         ],
         "y": [
          "Tumour_Stage",
          "Gender",
          "Age",
          "Weight_kg",
          "Height_cm",
          "BMI",
          "ICD_10_Code",
          "NHS_number",
          "Date_of_Diagnosis",
          "Date_of_Birth",
          "Regimen_Start_Date",
          "Datetime_Event1",
          "Datetime_Event2",
          "Datetime_Logging1",
          "Datetime_Logging2",
          "Metastatic_Indicator",
          "Patient_ID",
          "Postcode",
          "Tumour_M_Stage"
         ]
        },
        {
         "hoverinfo": "name+x",
         "marker": {
          "color": [
           "#a6cee3",
           "#a6cee3",
           "#a6cee3",
           "#a6cee3",
           "#a6cee3",
           "#a6cee3",
           "#a6cee3",
           "#a6cee3",
           "#a6cee3",
           "#a6cee3",
           "#a6cee3",
           "#a6cee3",
           "#a6cee3",
           "#a6cee3",
           "#a6cee3",
           "#a6cee3",
           "#a6cee3",
           "#a6cee3",
           "#a6cee3"
          ]
         },
         "name": "Bad",
         "orientation": "h",
         "showlegend": false,
         "type": "bar",
         "x": [
          19.27,
          16.51,
          10.09,
          10.09,
          9.17,
          8.26,
          6.42,
          6.42,
          1.83,
          0.92,
          0.92,
          0,
          0,
          0,
          0,
          0,
          0,
          0,
          0
         ],
         "y": [
          "Tumour_Stage",
          "Gender",
          "Age",
          "Weight_kg",
          "Height_cm",
          "BMI",
          "ICD_10_Code",
          "NHS_number",
          "Date_of_Diagnosis",
          "Date_of_Birth",
          "Regimen_Start_Date",
          "Datetime_Event1",
          "Datetime_Event2",
          "Datetime_Logging1",
          "Datetime_Logging2",
          "Metastatic_Indicator",
          "Patient_ID",
          "Postcode",
          "Tumour_M_Stage"
         ]
        },
        {
         "hoverinfo": "name+x",
         "marker": {
          "color": [
           "#B2C3C6",
           "#B2C3C6",
           "#B2C3C6",
           "#B2C3C6",
           "#B2C3C6",
           "#B2C3C6",
           "#B2C3C6",
           "#B2C3C6",
           "#B2C3C6",
           "#B2C3C6",
           "#B2C3C6",
           "#B2C3C6",
           "#B2C3C6",
           "#B2C3C6",
           "#B2C3C6",
           "#B2C3C6",
           "#B2C3C6",
           "#B2C3C6",
           "#B2C3C6"
          ]
         },
         "name": "NA",
         "orientation": "h",
         "showlegend": false,
         "type": "bar",
         "x": [
          0,
          0,
          0,
          0,
          0,
          0,
          0,
          0,
          0,
          0,
          0,
          0,
          0,
          0,
          0,
          0,
          0,
          0,
          0
         ],
         "y": [
          "Tumour_Stage",
          "Gender",
          "Age",
          "Weight_kg",
          "Height_cm",
          "BMI",
          "ICD_10_Code",
          "NHS_number",
          "Date_of_Diagnosis",
          "Date_of_Birth",
          "Regimen_Start_Date",
          "Datetime_Event1",
          "Datetime_Event2",
          "Datetime_Logging1",
          "Datetime_Logging2",
          "Metastatic_Indicator",
          "Patient_ID",
          "Postcode",
          "Tumour_M_Stage"
         ]
        }
       ],
       "layout": {
        "barmode": "stack",
        "template": {
         "data": {
          "bar": [
           {
            "error_x": {
             "color": "#2a3f5f"
            },
            "error_y": {
             "color": "#2a3f5f"
            },
            "marker": {
             "line": {
              "color": "#E5ECF6",
              "width": 0.5
             },
             "pattern": {
              "fillmode": "overlay",
              "size": 10,
              "solidity": 0.2
             }
            },
            "type": "bar"
           }
          ],
          "barpolar": [
           {
            "marker": {
             "line": {
              "color": "#E5ECF6",
              "width": 0.5
             },
             "pattern": {
              "fillmode": "overlay",
              "size": 10,
              "solidity": 0.2
             }
            },
            "type": "barpolar"
           }
          ],
          "carpet": [
           {
            "aaxis": {
             "endlinecolor": "#2a3f5f",
             "gridcolor": "white",
             "linecolor": "white",
             "minorgridcolor": "white",
             "startlinecolor": "#2a3f5f"
            },
            "baxis": {
             "endlinecolor": "#2a3f5f",
             "gridcolor": "white",
             "linecolor": "white",
             "minorgridcolor": "white",
             "startlinecolor": "#2a3f5f"
            },
            "type": "carpet"
           }
          ],
          "choropleth": [
           {
            "colorbar": {
             "outlinewidth": 0,
             "ticks": ""
            },
            "type": "choropleth"
           }
          ],
          "contour": [
           {
            "colorbar": {
             "outlinewidth": 0,
             "ticks": ""
            },
            "colorscale": [
             [
              0,
              "#0d0887"
             ],
             [
              0.1111111111111111,
              "#46039f"
             ],
             [
              0.2222222222222222,
              "#7201a8"
             ],
             [
              0.3333333333333333,
              "#9c179e"
             ],
             [
              0.4444444444444444,
              "#bd3786"
             ],
             [
              0.5555555555555556,
              "#d8576b"
             ],
             [
              0.6666666666666666,
              "#ed7953"
             ],
             [
              0.7777777777777778,
              "#fb9f3a"
             ],
             [
              0.8888888888888888,
              "#fdca26"
             ],
             [
              1,
              "#f0f921"
             ]
            ],
            "type": "contour"
           }
          ],
          "contourcarpet": [
           {
            "colorbar": {
             "outlinewidth": 0,
             "ticks": ""
            },
            "type": "contourcarpet"
           }
          ],
          "heatmap": [
           {
            "colorbar": {
             "outlinewidth": 0,
             "ticks": ""
            },
            "colorscale": [
             [
              0,
              "#0d0887"
             ],
             [
              0.1111111111111111,
              "#46039f"
             ],
             [
              0.2222222222222222,
              "#7201a8"
             ],
             [
              0.3333333333333333,
              "#9c179e"
             ],
             [
              0.4444444444444444,
              "#bd3786"
             ],
             [
              0.5555555555555556,
              "#d8576b"
             ],
             [
              0.6666666666666666,
              "#ed7953"
             ],
             [
              0.7777777777777778,
              "#fb9f3a"
             ],
             [
              0.8888888888888888,
              "#fdca26"
             ],
             [
              1,
              "#f0f921"
             ]
            ],
            "type": "heatmap"
           }
          ],
          "heatmapgl": [
           {
            "colorbar": {
             "outlinewidth": 0,
             "ticks": ""
            },
            "colorscale": [
             [
              0,
              "#0d0887"
             ],
             [
              0.1111111111111111,
              "#46039f"
             ],
             [
              0.2222222222222222,
              "#7201a8"
             ],
             [
              0.3333333333333333,
              "#9c179e"
             ],
             [
              0.4444444444444444,
              "#bd3786"
             ],
             [
              0.5555555555555556,
              "#d8576b"
             ],
             [
              0.6666666666666666,
              "#ed7953"
             ],
             [
              0.7777777777777778,
              "#fb9f3a"
             ],
             [
              0.8888888888888888,
              "#fdca26"
             ],
             [
              1,
              "#f0f921"
             ]
            ],
            "type": "heatmapgl"
           }
          ],
          "histogram": [
           {
            "marker": {
             "pattern": {
              "fillmode": "overlay",
              "size": 10,
              "solidity": 0.2
             }
            },
            "type": "histogram"
           }
          ],
          "histogram2d": [
           {
            "colorbar": {
             "outlinewidth": 0,
             "ticks": ""
            },
            "colorscale": [
             [
              0,
              "#0d0887"
             ],
             [
              0.1111111111111111,
              "#46039f"
             ],
             [
              0.2222222222222222,
              "#7201a8"
             ],
             [
              0.3333333333333333,
              "#9c179e"
             ],
             [
              0.4444444444444444,
              "#bd3786"
             ],
             [
              0.5555555555555556,
              "#d8576b"
             ],
             [
              0.6666666666666666,
              "#ed7953"
             ],
             [
              0.7777777777777778,
              "#fb9f3a"
             ],
             [
              0.8888888888888888,
              "#fdca26"
             ],
             [
              1,
              "#f0f921"
             ]
            ],
            "type": "histogram2d"
           }
          ],
          "histogram2dcontour": [
           {
            "colorbar": {
             "outlinewidth": 0,
             "ticks": ""
            },
            "colorscale": [
             [
              0,
              "#0d0887"
             ],
             [
              0.1111111111111111,
              "#46039f"
             ],
             [
              0.2222222222222222,
              "#7201a8"
             ],
             [
              0.3333333333333333,
              "#9c179e"
             ],
             [
              0.4444444444444444,
              "#bd3786"
             ],
             [
              0.5555555555555556,
              "#d8576b"
             ],
             [
              0.6666666666666666,
              "#ed7953"
             ],
             [
              0.7777777777777778,
              "#fb9f3a"
             ],
             [
              0.8888888888888888,
              "#fdca26"
             ],
             [
              1,
              "#f0f921"
             ]
            ],
            "type": "histogram2dcontour"
           }
          ],
          "mesh3d": [
           {
            "colorbar": {
             "outlinewidth": 0,
             "ticks": ""
            },
            "type": "mesh3d"
           }
          ],
          "parcoords": [
           {
            "line": {
             "colorbar": {
              "outlinewidth": 0,
              "ticks": ""
             }
            },
            "type": "parcoords"
           }
          ],
          "pie": [
           {
            "automargin": true,
            "type": "pie"
           }
          ],
          "scatter": [
           {
            "fillpattern": {
             "fillmode": "overlay",
             "size": 10,
             "solidity": 0.2
            },
            "type": "scatter"
           }
          ],
          "scatter3d": [
           {
            "line": {
             "colorbar": {
              "outlinewidth": 0,
              "ticks": ""
             }
            },
            "marker": {
             "colorbar": {
              "outlinewidth": 0,
              "ticks": ""
             }
            },
            "type": "scatter3d"
           }
          ],
          "scattercarpet": [
           {
            "marker": {
             "colorbar": {
              "outlinewidth": 0,
              "ticks": ""
             }
            },
            "type": "scattercarpet"
           }
          ],
          "scattergeo": [
           {
            "marker": {
             "colorbar": {
              "outlinewidth": 0,
              "ticks": ""
             }
            },
            "type": "scattergeo"
           }
          ],
          "scattergl": [
           {
            "marker": {
             "colorbar": {
              "outlinewidth": 0,
              "ticks": ""
             }
            },
            "type": "scattergl"
           }
          ],
          "scattermapbox": [
           {
            "marker": {
             "colorbar": {
              "outlinewidth": 0,
              "ticks": ""
             }
            },
            "type": "scattermapbox"
           }
          ],
          "scatterpolar": [
           {
            "marker": {
             "colorbar": {
              "outlinewidth": 0,
              "ticks": ""
             }
            },
            "type": "scatterpolar"
           }
          ],
          "scatterpolargl": [
           {
            "marker": {
             "colorbar": {
              "outlinewidth": 0,
              "ticks": ""
             }
            },
            "type": "scatterpolargl"
           }
          ],
          "scatterternary": [
           {
            "marker": {
             "colorbar": {
              "outlinewidth": 0,
              "ticks": ""
             }
            },
            "type": "scatterternary"
           }
          ],
          "surface": [
           {
            "colorbar": {
             "outlinewidth": 0,
             "ticks": ""
            },
            "colorscale": [
             [
              0,
              "#0d0887"
             ],
             [
              0.1111111111111111,
              "#46039f"
             ],
             [
              0.2222222222222222,
              "#7201a8"
             ],
             [
              0.3333333333333333,
              "#9c179e"
             ],
             [
              0.4444444444444444,
              "#bd3786"
             ],
             [
              0.5555555555555556,
              "#d8576b"
             ],
             [
              0.6666666666666666,
              "#ed7953"
             ],
             [
              0.7777777777777778,
              "#fb9f3a"
             ],
             [
              0.8888888888888888,
              "#fdca26"
             ],
             [
              1,
              "#f0f921"
             ]
            ],
            "type": "surface"
           }
          ],
          "table": [
           {
            "cells": {
             "fill": {
              "color": "#EBF0F8"
             },
             "line": {
              "color": "white"
             }
            },
            "header": {
             "fill": {
              "color": "#C8D4E3"
             },
             "line": {
              "color": "white"
             }
            },
            "type": "table"
           }
          ]
         },
         "layout": {
          "annotationdefaults": {
           "arrowcolor": "#2a3f5f",
           "arrowhead": 0,
           "arrowwidth": 1
          },
          "autotypenumbers": "strict",
          "coloraxis": {
           "colorbar": {
            "outlinewidth": 0,
            "ticks": ""
           }
          },
          "colorscale": {
           "diverging": [
            [
             0,
             "#8e0152"
            ],
            [
             0.1,
             "#c51b7d"
            ],
            [
             0.2,
             "#de77ae"
            ],
            [
             0.3,
             "#f1b6da"
            ],
            [
             0.4,
             "#fde0ef"
            ],
            [
             0.5,
             "#f7f7f7"
            ],
            [
             0.6,
             "#e6f5d0"
            ],
            [
             0.7,
             "#b8e186"
            ],
            [
             0.8,
             "#7fbc41"
            ],
            [
             0.9,
             "#4d9221"
            ],
            [
             1,
             "#276419"
            ]
           ],
           "sequential": [
            [
             0,
             "#0d0887"
            ],
            [
             0.1111111111111111,
             "#46039f"
            ],
            [
             0.2222222222222222,
             "#7201a8"
            ],
            [
             0.3333333333333333,
             "#9c179e"
            ],
            [
             0.4444444444444444,
             "#bd3786"
            ],
            [
             0.5555555555555556,
             "#d8576b"
            ],
            [
             0.6666666666666666,
             "#ed7953"
            ],
            [
             0.7777777777777778,
             "#fb9f3a"
            ],
            [
             0.8888888888888888,
             "#fdca26"
            ],
            [
             1,
             "#f0f921"
            ]
           ],
           "sequentialminus": [
            [
             0,
             "#0d0887"
            ],
            [
             0.1111111111111111,
             "#46039f"
            ],
            [
             0.2222222222222222,
             "#7201a8"
            ],
            [
             0.3333333333333333,
             "#9c179e"
            ],
            [
             0.4444444444444444,
             "#bd3786"
            ],
            [
             0.5555555555555556,
             "#d8576b"
            ],
            [
             0.6666666666666666,
             "#ed7953"
            ],
            [
             0.7777777777777778,
             "#fb9f3a"
            ],
            [
             0.8888888888888888,
             "#fdca26"
            ],
            [
             1,
             "#f0f921"
            ]
           ]
          },
          "colorway": [
           "#636efa",
           "#EF553B",
           "#00cc96",
           "#ab63fa",
           "#FFA15A",
           "#19d3f3",
           "#FF6692",
           "#B6E880",
           "#FF97FF",
           "#FECB52"
          ],
          "font": {
           "color": "#2a3f5f"
          },
          "geo": {
           "bgcolor": "white",
           "lakecolor": "white",
           "landcolor": "#E5ECF6",
           "showlakes": true,
           "showland": true,
           "subunitcolor": "white"
          },
          "hoverlabel": {
           "align": "left"
          },
          "hovermode": "closest",
          "mapbox": {
           "style": "light"
          },
          "paper_bgcolor": "white",
          "plot_bgcolor": "#E5ECF6",
          "polar": {
           "angularaxis": {
            "gridcolor": "white",
            "linecolor": "white",
            "ticks": ""
           },
           "bgcolor": "#E5ECF6",
           "radialaxis": {
            "gridcolor": "white",
            "linecolor": "white",
            "ticks": ""
           }
          },
          "scene": {
           "xaxis": {
            "backgroundcolor": "#E5ECF6",
            "gridcolor": "white",
            "gridwidth": 2,
            "linecolor": "white",
            "showbackground": true,
            "ticks": "",
            "zerolinecolor": "white"
           },
           "yaxis": {
            "backgroundcolor": "#E5ECF6",
            "gridcolor": "white",
            "gridwidth": 2,
            "linecolor": "white",
            "showbackground": true,
            "ticks": "",
            "zerolinecolor": "white"
           },
           "zaxis": {
            "backgroundcolor": "#E5ECF6",
            "gridcolor": "white",
            "gridwidth": 2,
            "linecolor": "white",
            "showbackground": true,
            "ticks": "",
            "zerolinecolor": "white"
           }
          },
          "shapedefaults": {
           "line": {
            "color": "#2a3f5f"
           }
          },
          "ternary": {
           "aaxis": {
            "gridcolor": "white",
            "linecolor": "white",
            "ticks": ""
           },
           "baxis": {
            "gridcolor": "white",
            "linecolor": "white",
            "ticks": ""
           },
           "bgcolor": "#E5ECF6",
           "caxis": {
            "gridcolor": "white",
            "linecolor": "white",
            "ticks": ""
           }
          },
          "title": {
           "x": 0.05
          },
          "xaxis": {
           "automargin": true,
           "gridcolor": "white",
           "linecolor": "white",
           "ticks": "",
           "title": {
            "standoff": 15
           },
           "zerolinecolor": "white",
           "zerolinewidth": 2
          },
          "yaxis": {
           "automargin": true,
           "gridcolor": "white",
           "linecolor": "white",
           "ticks": "",
           "title": {
            "standoff": 15
           },
           "zerolinecolor": "white",
           "zerolinewidth": 2
          }
         }
        }
       }
      }
     },
     "metadata": {},
     "output_type": "display_data"
    }
   ],
   "source": [
    "BarPlotGenerator(summary_results, \"completeness\").plot_bar()"
   ]
  },
  {
   "cell_type": "code",
   "execution_count": 36,
   "id": "7e81d340",
   "metadata": {
    "execution": {
     "iopub.execute_input": "2024-05-15T08:54:58.521854Z",
     "iopub.status.busy": "2024-05-15T08:54:58.521854Z",
     "iopub.status.idle": "2024-05-15T08:54:58.544221Z",
     "shell.execute_reply": "2024-05-15T08:54:58.544221Z"
    }
   },
   "outputs": [
    {
     "data": {
      "application/vnd.plotly.v1+json": {
       "config": {
        "plotlyServerURL": "https://plot.ly"
       },
       "data": [
        {
         "hoverinfo": "name+x",
         "marker": {
          "color": [
           "#e31a1c",
           "#e31a1c",
           "#e31a1c",
           "#e31a1c",
           "#e31a1c",
           "#e31a1c"
          ]
         },
         "name": "Good",
         "orientation": "h",
         "showlegend": false,
         "type": "bar",
         "x": [
          55.05,
          91.74,
          91.74,
          94.5,
          94.5,
          98.17
         ],
         "y": [
          "Metastatic_Indicator",
          "Datetime_Event1",
          "Datetime_Logging1",
          "Date_of_Birth",
          "Date_of_Diagnosis",
          "Datetime_Event2"
         ]
        },
        {
         "hoverinfo": "name+x",
         "marker": {
          "color": [
           "#fb9a99",
           "#fb9a99",
           "#fb9a99",
           "#fb9a99",
           "#fb9a99",
           "#fb9a99"
          ]
         },
         "name": "Bad",
         "orientation": "h",
         "showlegend": false,
         "type": "bar",
         "x": [
          44.95,
          8.26,
          8.26,
          5.5,
          5.5,
          1.83
         ],
         "y": [
          "Metastatic_Indicator",
          "Datetime_Event1",
          "Datetime_Logging1",
          "Date_of_Birth",
          "Date_of_Diagnosis",
          "Datetime_Event2"
         ]
        },
        {
         "hoverinfo": "name+x",
         "marker": {
          "color": [
           "#B2C3C6",
           "#B2C3C6",
           "#B2C3C6",
           "#B2C3C6",
           "#B2C3C6",
           "#B2C3C6"
          ]
         },
         "name": "NA",
         "orientation": "h",
         "showlegend": false,
         "type": "bar",
         "x": [
          0,
          0,
          0,
          0,
          0,
          0
         ],
         "y": [
          "Metastatic_Indicator",
          "Datetime_Event1",
          "Datetime_Logging1",
          "Date_of_Birth",
          "Date_of_Diagnosis",
          "Datetime_Event2"
         ]
        }
       ],
       "layout": {
        "barmode": "stack",
        "template": {
         "data": {
          "bar": [
           {
            "error_x": {
             "color": "#2a3f5f"
            },
            "error_y": {
             "color": "#2a3f5f"
            },
            "marker": {
             "line": {
              "color": "#E5ECF6",
              "width": 0.5
             },
             "pattern": {
              "fillmode": "overlay",
              "size": 10,
              "solidity": 0.2
             }
            },
            "type": "bar"
           }
          ],
          "barpolar": [
           {
            "marker": {
             "line": {
              "color": "#E5ECF6",
              "width": 0.5
             },
             "pattern": {
              "fillmode": "overlay",
              "size": 10,
              "solidity": 0.2
             }
            },
            "type": "barpolar"
           }
          ],
          "carpet": [
           {
            "aaxis": {
             "endlinecolor": "#2a3f5f",
             "gridcolor": "white",
             "linecolor": "white",
             "minorgridcolor": "white",
             "startlinecolor": "#2a3f5f"
            },
            "baxis": {
             "endlinecolor": "#2a3f5f",
             "gridcolor": "white",
             "linecolor": "white",
             "minorgridcolor": "white",
             "startlinecolor": "#2a3f5f"
            },
            "type": "carpet"
           }
          ],
          "choropleth": [
           {
            "colorbar": {
             "outlinewidth": 0,
             "ticks": ""
            },
            "type": "choropleth"
           }
          ],
          "contour": [
           {
            "colorbar": {
             "outlinewidth": 0,
             "ticks": ""
            },
            "colorscale": [
             [
              0,
              "#0d0887"
             ],
             [
              0.1111111111111111,
              "#46039f"
             ],
             [
              0.2222222222222222,
              "#7201a8"
             ],
             [
              0.3333333333333333,
              "#9c179e"
             ],
             [
              0.4444444444444444,
              "#bd3786"
             ],
             [
              0.5555555555555556,
              "#d8576b"
             ],
             [
              0.6666666666666666,
              "#ed7953"
             ],
             [
              0.7777777777777778,
              "#fb9f3a"
             ],
             [
              0.8888888888888888,
              "#fdca26"
             ],
             [
              1,
              "#f0f921"
             ]
            ],
            "type": "contour"
           }
          ],
          "contourcarpet": [
           {
            "colorbar": {
             "outlinewidth": 0,
             "ticks": ""
            },
            "type": "contourcarpet"
           }
          ],
          "heatmap": [
           {
            "colorbar": {
             "outlinewidth": 0,
             "ticks": ""
            },
            "colorscale": [
             [
              0,
              "#0d0887"
             ],
             [
              0.1111111111111111,
              "#46039f"
             ],
             [
              0.2222222222222222,
              "#7201a8"
             ],
             [
              0.3333333333333333,
              "#9c179e"
             ],
             [
              0.4444444444444444,
              "#bd3786"
             ],
             [
              0.5555555555555556,
              "#d8576b"
             ],
             [
              0.6666666666666666,
              "#ed7953"
             ],
             [
              0.7777777777777778,
              "#fb9f3a"
             ],
             [
              0.8888888888888888,
              "#fdca26"
             ],
             [
              1,
              "#f0f921"
             ]
            ],
            "type": "heatmap"
           }
          ],
          "heatmapgl": [
           {
            "colorbar": {
             "outlinewidth": 0,
             "ticks": ""
            },
            "colorscale": [
             [
              0,
              "#0d0887"
             ],
             [
              0.1111111111111111,
              "#46039f"
             ],
             [
              0.2222222222222222,
              "#7201a8"
             ],
             [
              0.3333333333333333,
              "#9c179e"
             ],
             [
              0.4444444444444444,
              "#bd3786"
             ],
             [
              0.5555555555555556,
              "#d8576b"
             ],
             [
              0.6666666666666666,
              "#ed7953"
             ],
             [
              0.7777777777777778,
              "#fb9f3a"
             ],
             [
              0.8888888888888888,
              "#fdca26"
             ],
             [
              1,
              "#f0f921"
             ]
            ],
            "type": "heatmapgl"
           }
          ],
          "histogram": [
           {
            "marker": {
             "pattern": {
              "fillmode": "overlay",
              "size": 10,
              "solidity": 0.2
             }
            },
            "type": "histogram"
           }
          ],
          "histogram2d": [
           {
            "colorbar": {
             "outlinewidth": 0,
             "ticks": ""
            },
            "colorscale": [
             [
              0,
              "#0d0887"
             ],
             [
              0.1111111111111111,
              "#46039f"
             ],
             [
              0.2222222222222222,
              "#7201a8"
             ],
             [
              0.3333333333333333,
              "#9c179e"
             ],
             [
              0.4444444444444444,
              "#bd3786"
             ],
             [
              0.5555555555555556,
              "#d8576b"
             ],
             [
              0.6666666666666666,
              "#ed7953"
             ],
             [
              0.7777777777777778,
              "#fb9f3a"
             ],
             [
              0.8888888888888888,
              "#fdca26"
             ],
             [
              1,
              "#f0f921"
             ]
            ],
            "type": "histogram2d"
           }
          ],
          "histogram2dcontour": [
           {
            "colorbar": {
             "outlinewidth": 0,
             "ticks": ""
            },
            "colorscale": [
             [
              0,
              "#0d0887"
             ],
             [
              0.1111111111111111,
              "#46039f"
             ],
             [
              0.2222222222222222,
              "#7201a8"
             ],
             [
              0.3333333333333333,
              "#9c179e"
             ],
             [
              0.4444444444444444,
              "#bd3786"
             ],
             [
              0.5555555555555556,
              "#d8576b"
             ],
             [
              0.6666666666666666,
              "#ed7953"
             ],
             [
              0.7777777777777778,
              "#fb9f3a"
             ],
             [
              0.8888888888888888,
              "#fdca26"
             ],
             [
              1,
              "#f0f921"
             ]
            ],
            "type": "histogram2dcontour"
           }
          ],
          "mesh3d": [
           {
            "colorbar": {
             "outlinewidth": 0,
             "ticks": ""
            },
            "type": "mesh3d"
           }
          ],
          "parcoords": [
           {
            "line": {
             "colorbar": {
              "outlinewidth": 0,
              "ticks": ""
             }
            },
            "type": "parcoords"
           }
          ],
          "pie": [
           {
            "automargin": true,
            "type": "pie"
           }
          ],
          "scatter": [
           {
            "fillpattern": {
             "fillmode": "overlay",
             "size": 10,
             "solidity": 0.2
            },
            "type": "scatter"
           }
          ],
          "scatter3d": [
           {
            "line": {
             "colorbar": {
              "outlinewidth": 0,
              "ticks": ""
             }
            },
            "marker": {
             "colorbar": {
              "outlinewidth": 0,
              "ticks": ""
             }
            },
            "type": "scatter3d"
           }
          ],
          "scattercarpet": [
           {
            "marker": {
             "colorbar": {
              "outlinewidth": 0,
              "ticks": ""
             }
            },
            "type": "scattercarpet"
           }
          ],
          "scattergeo": [
           {
            "marker": {
             "colorbar": {
              "outlinewidth": 0,
              "ticks": ""
             }
            },
            "type": "scattergeo"
           }
          ],
          "scattergl": [
           {
            "marker": {
             "colorbar": {
              "outlinewidth": 0,
              "ticks": ""
             }
            },
            "type": "scattergl"
           }
          ],
          "scattermapbox": [
           {
            "marker": {
             "colorbar": {
              "outlinewidth": 0,
              "ticks": ""
             }
            },
            "type": "scattermapbox"
           }
          ],
          "scatterpolar": [
           {
            "marker": {
             "colorbar": {
              "outlinewidth": 0,
              "ticks": ""
             }
            },
            "type": "scatterpolar"
           }
          ],
          "scatterpolargl": [
           {
            "marker": {
             "colorbar": {
              "outlinewidth": 0,
              "ticks": ""
             }
            },
            "type": "scatterpolargl"
           }
          ],
          "scatterternary": [
           {
            "marker": {
             "colorbar": {
              "outlinewidth": 0,
              "ticks": ""
             }
            },
            "type": "scatterternary"
           }
          ],
          "surface": [
           {
            "colorbar": {
             "outlinewidth": 0,
             "ticks": ""
            },
            "colorscale": [
             [
              0,
              "#0d0887"
             ],
             [
              0.1111111111111111,
              "#46039f"
             ],
             [
              0.2222222222222222,
              "#7201a8"
             ],
             [
              0.3333333333333333,
              "#9c179e"
             ],
             [
              0.4444444444444444,
              "#bd3786"
             ],
             [
              0.5555555555555556,
              "#d8576b"
             ],
             [
              0.6666666666666666,
              "#ed7953"
             ],
             [
              0.7777777777777778,
              "#fb9f3a"
             ],
             [
              0.8888888888888888,
              "#fdca26"
             ],
             [
              1,
              "#f0f921"
             ]
            ],
            "type": "surface"
           }
          ],
          "table": [
           {
            "cells": {
             "fill": {
              "color": "#EBF0F8"
             },
             "line": {
              "color": "white"
             }
            },
            "header": {
             "fill": {
              "color": "#C8D4E3"
             },
             "line": {
              "color": "white"
             }
            },
            "type": "table"
           }
          ]
         },
         "layout": {
          "annotationdefaults": {
           "arrowcolor": "#2a3f5f",
           "arrowhead": 0,
           "arrowwidth": 1
          },
          "autotypenumbers": "strict",
          "coloraxis": {
           "colorbar": {
            "outlinewidth": 0,
            "ticks": ""
           }
          },
          "colorscale": {
           "diverging": [
            [
             0,
             "#8e0152"
            ],
            [
             0.1,
             "#c51b7d"
            ],
            [
             0.2,
             "#de77ae"
            ],
            [
             0.3,
             "#f1b6da"
            ],
            [
             0.4,
             "#fde0ef"
            ],
            [
             0.5,
             "#f7f7f7"
            ],
            [
             0.6,
             "#e6f5d0"
            ],
            [
             0.7,
             "#b8e186"
            ],
            [
             0.8,
             "#7fbc41"
            ],
            [
             0.9,
             "#4d9221"
            ],
            [
             1,
             "#276419"
            ]
           ],
           "sequential": [
            [
             0,
             "#0d0887"
            ],
            [
             0.1111111111111111,
             "#46039f"
            ],
            [
             0.2222222222222222,
             "#7201a8"
            ],
            [
             0.3333333333333333,
             "#9c179e"
            ],
            [
             0.4444444444444444,
             "#bd3786"
            ],
            [
             0.5555555555555556,
             "#d8576b"
            ],
            [
             0.6666666666666666,
             "#ed7953"
            ],
            [
             0.7777777777777778,
             "#fb9f3a"
            ],
            [
             0.8888888888888888,
             "#fdca26"
            ],
            [
             1,
             "#f0f921"
            ]
           ],
           "sequentialminus": [
            [
             0,
             "#0d0887"
            ],
            [
             0.1111111111111111,
             "#46039f"
            ],
            [
             0.2222222222222222,
             "#7201a8"
            ],
            [
             0.3333333333333333,
             "#9c179e"
            ],
            [
             0.4444444444444444,
             "#bd3786"
            ],
            [
             0.5555555555555556,
             "#d8576b"
            ],
            [
             0.6666666666666666,
             "#ed7953"
            ],
            [
             0.7777777777777778,
             "#fb9f3a"
            ],
            [
             0.8888888888888888,
             "#fdca26"
            ],
            [
             1,
             "#f0f921"
            ]
           ]
          },
          "colorway": [
           "#636efa",
           "#EF553B",
           "#00cc96",
           "#ab63fa",
           "#FFA15A",
           "#19d3f3",
           "#FF6692",
           "#B6E880",
           "#FF97FF",
           "#FECB52"
          ],
          "font": {
           "color": "#2a3f5f"
          },
          "geo": {
           "bgcolor": "white",
           "lakecolor": "white",
           "landcolor": "#E5ECF6",
           "showlakes": true,
           "showland": true,
           "subunitcolor": "white"
          },
          "hoverlabel": {
           "align": "left"
          },
          "hovermode": "closest",
          "mapbox": {
           "style": "light"
          },
          "paper_bgcolor": "white",
          "plot_bgcolor": "#E5ECF6",
          "polar": {
           "angularaxis": {
            "gridcolor": "white",
            "linecolor": "white",
            "ticks": ""
           },
           "bgcolor": "#E5ECF6",
           "radialaxis": {
            "gridcolor": "white",
            "linecolor": "white",
            "ticks": ""
           }
          },
          "scene": {
           "xaxis": {
            "backgroundcolor": "#E5ECF6",
            "gridcolor": "white",
            "gridwidth": 2,
            "linecolor": "white",
            "showbackground": true,
            "ticks": "",
            "zerolinecolor": "white"
           },
           "yaxis": {
            "backgroundcolor": "#E5ECF6",
            "gridcolor": "white",
            "gridwidth": 2,
            "linecolor": "white",
            "showbackground": true,
            "ticks": "",
            "zerolinecolor": "white"
           },
           "zaxis": {
            "backgroundcolor": "#E5ECF6",
            "gridcolor": "white",
            "gridwidth": 2,
            "linecolor": "white",
            "showbackground": true,
            "ticks": "",
            "zerolinecolor": "white"
           }
          },
          "shapedefaults": {
           "line": {
            "color": "#2a3f5f"
           }
          },
          "ternary": {
           "aaxis": {
            "gridcolor": "white",
            "linecolor": "white",
            "ticks": ""
           },
           "baxis": {
            "gridcolor": "white",
            "linecolor": "white",
            "ticks": ""
           },
           "bgcolor": "#E5ECF6",
           "caxis": {
            "gridcolor": "white",
            "linecolor": "white",
            "ticks": ""
           }
          },
          "title": {
           "x": 0.05
          },
          "xaxis": {
           "automargin": true,
           "gridcolor": "white",
           "linecolor": "white",
           "ticks": "",
           "title": {
            "standoff": 15
           },
           "zerolinecolor": "white",
           "zerolinewidth": 2
          },
          "yaxis": {
           "automargin": true,
           "gridcolor": "white",
           "linecolor": "white",
           "ticks": "",
           "title": {
            "standoff": 15
           },
           "zerolinecolor": "white",
           "zerolinewidth": 2
          }
         }
        }
       }
      }
     },
     "metadata": {},
     "output_type": "display_data"
    }
   ],
   "source": [
    "BarPlotGenerator(summary_results, \"consistency\").plot_bar()"
   ]
  },
  {
   "cell_type": "code",
   "execution_count": 37,
   "id": "1ecf5062",
   "metadata": {
    "execution": {
     "iopub.execute_input": "2024-05-15T08:54:58.544221Z",
     "iopub.status.busy": "2024-05-15T08:54:58.544221Z",
     "iopub.status.idle": "2024-05-15T08:54:58.559763Z",
     "shell.execute_reply": "2024-05-15T08:54:58.559763Z"
    }
   },
   "outputs": [
    {
     "data": {
      "application/vnd.plotly.v1+json": {
       "config": {
        "plotlyServerURL": "https://plot.ly"
       },
       "data": [
        {
         "hoverinfo": "name+x",
         "marker": {
          "color": [
           "#ff7f00",
           "#ff7f00"
          ]
         },
         "name": "Good",
         "orientation": "h",
         "showlegend": false,
         "type": "bar",
         "x": [
          5.5,
          82.57
         ],
         "y": [
          "Datetime_Event2",
          "Datetime_Event1"
         ]
        },
        {
         "hoverinfo": "name+x",
         "marker": {
          "color": [
           "#fdbf6f",
           "#fdbf6f"
          ]
         },
         "name": "Bad",
         "orientation": "h",
         "showlegend": false,
         "type": "bar",
         "x": [
          94.5,
          17.43
         ],
         "y": [
          "Datetime_Event2",
          "Datetime_Event1"
         ]
        },
        {
         "hoverinfo": "name+x",
         "marker": {
          "color": [
           "#B2C3C6",
           "#B2C3C6"
          ]
         },
         "name": "NA",
         "orientation": "h",
         "showlegend": false,
         "type": "bar",
         "x": [
          0,
          0
         ],
         "y": [
          "Datetime_Event2",
          "Datetime_Event1"
         ]
        }
       ],
       "layout": {
        "barmode": "stack",
        "template": {
         "data": {
          "bar": [
           {
            "error_x": {
             "color": "#2a3f5f"
            },
            "error_y": {
             "color": "#2a3f5f"
            },
            "marker": {
             "line": {
              "color": "#E5ECF6",
              "width": 0.5
             },
             "pattern": {
              "fillmode": "overlay",
              "size": 10,
              "solidity": 0.2
             }
            },
            "type": "bar"
           }
          ],
          "barpolar": [
           {
            "marker": {
             "line": {
              "color": "#E5ECF6",
              "width": 0.5
             },
             "pattern": {
              "fillmode": "overlay",
              "size": 10,
              "solidity": 0.2
             }
            },
            "type": "barpolar"
           }
          ],
          "carpet": [
           {
            "aaxis": {
             "endlinecolor": "#2a3f5f",
             "gridcolor": "white",
             "linecolor": "white",
             "minorgridcolor": "white",
             "startlinecolor": "#2a3f5f"
            },
            "baxis": {
             "endlinecolor": "#2a3f5f",
             "gridcolor": "white",
             "linecolor": "white",
             "minorgridcolor": "white",
             "startlinecolor": "#2a3f5f"
            },
            "type": "carpet"
           }
          ],
          "choropleth": [
           {
            "colorbar": {
             "outlinewidth": 0,
             "ticks": ""
            },
            "type": "choropleth"
           }
          ],
          "contour": [
           {
            "colorbar": {
             "outlinewidth": 0,
             "ticks": ""
            },
            "colorscale": [
             [
              0,
              "#0d0887"
             ],
             [
              0.1111111111111111,
              "#46039f"
             ],
             [
              0.2222222222222222,
              "#7201a8"
             ],
             [
              0.3333333333333333,
              "#9c179e"
             ],
             [
              0.4444444444444444,
              "#bd3786"
             ],
             [
              0.5555555555555556,
              "#d8576b"
             ],
             [
              0.6666666666666666,
              "#ed7953"
             ],
             [
              0.7777777777777778,
              "#fb9f3a"
             ],
             [
              0.8888888888888888,
              "#fdca26"
             ],
             [
              1,
              "#f0f921"
             ]
            ],
            "type": "contour"
           }
          ],
          "contourcarpet": [
           {
            "colorbar": {
             "outlinewidth": 0,
             "ticks": ""
            },
            "type": "contourcarpet"
           }
          ],
          "heatmap": [
           {
            "colorbar": {
             "outlinewidth": 0,
             "ticks": ""
            },
            "colorscale": [
             [
              0,
              "#0d0887"
             ],
             [
              0.1111111111111111,
              "#46039f"
             ],
             [
              0.2222222222222222,
              "#7201a8"
             ],
             [
              0.3333333333333333,
              "#9c179e"
             ],
             [
              0.4444444444444444,
              "#bd3786"
             ],
             [
              0.5555555555555556,
              "#d8576b"
             ],
             [
              0.6666666666666666,
              "#ed7953"
             ],
             [
              0.7777777777777778,
              "#fb9f3a"
             ],
             [
              0.8888888888888888,
              "#fdca26"
             ],
             [
              1,
              "#f0f921"
             ]
            ],
            "type": "heatmap"
           }
          ],
          "heatmapgl": [
           {
            "colorbar": {
             "outlinewidth": 0,
             "ticks": ""
            },
            "colorscale": [
             [
              0,
              "#0d0887"
             ],
             [
              0.1111111111111111,
              "#46039f"
             ],
             [
              0.2222222222222222,
              "#7201a8"
             ],
             [
              0.3333333333333333,
              "#9c179e"
             ],
             [
              0.4444444444444444,
              "#bd3786"
             ],
             [
              0.5555555555555556,
              "#d8576b"
             ],
             [
              0.6666666666666666,
              "#ed7953"
             ],
             [
              0.7777777777777778,
              "#fb9f3a"
             ],
             [
              0.8888888888888888,
              "#fdca26"
             ],
             [
              1,
              "#f0f921"
             ]
            ],
            "type": "heatmapgl"
           }
          ],
          "histogram": [
           {
            "marker": {
             "pattern": {
              "fillmode": "overlay",
              "size": 10,
              "solidity": 0.2
             }
            },
            "type": "histogram"
           }
          ],
          "histogram2d": [
           {
            "colorbar": {
             "outlinewidth": 0,
             "ticks": ""
            },
            "colorscale": [
             [
              0,
              "#0d0887"
             ],
             [
              0.1111111111111111,
              "#46039f"
             ],
             [
              0.2222222222222222,
              "#7201a8"
             ],
             [
              0.3333333333333333,
              "#9c179e"
             ],
             [
              0.4444444444444444,
              "#bd3786"
             ],
             [
              0.5555555555555556,
              "#d8576b"
             ],
             [
              0.6666666666666666,
              "#ed7953"
             ],
             [
              0.7777777777777778,
              "#fb9f3a"
             ],
             [
              0.8888888888888888,
              "#fdca26"
             ],
             [
              1,
              "#f0f921"
             ]
            ],
            "type": "histogram2d"
           }
          ],
          "histogram2dcontour": [
           {
            "colorbar": {
             "outlinewidth": 0,
             "ticks": ""
            },
            "colorscale": [
             [
              0,
              "#0d0887"
             ],
             [
              0.1111111111111111,
              "#46039f"
             ],
             [
              0.2222222222222222,
              "#7201a8"
             ],
             [
              0.3333333333333333,
              "#9c179e"
             ],
             [
              0.4444444444444444,
              "#bd3786"
             ],
             [
              0.5555555555555556,
              "#d8576b"
             ],
             [
              0.6666666666666666,
              "#ed7953"
             ],
             [
              0.7777777777777778,
              "#fb9f3a"
             ],
             [
              0.8888888888888888,
              "#fdca26"
             ],
             [
              1,
              "#f0f921"
             ]
            ],
            "type": "histogram2dcontour"
           }
          ],
          "mesh3d": [
           {
            "colorbar": {
             "outlinewidth": 0,
             "ticks": ""
            },
            "type": "mesh3d"
           }
          ],
          "parcoords": [
           {
            "line": {
             "colorbar": {
              "outlinewidth": 0,
              "ticks": ""
             }
            },
            "type": "parcoords"
           }
          ],
          "pie": [
           {
            "automargin": true,
            "type": "pie"
           }
          ],
          "scatter": [
           {
            "fillpattern": {
             "fillmode": "overlay",
             "size": 10,
             "solidity": 0.2
            },
            "type": "scatter"
           }
          ],
          "scatter3d": [
           {
            "line": {
             "colorbar": {
              "outlinewidth": 0,
              "ticks": ""
             }
            },
            "marker": {
             "colorbar": {
              "outlinewidth": 0,
              "ticks": ""
             }
            },
            "type": "scatter3d"
           }
          ],
          "scattercarpet": [
           {
            "marker": {
             "colorbar": {
              "outlinewidth": 0,
              "ticks": ""
             }
            },
            "type": "scattercarpet"
           }
          ],
          "scattergeo": [
           {
            "marker": {
             "colorbar": {
              "outlinewidth": 0,
              "ticks": ""
             }
            },
            "type": "scattergeo"
           }
          ],
          "scattergl": [
           {
            "marker": {
             "colorbar": {
              "outlinewidth": 0,
              "ticks": ""
             }
            },
            "type": "scattergl"
           }
          ],
          "scattermapbox": [
           {
            "marker": {
             "colorbar": {
              "outlinewidth": 0,
              "ticks": ""
             }
            },
            "type": "scattermapbox"
           }
          ],
          "scatterpolar": [
           {
            "marker": {
             "colorbar": {
              "outlinewidth": 0,
              "ticks": ""
             }
            },
            "type": "scatterpolar"
           }
          ],
          "scatterpolargl": [
           {
            "marker": {
             "colorbar": {
              "outlinewidth": 0,
              "ticks": ""
             }
            },
            "type": "scatterpolargl"
           }
          ],
          "scatterternary": [
           {
            "marker": {
             "colorbar": {
              "outlinewidth": 0,
              "ticks": ""
             }
            },
            "type": "scatterternary"
           }
          ],
          "surface": [
           {
            "colorbar": {
             "outlinewidth": 0,
             "ticks": ""
            },
            "colorscale": [
             [
              0,
              "#0d0887"
             ],
             [
              0.1111111111111111,
              "#46039f"
             ],
             [
              0.2222222222222222,
              "#7201a8"
             ],
             [
              0.3333333333333333,
              "#9c179e"
             ],
             [
              0.4444444444444444,
              "#bd3786"
             ],
             [
              0.5555555555555556,
              "#d8576b"
             ],
             [
              0.6666666666666666,
              "#ed7953"
             ],
             [
              0.7777777777777778,
              "#fb9f3a"
             ],
             [
              0.8888888888888888,
              "#fdca26"
             ],
             [
              1,
              "#f0f921"
             ]
            ],
            "type": "surface"
           }
          ],
          "table": [
           {
            "cells": {
             "fill": {
              "color": "#EBF0F8"
             },
             "line": {
              "color": "white"
             }
            },
            "header": {
             "fill": {
              "color": "#C8D4E3"
             },
             "line": {
              "color": "white"
             }
            },
            "type": "table"
           }
          ]
         },
         "layout": {
          "annotationdefaults": {
           "arrowcolor": "#2a3f5f",
           "arrowhead": 0,
           "arrowwidth": 1
          },
          "autotypenumbers": "strict",
          "coloraxis": {
           "colorbar": {
            "outlinewidth": 0,
            "ticks": ""
           }
          },
          "colorscale": {
           "diverging": [
            [
             0,
             "#8e0152"
            ],
            [
             0.1,
             "#c51b7d"
            ],
            [
             0.2,
             "#de77ae"
            ],
            [
             0.3,
             "#f1b6da"
            ],
            [
             0.4,
             "#fde0ef"
            ],
            [
             0.5,
             "#f7f7f7"
            ],
            [
             0.6,
             "#e6f5d0"
            ],
            [
             0.7,
             "#b8e186"
            ],
            [
             0.8,
             "#7fbc41"
            ],
            [
             0.9,
             "#4d9221"
            ],
            [
             1,
             "#276419"
            ]
           ],
           "sequential": [
            [
             0,
             "#0d0887"
            ],
            [
             0.1111111111111111,
             "#46039f"
            ],
            [
             0.2222222222222222,
             "#7201a8"
            ],
            [
             0.3333333333333333,
             "#9c179e"
            ],
            [
             0.4444444444444444,
             "#bd3786"
            ],
            [
             0.5555555555555556,
             "#d8576b"
            ],
            [
             0.6666666666666666,
             "#ed7953"
            ],
            [
             0.7777777777777778,
             "#fb9f3a"
            ],
            [
             0.8888888888888888,
             "#fdca26"
            ],
            [
             1,
             "#f0f921"
            ]
           ],
           "sequentialminus": [
            [
             0,
             "#0d0887"
            ],
            [
             0.1111111111111111,
             "#46039f"
            ],
            [
             0.2222222222222222,
             "#7201a8"
            ],
            [
             0.3333333333333333,
             "#9c179e"
            ],
            [
             0.4444444444444444,
             "#bd3786"
            ],
            [
             0.5555555555555556,
             "#d8576b"
            ],
            [
             0.6666666666666666,
             "#ed7953"
            ],
            [
             0.7777777777777778,
             "#fb9f3a"
            ],
            [
             0.8888888888888888,
             "#fdca26"
            ],
            [
             1,
             "#f0f921"
            ]
           ]
          },
          "colorway": [
           "#636efa",
           "#EF553B",
           "#00cc96",
           "#ab63fa",
           "#FFA15A",
           "#19d3f3",
           "#FF6692",
           "#B6E880",
           "#FF97FF",
           "#FECB52"
          ],
          "font": {
           "color": "#2a3f5f"
          },
          "geo": {
           "bgcolor": "white",
           "lakecolor": "white",
           "landcolor": "#E5ECF6",
           "showlakes": true,
           "showland": true,
           "subunitcolor": "white"
          },
          "hoverlabel": {
           "align": "left"
          },
          "hovermode": "closest",
          "mapbox": {
           "style": "light"
          },
          "paper_bgcolor": "white",
          "plot_bgcolor": "#E5ECF6",
          "polar": {
           "angularaxis": {
            "gridcolor": "white",
            "linecolor": "white",
            "ticks": ""
           },
           "bgcolor": "#E5ECF6",
           "radialaxis": {
            "gridcolor": "white",
            "linecolor": "white",
            "ticks": ""
           }
          },
          "scene": {
           "xaxis": {
            "backgroundcolor": "#E5ECF6",
            "gridcolor": "white",
            "gridwidth": 2,
            "linecolor": "white",
            "showbackground": true,
            "ticks": "",
            "zerolinecolor": "white"
           },
           "yaxis": {
            "backgroundcolor": "#E5ECF6",
            "gridcolor": "white",
            "gridwidth": 2,
            "linecolor": "white",
            "showbackground": true,
            "ticks": "",
            "zerolinecolor": "white"
           },
           "zaxis": {
            "backgroundcolor": "#E5ECF6",
            "gridcolor": "white",
            "gridwidth": 2,
            "linecolor": "white",
            "showbackground": true,
            "ticks": "",
            "zerolinecolor": "white"
           }
          },
          "shapedefaults": {
           "line": {
            "color": "#2a3f5f"
           }
          },
          "ternary": {
           "aaxis": {
            "gridcolor": "white",
            "linecolor": "white",
            "ticks": ""
           },
           "baxis": {
            "gridcolor": "white",
            "linecolor": "white",
            "ticks": ""
           },
           "bgcolor": "#E5ECF6",
           "caxis": {
            "gridcolor": "white",
            "linecolor": "white",
            "ticks": ""
           }
          },
          "title": {
           "x": 0.05
          },
          "xaxis": {
           "automargin": true,
           "gridcolor": "white",
           "linecolor": "white",
           "ticks": "",
           "title": {
            "standoff": 15
           },
           "zerolinecolor": "white",
           "zerolinewidth": 2
          },
          "yaxis": {
           "automargin": true,
           "gridcolor": "white",
           "linecolor": "white",
           "ticks": "",
           "title": {
            "standoff": 15
           },
           "zerolinecolor": "white",
           "zerolinewidth": 2
          }
         }
        }
       }
      }
     },
     "metadata": {},
     "output_type": "display_data"
    }
   ],
   "source": [
    "BarPlotGenerator(summary_results, \"timeliness\").plot_bar()"
   ]
  },
  {
   "cell_type": "code",
   "execution_count": 38,
   "id": "841cf881",
   "metadata": {
    "execution": {
     "iopub.execute_input": "2024-05-15T08:54:58.559763Z",
     "iopub.status.busy": "2024-05-15T08:54:58.559763Z",
     "iopub.status.idle": "2024-05-15T08:54:58.575384Z",
     "shell.execute_reply": "2024-05-15T08:54:58.575384Z"
    }
   },
   "outputs": [
    {
     "data": {
      "application/vnd.plotly.v1+json": {
       "config": {
        "plotlyServerURL": "https://plot.ly"
       },
       "data": [
        {
         "hoverinfo": "name+x",
         "marker": {
          "color": [
           "#6a3d9a"
          ]
         },
         "name": "Good",
         "orientation": "h",
         "showlegend": false,
         "type": "bar",
         "x": [
          98.17
         ],
         "y": [
          "full_row_uniqueness"
         ]
        },
        {
         "hoverinfo": "name+x",
         "marker": {
          "color": [
           "#cab2d6"
          ]
         },
         "name": "Bad",
         "orientation": "h",
         "showlegend": false,
         "type": "bar",
         "x": [
          1.83
         ],
         "y": [
          "full_row_uniqueness"
         ]
        },
        {
         "hoverinfo": "name+x",
         "marker": {
          "color": [
           "#B2C3C6"
          ]
         },
         "name": "NA",
         "orientation": "h",
         "showlegend": false,
         "type": "bar",
         "x": [
          0
         ],
         "y": [
          "full_row_uniqueness"
         ]
        }
       ],
       "layout": {
        "barmode": "stack",
        "template": {
         "data": {
          "bar": [
           {
            "error_x": {
             "color": "#2a3f5f"
            },
            "error_y": {
             "color": "#2a3f5f"
            },
            "marker": {
             "line": {
              "color": "#E5ECF6",
              "width": 0.5
             },
             "pattern": {
              "fillmode": "overlay",
              "size": 10,
              "solidity": 0.2
             }
            },
            "type": "bar"
           }
          ],
          "barpolar": [
           {
            "marker": {
             "line": {
              "color": "#E5ECF6",
              "width": 0.5
             },
             "pattern": {
              "fillmode": "overlay",
              "size": 10,
              "solidity": 0.2
             }
            },
            "type": "barpolar"
           }
          ],
          "carpet": [
           {
            "aaxis": {
             "endlinecolor": "#2a3f5f",
             "gridcolor": "white",
             "linecolor": "white",
             "minorgridcolor": "white",
             "startlinecolor": "#2a3f5f"
            },
            "baxis": {
             "endlinecolor": "#2a3f5f",
             "gridcolor": "white",
             "linecolor": "white",
             "minorgridcolor": "white",
             "startlinecolor": "#2a3f5f"
            },
            "type": "carpet"
           }
          ],
          "choropleth": [
           {
            "colorbar": {
             "outlinewidth": 0,
             "ticks": ""
            },
            "type": "choropleth"
           }
          ],
          "contour": [
           {
            "colorbar": {
             "outlinewidth": 0,
             "ticks": ""
            },
            "colorscale": [
             [
              0,
              "#0d0887"
             ],
             [
              0.1111111111111111,
              "#46039f"
             ],
             [
              0.2222222222222222,
              "#7201a8"
             ],
             [
              0.3333333333333333,
              "#9c179e"
             ],
             [
              0.4444444444444444,
              "#bd3786"
             ],
             [
              0.5555555555555556,
              "#d8576b"
             ],
             [
              0.6666666666666666,
              "#ed7953"
             ],
             [
              0.7777777777777778,
              "#fb9f3a"
             ],
             [
              0.8888888888888888,
              "#fdca26"
             ],
             [
              1,
              "#f0f921"
             ]
            ],
            "type": "contour"
           }
          ],
          "contourcarpet": [
           {
            "colorbar": {
             "outlinewidth": 0,
             "ticks": ""
            },
            "type": "contourcarpet"
           }
          ],
          "heatmap": [
           {
            "colorbar": {
             "outlinewidth": 0,
             "ticks": ""
            },
            "colorscale": [
             [
              0,
              "#0d0887"
             ],
             [
              0.1111111111111111,
              "#46039f"
             ],
             [
              0.2222222222222222,
              "#7201a8"
             ],
             [
              0.3333333333333333,
              "#9c179e"
             ],
             [
              0.4444444444444444,
              "#bd3786"
             ],
             [
              0.5555555555555556,
              "#d8576b"
             ],
             [
              0.6666666666666666,
              "#ed7953"
             ],
             [
              0.7777777777777778,
              "#fb9f3a"
             ],
             [
              0.8888888888888888,
              "#fdca26"
             ],
             [
              1,
              "#f0f921"
             ]
            ],
            "type": "heatmap"
           }
          ],
          "heatmapgl": [
           {
            "colorbar": {
             "outlinewidth": 0,
             "ticks": ""
            },
            "colorscale": [
             [
              0,
              "#0d0887"
             ],
             [
              0.1111111111111111,
              "#46039f"
             ],
             [
              0.2222222222222222,
              "#7201a8"
             ],
             [
              0.3333333333333333,
              "#9c179e"
             ],
             [
              0.4444444444444444,
              "#bd3786"
             ],
             [
              0.5555555555555556,
              "#d8576b"
             ],
             [
              0.6666666666666666,
              "#ed7953"
             ],
             [
              0.7777777777777778,
              "#fb9f3a"
             ],
             [
              0.8888888888888888,
              "#fdca26"
             ],
             [
              1,
              "#f0f921"
             ]
            ],
            "type": "heatmapgl"
           }
          ],
          "histogram": [
           {
            "marker": {
             "pattern": {
              "fillmode": "overlay",
              "size": 10,
              "solidity": 0.2
             }
            },
            "type": "histogram"
           }
          ],
          "histogram2d": [
           {
            "colorbar": {
             "outlinewidth": 0,
             "ticks": ""
            },
            "colorscale": [
             [
              0,
              "#0d0887"
             ],
             [
              0.1111111111111111,
              "#46039f"
             ],
             [
              0.2222222222222222,
              "#7201a8"
             ],
             [
              0.3333333333333333,
              "#9c179e"
             ],
             [
              0.4444444444444444,
              "#bd3786"
             ],
             [
              0.5555555555555556,
              "#d8576b"
             ],
             [
              0.6666666666666666,
              "#ed7953"
             ],
             [
              0.7777777777777778,
              "#fb9f3a"
             ],
             [
              0.8888888888888888,
              "#fdca26"
             ],
             [
              1,
              "#f0f921"
             ]
            ],
            "type": "histogram2d"
           }
          ],
          "histogram2dcontour": [
           {
            "colorbar": {
             "outlinewidth": 0,
             "ticks": ""
            },
            "colorscale": [
             [
              0,
              "#0d0887"
             ],
             [
              0.1111111111111111,
              "#46039f"
             ],
             [
              0.2222222222222222,
              "#7201a8"
             ],
             [
              0.3333333333333333,
              "#9c179e"
             ],
             [
              0.4444444444444444,
              "#bd3786"
             ],
             [
              0.5555555555555556,
              "#d8576b"
             ],
             [
              0.6666666666666666,
              "#ed7953"
             ],
             [
              0.7777777777777778,
              "#fb9f3a"
             ],
             [
              0.8888888888888888,
              "#fdca26"
             ],
             [
              1,
              "#f0f921"
             ]
            ],
            "type": "histogram2dcontour"
           }
          ],
          "mesh3d": [
           {
            "colorbar": {
             "outlinewidth": 0,
             "ticks": ""
            },
            "type": "mesh3d"
           }
          ],
          "parcoords": [
           {
            "line": {
             "colorbar": {
              "outlinewidth": 0,
              "ticks": ""
             }
            },
            "type": "parcoords"
           }
          ],
          "pie": [
           {
            "automargin": true,
            "type": "pie"
           }
          ],
          "scatter": [
           {
            "fillpattern": {
             "fillmode": "overlay",
             "size": 10,
             "solidity": 0.2
            },
            "type": "scatter"
           }
          ],
          "scatter3d": [
           {
            "line": {
             "colorbar": {
              "outlinewidth": 0,
              "ticks": ""
             }
            },
            "marker": {
             "colorbar": {
              "outlinewidth": 0,
              "ticks": ""
             }
            },
            "type": "scatter3d"
           }
          ],
          "scattercarpet": [
           {
            "marker": {
             "colorbar": {
              "outlinewidth": 0,
              "ticks": ""
             }
            },
            "type": "scattercarpet"
           }
          ],
          "scattergeo": [
           {
            "marker": {
             "colorbar": {
              "outlinewidth": 0,
              "ticks": ""
             }
            },
            "type": "scattergeo"
           }
          ],
          "scattergl": [
           {
            "marker": {
             "colorbar": {
              "outlinewidth": 0,
              "ticks": ""
             }
            },
            "type": "scattergl"
           }
          ],
          "scattermapbox": [
           {
            "marker": {
             "colorbar": {
              "outlinewidth": 0,
              "ticks": ""
             }
            },
            "type": "scattermapbox"
           }
          ],
          "scatterpolar": [
           {
            "marker": {
             "colorbar": {
              "outlinewidth": 0,
              "ticks": ""
             }
            },
            "type": "scatterpolar"
           }
          ],
          "scatterpolargl": [
           {
            "marker": {
             "colorbar": {
              "outlinewidth": 0,
              "ticks": ""
             }
            },
            "type": "scatterpolargl"
           }
          ],
          "scatterternary": [
           {
            "marker": {
             "colorbar": {
              "outlinewidth": 0,
              "ticks": ""
             }
            },
            "type": "scatterternary"
           }
          ],
          "surface": [
           {
            "colorbar": {
             "outlinewidth": 0,
             "ticks": ""
            },
            "colorscale": [
             [
              0,
              "#0d0887"
             ],
             [
              0.1111111111111111,
              "#46039f"
             ],
             [
              0.2222222222222222,
              "#7201a8"
             ],
             [
              0.3333333333333333,
              "#9c179e"
             ],
             [
              0.4444444444444444,
              "#bd3786"
             ],
             [
              0.5555555555555556,
              "#d8576b"
             ],
             [
              0.6666666666666666,
              "#ed7953"
             ],
             [
              0.7777777777777778,
              "#fb9f3a"
             ],
             [
              0.8888888888888888,
              "#fdca26"
             ],
             [
              1,
              "#f0f921"
             ]
            ],
            "type": "surface"
           }
          ],
          "table": [
           {
            "cells": {
             "fill": {
              "color": "#EBF0F8"
             },
             "line": {
              "color": "white"
             }
            },
            "header": {
             "fill": {
              "color": "#C8D4E3"
             },
             "line": {
              "color": "white"
             }
            },
            "type": "table"
           }
          ]
         },
         "layout": {
          "annotationdefaults": {
           "arrowcolor": "#2a3f5f",
           "arrowhead": 0,
           "arrowwidth": 1
          },
          "autotypenumbers": "strict",
          "coloraxis": {
           "colorbar": {
            "outlinewidth": 0,
            "ticks": ""
           }
          },
          "colorscale": {
           "diverging": [
            [
             0,
             "#8e0152"
            ],
            [
             0.1,
             "#c51b7d"
            ],
            [
             0.2,
             "#de77ae"
            ],
            [
             0.3,
             "#f1b6da"
            ],
            [
             0.4,
             "#fde0ef"
            ],
            [
             0.5,
             "#f7f7f7"
            ],
            [
             0.6,
             "#e6f5d0"
            ],
            [
             0.7,
             "#b8e186"
            ],
            [
             0.8,
             "#7fbc41"
            ],
            [
             0.9,
             "#4d9221"
            ],
            [
             1,
             "#276419"
            ]
           ],
           "sequential": [
            [
             0,
             "#0d0887"
            ],
            [
             0.1111111111111111,
             "#46039f"
            ],
            [
             0.2222222222222222,
             "#7201a8"
            ],
            [
             0.3333333333333333,
             "#9c179e"
            ],
            [
             0.4444444444444444,
             "#bd3786"
            ],
            [
             0.5555555555555556,
             "#d8576b"
            ],
            [
             0.6666666666666666,
             "#ed7953"
            ],
            [
             0.7777777777777778,
             "#fb9f3a"
            ],
            [
             0.8888888888888888,
             "#fdca26"
            ],
            [
             1,
             "#f0f921"
            ]
           ],
           "sequentialminus": [
            [
             0,
             "#0d0887"
            ],
            [
             0.1111111111111111,
             "#46039f"
            ],
            [
             0.2222222222222222,
             "#7201a8"
            ],
            [
             0.3333333333333333,
             "#9c179e"
            ],
            [
             0.4444444444444444,
             "#bd3786"
            ],
            [
             0.5555555555555556,
             "#d8576b"
            ],
            [
             0.6666666666666666,
             "#ed7953"
            ],
            [
             0.7777777777777778,
             "#fb9f3a"
            ],
            [
             0.8888888888888888,
             "#fdca26"
            ],
            [
             1,
             "#f0f921"
            ]
           ]
          },
          "colorway": [
           "#636efa",
           "#EF553B",
           "#00cc96",
           "#ab63fa",
           "#FFA15A",
           "#19d3f3",
           "#FF6692",
           "#B6E880",
           "#FF97FF",
           "#FECB52"
          ],
          "font": {
           "color": "#2a3f5f"
          },
          "geo": {
           "bgcolor": "white",
           "lakecolor": "white",
           "landcolor": "#E5ECF6",
           "showlakes": true,
           "showland": true,
           "subunitcolor": "white"
          },
          "hoverlabel": {
           "align": "left"
          },
          "hovermode": "closest",
          "mapbox": {
           "style": "light"
          },
          "paper_bgcolor": "white",
          "plot_bgcolor": "#E5ECF6",
          "polar": {
           "angularaxis": {
            "gridcolor": "white",
            "linecolor": "white",
            "ticks": ""
           },
           "bgcolor": "#E5ECF6",
           "radialaxis": {
            "gridcolor": "white",
            "linecolor": "white",
            "ticks": ""
           }
          },
          "scene": {
           "xaxis": {
            "backgroundcolor": "#E5ECF6",
            "gridcolor": "white",
            "gridwidth": 2,
            "linecolor": "white",
            "showbackground": true,
            "ticks": "",
            "zerolinecolor": "white"
           },
           "yaxis": {
            "backgroundcolor": "#E5ECF6",
            "gridcolor": "white",
            "gridwidth": 2,
            "linecolor": "white",
            "showbackground": true,
            "ticks": "",
            "zerolinecolor": "white"
           },
           "zaxis": {
            "backgroundcolor": "#E5ECF6",
            "gridcolor": "white",
            "gridwidth": 2,
            "linecolor": "white",
            "showbackground": true,
            "ticks": "",
            "zerolinecolor": "white"
           }
          },
          "shapedefaults": {
           "line": {
            "color": "#2a3f5f"
           }
          },
          "ternary": {
           "aaxis": {
            "gridcolor": "white",
            "linecolor": "white",
            "ticks": ""
           },
           "baxis": {
            "gridcolor": "white",
            "linecolor": "white",
            "ticks": ""
           },
           "bgcolor": "#E5ECF6",
           "caxis": {
            "gridcolor": "white",
            "linecolor": "white",
            "ticks": ""
           }
          },
          "title": {
           "x": 0.05
          },
          "xaxis": {
           "automargin": true,
           "gridcolor": "white",
           "linecolor": "white",
           "ticks": "",
           "title": {
            "standoff": 15
           },
           "zerolinecolor": "white",
           "zerolinewidth": 2
          },
          "yaxis": {
           "automargin": true,
           "gridcolor": "white",
           "linecolor": "white",
           "ticks": "",
           "title": {
            "standoff": 15
           },
           "zerolinecolor": "white",
           "zerolinewidth": 2
          }
         }
        }
       }
      }
     },
     "metadata": {},
     "output_type": "display_data"
    }
   ],
   "source": [
    "BarPlotGenerator(summary_results, \"uniqueness\").plot_bar()"
   ]
  },
  {
   "cell_type": "code",
   "execution_count": 39,
   "id": "b89d690e",
   "metadata": {
    "execution": {
     "iopub.execute_input": "2024-05-15T08:54:58.575384Z",
     "iopub.status.busy": "2024-05-15T08:54:58.575384Z",
     "iopub.status.idle": "2024-05-15T08:54:58.591015Z",
     "shell.execute_reply": "2024-05-15T08:54:58.591015Z"
    }
   },
   "outputs": [
    {
     "data": {
      "application/vnd.plotly.v1+json": {
       "config": {
        "plotlyServerURL": "https://plot.ly"
       },
       "data": [
        {
         "hoverinfo": "name+x",
         "marker": {
          "color": [
           "#b15928",
           "#b15928",
           "#b15928",
           "#b15928",
           "#b15928",
           "#b15928",
           "#b15928",
           "#b15928",
           "#b15928",
           "#b15928",
           "#b15928",
           "#b15928",
           "#b15928",
           "#b15928",
           "#b15928",
           "#b15928",
           "#b15928"
          ]
         },
         "name": "Good",
         "orientation": "h",
         "showlegend": false,
         "type": "bar",
         "x": [
          22.02,
          22.94,
          26.61,
          54.13,
          66.97,
          68.81,
          69.72,
          72.48,
          74.31,
          77.98,
          80.73,
          92.66,
          98.17,
          98.17,
          99.08,
          100,
          100
         ],
         "y": [
          "ICD_10_Code",
          "Weight_kg",
          "Date_of_Diagnosis",
          "Age",
          "BMI",
          "Height_cm",
          "Datetime_Logging2",
          "Datetime_Event1",
          "Tumour_Stage",
          "Datetime_Event2",
          "Datetime_Logging1",
          "NHS_number",
          "Postcode",
          "Regimen_Start_Date",
          "Date_of_Birth",
          "Gender",
          "Tumour_M_Stage"
         ]
        },
        {
         "hoverinfo": "name+x",
         "marker": {
          "color": [
           "#F49FA0",
           "#F49FA0",
           "#F49FA0",
           "#F49FA0",
           "#F49FA0",
           "#F49FA0",
           "#F49FA0",
           "#F49FA0",
           "#F49FA0",
           "#F49FA0",
           "#F49FA0",
           "#F49FA0",
           "#F49FA0",
           "#F49FA0",
           "#F49FA0",
           "#F49FA0",
           "#F49FA0"
          ]
         },
         "name": "Bad",
         "orientation": "h",
         "showlegend": false,
         "type": "bar",
         "x": [
          77.98,
          77.06,
          73.39,
          45.87,
          33.03,
          31.19,
          30.28,
          27.52,
          25.69,
          22.02,
          19.27,
          7.34,
          1.83,
          1.83,
          0.92,
          0,
          0
         ],
         "y": [
          "ICD_10_Code",
          "Weight_kg",
          "Date_of_Diagnosis",
          "Age",
          "BMI",
          "Height_cm",
          "Datetime_Logging2",
          "Datetime_Event1",
          "Tumour_Stage",
          "Datetime_Event2",
          "Datetime_Logging1",
          "NHS_number",
          "Postcode",
          "Regimen_Start_Date",
          "Date_of_Birth",
          "Gender",
          "Tumour_M_Stage"
         ]
        },
        {
         "hoverinfo": "name+x",
         "marker": {
          "color": [
           "#B2C3C6",
           "#B2C3C6",
           "#B2C3C6",
           "#B2C3C6",
           "#B2C3C6",
           "#B2C3C6",
           "#B2C3C6",
           "#B2C3C6",
           "#B2C3C6",
           "#B2C3C6",
           "#B2C3C6",
           "#B2C3C6",
           "#B2C3C6",
           "#B2C3C6",
           "#B2C3C6",
           "#B2C3C6",
           "#B2C3C6"
          ]
         },
         "name": "NA",
         "orientation": "h",
         "showlegend": false,
         "type": "bar",
         "x": [
          0,
          0,
          0,
          0,
          0,
          0,
          0,
          0,
          0,
          0,
          0,
          0,
          0,
          0,
          0,
          0,
          0
         ],
         "y": [
          "ICD_10_Code",
          "Weight_kg",
          "Date_of_Diagnosis",
          "Age",
          "BMI",
          "Height_cm",
          "Datetime_Logging2",
          "Datetime_Event1",
          "Tumour_Stage",
          "Datetime_Event2",
          "Datetime_Logging1",
          "NHS_number",
          "Postcode",
          "Regimen_Start_Date",
          "Date_of_Birth",
          "Gender",
          "Tumour_M_Stage"
         ]
        }
       ],
       "layout": {
        "barmode": "stack",
        "template": {
         "data": {
          "bar": [
           {
            "error_x": {
             "color": "#2a3f5f"
            },
            "error_y": {
             "color": "#2a3f5f"
            },
            "marker": {
             "line": {
              "color": "#E5ECF6",
              "width": 0.5
             },
             "pattern": {
              "fillmode": "overlay",
              "size": 10,
              "solidity": 0.2
             }
            },
            "type": "bar"
           }
          ],
          "barpolar": [
           {
            "marker": {
             "line": {
              "color": "#E5ECF6",
              "width": 0.5
             },
             "pattern": {
              "fillmode": "overlay",
              "size": 10,
              "solidity": 0.2
             }
            },
            "type": "barpolar"
           }
          ],
          "carpet": [
           {
            "aaxis": {
             "endlinecolor": "#2a3f5f",
             "gridcolor": "white",
             "linecolor": "white",
             "minorgridcolor": "white",
             "startlinecolor": "#2a3f5f"
            },
            "baxis": {
             "endlinecolor": "#2a3f5f",
             "gridcolor": "white",
             "linecolor": "white",
             "minorgridcolor": "white",
             "startlinecolor": "#2a3f5f"
            },
            "type": "carpet"
           }
          ],
          "choropleth": [
           {
            "colorbar": {
             "outlinewidth": 0,
             "ticks": ""
            },
            "type": "choropleth"
           }
          ],
          "contour": [
           {
            "colorbar": {
             "outlinewidth": 0,
             "ticks": ""
            },
            "colorscale": [
             [
              0,
              "#0d0887"
             ],
             [
              0.1111111111111111,
              "#46039f"
             ],
             [
              0.2222222222222222,
              "#7201a8"
             ],
             [
              0.3333333333333333,
              "#9c179e"
             ],
             [
              0.4444444444444444,
              "#bd3786"
             ],
             [
              0.5555555555555556,
              "#d8576b"
             ],
             [
              0.6666666666666666,
              "#ed7953"
             ],
             [
              0.7777777777777778,
              "#fb9f3a"
             ],
             [
              0.8888888888888888,
              "#fdca26"
             ],
             [
              1,
              "#f0f921"
             ]
            ],
            "type": "contour"
           }
          ],
          "contourcarpet": [
           {
            "colorbar": {
             "outlinewidth": 0,
             "ticks": ""
            },
            "type": "contourcarpet"
           }
          ],
          "heatmap": [
           {
            "colorbar": {
             "outlinewidth": 0,
             "ticks": ""
            },
            "colorscale": [
             [
              0,
              "#0d0887"
             ],
             [
              0.1111111111111111,
              "#46039f"
             ],
             [
              0.2222222222222222,
              "#7201a8"
             ],
             [
              0.3333333333333333,
              "#9c179e"
             ],
             [
              0.4444444444444444,
              "#bd3786"
             ],
             [
              0.5555555555555556,
              "#d8576b"
             ],
             [
              0.6666666666666666,
              "#ed7953"
             ],
             [
              0.7777777777777778,
              "#fb9f3a"
             ],
             [
              0.8888888888888888,
              "#fdca26"
             ],
             [
              1,
              "#f0f921"
             ]
            ],
            "type": "heatmap"
           }
          ],
          "heatmapgl": [
           {
            "colorbar": {
             "outlinewidth": 0,
             "ticks": ""
            },
            "colorscale": [
             [
              0,
              "#0d0887"
             ],
             [
              0.1111111111111111,
              "#46039f"
             ],
             [
              0.2222222222222222,
              "#7201a8"
             ],
             [
              0.3333333333333333,
              "#9c179e"
             ],
             [
              0.4444444444444444,
              "#bd3786"
             ],
             [
              0.5555555555555556,
              "#d8576b"
             ],
             [
              0.6666666666666666,
              "#ed7953"
             ],
             [
              0.7777777777777778,
              "#fb9f3a"
             ],
             [
              0.8888888888888888,
              "#fdca26"
             ],
             [
              1,
              "#f0f921"
             ]
            ],
            "type": "heatmapgl"
           }
          ],
          "histogram": [
           {
            "marker": {
             "pattern": {
              "fillmode": "overlay",
              "size": 10,
              "solidity": 0.2
             }
            },
            "type": "histogram"
           }
          ],
          "histogram2d": [
           {
            "colorbar": {
             "outlinewidth": 0,
             "ticks": ""
            },
            "colorscale": [
             [
              0,
              "#0d0887"
             ],
             [
              0.1111111111111111,
              "#46039f"
             ],
             [
              0.2222222222222222,
              "#7201a8"
             ],
             [
              0.3333333333333333,
              "#9c179e"
             ],
             [
              0.4444444444444444,
              "#bd3786"
             ],
             [
              0.5555555555555556,
              "#d8576b"
             ],
             [
              0.6666666666666666,
              "#ed7953"
             ],
             [
              0.7777777777777778,
              "#fb9f3a"
             ],
             [
              0.8888888888888888,
              "#fdca26"
             ],
             [
              1,
              "#f0f921"
             ]
            ],
            "type": "histogram2d"
           }
          ],
          "histogram2dcontour": [
           {
            "colorbar": {
             "outlinewidth": 0,
             "ticks": ""
            },
            "colorscale": [
             [
              0,
              "#0d0887"
             ],
             [
              0.1111111111111111,
              "#46039f"
             ],
             [
              0.2222222222222222,
              "#7201a8"
             ],
             [
              0.3333333333333333,
              "#9c179e"
             ],
             [
              0.4444444444444444,
              "#bd3786"
             ],
             [
              0.5555555555555556,
              "#d8576b"
             ],
             [
              0.6666666666666666,
              "#ed7953"
             ],
             [
              0.7777777777777778,
              "#fb9f3a"
             ],
             [
              0.8888888888888888,
              "#fdca26"
             ],
             [
              1,
              "#f0f921"
             ]
            ],
            "type": "histogram2dcontour"
           }
          ],
          "mesh3d": [
           {
            "colorbar": {
             "outlinewidth": 0,
             "ticks": ""
            },
            "type": "mesh3d"
           }
          ],
          "parcoords": [
           {
            "line": {
             "colorbar": {
              "outlinewidth": 0,
              "ticks": ""
             }
            },
            "type": "parcoords"
           }
          ],
          "pie": [
           {
            "automargin": true,
            "type": "pie"
           }
          ],
          "scatter": [
           {
            "fillpattern": {
             "fillmode": "overlay",
             "size": 10,
             "solidity": 0.2
            },
            "type": "scatter"
           }
          ],
          "scatter3d": [
           {
            "line": {
             "colorbar": {
              "outlinewidth": 0,
              "ticks": ""
             }
            },
            "marker": {
             "colorbar": {
              "outlinewidth": 0,
              "ticks": ""
             }
            },
            "type": "scatter3d"
           }
          ],
          "scattercarpet": [
           {
            "marker": {
             "colorbar": {
              "outlinewidth": 0,
              "ticks": ""
             }
            },
            "type": "scattercarpet"
           }
          ],
          "scattergeo": [
           {
            "marker": {
             "colorbar": {
              "outlinewidth": 0,
              "ticks": ""
             }
            },
            "type": "scattergeo"
           }
          ],
          "scattergl": [
           {
            "marker": {
             "colorbar": {
              "outlinewidth": 0,
              "ticks": ""
             }
            },
            "type": "scattergl"
           }
          ],
          "scattermapbox": [
           {
            "marker": {
             "colorbar": {
              "outlinewidth": 0,
              "ticks": ""
             }
            },
            "type": "scattermapbox"
           }
          ],
          "scatterpolar": [
           {
            "marker": {
             "colorbar": {
              "outlinewidth": 0,
              "ticks": ""
             }
            },
            "type": "scatterpolar"
           }
          ],
          "scatterpolargl": [
           {
            "marker": {
             "colorbar": {
              "outlinewidth": 0,
              "ticks": ""
             }
            },
            "type": "scatterpolargl"
           }
          ],
          "scatterternary": [
           {
            "marker": {
             "colorbar": {
              "outlinewidth": 0,
              "ticks": ""
             }
            },
            "type": "scatterternary"
           }
          ],
          "surface": [
           {
            "colorbar": {
             "outlinewidth": 0,
             "ticks": ""
            },
            "colorscale": [
             [
              0,
              "#0d0887"
             ],
             [
              0.1111111111111111,
              "#46039f"
             ],
             [
              0.2222222222222222,
              "#7201a8"
             ],
             [
              0.3333333333333333,
              "#9c179e"
             ],
             [
              0.4444444444444444,
              "#bd3786"
             ],
             [
              0.5555555555555556,
              "#d8576b"
             ],
             [
              0.6666666666666666,
              "#ed7953"
             ],
             [
              0.7777777777777778,
              "#fb9f3a"
             ],
             [
              0.8888888888888888,
              "#fdca26"
             ],
             [
              1,
              "#f0f921"
             ]
            ],
            "type": "surface"
           }
          ],
          "table": [
           {
            "cells": {
             "fill": {
              "color": "#EBF0F8"
             },
             "line": {
              "color": "white"
             }
            },
            "header": {
             "fill": {
              "color": "#C8D4E3"
             },
             "line": {
              "color": "white"
             }
            },
            "type": "table"
           }
          ]
         },
         "layout": {
          "annotationdefaults": {
           "arrowcolor": "#2a3f5f",
           "arrowhead": 0,
           "arrowwidth": 1
          },
          "autotypenumbers": "strict",
          "coloraxis": {
           "colorbar": {
            "outlinewidth": 0,
            "ticks": ""
           }
          },
          "colorscale": {
           "diverging": [
            [
             0,
             "#8e0152"
            ],
            [
             0.1,
             "#c51b7d"
            ],
            [
             0.2,
             "#de77ae"
            ],
            [
             0.3,
             "#f1b6da"
            ],
            [
             0.4,
             "#fde0ef"
            ],
            [
             0.5,
             "#f7f7f7"
            ],
            [
             0.6,
             "#e6f5d0"
            ],
            [
             0.7,
             "#b8e186"
            ],
            [
             0.8,
             "#7fbc41"
            ],
            [
             0.9,
             "#4d9221"
            ],
            [
             1,
             "#276419"
            ]
           ],
           "sequential": [
            [
             0,
             "#0d0887"
            ],
            [
             0.1111111111111111,
             "#46039f"
            ],
            [
             0.2222222222222222,
             "#7201a8"
            ],
            [
             0.3333333333333333,
             "#9c179e"
            ],
            [
             0.4444444444444444,
             "#bd3786"
            ],
            [
             0.5555555555555556,
             "#d8576b"
            ],
            [
             0.6666666666666666,
             "#ed7953"
            ],
            [
             0.7777777777777778,
             "#fb9f3a"
            ],
            [
             0.8888888888888888,
             "#fdca26"
            ],
            [
             1,
             "#f0f921"
            ]
           ],
           "sequentialminus": [
            [
             0,
             "#0d0887"
            ],
            [
             0.1111111111111111,
             "#46039f"
            ],
            [
             0.2222222222222222,
             "#7201a8"
            ],
            [
             0.3333333333333333,
             "#9c179e"
            ],
            [
             0.4444444444444444,
             "#bd3786"
            ],
            [
             0.5555555555555556,
             "#d8576b"
            ],
            [
             0.6666666666666666,
             "#ed7953"
            ],
            [
             0.7777777777777778,
             "#fb9f3a"
            ],
            [
             0.8888888888888888,
             "#fdca26"
            ],
            [
             1,
             "#f0f921"
            ]
           ]
          },
          "colorway": [
           "#636efa",
           "#EF553B",
           "#00cc96",
           "#ab63fa",
           "#FFA15A",
           "#19d3f3",
           "#FF6692",
           "#B6E880",
           "#FF97FF",
           "#FECB52"
          ],
          "font": {
           "color": "#2a3f5f"
          },
          "geo": {
           "bgcolor": "white",
           "lakecolor": "white",
           "landcolor": "#E5ECF6",
           "showlakes": true,
           "showland": true,
           "subunitcolor": "white"
          },
          "hoverlabel": {
           "align": "left"
          },
          "hovermode": "closest",
          "mapbox": {
           "style": "light"
          },
          "paper_bgcolor": "white",
          "plot_bgcolor": "#E5ECF6",
          "polar": {
           "angularaxis": {
            "gridcolor": "white",
            "linecolor": "white",
            "ticks": ""
           },
           "bgcolor": "#E5ECF6",
           "radialaxis": {
            "gridcolor": "white",
            "linecolor": "white",
            "ticks": ""
           }
          },
          "scene": {
           "xaxis": {
            "backgroundcolor": "#E5ECF6",
            "gridcolor": "white",
            "gridwidth": 2,
            "linecolor": "white",
            "showbackground": true,
            "ticks": "",
            "zerolinecolor": "white"
           },
           "yaxis": {
            "backgroundcolor": "#E5ECF6",
            "gridcolor": "white",
            "gridwidth": 2,
            "linecolor": "white",
            "showbackground": true,
            "ticks": "",
            "zerolinecolor": "white"
           },
           "zaxis": {
            "backgroundcolor": "#E5ECF6",
            "gridcolor": "white",
            "gridwidth": 2,
            "linecolor": "white",
            "showbackground": true,
            "ticks": "",
            "zerolinecolor": "white"
           }
          },
          "shapedefaults": {
           "line": {
            "color": "#2a3f5f"
           }
          },
          "ternary": {
           "aaxis": {
            "gridcolor": "white",
            "linecolor": "white",
            "ticks": ""
           },
           "baxis": {
            "gridcolor": "white",
            "linecolor": "white",
            "ticks": ""
           },
           "bgcolor": "#E5ECF6",
           "caxis": {
            "gridcolor": "white",
            "linecolor": "white",
            "ticks": ""
           }
          },
          "title": {
           "x": 0.05
          },
          "xaxis": {
           "automargin": true,
           "gridcolor": "white",
           "linecolor": "white",
           "ticks": "",
           "title": {
            "standoff": 15
           },
           "zerolinecolor": "white",
           "zerolinewidth": 2
          },
          "yaxis": {
           "automargin": true,
           "gridcolor": "white",
           "linecolor": "white",
           "ticks": "",
           "title": {
            "standoff": 15
           },
           "zerolinecolor": "white",
           "zerolinewidth": 2
          }
         }
        }
       }
      }
     },
     "metadata": {},
     "output_type": "display_data"
    }
   ],
   "source": [
    "BarPlotGenerator(summary_results, \"validity\").plot_bar()"
   ]
  }
 ],
 "metadata": {
  "kernelspec": {
   "display_name": "Python 3 (ipykernel)",
   "language": "python",
   "name": "python3"
  },
  "language_info": {
   "codemirror_mode": {
    "name": "ipython",
    "version": 3
   },
   "file_extension": ".py",
   "mimetype": "text/x-python",
   "name": "python",
   "nbconvert_exporter": "python",
   "pygments_lexer": "ipython3",
   "version": "3.9.0"
  },
  "widgets": {
   "application/vnd.jupyter.widget-state+json": {
    "state": {
     "003885be53444716895abe2be534ae78": {
      "model_module": "@jupyter-widgets/base",
      "model_module_version": "2.0.0",
      "model_name": "LayoutModel",
      "state": {
       "_model_module": "@jupyter-widgets/base",
       "_model_module_version": "2.0.0",
       "_model_name": "LayoutModel",
       "_view_count": null,
       "_view_module": "@jupyter-widgets/base",
       "_view_module_version": "2.0.0",
       "_view_name": "LayoutView",
       "align_content": null,
       "align_items": null,
       "align_self": null,
       "border_bottom": null,
       "border_left": null,
       "border_right": null,
       "border_top": null,
       "bottom": null,
       "display": null,
       "flex": null,
       "flex_flow": null,
       "grid_area": null,
       "grid_auto_columns": null,
       "grid_auto_flow": null,
       "grid_auto_rows": null,
       "grid_column": null,
       "grid_gap": null,
       "grid_row": null,
       "grid_template_areas": null,
       "grid_template_columns": null,
       "grid_template_rows": null,
       "height": null,
       "justify_content": null,
       "justify_items": null,
       "left": null,
       "margin": null,
       "max_height": null,
       "max_width": null,
       "min_height": null,
       "min_width": null,
       "object_fit": null,
       "object_position": null,
       "order": null,
       "overflow": null,
       "padding": null,
       "right": null,
       "top": null,
       "visibility": null,
       "width": null
      }
     },
     "02241f86155f472ab45764572dfa6390": {
      "model_module": "ipydatagrid",
      "model_module_version": "^1.3.1",
      "model_name": "VegaExprModel",
      "state": {
       "_model_module": "ipydatagrid",
       "_model_module_version": "^1.3.1",
       "_model_name": "VegaExprModel",
       "_view_count": null,
       "_view_module": "ipydatagrid",
       "_view_module_version": "^1.3.1",
       "_view_name": "VegaExprView",
       "value": "default_value"
      }
     },
     "03b2c07ed77a454fba1cb77dcbad711f": {
      "model_module": "ipydatagrid",
      "model_module_version": "^1.3.1",
      "model_name": "VegaExprModel",
      "state": {
       "_model_module": "ipydatagrid",
       "_model_module_version": "^1.3.1",
       "_model_name": "VegaExprModel",
       "_view_count": null,
       "_view_module": "ipydatagrid",
       "_view_module_version": "^1.3.1",
       "_view_name": "VegaExprView",
       "value": "default_value"
      }
     },
     "05c7d0b4b3974b4ebee791b7d1284730": {
      "model_module": "ipydatagrid",
      "model_module_version": "^1.3.1",
      "model_name": "VegaExprModel",
      "state": {
       "_model_module": "ipydatagrid",
       "_model_module_version": "^1.3.1",
       "_model_name": "VegaExprModel",
       "_view_count": null,
       "_view_module": "ipydatagrid",
       "_view_module_version": "^1.3.1",
       "_view_name": "VegaExprView",
       "value": "default_value"
      }
     },
     "0cd40d83b8834a05b6ef1d2a3322ea62": {
      "model_module": "ipydatagrid",
      "model_module_version": "^1.3.1",
      "model_name": "TextRendererModel",
      "state": {
       "_model_module": "ipydatagrid",
       "_model_module_version": "^1.3.1",
       "_model_name": "TextRendererModel",
       "_view_count": null,
       "_view_module": "ipydatagrid",
       "_view_module_version": "^1.3.1",
       "_view_name": "TextRendererView",
       "background_color": "IPY_MODEL_b4d378356572485ab8b77eed7a2ec728",
       "font": "12px sans-serif",
       "format": null,
       "format_type": "number",
       "horizontal_alignment": "left",
       "missing": "",
       "text_color": "IPY_MODEL_c17f152c59df478d97dc0be9b38a123a",
       "text_elide_direction": "right",
       "text_value": null,
       "text_wrap": false,
       "vertical_alignment": "center"
      }
     },
     "0e655e261ffd4693bac7c1de81c28974": {
      "model_module": "@jupyter-widgets/base",
      "model_module_version": "2.0.0",
      "model_name": "LayoutModel",
      "state": {
       "_model_module": "@jupyter-widgets/base",
       "_model_module_version": "2.0.0",
       "_model_name": "LayoutModel",
       "_view_count": null,
       "_view_module": "@jupyter-widgets/base",
       "_view_module_version": "2.0.0",
       "_view_name": "LayoutView",
       "align_content": null,
       "align_items": null,
       "align_self": null,
       "border_bottom": null,
       "border_left": null,
       "border_right": null,
       "border_top": null,
       "bottom": null,
       "display": null,
       "flex": null,
       "flex_flow": null,
       "grid_area": null,
       "grid_auto_columns": null,
       "grid_auto_flow": null,
       "grid_auto_rows": null,
       "grid_column": null,
       "grid_gap": null,
       "grid_row": null,
       "grid_template_areas": null,
       "grid_template_columns": null,
       "grid_template_rows": null,
       "height": null,
       "justify_content": null,
       "justify_items": null,
       "left": null,
       "margin": null,
       "max_height": null,
       "max_width": null,
       "min_height": null,
       "min_width": null,
       "object_fit": null,
       "object_position": null,
       "order": null,
       "overflow": null,
       "padding": null,
       "right": null,
       "top": null,
       "visibility": null,
       "width": null
      }
     },
     "111cd328920e4ad086fe9f2887fc1da4": {
      "model_module": "ipydatagrid",
      "model_module_version": "^1.3.1",
      "model_name": "TextRendererModel",
      "state": {
       "_model_module": "ipydatagrid",
       "_model_module_version": "^1.3.1",
       "_model_name": "TextRendererModel",
       "_view_count": null,
       "_view_module": "ipydatagrid",
       "_view_module_version": "^1.3.1",
       "_view_name": "TextRendererView",
       "background_color": "orange",
       "font": "12px sans-serif",
       "format": null,
       "format_type": "number",
       "horizontal_alignment": "left",
       "missing": "",
       "text_color": "IPY_MODEL_eacadad5f0dc49e2b189b0b3afa7fd4d",
       "text_elide_direction": "right",
       "text_value": null,
       "text_wrap": false,
       "vertical_alignment": "center"
      }
     },
     "1fec81bc1fef4eb29909ae4e63ad84b8": {
      "buffers": [
       {
        "data": "AAAAAAEAAAACAAAAAwAAAAQAAAAFAAAABgAAAAcAAAAIAAAACQAAAAoAAAALAAAADAAAAA0AAAAOAAAADwAAABAAAAARAAAAEgAAAA==",
        "encoding": "base64",
        "path": [
         "_data",
         "data",
         "key",
         "value"
        ]
       },
       {
        "data": "AAAAAAAA+H8AAAAAAAD4fwAAAAAAAPh/AAAAAAAA+H8AAAAAAAD4fwAAAAAAAPh/AAAAAAAA+H8AAAAAAAD4fwAAAAAAAPh/AAAAAAAA+H8AAAAAAAD4fwAAAAAAAPh/AAAAAAAA+H8AAAAAAAD4fwAAAAAAAPh/AAAAAAAAJEAAAAAAAAD4fwAAAAAAACRAAAAAAAAA+H8=",
        "encoding": "base64",
        "path": [
         "_data",
         "data",
         "Timeliness_Date_Diff_Threshold",
         "value"
        ]
       },
       {
        "data": "AAAAAAAA+H8AAAAAAAD4fwAAAAAAAPh/AAAAAAAA+H8AAAAAAAD4fwAAAAAAAPh/AAAAAAAA+H8AAAAAAAD4fwAAAAAAAPh/AAAAAAAA+H8AAAAAAAD4fwAAAAAAAPh/AAAAAAAA+H8AAAAAAAD4fwAAAAAAAPh/AAAAAAAA+H8AAAAAAAD4fwAAAAAAAPh/AAAAAAAA+H8=",
        "encoding": "base64",
        "path": [
         "_data",
         "data",
         "Validity_Date_Range_Min",
         "value"
        ]
       },
       {
        "data": "AAAAAAAA+H8AAAAAAAD4fwAAAAAAAPh/AAAAAAAA+H8AAAAAAAD4fwAAAAAAAPh/AAAAAAAA+H8AAAAAAAD4fwAAAAAAAPh/AAAAAAAA+H8AAAAAAAD4fwAAAAAAAPh/AAAAAAAA+H8AAAAAAAD4fwAAAAAAAPh/AAAAAAAA+H8AAAAAAAD4fwAAAAAAAPh/AAAAAAAA+H8=",
        "encoding": "base64",
        "path": [
         "_data",
         "data",
         "Validity_Date_Range_Max",
         "value"
        ]
       },
       {
        "data": "AAAAAAEAAAACAAAAAwAAAAQAAAAFAAAABgAAAAcAAAAIAAAACQAAAAoAAAALAAAADAAAAA0AAAAOAAAADwAAABAAAAARAAAAEgAAAA==",
        "encoding": "base64",
        "path": [
         "_data",
         "data",
         "ipydguuid",
         "value"
        ]
       }
      ],
      "model_module": "ipydatagrid",
      "model_module_version": "^1.3.1",
      "model_name": "DataGridModel",
      "state": {
       "_data": {
        "data": {
         "Accuracy_Gold_Standard": {
          "type": "raw",
          "value": [
           false,
           false,
           false,
           false,
           false,
           false,
           false,
           false,
           false,
           false,
           false,
           false,
           false,
           false,
           false,
           false,
           false,
           false,
           false
          ]
         },
         "Completeness_Empty": {
          "type": "raw",
          "value": [
           true,
           true,
           true,
           true,
           true,
           true,
           true,
           true,
           true,
           true,
           true,
           true,
           true,
           true,
           true,
           true,
           true,
           true,
           true
          ]
         },
         "Completeness_Encoded": {
          "type": "raw",
          "value": [
           false,
           true,
           true,
           false,
           false,
           false,
           false,
           false,
           false,
           true,
           true,
           true,
           false,
           false,
           false,
           false,
           false,
           false,
           false
          ]
         },
         "Completeness_Encoded_Mapping": {
          "type": "raw",
          "value": [
           "$NaN$",
           ".|unknown|null|not known|na|n/a|none",
           ".|unknown|null|not known|na|n/a|none",
           "$NaN$",
           "$NaN$",
           "$NaN$",
           "$NaN$",
           "$NaN$",
           "$NaN$",
           ".|unknown|null|not known|na|n/a|none",
           ".|unknown|Unknown|null|not known|na|n/a|N/A|none",
           "None|N/A|Incomplete Stage|Incomplete Stage2",
           "$NaN$",
           "$NaN$",
           "$NaN$",
           "$NaN$",
           "$NaN$",
           "$NaN$",
           "$NaN$"
          ]
         },
         "Completeness_NULL": {
          "type": "raw",
          "value": [
           true,
           true,
           true,
           true,
           true,
           true,
           true,
           true,
           true,
           true,
           true,
           true,
           true,
           true,
           true,
           true,
           true,
           true,
           true
          ]
         },
         "Consistency_Compare": {
          "type": "raw",
          "value": [
           false,
           false,
           false,
           false,
           false,
           false,
           false,
           false,
           false,
           false,
           false,
           false,
           true,
           false,
           false,
           false,
           false,
           false,
           false
          ]
         },
         "Consistency_Compare_Field": {
          "type": "raw",
          "value": [
           "$NaN$",
           "$NaN$",
           "$NaN$",
           "$NaN$",
           "$NaN$",
           "$NaN$",
           "$NaN$",
           "$NaN$",
           "$NaN$",
           "$NaN$",
           "$NaN$",
           "$NaN$",
           "Tumour_M_Stage",
           "$NaN$",
           "$NaN$",
           "$NaN$",
           "$NaN$",
           "$NaN$",
           "$NaN$"
          ]
         },
         "Consistency_Compare_Mapping": {
          "type": "raw",
          "value": [
           "$NaN$",
           "$NaN$",
           "$NaN$",
           "$NaN$",
           "$NaN$",
           "$NaN$",
           "$NaN$",
           "$NaN$",
           "$NaN$",
           "$NaN$",
           "$NaN$",
           "$NaN$",
           "{\"Absent\": [\"M0\"], \"Present\": [\"M1\", \"M1a\", \"M1b\", \"M1c\", \"M1d\", \"pM1\", \"pM1a\", \"pM1b\", \"pM1c\", \"pM1d\"]}",
           "$NaN$",
           "$NaN$",
           "$NaN$",
           "$NaN$",
           "$NaN$",
           "$NaN$"
          ]
         },
         "Consistency_Date_Relations": {
          "type": "raw",
          "value": [
           false,
           false,
           false,
           true,
           true,
           false,
           false,
           false,
           false,
           false,
           false,
           false,
           false,
           false,
           false,
           true,
           true,
           true,
           false
          ]
         },
         "Consistency_Date_Relations_Field": {
          "type": "raw",
          "value": [
           "$NaN$",
           "$NaN$",
           "$NaN$",
           "Date_of_Birth",
           "Date_of_Diagnosis",
           "$NaN$",
           "$NaN$",
           "$NaN$",
           "$NaN$",
           "$NaN$",
           "$NaN$",
           "$NaN$",
           "$NaN$",
           "$NaN$",
           "$NaN$",
           "Datetime_Logging1",
           "Datetime_Event1",
           "Datetime_Logging2",
           "$NaN$"
          ]
         },
         "Consistency_Date_Relationship": {
          "type": "raw",
          "value": [
           "$NaN$",
           "$NaN$",
           "$NaN$",
           ">",
           "<",
           "$NaN$",
           "$NaN$",
           "$NaN$",
           "$NaN$",
           "$NaN$",
           "$NaN$",
           "$NaN$",
           "$NaN$",
           "$NaN$",
           "$NaN$",
           "<",
           ">",
           "<",
           "$NaN$"
          ]
         },
         "Date_Format": {
          "type": "raw",
          "value": [
           "$NaN$",
           "$NaN$",
           "$NaN$",
           "%d/%m/%Y",
           "%d/%m/%Y",
           "$NaN$",
           "$NaN$",
           "$NaN$",
           "$NaN$",
           "$NaN$",
           "$NaN$",
           "$NaN$",
           "$NaN$",
           "$NaN$",
           "%d/%m/%Y",
           "%d/%m/%Y %H:%M",
           "%d/%m/%Y %H:%M",
           "%d/%m/%Y %H:%M",
           "%d/%m/%Y %H:%M"
          ]
         },
         "Field": [
          "Patient_ID",
          "NHS_number",
          "Gender",
          "Date_of_Diagnosis",
          "Date_of_Birth",
          "Age",
          "Weight_kg",
          "Height_cm",
          "BMI",
          "Postcode",
          "ICD_10_Code",
          "Tumour_Stage",
          "Metastatic_Indicator",
          "Tumour_M_Stage",
          "Regimen_Start_Date",
          "Datetime_Event1",
          "Datetime_Logging1",
          "Datetime_Event2",
          "Datetime_Logging2"
         ],
         "Timeliness_Date_Diff": {
          "type": "raw",
          "value": [
           false,
           false,
           false,
           false,
           false,
           false,
           false,
           false,
           false,
           false,
           false,
           false,
           false,
           false,
           false,
           true,
           false,
           true,
           false
          ]
         },
         "Timeliness_Date_Diff_Field": {
          "type": "raw",
          "value": [
           "$NaN$",
           "$NaN$",
           "$NaN$",
           "$NaN$",
           "$NaN$",
           "$NaN$",
           "$NaN$",
           "$NaN$",
           "$NaN$",
           "$NaN$",
           "$NaN$",
           "$NaN$",
           "$NaN$",
           "$NaN$",
           "$NaN$",
           "Datetime_Logging1",
           "$NaN$",
           "Datetime_Logging2",
           "$NaN$"
          ]
         },
         "Timeliness_Date_Diff_Threshold": {
          "dtype": "float64",
          "shape": [
           19
          ],
          "type": null
         },
         "Uniqueness_Rows": {
          "type": "raw",
          "value": [
           true,
           true,
           false,
           false,
           false,
           false,
           false,
           false,
           false,
           false,
           false,
           false,
           false,
           false,
           false,
           false,
           false,
           false,
           false
          ]
         },
         "Validity_Date_Range": {
          "type": "raw",
          "value": [
           false,
           false,
           false,
           false,
           false,
           false,
           false,
           false,
           false,
           false,
           false,
           false,
           false,
           false,
           false,
           false,
           false,
           false,
           false
          ]
         },
         "Validity_Date_Range_Max": {
          "dtype": "float64",
          "shape": [
           19
          ],
          "type": null
         },
         "Validity_Date_Range_Min": {
          "dtype": "float64",
          "shape": [
           19
          ],
          "type": null
         },
         "Validity_Dates_Future": {
          "type": "raw",
          "value": [
           false,
           false,
           false,
           true,
           true,
           false,
           false,
           false,
           false,
           false,
           false,
           false,
           false,
           false,
           true,
           true,
           true,
           true,
           true
          ]
         },
         "Validity_Lookup_Table": {
          "type": "raw",
          "value": [
           false,
           false,
           true,
           false,
           false,
           "$NaN$",
           "$NaN$",
           "$NaN$",
           "$NaN$",
           false,
           true,
           true,
           false,
           true,
           false,
           false,
           false,
           false,
           false
          ]
         },
         "Validity_Lookup_Table_Filename": {
          "type": "raw",
          "value": [
           "$NaN$",
           "$NaN$",
           "LU_toydf_gender.csv",
           "$NaN$",
           "$NaN$",
           "$NaN$",
           "$NaN$",
           "$NaN$",
           "$NaN$",
           "$NaN$",
           "LU_toydf_ICD10_v5.csv",
           "LU_toydf_tumour_stage.csv",
           "$NaN$",
           "LU_toydf_M_stage.csv",
           "$NaN$",
           "$NaN$",
           "$NaN$",
           "$NaN$",
           "$NaN$"
          ]
         },
         "Validity_NHS_Number": {
          "type": "raw",
          "value": [
           false,
           true,
           false,
           false,
           false,
           "$NaN$",
           "$NaN$",
           "$NaN$",
           "$NaN$",
           false,
           false,
           false,
           false,
           false,
           false,
           false,
           false,
           false,
           false
          ]
         },
         "Validity_Pattern": {
          "type": "raw",
          "value": [
           false,
           false,
           false,
           true,
           true,
           false,
           false,
           false,
           false,
           false,
           false,
           false,
           false,
           false,
           true,
           true,
           true,
           true,
           true
          ]
         },
         "Validity_Pattern_Regex": {
          "type": "raw",
          "value": [
           "$NaN$",
           "$NaN$",
           "$NaN$",
           "(\\d{2})/(\\d{2})/(\\d{4})",
           "(\\d{2})/(\\d{2})/(\\d{4})",
           "$NaN$",
           "$NaN$",
           "$NaN$",
           "$NaN$",
           "$NaN$",
           "$NaN$",
           "$NaN$",
           "$NaN$",
           "$NaN$",
           "[0-9]{2}/[0-9]{2}/[0-9]{2}",
           "(\\d{2})/(\\d{2})/(\\d{4}) (\\d{2}):(\\d{2})",
           "(\\d{2})/(\\d{2})/(\\d{4}) (\\d{2}):(\\d{2})",
           "[0-9]{2}/[0-9]{2}/[0-9]{4} [0-9]{2}:[0-9]{2}",
           "(\\d{2})/(\\d{2})/(\\d{4}) (\\d{2}):(\\d{2})"
          ]
         },
         "Validity_Postcode_UK": {
          "type": "raw",
          "value": [
           false,
           false,
           false,
           false,
           false,
           "$NaN$",
           "$NaN$",
           "$NaN$",
           "$NaN$",
           true,
           false,
           false,
           false,
           false,
           false,
           false,
           false,
           false,
           false
          ]
         },
         "Validity_Range": {
          "type": "raw",
          "value": [
           false,
           false,
           false,
           false,
           false,
           true,
           true,
           true,
           true,
           false,
           false,
           false,
           false,
           false,
           false,
           false,
           false,
           false,
           false
          ]
         },
         "Validity_Range_Numeric": {
          "type": "raw",
          "value": [
           "$NaN$",
           "$NaN$",
           "$NaN$",
           "$NaN$",
           "$NaN$",
           "0|110",
           "5|150",
           "10|200",
           "5|60",
           "$NaN$",
           "$NaN$",
           "$NaN$",
           "$NaN$",
           "$NaN$",
           "$NaN$",
           "$NaN$",
           "$NaN$",
           "$NaN$",
           "$NaN$"
          ]
         },
         "ipydguuid": {
          "dtype": "int32",
          "shape": [
           19
          ],
          "type": null
         },
         "key": {
          "dtype": "int32",
          "shape": [
           19
          ],
          "type": null
         }
        },
        "fields": [
         {
          "key": "$NaN$"
         },
         {
          "Field": "$NaN$"
         },
         {
          "Date_Format": "$NaN$"
         },
         {
          "Completeness_NULL": "$NaN$"
         },
         {
          "Completeness_Empty": "$NaN$"
         },
         {
          "Completeness_Encoded": "$NaN$"
         },
         {
          "Completeness_Encoded_Mapping": "$NaN$"
         },
         {
          "Uniqueness_Rows": "$NaN$"
         },
         {
          "Consistency_Compare": "$NaN$"
         },
         {
          "Consistency_Compare_Field": "$NaN$"
         },
         {
          "Consistency_Compare_Mapping": "$NaN$"
         },
         {
          "Consistency_Date_Relations": "$NaN$"
         },
         {
          "Consistency_Date_Relationship": "$NaN$"
         },
         {
          "Consistency_Date_Relations_Field": "$NaN$"
         },
         {
          "Timeliness_Date_Diff": "$NaN$"
         },
         {
          "Timeliness_Date_Diff_Field": "$NaN$"
         },
         {
          "Timeliness_Date_Diff_Threshold": "$NaN$"
         },
         {
          "Validity_Dates_Future": "$NaN$"
         },
         {
          "Validity_Date_Range": "$NaN$"
         },
         {
          "Validity_Date_Range_Min": "$NaN$"
         },
         {
          "Validity_Date_Range_Max": "$NaN$"
         },
         {
          "Validity_NHS_Number": "$NaN$"
         },
         {
          "Validity_Postcode_UK": "$NaN$"
         },
         {
          "Validity_Lookup_Table": "$NaN$"
         },
         {
          "Validity_Lookup_Table_Filename": "$NaN$"
         },
         {
          "Validity_Range": "$NaN$"
         },
         {
          "Validity_Range_Numeric": "$NaN$"
         },
         {
          "Validity_Pattern": "$NaN$"
         },
         {
          "Validity_Pattern_Regex": "$NaN$"
         },
         {
          "Accuracy_Gold_Standard": "$NaN$"
         },
         {
          "ipydguuid": "$NaN$"
         }
        ],
        "schema": {
         "fields": [
          {
           "name": "key",
           "type": "integer"
          },
          {
           "name": "Field",
           "type": "string"
          },
          {
           "name": "Date_Format",
           "type": "string"
          },
          {
           "name": "Completeness_NULL",
           "type": "boolean"
          },
          {
           "name": "Completeness_Empty",
           "type": "boolean"
          },
          {
           "name": "Completeness_Encoded",
           "type": "boolean"
          },
          {
           "name": "Completeness_Encoded_Mapping",
           "type": "string"
          },
          {
           "name": "Uniqueness_Rows",
           "type": "boolean"
          },
          {
           "name": "Consistency_Compare",
           "type": "boolean"
          },
          {
           "name": "Consistency_Compare_Field",
           "type": "string"
          },
          {
           "name": "Consistency_Compare_Mapping",
           "type": "string"
          },
          {
           "name": "Consistency_Date_Relations",
           "type": "boolean"
          },
          {
           "name": "Consistency_Date_Relationship",
           "type": "string"
          },
          {
           "name": "Consistency_Date_Relations_Field",
           "type": "string"
          },
          {
           "name": "Timeliness_Date_Diff",
           "type": "boolean"
          },
          {
           "name": "Timeliness_Date_Diff_Field",
           "type": "string"
          },
          {
           "name": "Timeliness_Date_Diff_Threshold",
           "type": "number"
          },
          {
           "name": "Validity_Dates_Future",
           "type": "boolean"
          },
          {
           "name": "Validity_Date_Range",
           "type": "boolean"
          },
          {
           "name": "Validity_Date_Range_Min",
           "type": "number"
          },
          {
           "name": "Validity_Date_Range_Max",
           "type": "number"
          },
          {
           "name": "Validity_NHS_Number",
           "type": "string"
          },
          {
           "name": "Validity_Postcode_UK",
           "type": "string"
          },
          {
           "name": "Validity_Lookup_Table",
           "type": "string"
          },
          {
           "name": "Validity_Lookup_Table_Filename",
           "type": "string"
          },
          {
           "name": "Validity_Range",
           "type": "boolean"
          },
          {
           "name": "Validity_Range_Numeric",
           "type": "string"
          },
          {
           "name": "Validity_Pattern",
           "type": "boolean"
          },
          {
           "name": "Validity_Pattern_Regex",
           "type": "string"
          },
          {
           "name": "Accuracy_Gold_Standard",
           "type": "boolean"
          },
          {
           "name": "ipydguuid",
           "type": "integer"
          }
         ],
         "pandas_version": "1.4.0",
         "primaryKey": [
          "key",
          "ipydguuid"
         ],
         "primaryKeyUuid": "ipydguuid"
        }
       },
       "_dom_classes": [],
       "_model_module": "ipydatagrid",
       "_model_module_version": "^1.3.1",
       "_model_name": "DataGridModel",
       "_transforms": [],
       "_view_count": null,
       "_view_module": "ipydatagrid",
       "_view_module_version": "^1.3.1",
       "_view_name": "DataGridView",
       "_visible_rows": [],
       "auto_fit_columns": false,
       "auto_fit_params": {
        "area": "all",
        "numCols": null,
        "padding": 30
       },
       "base_column_header_size": 30,
       "base_column_size": 180,
       "base_row_header_size": 64,
       "base_row_size": 20,
       "column_widths": {},
       "corner_renderer": null,
       "default_renderer": "IPY_MODEL_73c0a37a6d9841e6a8c9c1d5fa750080",
       "editable": false,
       "grid_style": {
        "header_background_color": "orange"
       },
       "header_renderer": "IPY_MODEL_111cd328920e4ad086fe9f2887fc1da4",
       "header_visibility": "column",
       "horizontal_stripes": false,
       "layout": "IPY_MODEL_003885be53444716895abe2be534ae78",
       "renderers": {},
       "selection_mode": "none",
       "selections": [],
       "tabbable": null,
       "tooltip": null,
       "vertical_stripes": false
      }
     },
     "23e208104f7a4a39a5e0e48069771f24": {
      "model_module": "ipydatagrid",
      "model_module_version": "^1.3.1",
      "model_name": "VegaExprModel",
      "state": {
       "_model_module": "ipydatagrid",
       "_model_module_version": "^1.3.1",
       "_model_name": "VegaExprModel",
       "_view_count": null,
       "_view_module": "ipydatagrid",
       "_view_module_version": "^1.3.1",
       "_view_name": "VegaExprView",
       "value": "default_value"
      }
     },
     "312aaff60bb44d4cb29d14d6a8e292aa": {
      "model_module": "ipydatagrid",
      "model_module_version": "^1.3.1",
      "model_name": "VegaExprModel",
      "state": {
       "_model_module": "ipydatagrid",
       "_model_module_version": "^1.3.1",
       "_model_name": "VegaExprModel",
       "_view_count": null,
       "_view_module": "ipydatagrid",
       "_view_module_version": "^1.3.1",
       "_view_name": "VegaExprView",
       "value": "default_value"
      }
     },
     "34a748ee47e44765847ab08b2865c5e8": {
      "model_module": "ipydatagrid",
      "model_module_version": "^1.3.1",
      "model_name": "VegaExprModel",
      "state": {
       "_model_module": "ipydatagrid",
       "_model_module_version": "^1.3.1",
       "_model_name": "VegaExprModel",
       "_view_count": null,
       "_view_module": "ipydatagrid",
       "_view_module_version": "^1.3.1",
       "_view_name": "VegaExprView",
       "value": "default_value"
      }
     },
     "366215c881b24dfeb4cc033624026454": {
      "model_module": "ipydatagrid",
      "model_module_version": "^1.3.1",
      "model_name": "TextRendererModel",
      "state": {
       "_model_module": "ipydatagrid",
       "_model_module_version": "^1.3.1",
       "_model_name": "TextRendererModel",
       "_view_count": null,
       "_view_module": "ipydatagrid",
       "_view_module_version": "^1.3.1",
       "_view_name": "TextRendererView",
       "background_color": "IPY_MODEL_54c4ee518f7b46d08f7dc4bdc4f2a579",
       "font": "12px sans-serif",
       "format": null,
       "format_type": "number",
       "horizontal_alignment": "left",
       "missing": "",
       "text_color": "IPY_MODEL_02241f86155f472ab45764572dfa6390",
       "text_elide_direction": "right",
       "text_value": null,
       "text_wrap": false,
       "vertical_alignment": "center"
      }
     },
     "53af2feec5ec4f10b4ace67b3e3bae6a": {
      "model_module": "ipydatagrid",
      "model_module_version": "^1.3.1",
      "model_name": "VegaExprModel",
      "state": {
       "_model_module": "ipydatagrid",
       "_model_module_version": "^1.3.1",
       "_model_name": "VegaExprModel",
       "_view_count": null,
       "_view_module": "ipydatagrid",
       "_view_module_version": "^1.3.1",
       "_view_name": "VegaExprView",
       "value": "default_value"
      }
     },
     "54345c34355d4c49a692cede87a77ec4": {
      "model_module": "ipydatagrid",
      "model_module_version": "^1.3.1",
      "model_name": "VegaExprModel",
      "state": {
       "_model_module": "ipydatagrid",
       "_model_module_version": "^1.3.1",
       "_model_name": "VegaExprModel",
       "_view_count": null,
       "_view_module": "ipydatagrid",
       "_view_module_version": "^1.3.1",
       "_view_name": "VegaExprView",
       "value": "default_value"
      }
     },
     "54c4ee518f7b46d08f7dc4bdc4f2a579": {
      "model_module": "ipydatagrid",
      "model_module_version": "^1.3.1",
      "model_name": "VegaExprModel",
      "state": {
       "_model_module": "ipydatagrid",
       "_model_module_version": "^1.3.1",
       "_model_name": "VegaExprModel",
       "_view_count": null,
       "_view_module": "ipydatagrid",
       "_view_module_version": "^1.3.1",
       "_view_name": "VegaExprView",
       "value": "default_value"
      }
     },
     "55f048f6d9a84cd69091612d9d5d5dc2": {
      "model_module": "ipydatagrid",
      "model_module_version": "^1.3.1",
      "model_name": "TextRendererModel",
      "state": {
       "_model_module": "ipydatagrid",
       "_model_module_version": "^1.3.1",
       "_model_name": "TextRendererModel",
       "_view_count": null,
       "_view_module": "ipydatagrid",
       "_view_module_version": "^1.3.1",
       "_view_name": "TextRendererView",
       "background_color": "lightblue",
       "font": "12px sans-serif",
       "format": null,
       "format_type": "number",
       "horizontal_alignment": "left",
       "missing": "",
       "text_color": "IPY_MODEL_03b2c07ed77a454fba1cb77dcbad711f",
       "text_elide_direction": "right",
       "text_value": null,
       "text_wrap": false,
       "vertical_alignment": "center"
      }
     },
     "561b40dcbfe341a38d40302cbaa76e69": {
      "buffers": [
       {
        "data": "DQAAAAwAAAAIAAAAAwAAAAIAAAAAAAAAEgAAAAkAAAABAAAADgAAAAoAAAARAAAACwAAABAAAAAPAAAABAAAAAYAAAAFAAAABwAAABMAAAA=",
        "encoding": "base64",
        "path": [
         "_data",
         "data",
         "key",
         "value"
        ]
       },
       {
        "data": "AAAAAAAAAAAAAAAAAAAIQAAAAAAAACZAAAAAAAAAAEAAAAAAAADwPwAAAAAAACZAAAAAAAAAJkAAAAAAAAAkQAAAAAAAACJAAAAAAAAAAAAAAAAAAAAAQAAAAAAAACZAAAAAAAAAAAAAAAAAAAAAAAAAAAAAAPA/AAAAAAAAAAAAAAAAAAAAAAAAAAAAAAAAAAAAAAAAAAAAAAAAAAD4fw==",
        "encoding": "base64",
        "path": [
         "_data",
         "data",
         "Completeness_NULL",
         "value"
        ]
       },
       {
        "data": "AAAAAAAAAAAAAAAAAAAIQAAAAAAAAAAAAAAAAAAAAAAAAAAAAAAAAAAAAAAAAAAAAAAAAAAAAAAAAAAAAAAAAAAAAAAAAAAAAAAAAAAAAAAAAAAAAAAQQAAAAAAAAAAAAAAAAAAAAAAAAAAAAAAAAAAAAAAAAAAAAAAAAAAAAAAAAAAAAAAAAAAAAAAAAAAAAAAAAAAAAAAAAAAAAAD4fw==",
        "encoding": "base64",
        "path": [
         "_data",
         "data",
         "Completeness_Empty",
         "value"
        ]
       },
       {
        "data": "AAAAAAAA+H8AAAAAAADwPwAAAAAAABxAAAAAAAAA+H8AAAAAAAD4fwAAAAAAAPh/AAAAAAAA+H8AAAAAAAD4fwAAAAAAAPh/AAAAAAAAAAAAAAAAAADwPwAAAAAAACRAAAAAAAAA+H8AAAAAAAD4fwAAAAAAAPh/AAAAAAAA+H8AAAAAAAD4fwAAAAAAAPh/AAAAAAAA+H8AAAAAAAD4fw==",
        "encoding": "base64",
        "path": [
         "_data",
         "data",
         "Completeness_Encoded",
         "value"
        ]
       },
       {
        "data": "AAAAAAAAAAAAAAAAAAAcQAAAAAAAADJAAAAAAAAAAEAAAAAAAADwPwAAAAAAACZAAAAAAAAAJkAAAAAAAAAkQAAAAAAAACJAAAAAAAAAAAAAAAAAAAAcQAAAAAAAADVAAAAAAAAAAAAAAAAAAAAAAAAAAAAAAPA/AAAAAAAAAAAAAAAAAAAAAAAAAAAAAAAAAAAAAAAAAAAAAAAAAAD4fw==",
        "encoding": "base64",
        "path": [
         "_data",
         "data",
         "completeness_count",
         "value"
        ]
       },
       {
        "data": "AAAAAAAA+H8AAAAAAAD4fwAAAAAAAPh/AAAAAAAA+H8AAAAAAAD4fwAAAAAAAPh/AAAAAAAA+H8AAAAAAAD4fwAAAAAAAPh/AAAAAAAA+H8AAAAAAAD4fwAAAAAAAPh/AAAAAAAA+H8AAAAAAAD4fwAAAAAAAPh/AAAAAAAA+H8AAAAAAAD4fwAAAAAAAPh/AAAAAAAA+H8AAAAAAAAAQA==",
        "encoding": "base64",
        "path": [
         "_data",
         "data",
         "row_uniqueness",
         "value"
        ]
       },
       {
        "data": "AAAAAAAA+H8AAAAAAAD4fwAAAAAAAPh/AAAAAAAA+H8AAAAAAAD4fwAAAAAAAPh/AAAAAAAA+H8AAAAAAAD4fwAAAAAAAPh/AAAAAAAA+H8AAAAAAAD4fwAAAAAAAPh/AAAAAAAA+H8AAAAAAAD4fwAAAAAAAPh/AAAAAAAA+H8AAAAAAAD4fwAAAAAAAPh/AAAAAAAA+H8AAAAAAAAAQA==",
        "encoding": "base64",
        "path": [
         "_data",
         "data",
         "uniqueness_count",
         "value"
        ]
       },
       {
        "data": "AAAAAAAA+H8AAAAAAAD4fwAAAAAAAPh/AAAAAAAA+H8AAAAAAAD4fwAAAAAAAPh/AAAAAAAA+H8AAAAAAAD4fwAAAAAAAPh/AAAAAAAA+H8AAAAAAAD4fwAAAAAAAPh/AAAAAACASEAAAAAAAAD4fwAAAAAAAPh/AAAAAAAA+H8AAAAAAAD4fwAAAAAAAPh/AAAAAAAA+H8AAAAAAAD4fw==",
        "encoding": "base64",
        "path": [
         "_data",
         "data",
         "Consistency_Compare",
         "value"
        ]
       },
       {
        "data": "AAAAAAAA+H8AAAAAAAD4fwAAAAAAAPh/AAAAAAAAGEAAAAAAAAAYQAAAAAAAAPh/AAAAAAAA+H8AAAAAAAD4fwAAAAAAAPh/AAAAAAAA+H8AAAAAAAD4fwAAAAAAAPh/AAAAAAAA+H8AAAAAAAD4fwAAAAAAAPh/AAAAAAAAIkAAAAAAAAAiQAAAAAAAAABAAAAAAAAA+H8AAAAAAAD4fw==",
        "encoding": "base64",
        "path": [
         "_data",
         "data",
         "Consistency_Date_Relations",
         "value"
        ]
       },
       {
        "data": "AAAAAAAA+H8AAAAAAAD4fwAAAAAAAPh/AAAAAAAAGEAAAAAAAAAYQAAAAAAAAPh/AAAAAAAA+H8AAAAAAAD4fwAAAAAAAPh/AAAAAAAA+H8AAAAAAAD4fwAAAAAAAPh/AAAAAACASEAAAAAAAAD4fwAAAAAAAPh/AAAAAAAAIkAAAAAAAAAiQAAAAAAAAABAAAAAAAAA+H8AAAAAAAD4fw==",
        "encoding": "base64",
        "path": [
         "_data",
         "data",
         "consistency_count",
         "value"
        ]
       },
       {
        "data": "AAAAAAAA+H8AAAAAAAD4fwAAAAAAAPh/AAAAAAAA+H8AAAAAAAD4fwAAAAAAAPh/AAAAAAAA+H8AAAAAAAD4fwAAAAAAAPh/AAAAAAAA+H8AAAAAAAD4fwAAAAAAAPh/AAAAAAAA+H8AAAAAAAD4fwAAAAAAAPh/AAAAAAAAM0AAAAAAAAD4fwAAAAAAwFlAAAAAAAAA+H8AAAAAAAD4fw==",
        "encoding": "base64",
        "path": [
         "_data",
         "data",
         "Timeliness_Date_Diff",
         "value"
        ]
       },
       {
        "data": "AAAAAAAA+H8AAAAAAAD4fwAAAAAAAPh/AAAAAAAA+H8AAAAAAAD4fwAAAAAAAPh/AAAAAAAA+H8AAAAAAAD4fwAAAAAAAPh/AAAAAAAA+H8AAAAAAAD4fwAAAAAAAPh/AAAAAAAA+H8AAAAAAAD4fwAAAAAAAPh/AAAAAAAAM0AAAAAAAAD4fwAAAAAAwFlAAAAAAAAA+H8AAAAAAAD4fw==",
        "encoding": "base64",
        "path": [
         "_data",
         "data",
         "timeliness_count",
         "value"
        ]
       },
       {
        "data": "AAAAAAAA+H8AAAAAAAD4fwAAAAAAAPh/AAAAAAAA8D8AAAAAAADwPwAAAAAAAPh/AAAAAAAA+H8AAAAAAAD4fwAAAAAAAPh/AAAAAAAA+H8AAAAAAAD4fwAAAAAAAPh/AAAAAAAA+H8AAAAAAAD4fwAAAAAAAABAAAAAAAAAN0AAAAAAAAA3QAAAAAAAADxAAAAAAAAAPEAAAAAAAAD4fw==",
        "encoding": "base64",
        "path": [
         "_data",
         "data",
         "Validity_Dates_Future",
         "value"
        ]
       },
       {
        "data": "AAAAAAAA+H8AAAAAAAD4fwAAAAAAAPh/AAAAAAAA+H8AAAAAAAD4fwAAAAAAAPh/AAAAAAAA+H8AAAAAAAD4fwAAAAAAAPh/AAAAAAAAAAAAAAAAAAD4fwAAAAAAAPh/AAAAAAAA+H8AAAAAAAD4fwAAAAAAAPh/AAAAAAAA+H8AAAAAAAD4fwAAAAAAAPh/AAAAAAAA+H8AAAAAAAD4fw==",
        "encoding": "base64",
        "path": [
         "_data",
         "data",
         "Validity_Postcode_UK",
         "value"
        ]
       },
       {
        "data": "AAAAAAAA+H8AAAAAAAD4fwAAAAAAAAAAAAAAAAAA+H8AAAAAAAD4fwAAAAAAAPh/AAAAAAAA+H8AAAAAAAD4fwAAAAAAAPh/AAAAAAAA+H8AAAAAAEBVQAAAAAAAADxAAAAAAAAA+H8AAAAAAAAAAAAAAAAAAPh/AAAAAAAA+H8AAAAAAAD4fwAAAAAAAPh/AAAAAAAA+H8AAAAAAAD4fw==",
        "encoding": "base64",
        "path": [
         "_data",
         "data",
         "Validity_Lookup_Table",
         "value"
        ]
       },
       {
        "data": "AAAAAAAA+H8AAAAAAAD4fwAAAAAAAPh/AAAAAAAAAAAAAAAAAAAAAAAAAAAAAPh/AAAAAAAA+H8AAAAAAAD4fwAAAAAAAPh/AAAAAAAA+H8AAAAAAAD4fwAAAAAAAPh/AAAAAAAA+H8AAAAAAAD4fwAAAAAAAAAAAAAAAAAAIkAAAAAAAAAAAAAAAAAAAAAAAAAAAAAAIkAAAAAAAAD4fw==",
        "encoding": "base64",
        "path": [
         "_data",
         "data",
         "Validity_Pattern",
         "value"
        ]
       },
       {
        "data": "AAAAAAAA+H8AAAAAAAD4fwAAAAAAAAAAAAAAAAAA8D8AAAAAAADwPwAAAAAAAPh/AAAAAAAA+H8AAAAAAAD4fwAAAAAAAPh/AAAAAAAAAAAAAAAAAEBVQAAAAAAAADxAAAAAAAAA+H8AAAAAAAAAAAAAAAAAAABAAAAAAAAAQEAAAAAAAAA3QAAAAAAAADxAAAAAAACAQkAAAAAAAAD4fw==",
        "encoding": "base64",
        "path": [
         "_data",
         "data",
         "validity_count",
         "value"
        ]
       },
       {
        "data": "AAAAAAEAAAACAAAAAwAAAAQAAAAFAAAABgAAAAcAAAAIAAAACQAAAAoAAAALAAAADAAAAA0AAAAOAAAADwAAABAAAAARAAAAEgAAABMAAAA=",
        "encoding": "base64",
        "path": [
         "_data",
         "data",
         "ipydguuid",
         "value"
        ]
       }
      ],
      "model_module": "ipydatagrid",
      "model_module_version": "^1.3.1",
      "model_name": "DataGridModel",
      "state": {
       "_data": {
        "data": {
         "Completeness_Empty": {
          "dtype": "float64",
          "shape": [
           20
          ],
          "type": null
         },
         "Completeness_Encoded": {
          "dtype": "float64",
          "shape": [
           20
          ],
          "type": null
         },
         "Completeness_NULL": {
          "dtype": "float64",
          "shape": [
           20
          ],
          "type": null
         },
         "Consistency_Compare": {
          "dtype": "float64",
          "shape": [
           20
          ],
          "type": null
         },
         "Consistency_Date_Relations": {
          "dtype": "float64",
          "shape": [
           20
          ],
          "type": null
         },
         "Timeliness_Date_Diff": {
          "dtype": "float64",
          "shape": [
           20
          ],
          "type": null
         },
         "Validity_Dates_Future": {
          "dtype": "float64",
          "shape": [
           20
          ],
          "type": null
         },
         "Validity_Lookup_Table": {
          "dtype": "float64",
          "shape": [
           20
          ],
          "type": null
         },
         "Validity_Pattern": {
          "dtype": "float64",
          "shape": [
           20
          ],
          "type": null
         },
         "Validity_Postcode_UK": {
          "dtype": "float64",
          "shape": [
           20
          ],
          "type": null
         },
         "completeness_count": {
          "dtype": "float64",
          "shape": [
           20
          ],
          "type": null
         },
         "consistency_count": {
          "dtype": "float64",
          "shape": [
           20
          ],
          "type": null
         },
         "field": [
          "Patient_ID",
          "NHS_number",
          "Gender",
          "Date_of_Diagnosis",
          "Date_of_Birth",
          "Age",
          "Weight_kg",
          "Height_cm",
          "BMI",
          "Postcode",
          "ICD_10_Code",
          "Tumour_Stage",
          "Metastatic_Indicator",
          "Tumour_M_Stage",
          "Regimen_Start_Date",
          "Datetime_Event1",
          "Datetime_Logging1",
          "Datetime_Event2",
          "Datetime_Logging2",
          "full_row_uniqueness"
         ],
         "ipydguuid": {
          "dtype": "int32",
          "shape": [
           20
          ],
          "type": null
         },
         "key": {
          "dtype": "int32",
          "shape": [
           20
          ],
          "type": null
         },
         "row_uniqueness": {
          "dtype": "float64",
          "shape": [
           20
          ],
          "type": null
         },
         "timeliness_count": {
          "dtype": "float64",
          "shape": [
           20
          ],
          "type": null
         },
         "uniqueness_count": {
          "dtype": "float64",
          "shape": [
           20
          ],
          "type": null
         },
         "validity_count": {
          "dtype": "float64",
          "shape": [
           20
          ],
          "type": null
         }
        },
        "fields": [
         {
          "key": "$NaN$"
         },
         {
          "field": "$NaN$"
         },
         {
          "Completeness_NULL": "$NaN$"
         },
         {
          "Completeness_Empty": "$NaN$"
         },
         {
          "Completeness_Encoded": "$NaN$"
         },
         {
          "completeness_count": "$NaN$"
         },
         {
          "row_uniqueness": "$NaN$"
         },
         {
          "uniqueness_count": "$NaN$"
         },
         {
          "Consistency_Compare": "$NaN$"
         },
         {
          "Consistency_Date_Relations": "$NaN$"
         },
         {
          "consistency_count": "$NaN$"
         },
         {
          "Timeliness_Date_Diff": "$NaN$"
         },
         {
          "timeliness_count": "$NaN$"
         },
         {
          "Validity_Dates_Future": "$NaN$"
         },
         {
          "Validity_Postcode_UK": "$NaN$"
         },
         {
          "Validity_Lookup_Table": "$NaN$"
         },
         {
          "Validity_Pattern": "$NaN$"
         },
         {
          "validity_count": "$NaN$"
         },
         {
          "ipydguuid": "$NaN$"
         }
        ],
        "schema": {
         "fields": [
          {
           "name": "key",
           "type": "integer"
          },
          {
           "name": "field",
           "type": "string"
          },
          {
           "name": "Completeness_NULL",
           "type": "number"
          },
          {
           "name": "Completeness_Empty",
           "type": "number"
          },
          {
           "name": "Completeness_Encoded",
           "type": "number"
          },
          {
           "name": "completeness_count",
           "type": "number"
          },
          {
           "name": "row_uniqueness",
           "type": "number"
          },
          {
           "name": "uniqueness_count",
           "type": "number"
          },
          {
           "name": "Consistency_Compare",
           "type": "number"
          },
          {
           "name": "Consistency_Date_Relations",
           "type": "number"
          },
          {
           "name": "consistency_count",
           "type": "number"
          },
          {
           "name": "Timeliness_Date_Diff",
           "type": "number"
          },
          {
           "name": "timeliness_count",
           "type": "number"
          },
          {
           "name": "Validity_Dates_Future",
           "type": "number"
          },
          {
           "name": "Validity_Postcode_UK",
           "type": "number"
          },
          {
           "name": "Validity_Lookup_Table",
           "type": "number"
          },
          {
           "name": "Validity_Pattern",
           "type": "number"
          },
          {
           "name": "validity_count",
           "type": "number"
          },
          {
           "name": "ipydguuid",
           "type": "integer"
          }
         ],
         "pandas_version": "1.4.0",
         "primaryKey": [
          "key",
          "ipydguuid"
         ],
         "primaryKeyUuid": "ipydguuid"
        }
       },
       "_dom_classes": [],
       "_model_module": "ipydatagrid",
       "_model_module_version": "^1.3.1",
       "_model_name": "DataGridModel",
       "_transforms": [],
       "_view_count": null,
       "_view_module": "ipydatagrid",
       "_view_module_version": "^1.3.1",
       "_view_name": "DataGridView",
       "_visible_rows": [],
       "auto_fit_columns": false,
       "auto_fit_params": {
        "area": "all",
        "numCols": null,
        "padding": 30
       },
       "base_column_header_size": 30,
       "base_column_size": 180,
       "base_row_header_size": 64,
       "base_row_size": 20,
       "column_widths": {},
       "corner_renderer": null,
       "default_renderer": "IPY_MODEL_0cd40d83b8834a05b6ef1d2a3322ea62",
       "editable": false,
       "grid_style": {
        "header_background_color": "#fdbf6f"
       },
       "header_renderer": "IPY_MODEL_ede68b998c474bed916cae4afe53d2d6",
       "header_visibility": "column",
       "horizontal_stripes": false,
       "layout": "IPY_MODEL_6eb83099b43041c9a088b586241464de",
       "renderers": {},
       "selection_mode": "none",
       "selections": [],
       "tabbable": null,
       "tooltip": null,
       "vertical_stripes": false
      }
     },
     "6eb83099b43041c9a088b586241464de": {
      "model_module": "@jupyter-widgets/base",
      "model_module_version": "2.0.0",
      "model_name": "LayoutModel",
      "state": {
       "_model_module": "@jupyter-widgets/base",
       "_model_module_version": "2.0.0",
       "_model_name": "LayoutModel",
       "_view_count": null,
       "_view_module": "@jupyter-widgets/base",
       "_view_module_version": "2.0.0",
       "_view_name": "LayoutView",
       "align_content": null,
       "align_items": null,
       "align_self": null,
       "border_bottom": null,
       "border_left": null,
       "border_right": null,
       "border_top": null,
       "bottom": null,
       "display": null,
       "flex": null,
       "flex_flow": null,
       "grid_area": null,
       "grid_auto_columns": null,
       "grid_auto_flow": null,
       "grid_auto_rows": null,
       "grid_column": null,
       "grid_gap": null,
       "grid_row": null,
       "grid_template_areas": null,
       "grid_template_columns": null,
       "grid_template_rows": null,
       "height": null,
       "justify_content": null,
       "justify_items": null,
       "left": null,
       "margin": null,
       "max_height": null,
       "max_width": null,
       "min_height": null,
       "min_width": null,
       "object_fit": null,
       "object_position": null,
       "order": null,
       "overflow": null,
       "padding": null,
       "right": null,
       "top": null,
       "visibility": null,
       "width": null
      }
     },
     "70fca55724fc4d86bb0a8553241a9c01": {
      "model_module": "@jupyter-widgets/base",
      "model_module_version": "2.0.0",
      "model_name": "LayoutModel",
      "state": {
       "_model_module": "@jupyter-widgets/base",
       "_model_module_version": "2.0.0",
       "_model_name": "LayoutModel",
       "_view_count": null,
       "_view_module": "@jupyter-widgets/base",
       "_view_module_version": "2.0.0",
       "_view_name": "LayoutView",
       "align_content": null,
       "align_items": null,
       "align_self": null,
       "border_bottom": null,
       "border_left": null,
       "border_right": null,
       "border_top": null,
       "bottom": null,
       "display": null,
       "flex": null,
       "flex_flow": null,
       "grid_area": null,
       "grid_auto_columns": null,
       "grid_auto_flow": null,
       "grid_auto_rows": null,
       "grid_column": null,
       "grid_gap": null,
       "grid_row": null,
       "grid_template_areas": null,
       "grid_template_columns": null,
       "grid_template_rows": null,
       "height": null,
       "justify_content": null,
       "justify_items": null,
       "left": null,
       "margin": null,
       "max_height": null,
       "max_width": null,
       "min_height": null,
       "min_width": null,
       "object_fit": null,
       "object_position": null,
       "order": null,
       "overflow": null,
       "padding": null,
       "right": null,
       "top": null,
       "visibility": null,
       "width": null
      }
     },
     "73c0a37a6d9841e6a8c9c1d5fa750080": {
      "model_module": "ipydatagrid",
      "model_module_version": "^1.3.1",
      "model_name": "TextRendererModel",
      "state": {
       "_model_module": "ipydatagrid",
       "_model_module_version": "^1.3.1",
       "_model_name": "TextRendererModel",
       "_view_count": null,
       "_view_module": "ipydatagrid",
       "_view_module_version": "^1.3.1",
       "_view_name": "TextRendererView",
       "background_color": "IPY_MODEL_8bdfceee0808432eab68b5aa576120cf",
       "font": "12px sans-serif",
       "format": null,
       "format_type": "number",
       "horizontal_alignment": "left",
       "missing": "",
       "text_color": "IPY_MODEL_eb6297049ee34338aa8ca946928a2739",
       "text_elide_direction": "right",
       "text_value": null,
       "text_wrap": false,
       "vertical_alignment": "center"
      }
     },
     "74afcfb8f0704d45b73cfe0fdfbe59a5": {
      "model_module": "ipydatagrid",
      "model_module_version": "^1.3.1",
      "model_name": "VegaExprModel",
      "state": {
       "_model_module": "ipydatagrid",
       "_model_module_version": "^1.3.1",
       "_model_name": "VegaExprModel",
       "_view_count": null,
       "_view_module": "ipydatagrid",
       "_view_module_version": "^1.3.1",
       "_view_name": "VegaExprView",
       "value": "default_value"
      }
     },
     "7eca3626930a418694d8ac0a6bf709e4": {
      "model_module": "@jupyter-widgets/base",
      "model_module_version": "2.0.0",
      "model_name": "LayoutModel",
      "state": {
       "_model_module": "@jupyter-widgets/base",
       "_model_module_version": "2.0.0",
       "_model_name": "LayoutModel",
       "_view_count": null,
       "_view_module": "@jupyter-widgets/base",
       "_view_module_version": "2.0.0",
       "_view_name": "LayoutView",
       "align_content": null,
       "align_items": null,
       "align_self": null,
       "border_bottom": null,
       "border_left": null,
       "border_right": null,
       "border_top": null,
       "bottom": null,
       "display": null,
       "flex": null,
       "flex_flow": null,
       "grid_area": null,
       "grid_auto_columns": null,
       "grid_auto_flow": null,
       "grid_auto_rows": null,
       "grid_column": null,
       "grid_gap": null,
       "grid_row": null,
       "grid_template_areas": null,
       "grid_template_columns": null,
       "grid_template_rows": null,
       "height": null,
       "justify_content": null,
       "justify_items": null,
       "left": null,
       "margin": null,
       "max_height": null,
       "max_width": null,
       "min_height": null,
       "min_width": null,
       "object_fit": null,
       "object_position": null,
       "order": null,
       "overflow": null,
       "padding": null,
       "right": null,
       "top": null,
       "visibility": null,
       "width": null
      }
     },
     "8a2be33e882844108bdcb41432410114": {
      "model_module": "ipydatagrid",
      "model_module_version": "^1.3.1",
      "model_name": "VegaExprModel",
      "state": {
       "_model_module": "ipydatagrid",
       "_model_module_version": "^1.3.1",
       "_model_name": "VegaExprModel",
       "_view_count": null,
       "_view_module": "ipydatagrid",
       "_view_module_version": "^1.3.1",
       "_view_name": "VegaExprView",
       "value": "default_value"
      }
     },
     "8a4790909cfa4f828df0dbc29596132c": {
      "buffers": [
       {
        "data": "AAAAAAEAAAACAAAAAwAAAAQAAAAFAAAABgAAAAcAAAAIAAAACQAAAAoAAAALAAAADAAAAA0AAAAOAAAADwAAABAAAAARAAAAEgAAABMAAAAUAAAAFQAAABYAAAAXAAAAGAAAABkAAAAaAAAAGwAAABwAAAAdAAAAHgAAAB8AAAAgAAAAIQAAACIAAAAjAAAAJAAAACUAAAAmAAAAJwAAACgAAAApAAAAKgAAACsAAAAsAAAALQAAAC4AAAAvAAAAMAAAADEAAAAyAAAAMwAAADQAAAA1AAAANgAAADcAAAA4AAAAOQAAADoAAAA7AAAAPAAAAD0AAAA+AAAAPwAAAEAAAABBAAAAQgAAAEMAAABEAAAARQAAAEYAAABHAAAASAAAAEkAAABKAAAASwAAAEwAAABNAAAATgAAAE8AAABQAAAAUQAAAFIAAABTAAAAVAAAAFUAAABWAAAAVwAAAFgAAABZAAAAWgAAAFsAAABcAAAAXQAAAF4AAABfAAAAYAAAAGEAAABiAAAAYwAAAGQAAABlAAAAZgAAAGcAAABoAAAAaQAAAGoAAABrAAAAbAAAAA==",
        "encoding": "base64",
        "path": [
         "_data",
         "data",
         "key",
         "value"
        ]
       },
       {
        "data": "AQAAAAEAAAACAAAAAwAAAAQAAAAFAAAABgAAAAcAAAAIAAAACQAAAAoAAAAKAAAADAAAAA0AAAAOAAAADwAAABAAAAARAAAAEgAAABMAAAAUAAAAFQAAABYAAAAXAAAAGAAAABkAAAAaAAAAGwAAABwAAAAdAAAAHgAAAB8AAAAgAAAAIQAAACIAAAAjAAAAJAAAACUAAAAmAAAAJwAAACgAAAApAAAAKgAAACsAAAAsAAAALQAAAC4AAAAvAAAAMAAAADEAAAAyAAAAMwAAADQAAAA1AAAANgAAADcAAAA4AAAAOQAAADoAAAA7AAAAPAAAAD0AAAA+AAAAPwAAAEAAAABBAAAAQgAAAEMAAABEAAAARQAAAEYAAABHAAAASAAAAEkAAABKAAAASwAAAEwAAABNAAAATgAAAE8AAABQAAAAUQAAAFIAAABTAAAAVAAAAFUAAABWAAAAVwAAAFgAAABZAAAAWgAAAFsAAABcAAAAXQAAAF4AAABfAAAAYAAAAGEAAABiAAAAYwAAAGQAAABlAAAAZgAAAGcAAABoAAAAaQAAAGoAAABrAAAAbAAAAA==",
        "encoding": "base64",
        "path": [
         "_data",
         "data",
         "Patient_ID",
         "value"
        ]
       },
       {
        "data": "AAAAAAAAUkAAAAAAAKBmQAAAAAAAgGFAAAAAAADgYkAAAAAAAAD4fwAAAAAAAGZAAAAAAAAASEAAAAAAAAD4fwAAAAAAgE5AAAAAAAAgZ0AAAAAAAIBCQAAAAAAAgFpAAAAAAADAU0AAAAAAAMBdQAAAAAAAgF1AAAAAAACgZ0AAAAAAAABWQAAAAAAAAPh/AAAAAADAVkAAAAAAAABaQAAAAAAAwFRAAAAAAAAAJkAAAAAAAIBOQAAAAAAAwFhAAAAAAAAgZ0AAAAAAAMBYQAAAAAAAIGhAAAAAAACAW0AAAAAAAIBGQAAAAAAAgGhAAAAAAABAXEAAAAAAAABSQAAAAAAAwFJAAAAAAAAA+H8AAAAAAMBQQAAAAAAAAFVAAAAAAAAA+H8AAAAAAIBJQAAAAAAAAFxAAAAAAAAAY0AAAAAAAAAYQAAAAAAAgEdAAAAAAAAAXEAAAAAAAIBPQAAAAAAAAPh/AAAAAAAAX0AAAAAAAGBhQAAAAAAAgFpAAAAAAACAW0AAAAAAAIBcQAAAAAAAAPA/AAAAAAAAZkAAAAAAAAAwQAAAAAAAAPh/AAAAAADgY0AAAAAAAIBXQAAAAAAAQGVAAAAAAAAAYUAAAAAAAOBiQAAAAAAA4GRAAAAAAADAY0AAAAAAAAD4fwAAAAAAIGBAAAAAAAAAT0AAAAAAAIBfQAAAAAAAACRAAAAAAADgY0AAAAAAAABJQAAAAAAAAPh/AAAAAABAUEAAAAAAAABhQAAAAAAAwGdAAAAAAAAAAAAAAAAAAOBhQAAAAAAAwFxAAAAAAACAY0AAAAAAAAA8QAAAAAAAAFlAAAAAAAAA+H8AAAAAAKBhQAAAAAAAoGZAAAAAAACARUAAAAAAAEBXQAAAAAAAwFpAAAAAAAAAUkAAAAAAAOBjQAAAAAAAQGhAAAAAAADAVkAAAAAAAEBSQAAAAAAAYGNAAAAAAAAAaEAAAAAAAAD4fwAAAAAAQFRAAAAAAACARkAAAAAAACBiQAAAAAAAAFxAAAAAAABAY0AAAAAAAIBeQAAAAAAAYGRAAAAAAABAVEAAAAAAAIBGQAAAAAAAIGJAAAAAAAAAXEAAAAAAAEBjQAAAAAAAgF5AAAAAAABgZEAAAAAAAEBUQAAAAAAAgEZAAAAAAAAgYkA=",
        "encoding": "base64",
        "path": [
         "_data",
         "data",
         "Age",
         "value"
        ]
       },
       {
        "data": "AAAAAAAA+H+uR+F6FJCLQJqZmZmZ6XlAUrgehev7hUDD9ShcjyKJQK5H4XoU/ldAAAAAAAAA+H/D9Shcj0JpQAAAAAAAzHtA7FG4HoWDfkCkcD0K17+CQKRwPQrXK3VAzczMzMwAdkAK16NwPfZzQOxRuB6FU2NA4XoUrkezjkDsUbgehUN1QOF6FK5HSWVAKVyPwvWYakApXI/C9QaHQLgehetRmIhAAAAAAAAA+H8pXI/C9WR5QOF6FK5HhX9AzczMzMw+iUA9CtejcIWOQAAAAAAALHxAmpmZmZl9d0CkcD0K1zeKQI/C9ShcR2RAuB6F61Ecd0BxPQrXo86AQAAAAAAAAPh/AAAAAAAA+H+uR+F6FAiOQNejcD0KG4hAUrgehesRNkAAAAAAAAD4fxSuR+F6SoJAZmZmZmb2jkC4HoXrURx3QGZmZmZm5oZAAAAAAAAA+H9cj8L1KJB4QIXrUbgeXYFAAAAAAACwc0BmZmZmZkyHQOxRuB6Fi41A16NwPQqzg0ApXI/C9YiGQLgehetR4GJAFK5H4XrcYkCPwvUoXPdpQDMzMzMz83RAexSuR+H6dUDhehSuR8VzQBSuR+F6ioZAXI/C9ShEd0AAAAAAAAD4fwAAAAAAAPh/16NwPQpzhkDNzMzMzHqIQEjhehSuD3tAFK5H4XqKhUAK16NwPciEQNejcD0KS3BAuB6F61HEg0A9CtejcNV6QGZmZmZmwIJApHA9CteziUApXI/C9Wh0QIXrUbgeBT9ASOF6FK7fbkAUrkfhegRWQI/C9ShcYYVAcT0K16MMcUAAAAAAAMiCQAAAAAAAAPh/MzMzMzPbc0AAAAAAABSGQB+F61G49m9AmpmZmZkJYEDNzMzMzFB4QBSuR+F6uH5ArkfhehT+eUBcj8L1KJaBQClcj8L1fIpACtejcD06f0CF61G4HsVUQOxRuB6FH3VASOF6FK5nhUAAAAAAAAD4f7gehetR2EpAmpmZmZmliEBxPQrXo3BiQOF6FK5HWY1AuB6F61EYbEBxPQrXo1BBQGZmZmZmtoJAuB6F61HYSkCamZmZmaWIQHE9CtejcGJA4XoUrkdZjUC4HoXrURhsQHE9CtejUEFAZmZmZma2gkC4HoXrUdhKQJqZmZmZpYhAcT0K16NwYkA=",
        "encoding": "base64",
        "path": [
         "_data",
         "data",
         "Weight_kg",
         "value"
        ]
       },
       {
        "data": "AAAAAACQa0ApXI/C9RBnQJqZmZmZQWVAPQrXo3D9PkDsUbgehesdQM3MzMzMDDxAexSuR+F6KEAK16NwPUpHQOxRuB6Fj3JACtejcD3KM0BI4XoUrl9qQPYoXI/CdUFAMzMzMzMXckCkcD0K13tnQFyPwvUo3EFACtejcD0KSkBxPQrXo0BpQDMzMzMzc2xA16NwPQpvZEA9CtejcA1vQM3MzMzMrGhA16NwPQqTckAAAAAAAAD4f9ejcD0KJ29AAAAAAAAA+H8zMzMzMzNxQEjhehSul3BA9ihcj8J1YUCPwvUoXKdnQHsUrkfh+kxAmpmZmZkha0AAAAAAAJBXQK5H4XoUlm9AMzMzMzOfcUAK16NwPco8QFyPwvUotHFAZmZmZmYGVEDNzMzMzIxkQD0K16NwPS1Aj8L1KFzPbEA9CtejcAVoQFK4HoXrEWBACtejcD3CYUAAAAAAAAD4f3sUrkfh8m5A4XoUrkfRUEAK16NwPapcQMP1KFyPum9ArkfhehRuXEDD9ShcjzprQPYoXI/CFVhACtejcD1yY0DNzMzMzGxqQOxRuB6FQ2VAuB6F61E4VkAUrkfheuRkQB+F61G4XkJAMzMzMzMLbkDXo3A9CjdOQAAAAAAAAPh/AAAAAABQYUDsUbgehWtXQHE9CtejyG5AAAAAAAAA+H8zMzMzMzMpQAAAAAAAAPh/CtejcD3KS0BxPQrXo4BQQI/C9Shcr1JAzczMzMzMUkD2KFyPwgVjQB+F61G4TmpAPQrXo3D9b0Bcj8L1KIRoQOxRuB6FT3JAFK5H4XpUTUCkcD0K10NXQK5H4XoULj9A9ihcj8J9aEBmZmZmZmYZQOxRuB6FD3BApHA9CteDRUBSuB6F6ylqQOxRuB6FG19Aw/UoXI++ckDNzMzMzOxsQGZmZmZmhkxAXI/C9SjcZ0CkcD0K1+M0QEjhehSuL2BAMzMzMzMzPEDNzMzMzEwtQM3MzMzMVGxAAAAAAABgWkDsUbgehetaQArXo3A9ikBAAAAAAAAA+H8K16NwPeJjQAAAAAAAAPh/zczMzMxUbEAAAAAAAGBaQOxRuB6F61pACtejcD2KQEAAAAAAAAD4fwrXo3A94mNAAAAAAAAA+H/NzMzMzFRsQAAAAAAAYFpA7FG4HoXrWkA=",
        "encoding": "base64",
        "path": [
         "_data",
         "data",
         "Height_cm",
         "value"
        ]
       },
       {
        "data": "AAAAAAAAAAAAAAAAAABRQAAAAAAAwFBAAAAAAACAQ0AAAAAAAIBLQAAAAAAAAFJAAAAAAAAAFEAAAAAAAAAcQAAAAAAAAChAAAAAAAAA+H8AAAAAAAAyQAAAAAAAAE9AAAAAAAAAVkAAAAAAAAA4QAAAAAAAAD1AAAAAAACAS0AAAAAAAIBOQAAAAAAAAFdAAAAAAAAA+H8AAAAAAIBEQAAAAAAAAC5AAAAAAAAAUUAAAAAAAIBGQAAAAAAAAFFAAAAAAAAAT0AAAAAAAMBXQAAAAAAAgFhAAAAAAAAALkAAAAAAAAD4fwAAAAAAAElAAAAAAADAU0AAAAAAAAAcQAAAAAAAQFFAAAAAAADAVUAAAAAAAMBUQAAAAAAAACZAAAAAAADAWEAAAAAAAIBLQAAAAAAAwFBAAAAAAABAVUAAAAAAAABVQAAAAAAAAFJAAAAAAAAAEEAAAAAAAAA5QAAAAAAAAExAAAAAAAAAT0AAAAAAAIBEQAAAAAAAgEZAAAAAAAAAVUAAAAAAAABAQAAAAAAAwFhAAAAAAAAAPEAAAAAAAAD4fwAAAAAAADZAAAAAAACASkAAAAAAAABKQAAAAAAAAEtAAAAAAAAAO0AAAAAAAAA+QAAAAAAAAChAAAAAAACAT0AAAAAAAABYQAAAAAAAgEFAAAAAAAAANkAAAAAAAIBKQAAAAAAAACJAAAAAAACATUAAAAAAAAA/QAAAAAAAwFFAAAAAAAAA+H8AAAAAAAD4fwAAAAAAAEpAAAAAAAAA+H8AAAAAAIBNQAAAAAAAADpAAAAAAADAUUAAAAAAAAA1QAAAAAAAgEpAAAAAAACAUkAAAAAAAAD4fwAAAAAAAEdAAAAAAACAVUAAAAAAAMBWQAAAAAAAAPh/AAAAAAAALEAAAAAAAABMQAAAAAAAAE1AAAAAAAAATUAAAAAAAAA7QAAAAAAAADtAAAAAAACAU0AAAAAAAAAsQAAAAAAAAEtAAAAAAAAAMEAAAAAAAAAyQAAAAAAAADlAAAAAAACAREAAAAAAAIBYQAAAAAAAABxAAAAAAAAAS0AAAAAAAAAwQAAAAAAAADJAAAAAAAAAOUAAAAAAAIBEQAAAAAAAgFhAAAAAAAAAHEAAAAAAAABLQAAAAAAAADBAAAAAAAAAMkA=",
        "encoding": "base64",
        "path": [
         "_data",
         "data",
         "BMI",
         "value"
        ]
       },
       {
        "data": "AAAAAAEAAAACAAAAAwAAAAQAAAAFAAAABgAAAAcAAAAIAAAACQAAAAoAAAALAAAADAAAAA0AAAAOAAAADwAAABAAAAARAAAAEgAAABMAAAAUAAAAFQAAABYAAAAXAAAAGAAAABkAAAAaAAAAGwAAABwAAAAdAAAAHgAAAB8AAAAgAAAAIQAAACIAAAAjAAAAJAAAACUAAAAmAAAAJwAAACgAAAApAAAAKgAAACsAAAAsAAAALQAAAC4AAAAvAAAAMAAAADEAAAAyAAAAMwAAADQAAAA1AAAANgAAADcAAAA4AAAAOQAAADoAAAA7AAAAPAAAAD0AAAA+AAAAPwAAAEAAAABBAAAAQgAAAEMAAABEAAAARQAAAEYAAABHAAAASAAAAEkAAABKAAAASwAAAEwAAABNAAAATgAAAE8AAABQAAAAUQAAAFIAAABTAAAAVAAAAFUAAABWAAAAVwAAAFgAAABZAAAAWgAAAFsAAABcAAAAXQAAAF4AAABfAAAAYAAAAGEAAABiAAAAYwAAAGQAAABlAAAAZgAAAGcAAABoAAAAaQAAAGoAAABrAAAAbAAAAA==",
        "encoding": "base64",
        "path": [
         "_data",
         "data",
         "ipydguuid",
         "value"
        ]
       }
      ],
      "model_module": "ipydatagrid",
      "model_module_version": "^1.3.1",
      "model_name": "DataGridModel",
      "state": {
       "_data": {
        "data": {
         "Age": {
          "dtype": "float64",
          "shape": [
           109
          ],
          "type": null
         },
         "BMI": {
          "dtype": "float64",
          "shape": [
           109
          ],
          "type": null
         },
         "Date_of_Birth": {
          "type": "raw",
          "value": [
           "07/06/2090",
           "07/06/2090",
           "$NaN$",
           "24/08/2003",
           "13/07/1999",
           "01/10/1980",
           "14/02/1997",
           "02/09/1979",
           "28/07/1971",
           "08/09/1987",
           "16/06/1928",
           "16/06/1928",
           "05/05/1948",
           "31/05/1980",
           "21/03/1996",
           "05/08/1961",
           "06/10/2012",
           "25/06/2007",
           "07/08/1958",
           "25/10/2015",
           "14/05/1942",
           "08/02/1924",
           "23/08/1998",
           "03/07/1959",
           "07/05/1924",
           "16/09/1991",
           "08/05/1995",
           "26/03/2007",
           "09/07/2005",
           "28/08/1949",
           "11/02/1976",
           "28/07/1946",
           "08/10/1970",
           "28/12/1959",
           "31/05/2014",
           "27/10/1975",
           "10/07/2017",
           "14/04/1970",
           "05/09/1942",
           "28/11/1930",
           "22/01/1953",
           "26/05/1973",
           "26/11/1997",
           "09/06/2017",
           "10/03/2012",
           "07/07/1948",
           "16/04/1948",
           "13/07/1994",
           "24/12/1988",
           "13/10/1961",
           "29/01/1965",
           "12/03/1951",
           "31/05/1951",
           "27/07/1983",
           "01/11/1967",
           "21/03/2006",
           "29/03/1955",
           "28/11/1956",
           "26/09/1953",
           "08/01/1971",
           "15/04/1977",
           "23/12/1994",
           "30/11/1984",
           "10/09/2006",
           "28/01/2015",
           "27/11/1968",
           "04/07/2014",
           "13/01/2020",
           "17/11/1995",
           "15/03/1929",
           "31/03/1929",
           "16/09/1941",
           "16/02/1967",
           "28/01/2015",
           "06/11/1936",
           "31/12/2016",
           "02/10/1932",
           "28/07/1953",
           "02/08/1997",
           "24/04/1996",
           "13/07/1976",
           "24/03/1941",
           "18/11/2009",
           "12/12/1999",
           "05/02/1932",
           "16/02/2007",
           "10/01/2014",
           "31/10/1943",
           "11/09/1951",
           "12/07/1981",
           "24/09/1992",
           "15/11/1942",
           "30/11/1970",
           "09/10/1985",
           "01/02/1979",
           "08/10/1987",
           "17/10/1925",
           "25/10/1974",
           "02/06/1948",
           "12/07/1981",
           "24/09/1992",
           "15/11/1942",
           "30/11/1970",
           "09/10/1985",
           "01/02/1979",
           "08/10/1987",
           "17/10/1925",
           "25/10/1974",
           "02/06/1948"
          ]
         },
         "Date_of_Diagnosis": {
          "type": "raw",
          "value": [
           "23/04/2033",
           "$NaN$",
           "06/02/2020",
           "30/07/2021",
           "17/09/2010",
           "02/09/2022",
           "09/01/2013",
           "19/06/2011",
           "13/10/2012",
           "09/12/2012",
           "28/11/2018",
           "28/11/2018",
           "13/04/2020",
           "21/05/2010",
           "12/09/2014",
           "23/06/2020",
           "07/06/2015",
           "27/09/2022",
           "03/01/2015",
           "12/07/2011",
           "29/01/2021",
           "28/12/2015",
           "03/02/2013",
           "11/05/2021",
           "09/05/2022",
           "11/09/2015",
           "07/03/2023",
           "06/09/2018",
           "13/02/2020",
           "14/12/2019",
           "22/12/2012",
           "07/01/2017",
           "27/04/2012",
           "05/11/2021",
           "25/04/2015",
           "03/05/2020",
           "31/05/2015",
           "10/10/2010",
           "02/06/2018",
           "10/11/2016",
           "28/11/2016",
           "06/08/2011",
           "09/04/2019",
           "16/09/2020",
           "23/10/2015",
           "10/12/2021",
           "30/07/2015",
           "08/03/2014",
           "17/09/2014",
           "18/01/2019",
           "05/03/2020",
           "25/02/2013",
           "24/12/2011",
           "18/02/2017",
           "05/08/2014",
           "02/09/2021",
           "21/03/2012",
           "22/07/2020",
           "09/07/2013",
           "20/08/2016",
           "02/04/2023",
           "23/02/2020",
           "20/08/2022",
           "29/04/2020",
           "22/01/2018",
           "25/07/2016",
           "26/01/2010",
           "07/12/2010",
           "19/04/2011",
           "18/12/2018",
           "18/12/2013",
           "11/10/2013",
           "30/09/2020",
           "01/02/2014",
           "17/02/2021",
           "15/04/2023",
           "07/09/2018",
           "27/01/2011",
           "12/04/2017",
           "10/01/2014",
           "04/04/2013",
           "15/05/2020",
           "12/05/2015",
           "23/02/2010",
           "12/09/2011",
           "01/01/2011",
           "22/11/2015",
           "$NaN$",
           "05/10/2012",
           "01/04/2013",
           "03/02/2023",
           "15/06/2013",
           "30/08/2016",
           "07/10/2014",
           "26/11/2010",
           "30/07/2011",
           "15/11/2014",
           "15/03/2018",
           "13/10/2017",
           "01/04/2013",
           "03/02/2023",
           "15/06/2013",
           "30/08/2016",
           "07/10/2014",
           "26/11/2010",
           "30/07/2011",
           "15/11/2014",
           "15/03/2018",
           "13/10/2017"
          ]
         },
         "Datetime_Event1": [
          "13/03/2024 00:00",
          "25/03/2024 00:00",
          "21/03/2024 00:00",
          "12/03/2024 00:00",
          "20/03/2024 00:00",
          "20/03/2024 00:00",
          "05/03/2024 00:00",
          "11/03/2024 00:00",
          "05/03/2024 00:00",
          "18/03/2024 00:00",
          "20/03/2024 00:00",
          "16/03/2024 00:00",
          "11/03/2024 00:00",
          "22/03/2024 00:00",
          "19/03/2024 00:00",
          "25/03/2024 00:00",
          "22/03/2024 00:00",
          "29/03/2024 00:00",
          "17/03/2024 00:00",
          "28/03/2024 00:00",
          "12/03/2024 00:00",
          "12/03/2024 00:00",
          "30/03/2024 00:00",
          "25/03/2024 00:00",
          "09/03/2024 00:00",
          "19/03/2024 00:00",
          "09/03/2024 00:00",
          "22/03/2024 00:00",
          "13/03/2024 00:00",
          "07/03/2024 00:00",
          "23/03/2024 00:00",
          "10/03/2024 00:00",
          "10/03/2024 00:00",
          "26/03/2024 00:00",
          "03/03/2024 00:00",
          "11/03/2024 00:00",
          "20/03/2024 00:00",
          "17/03/2024 00:00",
          "14/03/2024 00:00",
          "07/03/2024 00:00",
          "09/03/2024 00:00",
          "08/03/2024 00:00",
          "01/03/2024 00:00",
          "29/03/2024 00:00",
          "19/03/2024 00:00",
          "19/03/2024 00:00",
          "17/03/2024 00:00",
          "16/03/2024 00:00",
          "21/03/2024 00:00",
          "06/03/2024 00:00",
          "09/03/2024 00:00",
          "22/03/2024 00:00",
          "12/03/2024 00:00",
          "31/03/2024 00:00",
          "17/03/2024 00:00",
          "26/03/2024 00:00",
          "20/03/2024 00:00",
          "17/03/2024 00:00",
          "25/03/2024 00:00",
          "10/03/2024 00:00",
          "31/03/2024 00:00",
          "16/03/2024 00:00",
          "04/03/2024 00:00",
          "05/03/2024 00:00",
          "27/03/2024 00:00",
          "18/03/2024 00:00",
          "29/03/2024 00:00",
          "31/03/2024 00:00",
          "11/03/2024 00:00",
          "06/03/2024 00:00",
          "02/03/2024 00:00",
          "16/03/2024 00:00",
          "04/03/2024 00:00",
          "15/03/2024 00:00",
          "07/03/2024 00:00",
          "20/03/2024 00:00",
          "28/03/2024 00:00",
          "27/03/2024 00:00",
          "19/03/2024 00:00",
          "05/03/2024 00:00",
          "16/03/2024 00:00",
          "13/03/2024 00:00",
          "26/03/2024 00:00",
          "30/03/2024 00:00",
          "13/03/2024 00:00",
          "03/03/2024 00:00",
          "14/03/2024 00:00",
          "02/03/2024 00:00",
          "01/03/2024 00:00",
          "13/03/2024 00:00",
          "23/03/2024 00:00",
          "13/03/2024 00:00",
          "09/03/2024 00:00",
          "10/03/2024 00:00",
          "22/03/2024 00:00",
          "30/03/2024 00:00",
          "03/03/2024 00:00",
          "23/03/2024 00:00",
          "24/03/2024 00:00",
          "13/03/2024 00:00",
          "1991/03/2024  00:00:00",
          "1991/03/2024  00:00:00",
          "1991/03/2024  00:00:00",
          "1991/03/2024  00:00:00",
          "1991/03/2024  00:00:00",
          "1991/03/2024  00:00:00",
          "1991/03/2024  00:00:00",
          "1991/03/2024  00:00:00",
          "1991/03/2024  00:00:00"
         ],
         "Datetime_Event2": [
          "16/03/2024 00:00",
          "19/03/2024 00:00",
          "04/03/2024 00:00",
          "30/03/2024 00:00",
          "29/03/2024 00:00",
          "16/03/2024 00:00",
          "29/03/2024 00:00",
          "01/03/2024 00:00",
          "01/03/2024 00:00",
          "14/03/2024 00:00",
          "23/03/2024 00:00",
          "11/03/2024 00:00",
          "14/03/2024 00:00",
          "31/03/2024 00:00",
          "04/03/2024 00:00",
          "11/03/2024 00:00",
          "01/03/2024 00:00",
          "10/03/2024 00:00",
          "27/03/2024 00:00",
          "15/03/2024 00:00",
          "16/03/2024 00:00",
          "20/03/2024 00:00",
          "12/03/2024 00:00",
          "08/03/2024 00:00",
          "07/03/2024 00:00",
          "30/03/2024 00:00",
          "01/03/2024 00:00",
          "04/03/2024 00:00",
          "04/03/2024 00:00",
          "06/03/2024 00:00",
          "08/03/2024 00:00",
          "29/03/2024 00:00",
          "12/03/2024 00:00",
          "09/03/2024 00:00",
          "13/03/2024 00:00",
          "07/03/2024 00:00",
          "02/03/2024 00:00",
          "30/03/2024 00:00",
          "04/03/2024 00:00",
          "25/03/2024 00:00",
          "12/03/2024 00:00",
          "18/03/2024 00:00",
          "14/03/2024 00:00",
          "31/03/2024 00:00",
          "09/03/2024 00:00",
          "08/03/2024 00:00",
          "16/03/2024 00:00",
          "15/03/2024 00:00",
          "10/03/2024 00:00",
          "04/03/2024 00:00",
          "29/03/2024 00:00",
          "15/03/2024 00:00",
          "25/03/2024 00:00",
          "17/03/2024 00:00",
          "03/03/2024 00:00",
          "29/03/2024 00:00",
          "29/03/2024 00:00",
          "03/03/2024 00:00",
          "08/03/2024 00:00",
          "19/03/2024 00:00",
          "16/03/2024 00:00",
          "04/03/2024 00:00",
          "27/03/2024 00:00",
          "13/03/2024 00:00",
          "06/03/2024 00:00",
          "06/03/2024 00:00",
          "07/03/2024 00:00",
          "20/03/2024 00:00",
          "12/03/2024 00:00",
          "12/03/2024 00:00",
          "11/03/2024 00:00",
          "26/03/2024 00:00",
          "02/03/2024 00:00",
          "20/03/2024 00:00",
          "13/03/2024 00:00",
          "08/03/2024 00:00",
          "20/03/2024 00:00",
          "20/03/2024 00:00",
          "14/03/2024 00:00",
          "16/03/2024 00:00",
          "21/03/2024 00:00",
          "27/03/2024 00:00",
          "17/03/2024 00:00",
          "14/03/2024 00:00",
          "25/03/2024 00:00",
          "04/03/2024 00:00",
          "06/03/2024 00:00",
          "28/03/2024 00:00",
          "30/03/2024 00:00",
          "09/03/2024 00:00",
          "13/03/2024 00:00",
          "27/03/2024 00:00",
          "25/03/2024 00:00",
          "18/03/2024 00:00",
          "27/03/2024 00:00",
          "21/03/2024 00:00",
          "07/03/2024 00:00",
          "07/03/2024 00:00",
          "04/03/2024 00:00",
          "09/03/2024 00:00",
          "13/03/2024 00:00",
          "13/03/2024 00:00",
          "13/03/2024 00:00",
          "13/03/2024 00:00",
          "13/03/2024 00:00",
          "13/03/2024 00:00",
          "13/03/2024 00:00",
          "13/03/2024 00:00",
          "13/03/2024 00:00"
         ],
         "Datetime_Logging1": [
          "13/03/2024 00:07",
          "25/03/2024 00:02",
          "21/03/2024 00:01",
          "12/03/2024 00:08",
          "20/03/2024 00:07",
          "20/03/2024 00:00",
          "05/03/2024 00:10",
          "11/03/2024 00:01",
          "05/03/2024 00:02",
          "18/03/2024 00:01",
          "20/03/2024 00:04",
          "16/03/2024 00:08",
          "11/03/2024 00:00",
          "22/03/2024 00:08",
          "19/03/2024 00:05",
          "25/03/2024 00:05",
          "22/03/2024 00:04",
          "29/03/2024 00:09",
          "17/03/2024 00:10",
          "28/03/2024 00:03",
          "12/03/2024 00:05",
          "12/03/2024 00:09",
          "30/03/2024 00:04",
          "25/03/2024 00:02",
          "09/03/2024 00:06",
          "19/03/2024 00:08",
          "09/03/2024 00:05",
          "22/03/2024 00:10",
          "13/03/2024 00:02",
          "07/03/2024 00:02",
          "23/03/2024 00:09",
          "10/03/2024 00:03",
          "10/03/2024 00:06",
          "26/03/2024 00:00",
          "03/03/2024 00:08",
          "11/03/2024 00:07",
          "20/03/2024 00:03",
          "17/03/2024 00:07",
          "14/03/2024 00:02",
          "07/03/2024 00:07",
          "09/03/2024 00:09",
          "08/03/2024 00:04",
          "01/03/2024 00:05",
          "29/03/2024 00:10",
          "19/03/2024 00:08",
          "19/03/2024 00:10",
          "17/03/2024 00:03",
          "16/03/2024 00:10",
          "21/03/2024 00:01",
          "06/03/2024 00:02",
          "09/03/2024 00:02",
          "22/03/2024 00:05",
          "12/03/2024 00:03",
          "31/03/2024 00:07",
          "17/03/2024 00:04",
          "26/03/2024 00:02",
          "20/03/2024 00:08",
          "17/03/2024 00:07",
          "25/03/2024 00:10",
          "10/03/2024 00:03",
          "31/03/2024 00:10",
          "16/03/2024 00:09",
          "04/03/2024 00:08",
          "05/03/2024 00:04",
          "27/03/2024 00:03",
          "18/03/2024 00:07",
          "29/03/2024 00:00",
          "31/03/2024 00:00",
          "11/03/2024 00:06",
          "06/03/2024 00:02",
          "02/03/2024 00:02",
          "16/03/2024 00:02",
          "04/03/2024 00:10",
          "15/03/2024 00:08",
          "07/03/2024 00:07",
          "20/03/2024 00:08",
          "28/03/2024 00:00",
          "27/03/2024 00:07",
          "19/03/2024 00:04",
          "05/03/2024 00:05",
          "16/03/2024 00:04",
          "13/03/2024 00:02",
          "26/03/2024 00:00",
          "30/03/2024 00:09",
          "13/03/2024 00:06",
          "03/03/2024 00:06",
          "14/03/2024 00:07",
          "02/03/2024 00:07",
          "01/03/2024 00:03",
          "13/03/2024 00:00",
          "23/03/2024 00:10",
          "13/03/2024 00:09",
          "09/03/2024 00:03",
          "10/03/2024 00:08",
          "22/03/2024 00:04",
          "30/03/2024 00:01",
          "03/03/2024 00:01",
          "23/03/2024 00:03",
          "24/03/2024 00:08",
          "13/03/2024 00:00",
          "23/03/2024 00:00",
          "23/03/2024 00:00",
          "23/03/2024 00:00",
          "23/03/2024 00:00",
          "23/03/2024 00:00",
          "23/03/2024 00:00",
          "23/03/2024 00:00",
          "23/03/2024 00:00",
          "23/03/2024 00:00"
         ],
         "Datetime_Logging2": [
          "16/03/2024 00:53",
          "19/03/2024 01:11",
          "04/03/2024 00:18",
          "30/03/2024 01:28",
          "29/03/2024 00:47",
          "16/03/2024 00:13",
          "29/03/2024 00:25",
          "01/03/2024 01:35",
          "01/03/2024 01:29",
          "14/03/2024 00:27",
          "23/03/2024 00:44",
          "11/03/2024 01:00",
          "14/03/2024 00:48",
          "31/03/2024 00:59",
          "04/03/2024 00:05",
          "11/03/2024 01:02",
          "01/03/2024 00:56",
          "10/03/2024 01:05",
          "27/03/2024 01:02",
          "15/03/2024 00:36",
          "16/03/2024 00:26",
          "20/03/2024 01:04",
          "12/03/2024 01:30",
          "08/03/2024 01:06",
          "07/03/2024 00:15",
          "30/03/2024 01:22",
          "01/03/2024 01:24",
          "04/03/2024 01:26",
          "04/03/2024 00:21",
          "06/03/2024 01:27",
          "08/03/2024 01:04",
          "29/03/2024 00:56",
          "12/03/2024 00:28",
          "09/03/2024 00:03",
          "13/03/2024 01:17",
          "07/03/2024 00:36",
          "02/03/2024 00:17",
          "30/03/2024 00:15",
          "04/03/2024 00:57",
          "25/03/2024 01:14",
          "12/03/2024 00:49",
          "18/03/2024 01:15",
          "14/03/2024 00:50",
          "31/03/2024 00:43",
          "09/03/2024 00:46",
          "08/03/2024 00:35",
          "16/03/2024 01:24",
          "15/03/2024 00:51",
          "10/03/2024 00:55",
          "04/03/2024 00:52",
          "29/03/2024 00:30",
          "15/03/2024 01:02",
          "25/03/2024 00:01",
          "17/03/2024 00:36",
          "03/03/2024 00:21",
          "29/03/2024 00:58",
          "29/03/2024 00:18",
          "03/03/2024 00:48",
          "08/03/2024 00:57",
          "19/03/2024 00:47",
          "16/03/2024 01:27",
          "04/03/2024 01:33",
          "27/03/2024 00:13",
          "13/03/2024 01:10",
          "06/03/2024 00:26",
          "06/03/2024 01:02",
          "07/03/2024 00:06",
          "20/03/2024 01:09",
          "12/03/2024 01:11",
          "12/03/2024 00:55",
          "11/03/2024 00:11",
          "26/03/2024 00:22",
          "02/03/2024 00:39",
          "20/03/2024 00:50",
          "13/03/2024 00:44",
          "08/03/2024 00:33",
          "20/03/2024 00:00",
          "20/03/2024 00:43",
          "14/03/2024 00:16",
          "16/03/2024 01:23",
          "21/03/2024 01:07",
          "27/03/2024 01:03",
          "17/03/2024 00:46",
          "14/03/2024 00:29",
          "25/03/2024 01:03",
          "04/03/2024 00:48",
          "06/03/2024 00:00",
          "28/03/2024 01:27",
          "30/03/2024 00:54",
          "09/03/2024 00:18",
          "13/03/2024 01:25",
          "27/03/2024 01:39",
          "25/03/2024 01:32",
          "18/03/2024 00:28",
          "27/03/2024 00:37",
          "21/03/2024 00:28",
          "07/03/2024 00:54",
          "07/03/2024 00:18",
          "04/03/2024 01:14",
          "09/03/2024 00:18",
          "01-01-1122  01:25:00",
          "01-01-1122  01:25:00",
          "01-01-1122  01:25:00",
          "01-01-1122  01:25:00",
          "01-01-1122  01:25:00",
          "01-01-1122  01:25:00",
          "01-01-1122  01:25:00",
          "01-01-1122  01:25:00",
          "01-01-1122  01:25:00"
         ],
         "Gender": {
          "type": "raw",
          "value": [
           "Male",
           "Male",
           ".",
           "Male",
           "Male",
           "Male",
           "Female",
           ".",
           "Female",
           "Male",
           "$NaN$",
           "$NaN$",
           "Female",
           "Female",
           "Male",
           ".",
           "Male",
           "Female",
           "Female",
           "Female",
           "Male",
           "Male",
           "Female",
           "Male",
           "Male",
           "Male",
           ".",
           "$NaN$",
           "Male",
           "Female",
           "Female",
           "unknown",
           "unknown",
           "unknown",
           "Female",
           "Female",
           "Male",
           "$NaN$",
           "Female",
           "Male",
           "Male",
           "Female",
           "Female",
           "Female",
           "Female",
           "Female",
           "$NaN$",
           "Female",
           "Female",
           "Male",
           "Female",
           "Male",
           "Male",
           "Male",
           "Male",
           "$NaN$",
           "Male",
           "$NaN$",
           "Female",
           "Male",
           "Female",
           "Female",
           "Female",
           "Male",
           "Male",
           "Female",
           "Male",
           "Female",
           "Female",
           "$NaN$",
           "Male",
           "Female",
           "Female",
           "Male",
           "Female",
           "Female",
           "Male",
           "Male",
           "Female",
           "Female",
           "Female",
           "Female",
           "$NaN$",
           "Male",
           "Male",
           "Female",
           "Female",
           "Male",
           "Male",
           "Male",
           "Female",
           "$NaN$",
           "Female",
           "Female",
           "Female",
           "Female",
           "Female",
           "Female",
           "Male",
           "Male",
           "Female",
           "$NaN$",
           "Female",
           "Female",
           "Female",
           "Female",
           "Female",
           "Female",
           "Male"
          ]
         },
         "Height_cm": {
          "dtype": "float64",
          "shape": [
           109
          ],
          "type": null
         },
         "ICD_10_Code": {
          "type": "raw",
          "value": [
           "Y743",
           "Y743",
           "Unkown",
           "   ",
           "       ",
           "  ",
           "      ",
           "S72092Q",
           "E10359",
           "S42463K",
           "S65911S",
           "S65911S",
           "X010XXD",
           "O101",
           "S1315",
           "J631",
           "$NaN$",
           "S52353E",
           "V403XXD",
           "S66110",
           "M71322",
           "na",
           "H02024",
           "V546XXA",
           "T270XXD",
           "S82855J",
           "M24362",
           "T23749A",
           "D2921",
           "O322",
           "S42341G",
           "S89122P",
           "V8609XA",
           "S92331B",
           "C4002",
           "S3132XA",
           "S92514P",
           "S20329A",
           "T6591XA",
           "H47332",
           "Q76",
           "S1202XD",
           "M61171",
           "S82841J",
           "W241XXS",
           "T44902",
           "S79921S",
           "S60821",
           "$NaN$",
           "V9336XD",
           "S92144D",
           "S82453P",
           "Z96659",
           "M84612P",
           "Q7222",
           "S31612A",
           "S86109S",
           "T84010A",
           "S2249",
           "C73",
           "M25431",
           "L102",
           "S66192S",
           "T40691D",
           "V813XXD",
           "S0034XA",
           "I40",
           "T22552S",
           "D351",
           "S62115",
           "S71049A",
           "S86111A",
           "S52033B",
           "C419",
           "W67",
           "S63025A",
           "M84674P",
           "S12330K",
           "S92499P",
           "S21030",
           "S21031",
           "H16009",
           "K51514",
           "L97122",
           "V212",
           "Y37041D",
           "S52699N",
           "V791",
           "S061X5",
           "T22169D",
           "O99212",
           "I87333",
           "D2311",
           "S95001",
           "O3691X1",
           "T23129D",
           "M778",
           "D160",
           "S66117D",
           "T22169D",
           "O99212",
           "I87333",
           "D2311",
           "S95001",
           "O3691X1",
           "T23129D",
           "M778",
           "D160",
           "S66117D"
          ]
         },
         "Metastatic_Indicator": [
          "Present",
          "Present",
          "Present",
          "Present",
          "Present",
          "Present",
          "Present",
          "Present",
          "Present",
          "Present",
          "Absent",
          "Absent",
          "Absent",
          "Absent",
          "Absent",
          "Absent",
          "Absent",
          "Absent",
          "Absent",
          "Absent",
          "Present",
          "Present",
          "Present",
          "Present",
          "Present",
          "Present",
          "Present",
          "Present",
          "Present",
          "Present",
          "Present",
          "Present",
          "Present",
          "Present",
          "Present",
          "Present",
          "Present",
          "Present",
          "Present",
          "Present",
          "Present",
          "Present",
          "Present",
          "Present",
          "Present",
          "Present",
          "Present",
          "Present",
          "Present",
          "Present",
          "Present",
          "Present",
          "Present",
          "Present",
          "Present",
          "Present",
          "Present",
          "Present",
          "Present",
          "Present",
          "Present",
          "Present",
          "Present",
          "Present",
          "Present",
          "Present",
          "Present",
          "Present",
          "Present",
          "Present",
          "Present",
          "Present",
          "Present",
          "Present",
          "Present",
          "Present",
          "Present",
          "Present",
          "Present",
          "Present",
          "Present",
          "Present",
          "Present",
          "Present",
          "Present",
          "Present",
          "Present",
          "Present",
          "Present",
          "Present",
          "Present",
          "Present",
          "Present",
          "Present",
          "Present",
          "Present",
          "Present",
          "Present",
          "Present",
          "Present",
          "Present",
          "Present",
          "Present",
          "Present",
          "Present",
          "Present",
          "Present",
          "Present",
          "Present"
         ],
         "NHS_number": {
          "type": "raw",
          "value": [
           "3417315905",
           "3417315905",
           "4425574168",
           "6317329044",
           "8832794853",
           "2524577953",
           "4792801850",
           "3084301557",
           "2188575180",
           "7284067578",
           "6221980402",
           "6221980402",
           "9582239514",
           "9163777398",
           "9261698492",
           "9455278634",
           "8092794138",
           "8112466084",
           "6667334101",
           "4220532161",
           "447659901",
           "823933245",
           "224961403",
           "2693891922",
           "6981927748",
           "5381918666",
           "3611578487",
           "5981220082",
           "5239217548",
           "3728224766",
           "9314557367",
           "5597842404",
           "4211394320",
           "3030704831",
           "4042309526",
           "8944087075",
           "3364457255",
           "8425235502",
           "6570383892",
           "2711991466",
           "$NaN$",
           "5995916513",
           "6113550435",
           "2680473310",
           "7304154004",
           "3522775732",
           "7184760034",
           "     ",
           "2243338408",
           " ",
           "1561675121",
           "9395640154",
           "   ",
           "7066711653",
           ".",
           "$NaN$",
           "2096561396",
           "8009861545",
           "1479232335",
           "5459626811",
           "6382908193",
           "7804459769",
           "2763878970",
           "3793052230",
           "5977773145",
           "5619864030",
           "1008976326",
           "7537776865",
           "981859119",
           "9880619935",
           "9618110265",
           "6192496668",
           "3662943972",
           "5189628574",
           "3575949654",
           "2609920822",
           "2332313389",
           "7919922682",
           "4061877542",
           "9723522071",
           "5151068628",
           "5867351912",
           "4005007651",
           "9956175463",
           "8509600937",
           "5803464015",
           "9843076141",
           "$NaN$",
           "6035480144",
           "963035134",
           "3407896425",
           "5073852079",
           "4736652144",
           "7964097512",
           "4452729916",
           "8693481924",
           "2041257636",
           "5991332878",
           "5399337908",
           "963035134",
           "3407896425",
           "5073852079",
           "4736652144",
           "7964097512",
           "4452729916",
           "8693481924",
           "2041257636",
           "5991332878",
           "5399337908"
          ]
         },
         "Patient_ID": {
          "dtype": "int32",
          "shape": [
           109
          ],
          "type": null
         },
         "Postcode": [
          "BS5 0NQ",
          "BT78 3PN",
          "UB7 0JP",
          "MK9 3NZ",
          "B63 3QX",
          "TN17 1JA",
          "LL36 0BY",
          "NG18 4RU",
          "HA9 7EE",
          "LS14 6HX",
          "S40 3PS",
          "S40 3PS",
          "TF10 7RR",
          "LA11 7EP",
          "CT11 7NJ",
          "SE17 1GQ",
          "G78 4BT",
          "DL12 9BF",
          "BL3 5AY",
          "SW6 6NR",
          "TD15 2NQ",
          "EH53 0NA",
          "ST14 5BG",
          "SW12 9RP",
          "HX3 8NY",
          "HU9 2QN",
          "RG4 6GG",
          "EN7 6HL",
          "PL14 3PS",
          "RH6 8LT",
          "PO9 4NW",
          "UB5 5SZ",
          "WN5 7JL",
          "M34 6EW",
          "EX20 1JD",
          "BT3 9DP",
          "BA3 4PL",
          "ME8 0RP",
          "HP18 0ZU",
          "CH49 6JZ",
          "SW1V 1DN",
          "YO12 7RS",
          "GU25 4JQ",
          "CR5 3BR",
          "NP11 4GG",
          "EX20 3HU",
          "SL6 9EZ",
          "SK14 4BT",
          "EH14 5BY",
          "M1 3AT",
          "M61 0PN",
          "BS13 9QR",
          "WD17 2TA",
          "CB9 9BY",
          "AL10 0AE",
          "SN15 2JT",
          "S4 8GY",
          "LE1 2NA",
          "WD7 9LA",
          "WA5 1WA",
          "NP16 6TE",
          "TW13 4JQ",
          "NN1 4LJ",
          "SR2 0LW",
          "SW15 4BW",
          "BH10 5NU",
          "SY1 1DX",
          "BB7 1DT",
          "BT41 3GM",
          "NE26 4DW",
          "GU15 3QJ",
          "TQ12 6YP",
          "DA1 5PJ",
          "SK17 8EG",
          "BD5 8AX",
          "CV9 3LP",
          "RH12 1NS",
          "NG2 6BL",
          "JE1 4HF",
          "NE29 0AJ",
          "CW5 8HT",
          "SK14 5LN",
          "S66 8FL",
          "NN7 3BN",
          "NP18 1BL",
          "CM3 6RS",
          "HU6 7SL",
          "NP4 9LZ",
          "RG28 7JG",
          "DN11 8HB",
          "ST16 3RY",
          "IG9 6AF",
          "BL6 5LS",
          "SE16 4LF",
          "YO10 3JQ",
          "ME15 6TB",
          "L5 2QA",
          "N15 4GE",
          "KY5 0NE",
          "DN11 8HB",
          "ST16 3RY",
          "IG9 6AF",
          "BL6 5LS",
          "SE16 4LF",
          "YO10 3JQ",
          "ME15 6TB",
          "L5 2QA",
          "N15 4GE",
          "KY5 0NE"
         ],
         "Regimen_Start_Date": {
          "type": "raw",
          "value": [
           "04/10/2025",
           "04/10/2025",
           "24/08/2021",
           "$NaN$",
           "24/07/2015",
           "17/01/2022",
           "29/11/2015",
           "12/02/2015",
           "25/10/2017",
           "21/12/2018",
           "10/03/2020",
           "10/03/2020",
           "11/07/2018",
           "24/08/2021",
           "06/10/2020",
           "23/11/2016",
           "02/12/2019",
           "27/05/2016",
           "14/10/2019",
           "07/11/2018",
           "17/04/2022",
           "25/12/2022",
           "09/06/2022",
           "07/07/2018",
           "22/09/2021",
           "01/04/2015",
           "07/09/2018",
           "14/11/2022",
           "01/03/2017",
           "01/09/2015",
           "01/09/2020",
           "17/05/2017",
           "19/02/2017",
           "29/04/2022",
           "15/07/2016",
           "23/10/2021",
           "23/07/2019",
           "21/06/2022",
           "16/04/2016",
           "06/07/2018",
           "15/09/2022",
           "27/10/2015",
           "07/11/2017",
           "10/06/2015",
           "09/04/2023",
           "08/03/2023",
           "11/08/2022",
           "10/07/2020",
           "11/02/2020",
           "10/07/2017",
           "12/04/2015",
           "16/04/2016",
           "28/08/2016",
           "28/03/2019",
           "31/12/2017",
           "25/04/2021",
           "11/03/2015",
           "03/03/2020",
           "26/10/2017",
           "24/12/2021",
           "27/07/2020",
           "30/10/2020",
           "16/08/2018",
           "09/06/2015",
           "24/04/2016",
           "09/05/2019",
           "08/11/2019",
           "27/11/2019",
           "04/05/2019",
           "07/02/2023",
           "04/03/2015",
           "08/05/2022",
           "06/11/2021",
           "26/06/2021",
           "23/05/2017",
           "23/12/2019",
           "14/05/2020",
           "04/01/2018",
           "04/08/2021",
           "29/04/2019",
           "01/10/2016",
           "02/10/2017",
           "16/11/2018",
           "14/09/2021",
           "07/12/2017",
           "17/02/2021",
           "04/09/2022",
           "08/09/2022",
           "31/12/2019",
           "10/04/2020",
           "25/12/2020",
           "25/10/2018",
           "11/04/2020",
           "07/03/2023",
           "10/12/2018",
           "12/09/2015",
           "26/03/2017",
           "10/06/2015",
           "01/09/2019",
           "10/04/2020",
           "25/12/2020",
           "25/10/2018",
           "11/04/2020",
           "07/03/2023",
           "10/12/2018",
           "12/09/2015",
           "26/03/2017",
           "10/06/2015",
           "01/09/2019"
          ]
         },
         "Tumour_M_Stage": [
          "M0",
          "M0",
          "M0",
          "M0",
          "M0",
          "M0",
          "M0",
          "M0",
          "M0",
          "M0",
          "M1",
          "M1",
          "M1",
          "M1",
          "M1a",
          "pM1a",
          "M1a",
          "M1b",
          "M1c",
          "pM1a",
          "M1a",
          "M1a",
          "M1b",
          "M1b",
          "M1b",
          "M1b",
          "M1b",
          "M1b",
          "M1b",
          "M1b",
          "M1b",
          "M1",
          "M1",
          "M1",
          "M1",
          "M1",
          "M1",
          "M1",
          "M1",
          "M1",
          "M1",
          "M1",
          "M1",
          "M1",
          "M1",
          "M1",
          "M1",
          "M1",
          "M1",
          "M1",
          "M1",
          "M1",
          "M1",
          "M1",
          "M1",
          "M1",
          "M1",
          "M1",
          "M1",
          "M1",
          "M1",
          "M1",
          "M1",
          "M1",
          "M1",
          "M1",
          "M1",
          "M1",
          "M1",
          "M1",
          "M1",
          "M1",
          "M1",
          "M1",
          "M1",
          "M1",
          "M1",
          "M1",
          "M1",
          "M1",
          "M0",
          "M0",
          "M0",
          "M0",
          "M0",
          "M0",
          "M0",
          "M0",
          "M0",
          "M0",
          "M0",
          "M0",
          "M0",
          "M0",
          "M0",
          "M0",
          "M0",
          "M0",
          "M0",
          "M0",
          "M0",
          "M0",
          "M0",
          "M0",
          "M0",
          "M0",
          "M0",
          "M0",
          "M0"
         ],
         "Tumour_Stage": {
          "type": "raw",
          "value": [
           "Incomplete Stage",
           "Incomplete Stage2",
           "Incomplete Stage2",
           "Incomplete Stage2",
           "Incomplete Stage2",
           "Incomplete Stage",
           "Incomplete Stage",
           "Incomplete Stage",
           "Incomplete Stage",
           "Incomplete Stage",
           "Stage 1",
           "Stage 2",
           "$NaN$",
           "$NaN$",
           "$NaN$",
           "$NaN$",
           "$NaN$",
           "$NaN$",
           "$NaN$",
           "$NaN$",
           "$NaN$",
           "$NaN$",
           "$NaN$",
           "Stage3",
           "Stage 4",
           "Stage 1",
           "Stage 2",
           "Stage3",
           "Stage 4",
           "Stage 3",
           "Stage3",
           "stage4",
           "Stage 1",
           "Stage 2",
           "Stage3",
           "Stage 4",
           "Stage 3",
           "Stage 3",
           "stage 4",
           "Stage 4",
           "Stage 1",
           "Stage 2",
           "Stage3",
           "Stage 4",
           "Stage 3",
           "Stage3",
           "stage4",
           "Stage 1",
           "Stage 2",
           "Stage3",
           "Stage 4",
           "Stage 3",
           "Stage 3",
           "stage 4",
           "Stage 4",
           "Stage 1",
           "Stage 2",
           "Stage3",
           "Stage 4",
           "Stage 3",
           "Stage3",
           "stage4",
           "Stage 1",
           "Stage 2",
           "Stage3",
           "Stage 4",
           "Stage 3",
           "Stage 3",
           "Stage 4",
           "Stage 0",
           "Stage 2",
           "Stage3",
           "Stage 4",
           "Stage 3",
           "Stage3",
           "stage4",
           "Stage 1",
           "Stage 2",
           "Stage3",
           "Stage 4",
           "Stage 3",
           "Stage 3",
           "stage 4",
           "Stage 4",
           "Stage 1",
           "Stage 2",
           "Stage3",
           "Stage 4",
           "Stage 0",
           "Stage 2",
           "Stage3",
           "Stage 4",
           "Stage 3",
           "Stage3",
           "stage4",
           "Stage 1",
           "Stage 2",
           "Stage3",
           "Stage 4",
           "Stage 3",
           "Stage 3",
           "stage 4",
           "Stage 4",
           "Stage 0",
           "Stage 2",
           "Stage3",
           "Stage 4",
           "Stage 3",
           "Stage3"
          ]
         },
         "Weight_kg": {
          "dtype": "float64",
          "shape": [
           109
          ],
          "type": null
         },
         "ipydguuid": {
          "dtype": "int32",
          "shape": [
           109
          ],
          "type": null
         },
         "key": {
          "dtype": "int32",
          "shape": [
           109
          ],
          "type": null
         }
        },
        "fields": [
         {
          "key": "$NaN$"
         },
         {
          "Patient_ID": "$NaN$"
         },
         {
          "NHS_number": "$NaN$"
         },
         {
          "Gender": "$NaN$"
         },
         {
          "Date_of_Diagnosis": "$NaN$"
         },
         {
          "Date_of_Birth": "$NaN$"
         },
         {
          "Age": "$NaN$"
         },
         {
          "Weight_kg": "$NaN$"
         },
         {
          "Height_cm": "$NaN$"
         },
         {
          "BMI": "$NaN$"
         },
         {
          "Postcode": "$NaN$"
         },
         {
          "ICD_10_Code": "$NaN$"
         },
         {
          "Tumour_Stage": "$NaN$"
         },
         {
          "Metastatic_Indicator": "$NaN$"
         },
         {
          "Tumour_M_Stage": "$NaN$"
         },
         {
          "Regimen_Start_Date": "$NaN$"
         },
         {
          "Datetime_Event1": "$NaN$"
         },
         {
          "Datetime_Logging1": "$NaN$"
         },
         {
          "Datetime_Event2": "$NaN$"
         },
         {
          "Datetime_Logging2": "$NaN$"
         },
         {
          "ipydguuid": "$NaN$"
         }
        ],
        "schema": {
         "fields": [
          {
           "name": "key",
           "type": "integer"
          },
          {
           "name": "Patient_ID",
           "type": "integer"
          },
          {
           "name": "NHS_number",
           "type": "string"
          },
          {
           "name": "Gender",
           "type": "string"
          },
          {
           "name": "Date_of_Diagnosis",
           "type": "string"
          },
          {
           "name": "Date_of_Birth",
           "type": "string"
          },
          {
           "name": "Age",
           "type": "number"
          },
          {
           "name": "Weight_kg",
           "type": "number"
          },
          {
           "name": "Height_cm",
           "type": "number"
          },
          {
           "name": "BMI",
           "type": "number"
          },
          {
           "name": "Postcode",
           "type": "string"
          },
          {
           "name": "ICD_10_Code",
           "type": "string"
          },
          {
           "name": "Tumour_Stage",
           "type": "string"
          },
          {
           "name": "Metastatic_Indicator",
           "type": "string"
          },
          {
           "name": "Tumour_M_Stage",
           "type": "string"
          },
          {
           "name": "Regimen_Start_Date",
           "type": "string"
          },
          {
           "name": "Datetime_Event1",
           "type": "string"
          },
          {
           "name": "Datetime_Logging1",
           "type": "string"
          },
          {
           "name": "Datetime_Event2",
           "type": "string"
          },
          {
           "name": "Datetime_Logging2",
           "type": "string"
          },
          {
           "name": "ipydguuid",
           "type": "integer"
          }
         ],
         "pandas_version": "1.4.0",
         "primaryKey": [
          "key",
          "ipydguuid"
         ],
         "primaryKeyUuid": "ipydguuid"
        }
       },
       "_dom_classes": [],
       "_model_module": "ipydatagrid",
       "_model_module_version": "^1.3.1",
       "_model_name": "DataGridModel",
       "_transforms": [],
       "_view_count": null,
       "_view_module": "ipydatagrid",
       "_view_module_version": "^1.3.1",
       "_view_name": "DataGridView",
       "_visible_rows": [],
       "auto_fit_columns": false,
       "auto_fit_params": {
        "area": "all",
        "numCols": null,
        "padding": 30
       },
       "base_column_header_size": 30,
       "base_column_size": 180,
       "base_row_header_size": 64,
       "base_row_size": 20,
       "column_widths": {},
       "corner_renderer": null,
       "default_renderer": "IPY_MODEL_f9a9cbd1fd624a7fb493e0b91507687c",
       "editable": false,
       "grid_style": {
        "header_background_color": "lightblue"
       },
       "header_renderer": "IPY_MODEL_55f048f6d9a84cd69091612d9d5d5dc2",
       "header_visibility": "column",
       "horizontal_stripes": false,
       "layout": "IPY_MODEL_0e655e261ffd4693bac7c1de81c28974",
       "renderers": {},
       "selection_mode": "none",
       "selections": [],
       "tabbable": null,
       "tooltip": null,
       "vertical_stripes": false
      }
     },
     "8bcaeba7e2f64711bd70a80f65e58be2": {
      "buffers": [
       {
        "data": "AAAAAAEAAAACAAAAAwAAAAQAAAAFAAAABgAAAAcAAAAIAAAACQAAAAoAAAALAAAADAAAAA0AAAAOAAAADwAAABAAAAARAAAAEgAAAA==",
        "encoding": "base64",
        "path": [
         "_data",
         "data",
         "key",
         "value"
        ]
       },
       {
        "data": "AAAAAAAA+H8AAAAAAAD4fwAAAAAAAPh/AAAAAAAA+H8AAAAAAAD4fwAAAAAAAPh/AAAAAAAA+H8AAAAAAAD4fwAAAAAAAPh/AAAAAAAA+H8AAAAAAAD4fwAAAAAAAPh/AAAAAAAA+H8AAAAAAAD4fwAAAAAAAPh/AAAAAAAA+H8AAAAAAAD4fwAAAAAAAPh/AAAAAAAA+H8=",
        "encoding": "base64",
        "path": [
         "_data",
         "data",
         "Completeness_Encoded_Mapping",
         "value"
        ]
       },
       {
        "data": "AAAAAAAA+H8AAAAAAAD4fwAAAAAAAPh/AAAAAAAA+H8AAAAAAAD4fwAAAAAAAPh/AAAAAAAA+H8AAAAAAAD4fwAAAAAAAPh/AAAAAAAA+H8AAAAAAAD4fwAAAAAAAPh/AAAAAAAA+H8AAAAAAAD4fwAAAAAAAPh/AAAAAAAA+H8AAAAAAAD4fwAAAAAAAPh/AAAAAAAA+H8=",
        "encoding": "base64",
        "path": [
         "_data",
         "data",
         "Consistency_Compare_Field",
         "value"
        ]
       },
       {
        "data": "AAAAAAAA+H8AAAAAAAD4fwAAAAAAAPh/AAAAAAAA+H8AAAAAAAD4fwAAAAAAAPh/AAAAAAAA+H8AAAAAAAD4fwAAAAAAAPh/AAAAAAAA+H8AAAAAAAD4fwAAAAAAAPh/AAAAAAAA+H8AAAAAAAD4fwAAAAAAAPh/AAAAAAAA+H8AAAAAAAD4fwAAAAAAAPh/AAAAAAAA+H8=",
        "encoding": "base64",
        "path": [
         "_data",
         "data",
         "Consistency_Compare_Mapping",
         "value"
        ]
       },
       {
        "data": "AAAAAAAA+H8AAAAAAAD4fwAAAAAAAPh/AAAAAAAA+H8AAAAAAAD4fwAAAAAAAPh/AAAAAAAA+H8AAAAAAAD4fwAAAAAAAPh/AAAAAAAA+H8AAAAAAAD4fwAAAAAAAPh/AAAAAAAA+H8AAAAAAAD4fwAAAAAAAPh/AAAAAAAA+H8AAAAAAAD4fwAAAAAAAPh/AAAAAAAA+H8=",
        "encoding": "base64",
        "path": [
         "_data",
         "data",
         "Consistency_Date_Relationship",
         "value"
        ]
       },
       {
        "data": "AAAAAAAA+H8AAAAAAAD4fwAAAAAAAPh/AAAAAAAA+H8AAAAAAAD4fwAAAAAAAPh/AAAAAAAA+H8AAAAAAAD4fwAAAAAAAPh/AAAAAAAA+H8AAAAAAAD4fwAAAAAAAPh/AAAAAAAA+H8AAAAAAAD4fwAAAAAAAPh/AAAAAAAA+H8AAAAAAAD4fwAAAAAAAPh/AAAAAAAA+H8=",
        "encoding": "base64",
        "path": [
         "_data",
         "data",
         "Consistency_Date_Relations_Field",
         "value"
        ]
       },
       {
        "data": "AAAAAAAA+H8AAAAAAAD4fwAAAAAAAPh/AAAAAAAA+H8AAAAAAAD4fwAAAAAAAPh/AAAAAAAA+H8AAAAAAAD4fwAAAAAAAPh/AAAAAAAA+H8AAAAAAAD4fwAAAAAAAPh/AAAAAAAA+H8AAAAAAAD4fwAAAAAAAPh/AAAAAAAA+H8AAAAAAAD4fwAAAAAAAPh/AAAAAAAA+H8=",
        "encoding": "base64",
        "path": [
         "_data",
         "data",
         "Timeliness_Date_Diff_Field",
         "value"
        ]
       },
       {
        "data": "AAAAAAAA+H8AAAAAAAD4fwAAAAAAAPh/AAAAAAAA+H8AAAAAAAD4fwAAAAAAAPh/AAAAAAAA+H8AAAAAAAD4fwAAAAAAAPh/AAAAAAAA+H8AAAAAAAD4fwAAAAAAAPh/AAAAAAAA+H8AAAAAAAD4fwAAAAAAAPh/AAAAAAAA+H8AAAAAAAD4fwAAAAAAAPh/AAAAAAAA+H8=",
        "encoding": "base64",
        "path": [
         "_data",
         "data",
         "Timeliness_Date_Diff_Threshold",
         "value"
        ]
       },
       {
        "data": "AAAAAAAA+H8AAAAAAAD4fwAAAAAAAPh/AAAAAAAA+H8AAAAAAAD4fwAAAAAAAPh/AAAAAAAA+H8AAAAAAAD4fwAAAAAAAPh/AAAAAAAA+H8AAAAAAAD4fwAAAAAAAPh/AAAAAAAA+H8AAAAAAAD4fwAAAAAAAPh/AAAAAAAA+H8AAAAAAAD4fwAAAAAAAPh/AAAAAAAA+H8=",
        "encoding": "base64",
        "path": [
         "_data",
         "data",
         "Validity_Date_Range_Min",
         "value"
        ]
       },
       {
        "data": "AAAAAAAA+H8AAAAAAAD4fwAAAAAAAPh/AAAAAAAA+H8AAAAAAAD4fwAAAAAAAPh/AAAAAAAA+H8AAAAAAAD4fwAAAAAAAPh/AAAAAAAA+H8AAAAAAAD4fwAAAAAAAPh/AAAAAAAA+H8AAAAAAAD4fwAAAAAAAPh/AAAAAAAA+H8AAAAAAAD4fwAAAAAAAPh/AAAAAAAA+H8=",
        "encoding": "base64",
        "path": [
         "_data",
         "data",
         "Validity_Date_Range_Max",
         "value"
        ]
       },
       {
        "data": "AAAAAAAA+H8AAAAAAAD4fwAAAAAAAPh/AAAAAAAA+H8AAAAAAAD4fwAAAAAAAPh/AAAAAAAA+H8AAAAAAAD4fwAAAAAAAPh/AAAAAAAA+H8AAAAAAAD4fwAAAAAAAPh/AAAAAAAA+H8AAAAAAAD4fwAAAAAAAPh/AAAAAAAA+H8AAAAAAAD4fwAAAAAAAPh/AAAAAAAA+H8=",
        "encoding": "base64",
        "path": [
         "_data",
         "data",
         "Validity_Lookup_Table_Filename",
         "value"
        ]
       },
       {
        "data": "AAAAAAAA+H8AAAAAAAD4fwAAAAAAAPh/AAAAAAAA+H8AAAAAAAD4fwAAAAAAAPh/AAAAAAAA+H8AAAAAAAD4fwAAAAAAAPh/AAAAAAAA+H8AAAAAAAD4fwAAAAAAAPh/AAAAAAAA+H8AAAAAAAD4fwAAAAAAAPh/AAAAAAAA+H8AAAAAAAD4fwAAAAAAAPh/AAAAAAAA+H8=",
        "encoding": "base64",
        "path": [
         "_data",
         "data",
         "Validity_Range_Numeric",
         "value"
        ]
       },
       {
        "data": "AAAAAAAA+H8AAAAAAAD4fwAAAAAAAPh/AAAAAAAA+H8AAAAAAAD4fwAAAAAAAPh/AAAAAAAA+H8AAAAAAAD4fwAAAAAAAPh/AAAAAAAA+H8AAAAAAAD4fwAAAAAAAPh/AAAAAAAA+H8AAAAAAAD4fwAAAAAAAPh/AAAAAAAA+H8AAAAAAAD4fwAAAAAAAPh/AAAAAAAA+H8=",
        "encoding": "base64",
        "path": [
         "_data",
         "data",
         "Validity_Pattern_Regex",
         "value"
        ]
       },
       {
        "data": "AAAAAAEAAAACAAAAAwAAAAQAAAAFAAAABgAAAAcAAAAIAAAACQAAAAoAAAALAAAADAAAAA0AAAAOAAAADwAAABAAAAARAAAAEgAAAA==",
        "encoding": "base64",
        "path": [
         "_data",
         "data",
         "ipydguuid",
         "value"
        ]
       }
      ],
      "model_module": "ipydatagrid",
      "model_module_version": "^1.3.1",
      "model_name": "DataGridModel",
      "state": {
       "_data": {
        "data": {
         "Accuracy_Gold_Standard": {
          "type": "raw",
          "value": [
           false,
           false,
           false,
           false,
           false,
           false,
           false,
           false,
           false,
           false,
           false,
           false,
           false,
           false,
           false,
           false,
           false,
           false,
           false
          ]
         },
         "Completeness_Empty": {
          "type": "raw",
          "value": [
           true,
           true,
           true,
           true,
           true,
           true,
           true,
           true,
           true,
           true,
           true,
           true,
           true,
           true,
           true,
           true,
           true,
           true,
           true
          ]
         },
         "Completeness_Encoded": {
          "type": "raw",
          "value": [
           false,
           false,
           false,
           false,
           false,
           false,
           false,
           false,
           false,
           false,
           false,
           false,
           false,
           false,
           false,
           false,
           false,
           false,
           false
          ]
         },
         "Completeness_Encoded_Mapping": {
          "dtype": "float64",
          "shape": [
           19
          ],
          "type": null
         },
         "Completeness_NULL": {
          "type": "raw",
          "value": [
           true,
           true,
           true,
           true,
           true,
           true,
           true,
           true,
           true,
           true,
           true,
           true,
           true,
           true,
           true,
           true,
           true,
           true,
           true
          ]
         },
         "Consistency_Compare": {
          "type": "raw",
          "value": [
           false,
           false,
           false,
           false,
           false,
           false,
           false,
           false,
           false,
           false,
           false,
           false,
           false,
           false,
           false,
           false,
           false,
           false,
           false
          ]
         },
         "Consistency_Compare_Field": {
          "dtype": "float64",
          "shape": [
           19
          ],
          "type": null
         },
         "Consistency_Compare_Mapping": {
          "dtype": "float64",
          "shape": [
           19
          ],
          "type": null
         },
         "Consistency_Date_Relations": {
          "type": "raw",
          "value": [
           false,
           false,
           false,
           false,
           false,
           false,
           false,
           false,
           false,
           false,
           false,
           false,
           false,
           false,
           false,
           false,
           false,
           false,
           false
          ]
         },
         "Consistency_Date_Relations_Field": {
          "dtype": "float64",
          "shape": [
           19
          ],
          "type": null
         },
         "Consistency_Date_Relationship": {
          "dtype": "float64",
          "shape": [
           19
          ],
          "type": null
         },
         "Date_Format": [
          "",
          "",
          "",
          "",
          "",
          "",
          "",
          "",
          "",
          "",
          "",
          "",
          "",
          "",
          "",
          "",
          "",
          "",
          ""
         ],
         "Field": [
          "Patient_ID",
          "NHS_number",
          "Gender",
          "Date_of_Diagnosis",
          "Date_of_Birth",
          "Age",
          "Weight_kg",
          "Height_cm",
          "BMI",
          "Postcode",
          "ICD_10_Code",
          "Tumour_Stage",
          "Metastatic_Indicator",
          "Tumour_M_Stage",
          "Regimen_Start_Date",
          "Datetime_Event1",
          "Datetime_Logging1",
          "Datetime_Event2",
          "Datetime_Logging2"
         ],
         "Timeliness_Date_Diff": {
          "type": "raw",
          "value": [
           false,
           false,
           false,
           false,
           false,
           false,
           false,
           false,
           false,
           false,
           false,
           false,
           false,
           false,
           false,
           false,
           false,
           false,
           false
          ]
         },
         "Timeliness_Date_Diff_Field": {
          "dtype": "float64",
          "shape": [
           19
          ],
          "type": null
         },
         "Timeliness_Date_Diff_Threshold": {
          "dtype": "float64",
          "shape": [
           19
          ],
          "type": null
         },
         "Uniqueness_Rows": {
          "type": "raw",
          "value": [
           true,
           true,
           true,
           true,
           true,
           true,
           true,
           true,
           true,
           true,
           true,
           true,
           true,
           true,
           true,
           true,
           true,
           true,
           true
          ]
         },
         "Validity_Date_Range": {
          "type": "raw",
          "value": [
           false,
           false,
           false,
           false,
           false,
           false,
           false,
           false,
           false,
           false,
           false,
           false,
           false,
           false,
           false,
           false,
           false,
           false,
           false
          ]
         },
         "Validity_Date_Range_Max": {
          "dtype": "float64",
          "shape": [
           19
          ],
          "type": null
         },
         "Validity_Date_Range_Min": {
          "dtype": "float64",
          "shape": [
           19
          ],
          "type": null
         },
         "Validity_Dates_Future": {
          "type": "raw",
          "value": [
           false,
           false,
           false,
           false,
           false,
           false,
           false,
           false,
           false,
           false,
           false,
           false,
           false,
           false,
           false,
           false,
           false,
           false,
           false
          ]
         },
         "Validity_Lookup_Table": {
          "type": "raw",
          "value": [
           false,
           false,
           false,
           false,
           false,
           false,
           false,
           false,
           false,
           false,
           false,
           false,
           false,
           false,
           false,
           false,
           false,
           false,
           false
          ]
         },
         "Validity_Lookup_Table_Filename": {
          "dtype": "float64",
          "shape": [
           19
          ],
          "type": null
         },
         "Validity_NHS_Number": {
          "type": "raw",
          "value": [
           false,
           false,
           false,
           false,
           false,
           false,
           false,
           false,
           false,
           false,
           false,
           false,
           false,
           false,
           false,
           false,
           false,
           false,
           false
          ]
         },
         "Validity_Pattern": {
          "type": "raw",
          "value": [
           false,
           false,
           false,
           false,
           false,
           false,
           false,
           false,
           false,
           false,
           false,
           false,
           false,
           false,
           false,
           false,
           false,
           false,
           false
          ]
         },
         "Validity_Pattern_Regex": {
          "dtype": "float64",
          "shape": [
           19
          ],
          "type": null
         },
         "Validity_Postcode_UK": {
          "type": "raw",
          "value": [
           false,
           false,
           false,
           false,
           false,
           false,
           false,
           false,
           false,
           false,
           false,
           false,
           false,
           false,
           false,
           false,
           false,
           false,
           false
          ]
         },
         "Validity_Range": {
          "type": "raw",
          "value": [
           false,
           false,
           false,
           false,
           false,
           false,
           false,
           false,
           false,
           false,
           false,
           false,
           false,
           false,
           false,
           false,
           false,
           false,
           false
          ]
         },
         "Validity_Range_Numeric": {
          "dtype": "float64",
          "shape": [
           19
          ],
          "type": null
         },
         "ipydguuid": {
          "dtype": "int32",
          "shape": [
           19
          ],
          "type": null
         },
         "key": {
          "dtype": "int32",
          "shape": [
           19
          ],
          "type": null
         }
        },
        "fields": [
         {
          "key": "$NaN$"
         },
         {
          "Field": "$NaN$"
         },
         {
          "Date_Format": "$NaN$"
         },
         {
          "Completeness_NULL": "$NaN$"
         },
         {
          "Completeness_Empty": "$NaN$"
         },
         {
          "Completeness_Encoded": "$NaN$"
         },
         {
          "Completeness_Encoded_Mapping": "$NaN$"
         },
         {
          "Uniqueness_Rows": "$NaN$"
         },
         {
          "Consistency_Compare": "$NaN$"
         },
         {
          "Consistency_Compare_Field": "$NaN$"
         },
         {
          "Consistency_Compare_Mapping": "$NaN$"
         },
         {
          "Consistency_Date_Relations": "$NaN$"
         },
         {
          "Consistency_Date_Relationship": "$NaN$"
         },
         {
          "Consistency_Date_Relations_Field": "$NaN$"
         },
         {
          "Timeliness_Date_Diff": "$NaN$"
         },
         {
          "Timeliness_Date_Diff_Field": "$NaN$"
         },
         {
          "Timeliness_Date_Diff_Threshold": "$NaN$"
         },
         {
          "Validity_Dates_Future": "$NaN$"
         },
         {
          "Validity_Date_Range": "$NaN$"
         },
         {
          "Validity_Date_Range_Min": "$NaN$"
         },
         {
          "Validity_Date_Range_Max": "$NaN$"
         },
         {
          "Validity_NHS_Number": "$NaN$"
         },
         {
          "Validity_Postcode_UK": "$NaN$"
         },
         {
          "Validity_Lookup_Table": "$NaN$"
         },
         {
          "Validity_Lookup_Table_Filename": "$NaN$"
         },
         {
          "Validity_Range": "$NaN$"
         },
         {
          "Validity_Range_Numeric": "$NaN$"
         },
         {
          "Validity_Pattern": "$NaN$"
         },
         {
          "Validity_Pattern_Regex": "$NaN$"
         },
         {
          "Accuracy_Gold_Standard": "$NaN$"
         },
         {
          "ipydguuid": "$NaN$"
         }
        ],
        "schema": {
         "fields": [
          {
           "name": "key",
           "type": "integer"
          },
          {
           "name": "Field",
           "type": "string"
          },
          {
           "name": "Date_Format",
           "type": "string"
          },
          {
           "name": "Completeness_NULL",
           "type": "boolean"
          },
          {
           "name": "Completeness_Empty",
           "type": "boolean"
          },
          {
           "name": "Completeness_Encoded",
           "type": "boolean"
          },
          {
           "name": "Completeness_Encoded_Mapping",
           "type": "number"
          },
          {
           "name": "Uniqueness_Rows",
           "type": "boolean"
          },
          {
           "name": "Consistency_Compare",
           "type": "boolean"
          },
          {
           "name": "Consistency_Compare_Field",
           "type": "number"
          },
          {
           "name": "Consistency_Compare_Mapping",
           "type": "number"
          },
          {
           "name": "Consistency_Date_Relations",
           "type": "boolean"
          },
          {
           "name": "Consistency_Date_Relationship",
           "type": "number"
          },
          {
           "name": "Consistency_Date_Relations_Field",
           "type": "number"
          },
          {
           "name": "Timeliness_Date_Diff",
           "type": "boolean"
          },
          {
           "name": "Timeliness_Date_Diff_Field",
           "type": "number"
          },
          {
           "name": "Timeliness_Date_Diff_Threshold",
           "type": "number"
          },
          {
           "name": "Validity_Dates_Future",
           "type": "boolean"
          },
          {
           "name": "Validity_Date_Range",
           "type": "boolean"
          },
          {
           "name": "Validity_Date_Range_Min",
           "type": "number"
          },
          {
           "name": "Validity_Date_Range_Max",
           "type": "number"
          },
          {
           "name": "Validity_NHS_Number",
           "type": "boolean"
          },
          {
           "name": "Validity_Postcode_UK",
           "type": "boolean"
          },
          {
           "name": "Validity_Lookup_Table",
           "type": "boolean"
          },
          {
           "name": "Validity_Lookup_Table_Filename",
           "type": "number"
          },
          {
           "name": "Validity_Range",
           "type": "boolean"
          },
          {
           "name": "Validity_Range_Numeric",
           "type": "number"
          },
          {
           "name": "Validity_Pattern",
           "type": "boolean"
          },
          {
           "name": "Validity_Pattern_Regex",
           "type": "number"
          },
          {
           "name": "Accuracy_Gold_Standard",
           "type": "boolean"
          },
          {
           "name": "ipydguuid",
           "type": "integer"
          }
         ],
         "pandas_version": "1.4.0",
         "primaryKey": [
          "key",
          "ipydguuid"
         ],
         "primaryKeyUuid": "ipydguuid"
        }
       },
       "_dom_classes": [],
       "_model_module": "ipydatagrid",
       "_model_module_version": "^1.3.1",
       "_model_name": "DataGridModel",
       "_transforms": [],
       "_view_count": null,
       "_view_module": "ipydatagrid",
       "_view_module_version": "^1.3.1",
       "_view_name": "DataGridView",
       "_visible_rows": [],
       "auto_fit_columns": false,
       "auto_fit_params": {
        "area": "all",
        "numCols": null,
        "padding": 30
       },
       "base_column_header_size": 30,
       "base_column_size": 180,
       "base_row_header_size": 64,
       "base_row_size": 20,
       "column_widths": {},
       "corner_renderer": null,
       "default_renderer": "IPY_MODEL_95daa3e30b174374a7c0984907c0d85f",
       "editable": true,
       "grid_style": {
        "header_background_color": "#fb9a99"
       },
       "header_renderer": "IPY_MODEL_e97ee58b7f06471a80745f93ef002b38",
       "header_visibility": "column",
       "horizontal_stripes": false,
       "layout": "IPY_MODEL_b7d65a2d33a64cfd9c408668dd074890",
       "renderers": {},
       "selection_mode": "cell",
       "selections": [],
       "tabbable": null,
       "tooltip": null,
       "vertical_stripes": false
      }
     },
     "8bdfceee0808432eab68b5aa576120cf": {
      "model_module": "ipydatagrid",
      "model_module_version": "^1.3.1",
      "model_name": "VegaExprModel",
      "state": {
       "_model_module": "ipydatagrid",
       "_model_module_version": "^1.3.1",
       "_model_name": "VegaExprModel",
       "_view_count": null,
       "_view_module": "ipydatagrid",
       "_view_module_version": "^1.3.1",
       "_view_name": "VegaExprView",
       "value": "default_value"
      }
     },
     "95daa3e30b174374a7c0984907c0d85f": {
      "model_module": "ipydatagrid",
      "model_module_version": "^1.3.1",
      "model_name": "TextRendererModel",
      "state": {
       "_model_module": "ipydatagrid",
       "_model_module_version": "^1.3.1",
       "_model_name": "TextRendererModel",
       "_view_count": null,
       "_view_module": "ipydatagrid",
       "_view_module_version": "^1.3.1",
       "_view_name": "TextRendererView",
       "background_color": "IPY_MODEL_05c7d0b4b3974b4ebee791b7d1284730",
       "font": "12px sans-serif",
       "format": null,
       "format_type": "number",
       "horizontal_alignment": "left",
       "missing": "",
       "text_color": "IPY_MODEL_53af2feec5ec4f10b4ace67b3e3bae6a",
       "text_elide_direction": "right",
       "text_value": null,
       "text_wrap": false,
       "vertical_alignment": "center"
      }
     },
     "a57fc39e6da94bdbbe202dabfa8fc10b": {
      "model_module": "ipydatagrid",
      "model_module_version": "^1.3.1",
      "model_name": "VegaExprModel",
      "state": {
       "_model_module": "ipydatagrid",
       "_model_module_version": "^1.3.1",
       "_model_name": "VegaExprModel",
       "_view_count": null,
       "_view_module": "ipydatagrid",
       "_view_module_version": "^1.3.1",
       "_view_name": "VegaExprView",
       "value": "default_value"
      }
     },
     "b4d378356572485ab8b77eed7a2ec728": {
      "model_module": "ipydatagrid",
      "model_module_version": "^1.3.1",
      "model_name": "VegaExprModel",
      "state": {
       "_model_module": "ipydatagrid",
       "_model_module_version": "^1.3.1",
       "_model_name": "VegaExprModel",
       "_view_count": null,
       "_view_module": "ipydatagrid",
       "_view_module_version": "^1.3.1",
       "_view_name": "VegaExprView",
       "value": "default_value"
      }
     },
     "b7d65a2d33a64cfd9c408668dd074890": {
      "model_module": "@jupyter-widgets/base",
      "model_module_version": "2.0.0",
      "model_name": "LayoutModel",
      "state": {
       "_model_module": "@jupyter-widgets/base",
       "_model_module_version": "2.0.0",
       "_model_name": "LayoutModel",
       "_view_count": null,
       "_view_module": "@jupyter-widgets/base",
       "_view_module_version": "2.0.0",
       "_view_name": "LayoutView",
       "align_content": null,
       "align_items": null,
       "align_self": null,
       "border_bottom": null,
       "border_left": null,
       "border_right": null,
       "border_top": null,
       "bottom": null,
       "display": null,
       "flex": null,
       "flex_flow": null,
       "grid_area": null,
       "grid_auto_columns": null,
       "grid_auto_flow": null,
       "grid_auto_rows": null,
       "grid_column": null,
       "grid_gap": null,
       "grid_row": null,
       "grid_template_areas": null,
       "grid_template_columns": null,
       "grid_template_rows": null,
       "height": null,
       "justify_content": null,
       "justify_items": null,
       "left": null,
       "margin": null,
       "max_height": null,
       "max_width": null,
       "min_height": null,
       "min_width": null,
       "object_fit": null,
       "object_position": null,
       "order": null,
       "overflow": null,
       "padding": null,
       "right": null,
       "top": null,
       "visibility": null,
       "width": null
      }
     },
     "bda1791b3c3642e9ba65cef0b60066ec": {
      "model_module": "ipydatagrid",
      "model_module_version": "^1.3.1",
      "model_name": "TextRendererModel",
      "state": {
       "_model_module": "ipydatagrid",
       "_model_module_version": "^1.3.1",
       "_model_name": "TextRendererModel",
       "_view_count": null,
       "_view_module": "ipydatagrid",
       "_view_module_version": "^1.3.1",
       "_view_name": "TextRendererView",
       "background_color": "#fb8072",
       "font": "12px sans-serif",
       "format": null,
       "format_type": "number",
       "horizontal_alignment": "left",
       "missing": "",
       "text_color": "IPY_MODEL_74afcfb8f0704d45b73cfe0fdfbe59a5",
       "text_elide_direction": "right",
       "text_value": null,
       "text_wrap": false,
       "vertical_alignment": "center"
      }
     },
     "c17f152c59df478d97dc0be9b38a123a": {
      "model_module": "ipydatagrid",
      "model_module_version": "^1.3.1",
      "model_name": "VegaExprModel",
      "state": {
       "_model_module": "ipydatagrid",
       "_model_module_version": "^1.3.1",
       "_model_name": "VegaExprModel",
       "_view_count": null,
       "_view_module": "ipydatagrid",
       "_view_module_version": "^1.3.1",
       "_view_name": "VegaExprView",
       "value": "default_value"
      }
     },
     "c19af3e8c4fe4055bb4a5eaee8c3e40d": {
      "model_module": "ipydatagrid",
      "model_module_version": "^1.3.1",
      "model_name": "VegaExprModel",
      "state": {
       "_model_module": "ipydatagrid",
       "_model_module_version": "^1.3.1",
       "_model_name": "VegaExprModel",
       "_view_count": null,
       "_view_module": "ipydatagrid",
       "_view_module_version": "^1.3.1",
       "_view_name": "VegaExprView",
       "value": "default_value"
      }
     },
     "c3091f18b1eb49c79a4571f54ba488ee": {
      "buffers": [
       {
        "data": "AAAAAAEAAAACAAAAAwAAAAQAAAAFAAAABgAAAAcAAAAIAAAACQAAAAoAAAALAAAADAAAAA0AAAAOAAAADwAAABAAAAARAAAAEgAAABMAAAAUAAAAFQAAABYAAAAXAAAAGAAAABkAAAAaAAAAGwAAABwAAAAdAAAAHgAAAB8AAAAgAAAAIQAAACIAAAAjAAAAJAAAACUAAAAmAAAAJwAAACgAAAApAAAAKgAAACsAAAAsAAAALQAAAC4AAAAvAAAAMAAAADEAAAAyAAAAMwAAADQAAAA1AAAANgAAADcAAAA4AAAAOQAAADoAAAA7AAAAPAAAAD0AAAA+AAAAPwAAAEAAAABBAAAAQgAAAEMAAABEAAAARQAAAEYAAABHAAAASAAAAEkAAABKAAAASwAAAEwAAABNAAAATgAAAE8AAABQAAAAUQAAAFIAAABTAAAAVAAAAFUAAABWAAAAVwAAAFgAAABZAAAAWgAAAFsAAABcAAAAXQAAAF4AAABfAAAAYAAAAGEAAABiAAAAYwAAAGQAAABlAAAAZgAAAGcAAABoAAAAaQAAAGoAAABrAAAAbAAAAA==",
        "encoding": "base64",
        "path": [
         "_data",
         "data",
         "key",
         "value"
        ]
       },
       {
        "data": "AAAAAAAAAAAAAAAAAAAAAAAAAAAAAAAAAAAAAAAAAAAAAAAAAAAAAAAAAAAAAAAAAAAAAAAAAAAAAAAAAAAAAAAAAAAAAAAAAAAAAAAAAAAAAAAAAAAAAAAAAAAAAAAAAAAAAAAAAAAAAAAAAAAAAAAAAAAAAAAAAAAAAAAAAAAAAAAAAAAAAAAAAAAAAAAAAAAAAAAAAAAAAAAAAAAAAAAAAAAAAAAAAAAAAAAAAAAAAAAAAAAAAAAAAAAAAAAAAAAAAAAAAAAAAAAAAAAAAAAAAAAAAAAAAAAAAAAAAAAAAAAAAAAAAAAAAAAAAAAAAAAAAAAAAAAAAAAAAAAAAAAAAAAAAAAAAAAAAAAAAAAAAAAAAAAAAAAAAAAAAAAAAAAAAAAAAAAAAAAAAAAAAAAAAAAAAAAAAAAAAAAAAAAAAAAAAAAAAAAAAAAAAAAAAAAAAAAAAAAAAAAAAAAAAAAAAAAAAAAAAAAAAAAAAAAAAAAAAAAAAAAAAAAAAAAAAAAAAAAAAAAAAAAAAAAAAAAAAAAAAAAAAAAAAAAAAAAAAAAAAAAAAAAAAAAAAAAAAAAAAA==",
        "encoding": "base64",
        "path": [
         "_data",
         "data",
         "Completeness_NULL_|_Patient_ID",
         "value"
        ]
       },
       {
        "data": "AAAAAAAAAAAAAAAAAAAAAAAAAAAAAAAAAAAAAAAAAAAAAAAAAAAAAAAAAAAAAAAAAAAAAAAAAAAAAAAAAAAAAAAAAAAAAAAAAAAAAAAAAAAAAAAAAAAAAAAAAAAAAAAAAAAAAAAAAAAAAAAAAAAAAAAAAAAAAAAAAAAAAAAAAAAAAAAAAAAAAAAAAAAAAAAAAAAAAAAAAAAAAAAAAAAAAAEAAAAAAAAAAAAAAAAAAAAAAAAAAAAAAAAAAAAAAAAAAAAAAAAAAAAAAAAAAAAAAAAAAAAAAAAAAAAAAAEAAAAAAAAAAAAAAAAAAAAAAAAAAAAAAAAAAAAAAAAAAAAAAAAAAAAAAAAAAAAAAAAAAAAAAAAAAAAAAAAAAAAAAAAAAAAAAAAAAAAAAAAAAAAAAAAAAAAAAAAAAAAAAAAAAAAAAAAAAAAAAAAAAAAAAAAAAAAAAAAAAAAAAAAAAQAAAAAAAAAAAAAAAAAAAAAAAAAAAAAAAAAAAAAAAAAAAAAAAAAAAAAAAAAAAAAAAAAAAAAAAAAAAAAAAAAAAAAAAAAAAAAAAAAAAAAAAAAAAAAAAAAAAA==",
        "encoding": "base64",
        "path": [
         "_data",
         "data",
         "Completeness_NULL_|_NHS_number",
         "value"
        ]
       },
       {
        "data": "AAAAAAAAAAAAAAAAAAAAAAAAAAAAAAAAAAAAAAAAAAAAAAAAAAAAAAEAAAABAAAAAAAAAAAAAAAAAAAAAAAAAAAAAAAAAAAAAAAAAAAAAAAAAAAAAAAAAAAAAAAAAAAAAAAAAAAAAAAAAAAAAQAAAAAAAAAAAAAAAAAAAAAAAAAAAAAAAAAAAAAAAAAAAAAAAAAAAAEAAAAAAAAAAAAAAAAAAAAAAAAAAAAAAAAAAAAAAAAAAAAAAAEAAAAAAAAAAAAAAAAAAAAAAAAAAAAAAAAAAAAAAAAAAAAAAAEAAAAAAAAAAQAAAAAAAAAAAAAAAAAAAAAAAAAAAAAAAAAAAAAAAAAAAAAAAAAAAAAAAAAAAAAAAQAAAAAAAAAAAAAAAAAAAAAAAAAAAAAAAAAAAAAAAAAAAAAAAAAAAAAAAAAAAAAAAAAAAAEAAAAAAAAAAAAAAAAAAAAAAAAAAAAAAAAAAAAAAAAAAAAAAAEAAAAAAAAAAAAAAAAAAAAAAAAAAAAAAAAAAAAAAAAAAAAAAAAAAAABAAAAAAAAAAAAAAAAAAAAAAAAAAAAAAAAAAAAAAAAAA==",
        "encoding": "base64",
        "path": [
         "_data",
         "data",
         "Completeness_NULL_|_Gender",
         "value"
        ]
       },
       {
        "data": "AAAAAAEAAAAAAAAAAAAAAAAAAAAAAAAAAAAAAAAAAAAAAAAAAAAAAAAAAAAAAAAAAAAAAAAAAAAAAAAAAAAAAAAAAAAAAAAAAAAAAAAAAAAAAAAAAAAAAAAAAAAAAAAAAAAAAAAAAAAAAAAAAAAAAAAAAAAAAAAAAAAAAAAAAAAAAAAAAAAAAAAAAAAAAAAAAAAAAAAAAAAAAAAAAAAAAAAAAAAAAAAAAAAAAAAAAAAAAAAAAAAAAAAAAAAAAAAAAAAAAAAAAAAAAAAAAAAAAAAAAAAAAAAAAAAAAAAAAAAAAAAAAAAAAAAAAAAAAAAAAAAAAAAAAAAAAAAAAAAAAAAAAAAAAAAAAAAAAAAAAAAAAAAAAAAAAAAAAAAAAAAAAAAAAAAAAAAAAAAAAAAAAAAAAAAAAAAAAAAAAAAAAAAAAAAAAAAAAAAAAAAAAAAAAAAAAAAAAAAAAAAAAQAAAAAAAAAAAAAAAAAAAAAAAAAAAAAAAAAAAAAAAAAAAAAAAAAAAAAAAAAAAAAAAAAAAAAAAAAAAAAAAAAAAAAAAAAAAAAAAAAAAAAAAAAAAAAAAAAAAA==",
        "encoding": "base64",
        "path": [
         "_data",
         "data",
         "Completeness_NULL_|_Date_of_Diagnosis",
         "value"
        ]
       },
       {
        "data": "AAAAAAAAAAABAAAAAAAAAAAAAAAAAAAAAAAAAAAAAAAAAAAAAAAAAAAAAAAAAAAAAAAAAAAAAAAAAAAAAAAAAAAAAAAAAAAAAAAAAAAAAAAAAAAAAAAAAAAAAAAAAAAAAAAAAAAAAAAAAAAAAAAAAAAAAAAAAAAAAAAAAAAAAAAAAAAAAAAAAAAAAAAAAAAAAAAAAAAAAAAAAAAAAAAAAAAAAAAAAAAAAAAAAAAAAAAAAAAAAAAAAAAAAAAAAAAAAAAAAAAAAAAAAAAAAAAAAAAAAAAAAAAAAAAAAAAAAAAAAAAAAAAAAAAAAAAAAAAAAAAAAAAAAAAAAAAAAAAAAAAAAAAAAAAAAAAAAAAAAAAAAAAAAAAAAAAAAAAAAAAAAAAAAAAAAAAAAAAAAAAAAAAAAAAAAAAAAAAAAAAAAAAAAAAAAAAAAAAAAAAAAAAAAAAAAAAAAAAAAAAAAAAAAAAAAAAAAAAAAAAAAAAAAAAAAAAAAAAAAAAAAAAAAAAAAAAAAAAAAAAAAAAAAAAAAAAAAAAAAAAAAAAAAAAAAAAAAAAAAAAAAAAAAAAAAAAAAAAAAA==",
        "encoding": "base64",
        "path": [
         "_data",
         "data",
         "Completeness_NULL_|_Date_of_Birth",
         "value"
        ]
       },
       {
        "data": "AAAAAAAAAAAAAAAAAAAAAAEAAAAAAAAAAAAAAAEAAAAAAAAAAAAAAAAAAAAAAAAAAAAAAAAAAAAAAAAAAAAAAAAAAAABAAAAAAAAAAAAAAAAAAAAAAAAAAAAAAAAAAAAAAAAAAAAAAAAAAAAAAAAAAAAAAAAAAAAAAAAAAAAAAAAAAAAAQAAAAAAAAAAAAAAAQAAAAAAAAAAAAAAAAAAAAAAAAAAAAAAAAAAAAAAAAABAAAAAAAAAAAAAAAAAAAAAAAAAAAAAAAAAAAAAAAAAAAAAAABAAAAAAAAAAAAAAAAAAAAAAAAAAAAAAAAAAAAAAAAAAEAAAAAAAAAAAAAAAAAAAAAAAAAAAAAAAAAAAABAAAAAAAAAAAAAAAAAAAAAAAAAAAAAAAAAAAAAAAAAAAAAAAAAAAAAQAAAAAAAAAAAAAAAAAAAAAAAAAAAAAAAAAAAAAAAAAAAAAAAAAAAAAAAAAAAAAAAAAAAAEAAAAAAAAAAAAAAAAAAAAAAAAAAAAAAAAAAAAAAAAAAAAAAAAAAAAAAAAAAAAAAAAAAAAAAAAAAAAAAAAAAAAAAAAAAAAAAA==",
        "encoding": "base64",
        "path": [
         "_data",
         "data",
         "Completeness_NULL_|_Age",
         "value"
        ]
       },
       {
        "data": "AQAAAAAAAAAAAAAAAAAAAAAAAAAAAAAAAQAAAAAAAAAAAAAAAAAAAAAAAAAAAAAAAAAAAAAAAAAAAAAAAAAAAAAAAAAAAAAAAAAAAAAAAAAAAAAAAQAAAAAAAAAAAAAAAAAAAAAAAAAAAAAAAAAAAAAAAAAAAAAAAAAAAAAAAAABAAAAAQAAAAAAAAAAAAAAAAAAAAEAAAAAAAAAAAAAAAAAAAAAAAAAAQAAAAAAAAAAAAAAAAAAAAAAAAAAAAAAAAAAAAAAAAAAAAAAAAAAAAAAAAAAAAAAAAAAAAAAAAAAAAAAAAAAAAEAAAABAAAAAAAAAAAAAAAAAAAAAAAAAAAAAAAAAAAAAAAAAAAAAAAAAAAAAAAAAAAAAAAAAAAAAAAAAAAAAAAAAAAAAAAAAAAAAAABAAAAAAAAAAAAAAAAAAAAAAAAAAAAAAAAAAAAAAAAAAAAAAAAAAAAAAAAAAAAAAAAAAAAAAAAAAEAAAAAAAAAAAAAAAAAAAAAAAAAAAAAAAAAAAAAAAAAAAAAAAAAAAAAAAAAAAAAAAAAAAAAAAAAAAAAAAAAAAAAAAAAAAAAAA==",
        "encoding": "base64",
        "path": [
         "_data",
         "data",
         "Completeness_NULL_|_Weight_kg",
         "value"
        ]
       },
       {
        "data": "AAAAAAAAAAAAAAAAAAAAAAAAAAAAAAAAAAAAAAAAAAAAAAAAAAAAAAAAAAAAAAAAAAAAAAAAAAAAAAAAAAAAAAAAAAAAAAAAAAAAAAAAAAAAAAAAAAAAAAEAAAAAAAAAAQAAAAAAAAAAAAAAAAAAAAAAAAAAAAAAAAAAAAAAAAAAAAAAAAAAAAAAAAAAAAAAAAAAAAAAAAAAAAAAAAAAAAAAAAAAAAAAAAAAAAEAAAAAAAAAAAAAAAAAAAAAAAAAAAAAAAAAAAAAAAAAAAAAAAAAAAAAAAAAAAAAAAAAAAAAAAAAAAAAAAAAAAABAAAAAAAAAAAAAAAAAAAAAQAAAAAAAAABAAAAAAAAAAAAAAAAAAAAAAAAAAAAAAAAAAAAAAAAAAAAAAAAAAAAAAAAAAAAAAAAAAAAAAAAAAAAAAAAAAAAAAAAAAAAAAAAAAAAAAAAAAAAAAAAAAAAAAAAAAAAAAAAAAAAAAAAAAAAAAAAAAAAAAAAAAAAAAAAAAAAAQAAAAAAAAABAAAAAAAAAAAAAAAAAAAAAAAAAAEAAAAAAAAAAQAAAAAAAAAAAAAAAAAAAA==",
        "encoding": "base64",
        "path": [
         "_data",
         "data",
         "Completeness_NULL_|_Height_cm",
         "value"
        ]
       },
       {
        "data": "AAAAAAAAAAAAAAAAAAAAAAAAAAAAAAAAAAAAAAAAAAAAAAAAAQAAAAAAAAAAAAAAAAAAAAAAAAAAAAAAAAAAAAAAAAAAAAAAAQAAAAAAAAAAAAAAAAAAAAAAAAAAAAAAAAAAAAAAAAAAAAAAAAAAAAEAAAAAAAAAAAAAAAAAAAAAAAAAAAAAAAAAAAAAAAAAAAAAAAAAAAAAAAAAAAAAAAAAAAAAAAAAAAAAAAAAAAAAAAAAAAAAAAAAAAAAAAAAAAAAAAAAAAAAAAAAAAAAAAEAAAAAAAAAAAAAAAAAAAAAAAAAAAAAAAAAAAAAAAAAAAAAAAAAAAAAAAAAAAAAAAAAAAAAAAAAAAAAAAAAAAAAAAAAAQAAAAEAAAAAAAAAAQAAAAAAAAAAAAAAAAAAAAAAAAAAAAAAAAAAAAEAAAAAAAAAAAAAAAAAAAABAAAAAAAAAAAAAAAAAAAAAAAAAAAAAAAAAAAAAAAAAAAAAAAAAAAAAAAAAAAAAAAAAAAAAAAAAAAAAAAAAAAAAAAAAAAAAAAAAAAAAAAAAAAAAAAAAAAAAAAAAAAAAAAAAAAAAAAAAA==",
        "encoding": "base64",
        "path": [
         "_data",
         "data",
         "Completeness_NULL_|_BMI",
         "value"
        ]
       },
       {
        "data": "AAAAAAAAAAAAAAAAAAAAAAAAAAAAAAAAAAAAAAAAAAAAAAAAAAAAAAAAAAAAAAAAAAAAAAAAAAAAAAAAAAAAAAAAAAAAAAAAAAAAAAAAAAAAAAAAAAAAAAAAAAAAAAAAAAAAAAAAAAAAAAAAAAAAAAAAAAAAAAAAAAAAAAAAAAAAAAAAAAAAAAAAAAAAAAAAAAAAAAAAAAAAAAAAAAAAAAAAAAAAAAAAAAAAAAAAAAAAAAAAAAAAAAAAAAAAAAAAAAAAAAAAAAAAAAAAAAAAAAAAAAAAAAAAAAAAAAAAAAAAAAAAAAAAAAAAAAAAAAAAAAAAAAAAAAAAAAAAAAAAAAAAAAAAAAAAAAAAAAAAAAAAAAAAAAAAAAAAAAAAAAAAAAAAAAAAAAAAAAAAAAAAAAAAAAAAAAAAAAAAAAAAAAAAAAAAAAAAAAAAAAAAAAAAAAAAAAAAAAAAAAAAAAAAAAAAAAAAAAAAAAAAAAAAAAAAAAAAAAAAAAAAAAAAAAAAAAAAAAAAAAAAAAAAAAAAAAAAAAAAAAAAAAAAAAAAAAAAAAAAAAAAAAAAAAAAAAAAAAAAAA==",
        "encoding": "base64",
        "path": [
         "_data",
         "data",
         "Completeness_NULL_|_Postcode",
         "value"
        ]
       },
       {
        "data": "AAAAAAAAAAAAAAAAAAAAAAAAAAAAAAAAAAAAAAAAAAAAAAAAAAAAAAAAAAAAAAAAAAAAAAAAAAAAAAAAAAAAAAEAAAAAAAAAAAAAAAAAAAAAAAAAAAAAAAAAAAAAAAAAAAAAAAAAAAAAAAAAAAAAAAAAAAAAAAAAAAAAAAAAAAAAAAAAAAAAAAAAAAAAAAAAAAAAAAAAAAAAAAAAAAAAAAAAAAAAAAAAAAAAAAAAAAAAAAAAAAAAAAAAAAAAAAAAAQAAAAAAAAAAAAAAAAAAAAAAAAAAAAAAAAAAAAAAAAAAAAAAAAAAAAAAAAAAAAAAAAAAAAAAAAAAAAAAAAAAAAAAAAAAAAAAAAAAAAAAAAAAAAAAAAAAAAAAAAAAAAAAAAAAAAAAAAAAAAAAAAAAAAAAAAAAAAAAAAAAAAAAAAAAAAAAAAAAAAAAAAAAAAAAAAAAAAAAAAAAAAAAAAAAAAAAAAAAAAAAAAAAAAAAAAAAAAAAAAAAAAAAAAAAAAAAAAAAAAAAAAAAAAAAAAAAAAAAAAAAAAAAAAAAAAAAAAAAAAAAAAAAAAAAAAAAAAAAAAAAAA==",
        "encoding": "base64",
        "path": [
         "_data",
         "data",
         "Completeness_NULL_|_ICD_10_Code",
         "value"
        ]
       },
       {
        "data": "AAAAAAAAAAAAAAAAAAAAAAAAAAAAAAAAAAAAAAAAAAAAAAAAAAAAAAAAAAAAAAAAAQAAAAEAAAABAAAAAQAAAAEAAAABAAAAAQAAAAEAAAABAAAAAQAAAAEAAAAAAAAAAAAAAAAAAAAAAAAAAAAAAAAAAAAAAAAAAAAAAAAAAAAAAAAAAAAAAAAAAAAAAAAAAAAAAAAAAAAAAAAAAAAAAAAAAAAAAAAAAAAAAAAAAAAAAAAAAAAAAAAAAAAAAAAAAAAAAAAAAAAAAAAAAAAAAAAAAAAAAAAAAAAAAAAAAAAAAAAAAAAAAAAAAAAAAAAAAAAAAAAAAAAAAAAAAAAAAAAAAAAAAAAAAAAAAAAAAAAAAAAAAAAAAAAAAAAAAAAAAAAAAAAAAAAAAAAAAAAAAAAAAAAAAAAAAAAAAAAAAAAAAAAAAAAAAAAAAAAAAAAAAAAAAAAAAAAAAAAAAAAAAAAAAAAAAAAAAAAAAAAAAAAAAAAAAAAAAAAAAAAAAAAAAAAAAAAAAAAAAAAAAAAAAAAAAAAAAAAAAAAAAAAAAAAAAAAAAAAAAAAAAAAAAAAAAAAAAA==",
        "encoding": "base64",
        "path": [
         "_data",
         "data",
         "Completeness_NULL_|_Tumour_Stage",
         "value"
        ]
       },
       {
        "data": "AAAAAAAAAAAAAAAAAAAAAAAAAAAAAAAAAAAAAAAAAAAAAAAAAAAAAAAAAAAAAAAAAAAAAAAAAAAAAAAAAAAAAAAAAAAAAAAAAAAAAAAAAAAAAAAAAAAAAAAAAAAAAAAAAAAAAAAAAAAAAAAAAAAAAAAAAAAAAAAAAAAAAAAAAAAAAAAAAAAAAAAAAAAAAAAAAAAAAAAAAAAAAAAAAAAAAAAAAAAAAAAAAAAAAAAAAAAAAAAAAAAAAAAAAAAAAAAAAAAAAAAAAAAAAAAAAAAAAAAAAAAAAAAAAAAAAAAAAAAAAAAAAAAAAAAAAAAAAAAAAAAAAAAAAAAAAAAAAAAAAAAAAAAAAAAAAAAAAAAAAAAAAAAAAAAAAAAAAAAAAAAAAAAAAAAAAAAAAAAAAAAAAAAAAAAAAAAAAAAAAAAAAAAAAAAAAAAAAAAAAAAAAAAAAAAAAAAAAAAAAAAAAAAAAAAAAAAAAAAAAAAAAAAAAAAAAAAAAAAAAAAAAAAAAAAAAAAAAAAAAAAAAAAAAAAAAAAAAAAAAAAAAAAAAAAAAAAAAAAAAAAAAAAAAAAAAAAAAAAAAA==",
        "encoding": "base64",
        "path": [
         "_data",
         "data",
         "Completeness_NULL_|_Metastatic_Indicator",
         "value"
        ]
       },
       {
        "data": "AAAAAAAAAAAAAAAAAAAAAAAAAAAAAAAAAAAAAAAAAAAAAAAAAAAAAAAAAAAAAAAAAAAAAAAAAAAAAAAAAAAAAAAAAAAAAAAAAAAAAAAAAAAAAAAAAAAAAAAAAAAAAAAAAAAAAAAAAAAAAAAAAAAAAAAAAAAAAAAAAAAAAAAAAAAAAAAAAAAAAAAAAAAAAAAAAAAAAAAAAAAAAAAAAAAAAAAAAAAAAAAAAAAAAAAAAAAAAAAAAAAAAAAAAAAAAAAAAAAAAAAAAAAAAAAAAAAAAAAAAAAAAAAAAAAAAAAAAAAAAAAAAAAAAAAAAAAAAAAAAAAAAAAAAAAAAAAAAAAAAAAAAAAAAAAAAAAAAAAAAAAAAAAAAAAAAAAAAAAAAAAAAAAAAAAAAAAAAAAAAAAAAAAAAAAAAAAAAAAAAAAAAAAAAAAAAAAAAAAAAAAAAAAAAAAAAAAAAAAAAAAAAAAAAAAAAAAAAAAAAAAAAAAAAAAAAAAAAAAAAAAAAAAAAAAAAAAAAAAAAAAAAAAAAAAAAAAAAAAAAAAAAAAAAAAAAAAAAAAAAAAAAAAAAAAAAAAAAAAAAA==",
        "encoding": "base64",
        "path": [
         "_data",
         "data",
         "Completeness_NULL_|_Tumour_M_Stage",
         "value"
        ]
       },
       {
        "data": "AAAAAAAAAAAAAAAAAQAAAAAAAAAAAAAAAAAAAAAAAAAAAAAAAAAAAAAAAAAAAAAAAAAAAAAAAAAAAAAAAAAAAAAAAAAAAAAAAAAAAAAAAAAAAAAAAAAAAAAAAAAAAAAAAAAAAAAAAAAAAAAAAAAAAAAAAAAAAAAAAAAAAAAAAAAAAAAAAAAAAAAAAAAAAAAAAAAAAAAAAAAAAAAAAAAAAAAAAAAAAAAAAAAAAAAAAAAAAAAAAAAAAAAAAAAAAAAAAAAAAAAAAAAAAAAAAAAAAAAAAAAAAAAAAAAAAAAAAAAAAAAAAAAAAAAAAAAAAAAAAAAAAAAAAAAAAAAAAAAAAAAAAAAAAAAAAAAAAAAAAAAAAAAAAAAAAAAAAAAAAAAAAAAAAAAAAAAAAAAAAAAAAAAAAAAAAAAAAAAAAAAAAAAAAAAAAAAAAAAAAAAAAAAAAAAAAAAAAAAAAAAAAAAAAAAAAAAAAAAAAAAAAAAAAAAAAAAAAAAAAAAAAAAAAAAAAAAAAAAAAAAAAAAAAAAAAAAAAAAAAAAAAAAAAAAAAAAAAAAAAAAAAAAAAAAAAAAAAAAAAA==",
        "encoding": "base64",
        "path": [
         "_data",
         "data",
         "Completeness_NULL_|_Regimen_Start_Date",
         "value"
        ]
       },
       {
        "data": "AAAAAAAAAAAAAAAAAAAAAAAAAAAAAAAAAAAAAAAAAAAAAAAAAAAAAAAAAAAAAAAAAAAAAAAAAAAAAAAAAAAAAAAAAAAAAAAAAAAAAAAAAAAAAAAAAAAAAAAAAAAAAAAAAAAAAAAAAAAAAAAAAAAAAAAAAAAAAAAAAAAAAAAAAAAAAAAAAAAAAAAAAAAAAAAAAAAAAAAAAAAAAAAAAAAAAAAAAAAAAAAAAAAAAAAAAAAAAAAAAAAAAAAAAAAAAAAAAAAAAAAAAAAAAAAAAAAAAAAAAAAAAAAAAAAAAAAAAAAAAAAAAAAAAAAAAAAAAAAAAAAAAAAAAAAAAAAAAAAAAAAAAAAAAAAAAAAAAAAAAAAAAAAAAAAAAAAAAAAAAAAAAAAAAAAAAAAAAAAAAAAAAAAAAAAAAAAAAAAAAAAAAAAAAAAAAAAAAAAAAAAAAAAAAAAAAAAAAAAAAAAAAAAAAAAAAAAAAAAAAAAAAAAAAAAAAAAAAAAAAAAAAAAAAAAAAAAAAAAAAAAAAAAAAAAAAAAAAAAAAAAAAAAAAAAAAAAAAAAAAAAAAAAAAAAAAAAAAAAAAA==",
        "encoding": "base64",
        "path": [
         "_data",
         "data",
         "Completeness_NULL_|_Datetime_Event1",
         "value"
        ]
       },
       {
        "data": "AAAAAAAAAAAAAAAAAAAAAAAAAAAAAAAAAAAAAAAAAAAAAAAAAAAAAAAAAAAAAAAAAAAAAAAAAAAAAAAAAAAAAAAAAAAAAAAAAAAAAAAAAAAAAAAAAAAAAAAAAAAAAAAAAAAAAAAAAAAAAAAAAAAAAAAAAAAAAAAAAAAAAAAAAAAAAAAAAAAAAAAAAAAAAAAAAAAAAAAAAAAAAAAAAAAAAAAAAAAAAAAAAAAAAAAAAAAAAAAAAAAAAAAAAAAAAAAAAAAAAAAAAAAAAAAAAAAAAAAAAAAAAAAAAAAAAAAAAAAAAAAAAAAAAAAAAAAAAAAAAAAAAAAAAAAAAAAAAAAAAAAAAAAAAAAAAAAAAAAAAAAAAAAAAAAAAAAAAAAAAAAAAAAAAAAAAAAAAAAAAAAAAAAAAAAAAAAAAAAAAAAAAAAAAAAAAAAAAAAAAAAAAAAAAAAAAAAAAAAAAAAAAAAAAAAAAAAAAAAAAAAAAAAAAAAAAAAAAAAAAAAAAAAAAAAAAAAAAAAAAAAAAAAAAAAAAAAAAAAAAAAAAAAAAAAAAAAAAAAAAAAAAAAAAAAAAAAAAAAAAA==",
        "encoding": "base64",
        "path": [
         "_data",
         "data",
         "Completeness_NULL_|_Datetime_Logging1",
         "value"
        ]
       },
       {
        "data": "AAAAAAAAAAAAAAAAAAAAAAAAAAAAAAAAAAAAAAAAAAAAAAAAAAAAAAAAAAAAAAAAAAAAAAAAAAAAAAAAAAAAAAAAAAAAAAAAAAAAAAAAAAAAAAAAAAAAAAAAAAAAAAAAAAAAAAAAAAAAAAAAAAAAAAAAAAAAAAAAAAAAAAAAAAAAAAAAAAAAAAAAAAAAAAAAAAAAAAAAAAAAAAAAAAAAAAAAAAAAAAAAAAAAAAAAAAAAAAAAAAAAAAAAAAAAAAAAAAAAAAAAAAAAAAAAAAAAAAAAAAAAAAAAAAAAAAAAAAAAAAAAAAAAAAAAAAAAAAAAAAAAAAAAAAAAAAAAAAAAAAAAAAAAAAAAAAAAAAAAAAAAAAAAAAAAAAAAAAAAAAAAAAAAAAAAAAAAAAAAAAAAAAAAAAAAAAAAAAAAAAAAAAAAAAAAAAAAAAAAAAAAAAAAAAAAAAAAAAAAAAAAAAAAAAAAAAAAAAAAAAAAAAAAAAAAAAAAAAAAAAAAAAAAAAAAAAAAAAAAAAAAAAAAAAAAAAAAAAAAAAAAAAAAAAAAAAAAAAAAAAAAAAAAAAAAAAAAAAAAAA==",
        "encoding": "base64",
        "path": [
         "_data",
         "data",
         "Completeness_NULL_|_Datetime_Event2",
         "value"
        ]
       },
       {
        "data": "AAAAAAAAAAAAAAAAAAAAAAAAAAAAAAAAAAAAAAAAAAAAAAAAAAAAAAAAAAAAAAAAAAAAAAAAAAAAAAAAAAAAAAAAAAAAAAAAAAAAAAAAAAAAAAAAAAAAAAAAAAAAAAAAAAAAAAAAAAAAAAAAAAAAAAAAAAAAAAAAAAAAAAAAAAAAAAAAAAAAAAAAAAAAAAAAAAAAAAAAAAAAAAAAAAAAAAAAAAAAAAAAAAAAAAAAAAAAAAAAAAAAAAAAAAAAAAAAAAAAAAAAAAAAAAAAAAAAAAAAAAAAAAAAAAAAAAAAAAAAAAAAAAAAAAAAAAAAAAAAAAAAAAAAAAAAAAAAAAAAAAAAAAAAAAAAAAAAAAAAAAAAAAAAAAAAAAAAAAAAAAAAAAAAAAAAAAAAAAAAAAAAAAAAAAAAAAAAAAAAAAAAAAAAAAAAAAAAAAAAAAAAAAAAAAAAAAAAAAAAAAAAAAAAAAAAAAAAAAAAAAAAAAAAAAAAAAAAAAAAAAAAAAAAAAAAAAAAAAAAAAAAAAAAAAAAAAAAAAAAAAAAAAAAAAAAAAAAAAAAAAAAAAAAAAAAAAAAAAAAAA==",
        "encoding": "base64",
        "path": [
         "_data",
         "data",
         "Completeness_NULL_|_Datetime_Logging2",
         "value"
        ]
       },
       {
        "data": "AAAAAAAAAAAAAAAAAAAAAAAAAAAAAAAAAAAAAAAAAAAAAAAAAAAAAAAAAAAAAAAAAAAAAAAAAAAAAAAAAAAAAAAAAAAAAAAAAAAAAAAAAAAAAAAAAAAAAAAAAAAAAAAAAAAAAAAAAAAAAAAAAAAAAAAAAAAAAAAAAAAAAAAAAAAAAAAAAAAAAAAAAAAAAAAAAAAAAAAAAAAAAAAAAAAAAAAAAAAAAAAAAAAAAAAAAAAAAAAAAAAAAAAAAAAAAAAAAAAAAAAAAAAAAAAAAAAAAAAAAAAAAAAAAAAAAAAAAAAAAAAAAAAAAAAAAAAAAAAAAAAAAAAAAAAAAAAAAAAAAAAAAAAAAAAAAAAAAAAAAAAAAAAAAAAAAAAAAAAAAAAAAAAAAAAAAAAAAAAAAAAAAAAAAAAAAAAAAAAAAAAAAAAAAAAAAAAAAAAAAAAAAAAAAAAAAAAAAAAAAAAAAAAAAAAAAAAAAAAAAAAAAAAAAAAAAAAAAAAAAAAAAAAAAAAAAAAAAAAAAAAAAAAAAAAAAAAAAAAAAAAAAAAAAAAAAAAAAAAAAAAAAAAAAAAAAAAAAAAAAA==",
        "encoding": "base64",
        "path": [
         "_data",
         "data",
         "Completeness_Empty_|_Patient_ID",
         "value"
        ]
       },
       {
        "data": "AAAAAAAAAAAAAAAAAAAAAAAAAAAAAAAAAAAAAAAAAAAAAAAAAAAAAAAAAAAAAAAAAAAAAAAAAAAAAAAAAAAAAAAAAAAAAAAAAAAAAAAAAAAAAAAAAAAAAAAAAAAAAAAAAAAAAAAAAAAAAAAAAAAAAAAAAAAAAAAAAAAAAAAAAAAAAAAAAAAAAAAAAAAAAAAAAAAAAAAAAAAAAAAAAAAAAAAAAAAAAAAAAAAAAAAAAAAAAAAAAAAAAAAAAAABAAAAAAAAAAEAAAAAAAAAAAAAAAEAAAAAAAAAAAAAAAAAAAAAAAAAAAAAAAAAAAAAAAAAAAAAAAAAAAAAAAAAAAAAAAAAAAAAAAAAAAAAAAAAAAAAAAAAAAAAAAAAAAAAAAAAAAAAAAAAAAAAAAAAAAAAAAAAAAAAAAAAAAAAAAAAAAAAAAAAAAAAAAAAAAAAAAAAAAAAAAAAAAAAAAAAAAAAAAAAAAAAAAAAAAAAAAAAAAAAAAAAAAAAAAAAAAAAAAAAAAAAAAAAAAAAAAAAAAAAAAAAAAAAAAAAAAAAAAAAAAAAAAAAAAAAAAAAAAAAAAAAAAAAAA==",
        "encoding": "base64",
        "path": [
         "_data",
         "data",
         "Completeness_Empty_|_NHS_number",
         "value"
        ]
       },
       {
        "data": "AAAAAAAAAAAAAAAAAAAAAAAAAAAAAAAAAAAAAAAAAAAAAAAAAAAAAAAAAAAAAAAAAAAAAAAAAAAAAAAAAAAAAAAAAAAAAAAAAAAAAAAAAAAAAAAAAAAAAAAAAAAAAAAAAAAAAAAAAAAAAAAAAAAAAAAAAAAAAAAAAAAAAAAAAAAAAAAAAAAAAAAAAAAAAAAAAAAAAAAAAAAAAAAAAAAAAAAAAAAAAAAAAAAAAAAAAAAAAAAAAAAAAAAAAAAAAAAAAAAAAAAAAAAAAAAAAAAAAAAAAAAAAAAAAAAAAAAAAAAAAAAAAAAAAAAAAAAAAAAAAAAAAAAAAAAAAAAAAAAAAAAAAAAAAAAAAAAAAAAAAAAAAAAAAAAAAAAAAAAAAAAAAAAAAAAAAAAAAAAAAAAAAAAAAAAAAAAAAAAAAAAAAAAAAAAAAAAAAAAAAAAAAAAAAAAAAAAAAAAAAAAAAAAAAAAAAAAAAAAAAAAAAAAAAAAAAAAAAAAAAAAAAAAAAAAAAAAAAAAAAAAAAAAAAAAAAAAAAAAAAAAAAAAAAAAAAAAAAAAAAAAAAAAAAAAAAAAAAAAAAA==",
        "encoding": "base64",
        "path": [
         "_data",
         "data",
         "Completeness_Empty_|_Gender",
         "value"
        ]
       },
       {
        "data": "AAAAAAAAAAAAAAAAAAAAAAAAAAAAAAAAAAAAAAAAAAAAAAAAAAAAAAAAAAAAAAAAAAAAAAAAAAAAAAAAAAAAAAAAAAAAAAAAAAAAAAAAAAAAAAAAAAAAAAAAAAAAAAAAAAAAAAAAAAAAAAAAAAAAAAAAAAAAAAAAAAAAAAAAAAAAAAAAAAAAAAAAAAAAAAAAAAAAAAAAAAAAAAAAAAAAAAAAAAAAAAAAAAAAAAAAAAAAAAAAAAAAAAAAAAAAAAAAAAAAAAAAAAAAAAAAAAAAAAAAAAAAAAAAAAAAAAAAAAAAAAAAAAAAAAAAAAAAAAAAAAAAAAAAAAAAAAAAAAAAAAAAAAAAAAAAAAAAAAAAAAAAAAAAAAAAAAAAAAAAAAAAAAAAAAAAAAAAAAAAAAAAAAAAAAAAAAAAAAAAAAAAAAAAAAAAAAAAAAAAAAAAAAAAAAAAAAAAAAAAAAAAAAAAAAAAAAAAAAAAAAAAAAAAAAAAAAAAAAAAAAAAAAAAAAAAAAAAAAAAAAAAAAAAAAAAAAAAAAAAAAAAAAAAAAAAAAAAAAAAAAAAAAAAAAAAAAAAAAAAAA==",
        "encoding": "base64",
        "path": [
         "_data",
         "data",
         "Completeness_Empty_|_Date_of_Diagnosis",
         "value"
        ]
       },
       {
        "data": "AAAAAAAAAAAAAAAAAAAAAAAAAAAAAAAAAAAAAAAAAAAAAAAAAAAAAAAAAAAAAAAAAAAAAAAAAAAAAAAAAAAAAAAAAAAAAAAAAAAAAAAAAAAAAAAAAAAAAAAAAAAAAAAAAAAAAAAAAAAAAAAAAAAAAAAAAAAAAAAAAAAAAAAAAAAAAAAAAAAAAAAAAAAAAAAAAAAAAAAAAAAAAAAAAAAAAAAAAAAAAAAAAAAAAAAAAAAAAAAAAAAAAAAAAAAAAAAAAAAAAAAAAAAAAAAAAAAAAAAAAAAAAAAAAAAAAAAAAAAAAAAAAAAAAAAAAAAAAAAAAAAAAAAAAAAAAAAAAAAAAAAAAAAAAAAAAAAAAAAAAAAAAAAAAAAAAAAAAAAAAAAAAAAAAAAAAAAAAAAAAAAAAAAAAAAAAAAAAAAAAAAAAAAAAAAAAAAAAAAAAAAAAAAAAAAAAAAAAAAAAAAAAAAAAAAAAAAAAAAAAAAAAAAAAAAAAAAAAAAAAAAAAAAAAAAAAAAAAAAAAAAAAAAAAAAAAAAAAAAAAAAAAAAAAAAAAAAAAAAAAAAAAAAAAAAAAAAAAAAAAA==",
        "encoding": "base64",
        "path": [
         "_data",
         "data",
         "Completeness_Empty_|_Date_of_Birth",
         "value"
        ]
       },
       {
        "data": "AAAAAAAAAAAAAAAAAAAAAAAAAAAAAAAAAAAAAAAAAAAAAAAAAAAAAAAAAAAAAAAAAAAAAAAAAAAAAAAAAAAAAAAAAAAAAAAAAAAAAAAAAAAAAAAAAAAAAAAAAAAAAAAAAAAAAAAAAAAAAAAAAAAAAAAAAAAAAAAAAAAAAAAAAAAAAAAAAAAAAAAAAAAAAAAAAAAAAAAAAAAAAAAAAAAAAAAAAAAAAAAAAAAAAAAAAAAAAAAAAAAAAAAAAAAAAAAAAAAAAAAAAAAAAAAAAAAAAAAAAAAAAAAAAAAAAAAAAAAAAAAAAAAAAAAAAAAAAAAAAAAAAAAAAAAAAAAAAAAAAAAAAAAAAAAAAAAAAAAAAAAAAAAAAAAAAAAAAAAAAAAAAAAAAAAAAAAAAAAAAAAAAAAAAAAAAAAAAAAAAAAAAAAAAAAAAAAAAAAAAAAAAAAAAAAAAAAAAAAAAAAAAAAAAAAAAAAAAAAAAAAAAAAAAAAAAAAAAAAAAAAAAAAAAAAAAAAAAAAAAAAAAAAAAAAAAAAAAAAAAAAAAAAAAAAAAAAAAAAAAAAAAAAAAAAAAAAAAAAAAA==",
        "encoding": "base64",
        "path": [
         "_data",
         "data",
         "Completeness_Empty_|_Age",
         "value"
        ]
       },
       {
        "data": "AAAAAAAAAAAAAAAAAAAAAAAAAAAAAAAAAAAAAAAAAAAAAAAAAAAAAAAAAAAAAAAAAAAAAAAAAAAAAAAAAAAAAAAAAAAAAAAAAAAAAAAAAAAAAAAAAAAAAAAAAAAAAAAAAAAAAAAAAAAAAAAAAAAAAAAAAAAAAAAAAAAAAAAAAAAAAAAAAAAAAAAAAAAAAAAAAAAAAAAAAAAAAAAAAAAAAAAAAAAAAAAAAAAAAAAAAAAAAAAAAAAAAAAAAAAAAAAAAAAAAAAAAAAAAAAAAAAAAAAAAAAAAAAAAAAAAAAAAAAAAAAAAAAAAAAAAAAAAAAAAAAAAAAAAAAAAAAAAAAAAAAAAAAAAAAAAAAAAAAAAAAAAAAAAAAAAAAAAAAAAAAAAAAAAAAAAAAAAAAAAAAAAAAAAAAAAAAAAAAAAAAAAAAAAAAAAAAAAAAAAAAAAAAAAAAAAAAAAAAAAAAAAAAAAAAAAAAAAAAAAAAAAAAAAAAAAAAAAAAAAAAAAAAAAAAAAAAAAAAAAAAAAAAAAAAAAAAAAAAAAAAAAAAAAAAAAAAAAAAAAAAAAAAAAAAAAAAAAAAAAA==",
        "encoding": "base64",
        "path": [
         "_data",
         "data",
         "Completeness_Empty_|_Weight_kg",
         "value"
        ]
       },
       {
        "data": "AAAAAAAAAAAAAAAAAAAAAAAAAAAAAAAAAAAAAAAAAAAAAAAAAAAAAAAAAAAAAAAAAAAAAAAAAAAAAAAAAAAAAAAAAAAAAAAAAAAAAAAAAAAAAAAAAAAAAAAAAAAAAAAAAAAAAAAAAAAAAAAAAAAAAAAAAAAAAAAAAAAAAAAAAAAAAAAAAAAAAAAAAAAAAAAAAAAAAAAAAAAAAAAAAAAAAAAAAAAAAAAAAAAAAAAAAAAAAAAAAAAAAAAAAAAAAAAAAAAAAAAAAAAAAAAAAAAAAAAAAAAAAAAAAAAAAAAAAAAAAAAAAAAAAAAAAAAAAAAAAAAAAAAAAAAAAAAAAAAAAAAAAAAAAAAAAAAAAAAAAAAAAAAAAAAAAAAAAAAAAAAAAAAAAAAAAAAAAAAAAAAAAAAAAAAAAAAAAAAAAAAAAAAAAAAAAAAAAAAAAAAAAAAAAAAAAAAAAAAAAAAAAAAAAAAAAAAAAAAAAAAAAAAAAAAAAAAAAAAAAAAAAAAAAAAAAAAAAAAAAAAAAAAAAAAAAAAAAAAAAAAAAAAAAAAAAAAAAAAAAAAAAAAAAAAAAAAAAAAAAA==",
        "encoding": "base64",
        "path": [
         "_data",
         "data",
         "Completeness_Empty_|_Height_cm",
         "value"
        ]
       },
       {
        "data": "AAAAAAAAAAAAAAAAAAAAAAAAAAAAAAAAAAAAAAAAAAAAAAAAAAAAAAAAAAAAAAAAAAAAAAAAAAAAAAAAAAAAAAAAAAAAAAAAAAAAAAAAAAAAAAAAAAAAAAAAAAAAAAAAAAAAAAAAAAAAAAAAAAAAAAAAAAAAAAAAAAAAAAAAAAAAAAAAAAAAAAAAAAAAAAAAAAAAAAAAAAAAAAAAAAAAAAAAAAAAAAAAAAAAAAAAAAAAAAAAAAAAAAAAAAAAAAAAAAAAAAAAAAAAAAAAAAAAAAAAAAAAAAAAAAAAAAAAAAAAAAAAAAAAAAAAAAAAAAAAAAAAAAAAAAAAAAAAAAAAAAAAAAAAAAAAAAAAAAAAAAAAAAAAAAAAAAAAAAAAAAAAAAAAAAAAAAAAAAAAAAAAAAAAAAAAAAAAAAAAAAAAAAAAAAAAAAAAAAAAAAAAAAAAAAAAAAAAAAAAAAAAAAAAAAAAAAAAAAAAAAAAAAAAAAAAAAAAAAAAAAAAAAAAAAAAAAAAAAAAAAAAAAAAAAAAAAAAAAAAAAAAAAAAAAAAAAAAAAAAAAAAAAAAAAAAAAAAAAAAAA==",
        "encoding": "base64",
        "path": [
         "_data",
         "data",
         "Completeness_Empty_|_BMI",
         "value"
        ]
       },
       {
        "data": "AAAAAAAAAAAAAAAAAAAAAAAAAAAAAAAAAAAAAAAAAAAAAAAAAAAAAAAAAAAAAAAAAAAAAAAAAAAAAAAAAAAAAAAAAAAAAAAAAAAAAAAAAAAAAAAAAAAAAAAAAAAAAAAAAAAAAAAAAAAAAAAAAAAAAAAAAAAAAAAAAAAAAAAAAAAAAAAAAAAAAAAAAAAAAAAAAAAAAAAAAAAAAAAAAAAAAAAAAAAAAAAAAAAAAAAAAAAAAAAAAAAAAAAAAAAAAAAAAAAAAAAAAAAAAAAAAAAAAAAAAAAAAAAAAAAAAAAAAAAAAAAAAAAAAAAAAAAAAAAAAAAAAAAAAAAAAAAAAAAAAAAAAAAAAAAAAAAAAAAAAAAAAAAAAAAAAAAAAAAAAAAAAAAAAAAAAAAAAAAAAAAAAAAAAAAAAAAAAAAAAAAAAAAAAAAAAAAAAAAAAAAAAAAAAAAAAAAAAAAAAAAAAAAAAAAAAAAAAAAAAAAAAAAAAAAAAAAAAAAAAAAAAAAAAAAAAAAAAAAAAAAAAAAAAAAAAAAAAAAAAAAAAAAAAAAAAAAAAAAAAAAAAAAAAAAAAAAAAAAAAA==",
        "encoding": "base64",
        "path": [
         "_data",
         "data",
         "Completeness_Empty_|_Postcode",
         "value"
        ]
       },
       {
        "data": "AAAAAAAAAAAAAAAAAQAAAAEAAAABAAAAAQAAAAAAAAAAAAAAAAAAAAAAAAAAAAAAAAAAAAAAAAAAAAAAAAAAAAAAAAAAAAAAAAAAAAAAAAAAAAAAAAAAAAAAAAAAAAAAAAAAAAAAAAAAAAAAAAAAAAAAAAAAAAAAAAAAAAAAAAAAAAAAAAAAAAAAAAAAAAAAAAAAAAAAAAAAAAAAAAAAAAAAAAAAAAAAAAAAAAAAAAAAAAAAAAAAAAAAAAAAAAAAAAAAAAAAAAAAAAAAAAAAAAAAAAAAAAAAAAAAAAAAAAAAAAAAAAAAAAAAAAAAAAAAAAAAAAAAAAAAAAAAAAAAAAAAAAAAAAAAAAAAAAAAAAAAAAAAAAAAAAAAAAAAAAAAAAAAAAAAAAAAAAAAAAAAAAAAAAAAAAAAAAAAAAAAAAAAAAAAAAAAAAAAAAAAAAAAAAAAAAAAAAAAAAAAAAAAAAAAAAAAAAAAAAAAAAAAAAAAAAAAAAAAAAAAAAAAAAAAAAAAAAAAAAAAAAAAAAAAAAAAAAAAAAAAAAAAAAAAAAAAAAAAAAAAAAAAAAAAAAAAAAAAAA==",
        "encoding": "base64",
        "path": [
         "_data",
         "data",
         "Completeness_Empty_|_ICD_10_Code",
         "value"
        ]
       },
       {
        "data": "AAAAAAAAAAAAAAAAAAAAAAAAAAAAAAAAAAAAAAAAAAAAAAAAAAAAAAAAAAAAAAAAAAAAAAAAAAAAAAAAAAAAAAAAAAAAAAAAAAAAAAAAAAAAAAAAAAAAAAAAAAAAAAAAAAAAAAAAAAAAAAAAAAAAAAAAAAAAAAAAAAAAAAAAAAAAAAAAAAAAAAAAAAAAAAAAAAAAAAAAAAAAAAAAAAAAAAAAAAAAAAAAAAAAAAAAAAAAAAAAAAAAAAAAAAAAAAAAAAAAAAAAAAAAAAAAAAAAAAAAAAAAAAAAAAAAAAAAAAAAAAAAAAAAAAAAAAAAAAAAAAAAAAAAAAAAAAAAAAAAAAAAAAAAAAAAAAAAAAAAAAAAAAAAAAAAAAAAAAAAAAAAAAAAAAAAAAAAAAAAAAAAAAAAAAAAAAAAAAAAAAAAAAAAAAAAAAAAAAAAAAAAAAAAAAAAAAAAAAAAAAAAAAAAAAAAAAAAAAAAAAAAAAAAAAAAAAAAAAAAAAAAAAAAAAAAAAAAAAAAAAAAAAAAAAAAAAAAAAAAAAAAAAAAAAAAAAAAAAAAAAAAAAAAAAAAAAAAAAAAAA==",
        "encoding": "base64",
        "path": [
         "_data",
         "data",
         "Completeness_Empty_|_Tumour_Stage",
         "value"
        ]
       },
       {
        "data": "AAAAAAAAAAAAAAAAAAAAAAAAAAAAAAAAAAAAAAAAAAAAAAAAAAAAAAAAAAAAAAAAAAAAAAAAAAAAAAAAAAAAAAAAAAAAAAAAAAAAAAAAAAAAAAAAAAAAAAAAAAAAAAAAAAAAAAAAAAAAAAAAAAAAAAAAAAAAAAAAAAAAAAAAAAAAAAAAAAAAAAAAAAAAAAAAAAAAAAAAAAAAAAAAAAAAAAAAAAAAAAAAAAAAAAAAAAAAAAAAAAAAAAAAAAAAAAAAAAAAAAAAAAAAAAAAAAAAAAAAAAAAAAAAAAAAAAAAAAAAAAAAAAAAAAAAAAAAAAAAAAAAAAAAAAAAAAAAAAAAAAAAAAAAAAAAAAAAAAAAAAAAAAAAAAAAAAAAAAAAAAAAAAAAAAAAAAAAAAAAAAAAAAAAAAAAAAAAAAAAAAAAAAAAAAAAAAAAAAAAAAAAAAAAAAAAAAAAAAAAAAAAAAAAAAAAAAAAAAAAAAAAAAAAAAAAAAAAAAAAAAAAAAAAAAAAAAAAAAAAAAAAAAAAAAAAAAAAAAAAAAAAAAAAAAAAAAAAAAAAAAAAAAAAAAAAAAAAAAAAAA==",
        "encoding": "base64",
        "path": [
         "_data",
         "data",
         "Completeness_Empty_|_Metastatic_Indicator",
         "value"
        ]
       },
       {
        "data": "AAAAAAAAAAAAAAAAAAAAAAAAAAAAAAAAAAAAAAAAAAAAAAAAAAAAAAAAAAAAAAAAAAAAAAAAAAAAAAAAAAAAAAAAAAAAAAAAAAAAAAAAAAAAAAAAAAAAAAAAAAAAAAAAAAAAAAAAAAAAAAAAAAAAAAAAAAAAAAAAAAAAAAAAAAAAAAAAAAAAAAAAAAAAAAAAAAAAAAAAAAAAAAAAAAAAAAAAAAAAAAAAAAAAAAAAAAAAAAAAAAAAAAAAAAAAAAAAAAAAAAAAAAAAAAAAAAAAAAAAAAAAAAAAAAAAAAAAAAAAAAAAAAAAAAAAAAAAAAAAAAAAAAAAAAAAAAAAAAAAAAAAAAAAAAAAAAAAAAAAAAAAAAAAAAAAAAAAAAAAAAAAAAAAAAAAAAAAAAAAAAAAAAAAAAAAAAAAAAAAAAAAAAAAAAAAAAAAAAAAAAAAAAAAAAAAAAAAAAAAAAAAAAAAAAAAAAAAAAAAAAAAAAAAAAAAAAAAAAAAAAAAAAAAAAAAAAAAAAAAAAAAAAAAAAAAAAAAAAAAAAAAAAAAAAAAAAAAAAAAAAAAAAAAAAAAAAAAAAAAAA==",
        "encoding": "base64",
        "path": [
         "_data",
         "data",
         "Completeness_Empty_|_Tumour_M_Stage",
         "value"
        ]
       },
       {
        "data": "AAAAAAAAAAAAAAAAAAAAAAAAAAAAAAAAAAAAAAAAAAAAAAAAAAAAAAAAAAAAAAAAAAAAAAAAAAAAAAAAAAAAAAAAAAAAAAAAAAAAAAAAAAAAAAAAAAAAAAAAAAAAAAAAAAAAAAAAAAAAAAAAAAAAAAAAAAAAAAAAAAAAAAAAAAAAAAAAAAAAAAAAAAAAAAAAAAAAAAAAAAAAAAAAAAAAAAAAAAAAAAAAAAAAAAAAAAAAAAAAAAAAAAAAAAAAAAAAAAAAAAAAAAAAAAAAAAAAAAAAAAAAAAAAAAAAAAAAAAAAAAAAAAAAAAAAAAAAAAAAAAAAAAAAAAAAAAAAAAAAAAAAAAAAAAAAAAAAAAAAAAAAAAAAAAAAAAAAAAAAAAAAAAAAAAAAAAAAAAAAAAAAAAAAAAAAAAAAAAAAAAAAAAAAAAAAAAAAAAAAAAAAAAAAAAAAAAAAAAAAAAAAAAAAAAAAAAAAAAAAAAAAAAAAAAAAAAAAAAAAAAAAAAAAAAAAAAAAAAAAAAAAAAAAAAAAAAAAAAAAAAAAAAAAAAAAAAAAAAAAAAAAAAAAAAAAAAAAAAAAAA==",
        "encoding": "base64",
        "path": [
         "_data",
         "data",
         "Completeness_Empty_|_Regimen_Start_Date",
         "value"
        ]
       },
       {
        "data": "AAAAAAAAAAAAAAAAAAAAAAAAAAAAAAAAAAAAAAAAAAAAAAAAAAAAAAAAAAAAAAAAAAAAAAAAAAAAAAAAAAAAAAAAAAAAAAAAAAAAAAAAAAAAAAAAAAAAAAAAAAAAAAAAAAAAAAAAAAAAAAAAAAAAAAAAAAAAAAAAAAAAAAAAAAAAAAAAAAAAAAAAAAAAAAAAAAAAAAAAAAAAAAAAAAAAAAAAAAAAAAAAAAAAAAAAAAAAAAAAAAAAAAAAAAAAAAAAAAAAAAAAAAAAAAAAAAAAAAAAAAAAAAAAAAAAAAAAAAAAAAAAAAAAAAAAAAAAAAAAAAAAAAAAAAAAAAAAAAAAAAAAAAAAAAAAAAAAAAAAAAAAAAAAAAAAAAAAAAAAAAAAAAAAAAAAAAAAAAAAAAAAAAAAAAAAAAAAAAAAAAAAAAAAAAAAAAAAAAAAAAAAAAAAAAAAAAAAAAAAAAAAAAAAAAAAAAAAAAAAAAAAAAAAAAAAAAAAAAAAAAAAAAAAAAAAAAAAAAAAAAAAAAAAAAAAAAAAAAAAAAAAAAAAAAAAAAAAAAAAAAAAAAAAAAAAAAAAAAAAAA==",
        "encoding": "base64",
        "path": [
         "_data",
         "data",
         "Completeness_Empty_|_Datetime_Event1",
         "value"
        ]
       },
       {
        "data": "AAAAAAAAAAAAAAAAAAAAAAAAAAAAAAAAAAAAAAAAAAAAAAAAAAAAAAAAAAAAAAAAAAAAAAAAAAAAAAAAAAAAAAAAAAAAAAAAAAAAAAAAAAAAAAAAAAAAAAAAAAAAAAAAAAAAAAAAAAAAAAAAAAAAAAAAAAAAAAAAAAAAAAAAAAAAAAAAAAAAAAAAAAAAAAAAAAAAAAAAAAAAAAAAAAAAAAAAAAAAAAAAAAAAAAAAAAAAAAAAAAAAAAAAAAAAAAAAAAAAAAAAAAAAAAAAAAAAAAAAAAAAAAAAAAAAAAAAAAAAAAAAAAAAAAAAAAAAAAAAAAAAAAAAAAAAAAAAAAAAAAAAAAAAAAAAAAAAAAAAAAAAAAAAAAAAAAAAAAAAAAAAAAAAAAAAAAAAAAAAAAAAAAAAAAAAAAAAAAAAAAAAAAAAAAAAAAAAAAAAAAAAAAAAAAAAAAAAAAAAAAAAAAAAAAAAAAAAAAAAAAAAAAAAAAAAAAAAAAAAAAAAAAAAAAAAAAAAAAAAAAAAAAAAAAAAAAAAAAAAAAAAAAAAAAAAAAAAAAAAAAAAAAAAAAAAAAAAAAAAAA==",
        "encoding": "base64",
        "path": [
         "_data",
         "data",
         "Completeness_Empty_|_Datetime_Logging1",
         "value"
        ]
       },
       {
        "data": "AAAAAAAAAAAAAAAAAAAAAAAAAAAAAAAAAAAAAAAAAAAAAAAAAAAAAAAAAAAAAAAAAAAAAAAAAAAAAAAAAAAAAAAAAAAAAAAAAAAAAAAAAAAAAAAAAAAAAAAAAAAAAAAAAAAAAAAAAAAAAAAAAAAAAAAAAAAAAAAAAAAAAAAAAAAAAAAAAAAAAAAAAAAAAAAAAAAAAAAAAAAAAAAAAAAAAAAAAAAAAAAAAAAAAAAAAAAAAAAAAAAAAAAAAAAAAAAAAAAAAAAAAAAAAAAAAAAAAAAAAAAAAAAAAAAAAAAAAAAAAAAAAAAAAAAAAAAAAAAAAAAAAAAAAAAAAAAAAAAAAAAAAAAAAAAAAAAAAAAAAAAAAAAAAAAAAAAAAAAAAAAAAAAAAAAAAAAAAAAAAAAAAAAAAAAAAAAAAAAAAAAAAAAAAAAAAAAAAAAAAAAAAAAAAAAAAAAAAAAAAAAAAAAAAAAAAAAAAAAAAAAAAAAAAAAAAAAAAAAAAAAAAAAAAAAAAAAAAAAAAAAAAAAAAAAAAAAAAAAAAAAAAAAAAAAAAAAAAAAAAAAAAAAAAAAAAAAAAAAAAA==",
        "encoding": "base64",
        "path": [
         "_data",
         "data",
         "Completeness_Empty_|_Datetime_Event2",
         "value"
        ]
       },
       {
        "data": "AAAAAAAAAAAAAAAAAAAAAAAAAAAAAAAAAAAAAAAAAAAAAAAAAAAAAAAAAAAAAAAAAAAAAAAAAAAAAAAAAAAAAAAAAAAAAAAAAAAAAAAAAAAAAAAAAAAAAAAAAAAAAAAAAAAAAAAAAAAAAAAAAAAAAAAAAAAAAAAAAAAAAAAAAAAAAAAAAAAAAAAAAAAAAAAAAAAAAAAAAAAAAAAAAAAAAAAAAAAAAAAAAAAAAAAAAAAAAAAAAAAAAAAAAAAAAAAAAAAAAAAAAAAAAAAAAAAAAAAAAAAAAAAAAAAAAAAAAAAAAAAAAAAAAAAAAAAAAAAAAAAAAAAAAAAAAAAAAAAAAAAAAAAAAAAAAAAAAAAAAAAAAAAAAAAAAAAAAAAAAAAAAAAAAAAAAAAAAAAAAAAAAAAAAAAAAAAAAAAAAAAAAAAAAAAAAAAAAAAAAAAAAAAAAAAAAAAAAAAAAAAAAAAAAAAAAAAAAAAAAAAAAAAAAAAAAAAAAAAAAAAAAAAAAAAAAAAAAAAAAAAAAAAAAAAAAAAAAAAAAAAAAAAAAAAAAAAAAAAAAAAAAAAAAAAAAAAAAAAAAA==",
        "encoding": "base64",
        "path": [
         "_data",
         "data",
         "Completeness_Empty_|_Datetime_Logging2",
         "value"
        ]
       },
       {
        "data": "AAAAAAAAAAAAAAAAAAAAAAAAAAAAAAAAAAAAAAAAAAAAAAAAAAAAAAAAAAAAAAAAAAAAAAAAAAAAAAAAAAAAAAAAAAAAAAAAAAAAAAAAAAAAAAAAAAAAAAAAAAAAAAAAAAAAAAAAAAAAAAAAAAAAAAAAAAAAAAAAAAAAAAAAAAAAAAAAAAAAAAAAAAAAAAAAAAAAAAAAAAAAAAAAAAAAAAAAAAAAAAAAAAAAAAAAAAAAAAAAAAAAAAAAAAAAAAAAAAAAAAAAAAAAAAAAAAAAAAAAAAAAAAAAAQAAAAAAAAAAAAAAAAAAAAAAAAAAAAAAAAAAAAAAAAAAAAAAAAAAAAAAAAAAAAAAAAAAAAAAAAAAAAAAAAAAAAAAAAAAAAAAAAAAAAAAAAAAAAAAAAAAAAAAAAAAAAAAAAAAAAAAAAAAAAAAAAAAAAAAAAAAAAAAAAAAAAAAAAAAAAAAAAAAAAAAAAAAAAAAAAAAAAAAAAAAAAAAAAAAAAAAAAAAAAAAAAAAAAAAAAAAAAAAAAAAAAAAAAAAAAAAAAAAAAAAAAAAAAAAAAAAAAAAAAAAAAAAAAAAAA==",
        "encoding": "base64",
        "path": [
         "_data",
         "data",
         "Completeness_Encoded_|_NHS_number",
         "value"
        ]
       },
       {
        "data": "AAAAAAAAAAABAAAAAAAAAAAAAAAAAAAAAAAAAAEAAAAAAAAAAAAAAAAAAAAAAAAAAAAAAAAAAAAAAAAAAQAAAAAAAAAAAAAAAAAAAAAAAAAAAAAAAAAAAAAAAAAAAAAAAAAAAAAAAAABAAAAAAAAAAAAAAAAAAAAAAAAAAEAAAABAAAAAQAAAAAAAAAAAAAAAAAAAAAAAAAAAAAAAAAAAAAAAAAAAAAAAAAAAAAAAAAAAAAAAAAAAAAAAAAAAAAAAAAAAAAAAAAAAAAAAAAAAAAAAAAAAAAAAAAAAAAAAAAAAAAAAAAAAAAAAAAAAAAAAAAAAAAAAAAAAAAAAAAAAAAAAAAAAAAAAAAAAAAAAAAAAAAAAAAAAAAAAAAAAAAAAAAAAAAAAAAAAAAAAAAAAAAAAAAAAAAAAAAAAAAAAAAAAAAAAAAAAAAAAAAAAAAAAAAAAAAAAAAAAAAAAAAAAAAAAAAAAAAAAAAAAAAAAAAAAAAAAAAAAAAAAAAAAAAAAAAAAAAAAAAAAAAAAAAAAAAAAAAAAAAAAAAAAAAAAAAAAAAAAAAAAAAAAAAAAAAAAAAAAA==",
        "encoding": "base64",
        "path": [
         "_data",
         "data",
         "Completeness_Encoded_|_Gender",
         "value"
        ]
       },
       {
        "data": "AAAAAAAAAAAAAAAAAAAAAAAAAAAAAAAAAAAAAAAAAAAAAAAAAAAAAAAAAAAAAAAAAAAAAAAAAAAAAAAAAAAAAAAAAAAAAAAAAAAAAAAAAAAAAAAAAAAAAAAAAAAAAAAAAAAAAAAAAAAAAAAAAAAAAAAAAAAAAAAAAAAAAAAAAAAAAAAAAAAAAAAAAAAAAAAAAAAAAAAAAAAAAAAAAAAAAAAAAAAAAAAAAAAAAAAAAAAAAAAAAAAAAAAAAAAAAAAAAAAAAAAAAAAAAAAAAAAAAAAAAAAAAAAAAAAAAAAAAAAAAAAAAAAAAAAAAAAAAAAAAAAAAAAAAAAAAAAAAAAAAAAAAAAAAAAAAAAAAAAAAAAAAAAAAAAAAAAAAAAAAAAAAAAAAAAAAAAAAAAAAAAAAAAAAAAAAAAAAAAAAAAAAAAAAAAAAAAAAAAAAAAAAAAAAAAAAAAAAAAAAAAAAAAAAAAAAAAAAAAAAAAAAAAAAAAAAAAAAAAAAAAAAAAAAAAAAAAAAAAAAAAAAAAAAAAAAAAAAAAAAAAAAAAAAAAAAAAAAAAAAAAAAAAAAAAAAAAAAAAAAA==",
        "encoding": "base64",
        "path": [
         "_data",
         "data",
         "Completeness_Encoded_|_Postcode",
         "value"
        ]
       },
       {
        "data": "AAAAAAAAAAAAAAAAAAAAAAAAAAAAAAAAAAAAAAAAAAAAAAAAAAAAAAAAAAAAAAAAAAAAAAAAAAAAAAAAAAAAAAAAAAAAAAAAAAAAAAAAAAAAAAAAAQAAAAAAAAAAAAAAAAAAAAAAAAAAAAAAAAAAAAAAAAAAAAAAAAAAAAAAAAAAAAAAAAAAAAAAAAAAAAAAAAAAAAAAAAAAAAAAAAAAAAAAAAAAAAAAAAAAAAAAAAAAAAAAAAAAAAAAAAAAAAAAAAAAAAAAAAAAAAAAAAAAAAAAAAAAAAAAAAAAAAAAAAAAAAAAAAAAAAAAAAAAAAAAAAAAAAAAAAAAAAAAAAAAAAAAAAAAAAAAAAAAAAAAAAAAAAAAAAAAAAAAAAAAAAAAAAAAAAAAAAAAAAAAAAAAAAAAAAAAAAAAAAAAAAAAAAAAAAAAAAAAAAAAAAAAAAAAAAAAAAAAAAAAAAAAAAAAAAAAAAAAAAAAAAAAAAAAAAAAAAAAAAAAAAAAAAAAAAAAAAAAAAAAAAAAAAAAAAAAAAAAAAAAAAAAAAAAAAAAAAAAAAAAAAAAAAAAAAAAAAAAAAAAAA==",
        "encoding": "base64",
        "path": [
         "_data",
         "data",
         "Completeness_Encoded_|_ICD_10_Code",
         "value"
        ]
       },
       {
        "data": "AQAAAAEAAAABAAAAAQAAAAEAAAABAAAAAQAAAAEAAAABAAAAAQAAAAAAAAAAAAAAAAAAAAAAAAAAAAAAAAAAAAAAAAAAAAAAAAAAAAAAAAAAAAAAAAAAAAAAAAAAAAAAAAAAAAAAAAAAAAAAAAAAAAAAAAAAAAAAAAAAAAAAAAAAAAAAAAAAAAAAAAAAAAAAAAAAAAAAAAAAAAAAAAAAAAAAAAAAAAAAAAAAAAAAAAAAAAAAAAAAAAAAAAAAAAAAAAAAAAAAAAAAAAAAAAAAAAAAAAAAAAAAAAAAAAAAAAAAAAAAAAAAAAAAAAAAAAAAAAAAAAAAAAAAAAAAAAAAAAAAAAAAAAAAAAAAAAAAAAAAAAAAAAAAAAAAAAAAAAAAAAAAAAAAAAAAAAAAAAAAAAAAAAAAAAAAAAAAAAAAAAAAAAAAAAAAAAAAAAAAAAAAAAAAAAAAAAAAAAAAAAAAAAAAAAAAAAAAAAAAAAAAAAAAAAAAAAAAAAAAAAAAAAAAAAAAAAAAAAAAAAAAAAAAAAAAAAAAAAAAAAAAAAAAAAAAAAAAAAAAAAAAAAAAAAAAAAAAAA==",
        "encoding": "base64",
        "path": [
         "_data",
         "data",
         "Completeness_Encoded_|_Tumour_Stage",
         "value"
        ]
       },
       {
        "data": "AAAAAAAAAAAAAAAAAAAAAAEAAAAAAAAAAAAAAAEAAAAAAAAAAAAAAAAAAAAAAAAAAAAAAAAAAAAAAAAAAAAAAAAAAAABAAAAAAAAAAAAAAAAAAAAAAAAAAAAAAAAAAAAAAAAAAAAAAAAAAAAAAAAAAAAAAAAAAAAAAAAAAAAAAAAAAAAAQAAAAAAAAAAAAAAAQAAAAAAAAAAAAAAAAAAAAAAAAAAAAAAAAAAAAAAAAABAAAAAAAAAAAAAAAAAAAAAAAAAAAAAAAAAAAAAAAAAAAAAAABAAAAAAAAAAAAAAAAAAAAAAAAAAAAAAAAAAAAAAAAAAEAAAAAAAAAAAAAAAAAAAAAAAAAAAAAAAAAAAABAAAAAAAAAAAAAAAAAAAAAAAAAAAAAAAAAAAAAAAAAAAAAAAAAAAAAQAAAAAAAAAAAAAAAAAAAAAAAAAAAAAAAAAAAAAAAAAAAAAAAAAAAAAAAAAAAAAAAAAAAAEAAAAAAAAAAAAAAAAAAAAAAAAAAAAAAAAAAAAAAAAAAAAAAAAAAAAAAAAAAAAAAAAAAAAAAAAAAAAAAAAAAAAAAAAAAAAAAA==",
        "encoding": "base64",
        "path": [
         "_data",
         "data",
         "completeness_count_|_Age",
         "value"
        ]
       },
       {
        "data": "AAAAAAAAAAAAAAAAAAAAAAAAAAAAAAAAAAAAAAAAAAAAAAAAAQAAAAAAAAAAAAAAAAAAAAAAAAAAAAAAAAAAAAAAAAAAAAAAAQAAAAAAAAAAAAAAAAAAAAAAAAAAAAAAAAAAAAAAAAAAAAAAAAAAAAEAAAAAAAAAAAAAAAAAAAAAAAAAAAAAAAAAAAAAAAAAAAAAAAAAAAAAAAAAAAAAAAAAAAAAAAAAAAAAAAAAAAAAAAAAAAAAAAAAAAAAAAAAAAAAAAAAAAAAAAAAAAAAAAEAAAAAAAAAAAAAAAAAAAAAAAAAAAAAAAAAAAAAAAAAAAAAAAAAAAAAAAAAAAAAAAAAAAAAAAAAAAAAAAAAAAAAAAAAAQAAAAEAAAAAAAAAAQAAAAAAAAAAAAAAAAAAAAAAAAAAAAAAAAAAAAEAAAAAAAAAAAAAAAAAAAABAAAAAAAAAAAAAAAAAAAAAAAAAAAAAAAAAAAAAAAAAAAAAAAAAAAAAAAAAAAAAAAAAAAAAAAAAAAAAAAAAAAAAAAAAAAAAAAAAAAAAAAAAAAAAAAAAAAAAAAAAAAAAAAAAAAAAAAAAA==",
        "encoding": "base64",
        "path": [
         "_data",
         "data",
         "completeness_count_|_BMI",
         "value"
        ]
       },
       {
        "data": "AAAAAAAAAAABAAAAAAAAAAAAAAAAAAAAAAAAAAAAAAAAAAAAAAAAAAAAAAAAAAAAAAAAAAAAAAAAAAAAAAAAAAAAAAAAAAAAAAAAAAAAAAAAAAAAAAAAAAAAAAAAAAAAAAAAAAAAAAAAAAAAAAAAAAAAAAAAAAAAAAAAAAAAAAAAAAAAAAAAAAAAAAAAAAAAAAAAAAAAAAAAAAAAAAAAAAAAAAAAAAAAAAAAAAAAAAAAAAAAAAAAAAAAAAAAAAAAAAAAAAAAAAAAAAAAAAAAAAAAAAAAAAAAAAAAAAAAAAAAAAAAAAAAAAAAAAAAAAAAAAAAAAAAAAAAAAAAAAAAAAAAAAAAAAAAAAAAAAAAAAAAAAAAAAAAAAAAAAAAAAAAAAAAAAAAAAAAAAAAAAAAAAAAAAAAAAAAAAAAAAAAAAAAAAAAAAAAAAAAAAAAAAAAAAAAAAAAAAAAAAAAAAAAAAAAAAAAAAAAAAAAAAAAAAAAAAAAAAAAAAAAAAAAAAAAAAAAAAAAAAAAAAAAAAAAAAAAAAAAAAAAAAAAAAAAAAAAAAAAAAAAAAAAAAAAAAAAAAAAAA==",
        "encoding": "base64",
        "path": [
         "_data",
         "data",
         "completeness_count_|_Date_of_Birth",
         "value"
        ]
       },
       {
        "data": "AAAAAAEAAAAAAAAAAAAAAAAAAAAAAAAAAAAAAAAAAAAAAAAAAAAAAAAAAAAAAAAAAAAAAAAAAAAAAAAAAAAAAAAAAAAAAAAAAAAAAAAAAAAAAAAAAAAAAAAAAAAAAAAAAAAAAAAAAAAAAAAAAAAAAAAAAAAAAAAAAAAAAAAAAAAAAAAAAAAAAAAAAAAAAAAAAAAAAAAAAAAAAAAAAAAAAAAAAAAAAAAAAAAAAAAAAAAAAAAAAAAAAAAAAAAAAAAAAAAAAAAAAAAAAAAAAAAAAAAAAAAAAAAAAAAAAAAAAAAAAAAAAAAAAAAAAAAAAAAAAAAAAAAAAAAAAAAAAAAAAAAAAAAAAAAAAAAAAAAAAAAAAAAAAAAAAAAAAAAAAAAAAAAAAAAAAAAAAAAAAAAAAAAAAAAAAAAAAAAAAAAAAAAAAAAAAAAAAAAAAAAAAAAAAAAAAAAAAAAAAAAAAQAAAAAAAAAAAAAAAAAAAAAAAAAAAAAAAAAAAAAAAAAAAAAAAAAAAAAAAAAAAAAAAAAAAAAAAAAAAAAAAAAAAAAAAAAAAAAAAAAAAAAAAAAAAAAAAAAAAA==",
        "encoding": "base64",
        "path": [
         "_data",
         "data",
         "completeness_count_|_Date_of_Diagnosis",
         "value"
        ]
       },
       {
        "data": "AAAAAAAAAAAAAAAAAAAAAAAAAAAAAAAAAAAAAAAAAAAAAAAAAAAAAAAAAAAAAAAAAAAAAAAAAAAAAAAAAAAAAAAAAAAAAAAAAAAAAAAAAAAAAAAAAAAAAAAAAAAAAAAAAAAAAAAAAAAAAAAAAAAAAAAAAAAAAAAAAAAAAAAAAAAAAAAAAAAAAAAAAAAAAAAAAAAAAAAAAAAAAAAAAAAAAAAAAAAAAAAAAAAAAAAAAAAAAAAAAAAAAAAAAAAAAAAAAAAAAAAAAAAAAAAAAAAAAAAAAAAAAAAAAAAAAAAAAAAAAAAAAAAAAAAAAAAAAAAAAAAAAAAAAAAAAAAAAAAAAAAAAAAAAAAAAAAAAAAAAAAAAAAAAAAAAAAAAAAAAAAAAAAAAAAAAAAAAAAAAAAAAAAAAAAAAAAAAAAAAAAAAAAAAAAAAAAAAAAAAAAAAAAAAAAAAAAAAAAAAAAAAAAAAAAAAAAAAAAAAAAAAAAAAAAAAAAAAAAAAAAAAAAAAAAAAAAAAAAAAAAAAAAAAAAAAAAAAAAAAAAAAAAAAAAAAAAAAAAAAAAAAAAAAAAAAAAAAAAAAA==",
        "encoding": "base64",
        "path": [
         "_data",
         "data",
         "completeness_count_|_Datetime_Event1",
         "value"
        ]
       },
       {
        "data": "AAAAAAAAAAAAAAAAAAAAAAAAAAAAAAAAAAAAAAAAAAAAAAAAAAAAAAAAAAAAAAAAAAAAAAAAAAAAAAAAAAAAAAAAAAAAAAAAAAAAAAAAAAAAAAAAAAAAAAAAAAAAAAAAAAAAAAAAAAAAAAAAAAAAAAAAAAAAAAAAAAAAAAAAAAAAAAAAAAAAAAAAAAAAAAAAAAAAAAAAAAAAAAAAAAAAAAAAAAAAAAAAAAAAAAAAAAAAAAAAAAAAAAAAAAAAAAAAAAAAAAAAAAAAAAAAAAAAAAAAAAAAAAAAAAAAAAAAAAAAAAAAAAAAAAAAAAAAAAAAAAAAAAAAAAAAAAAAAAAAAAAAAAAAAAAAAAAAAAAAAAAAAAAAAAAAAAAAAAAAAAAAAAAAAAAAAAAAAAAAAAAAAAAAAAAAAAAAAAAAAAAAAAAAAAAAAAAAAAAAAAAAAAAAAAAAAAAAAAAAAAAAAAAAAAAAAAAAAAAAAAAAAAAAAAAAAAAAAAAAAAAAAAAAAAAAAAAAAAAAAAAAAAAAAAAAAAAAAAAAAAAAAAAAAAAAAAAAAAAAAAAAAAAAAAAAAAAAAAAAAA==",
        "encoding": "base64",
        "path": [
         "_data",
         "data",
         "completeness_count_|_Datetime_Event2",
         "value"
        ]
       },
       {
        "data": "AAAAAAAAAAAAAAAAAAAAAAAAAAAAAAAAAAAAAAAAAAAAAAAAAAAAAAAAAAAAAAAAAAAAAAAAAAAAAAAAAAAAAAAAAAAAAAAAAAAAAAAAAAAAAAAAAAAAAAAAAAAAAAAAAAAAAAAAAAAAAAAAAAAAAAAAAAAAAAAAAAAAAAAAAAAAAAAAAAAAAAAAAAAAAAAAAAAAAAAAAAAAAAAAAAAAAAAAAAAAAAAAAAAAAAAAAAAAAAAAAAAAAAAAAAAAAAAAAAAAAAAAAAAAAAAAAAAAAAAAAAAAAAAAAAAAAAAAAAAAAAAAAAAAAAAAAAAAAAAAAAAAAAAAAAAAAAAAAAAAAAAAAAAAAAAAAAAAAAAAAAAAAAAAAAAAAAAAAAAAAAAAAAAAAAAAAAAAAAAAAAAAAAAAAAAAAAAAAAAAAAAAAAAAAAAAAAAAAAAAAAAAAAAAAAAAAAAAAAAAAAAAAAAAAAAAAAAAAAAAAAAAAAAAAAAAAAAAAAAAAAAAAAAAAAAAAAAAAAAAAAAAAAAAAAAAAAAAAAAAAAAAAAAAAAAAAAAAAAAAAAAAAAAAAAAAAAAAAAAAAA==",
        "encoding": "base64",
        "path": [
         "_data",
         "data",
         "completeness_count_|_Datetime_Logging1",
         "value"
        ]
       },
       {
        "data": "AAAAAAAAAAAAAAAAAAAAAAAAAAAAAAAAAAAAAAAAAAAAAAAAAAAAAAAAAAAAAAAAAAAAAAAAAAAAAAAAAAAAAAAAAAAAAAAAAAAAAAAAAAAAAAAAAAAAAAAAAAAAAAAAAAAAAAAAAAAAAAAAAAAAAAAAAAAAAAAAAAAAAAAAAAAAAAAAAAAAAAAAAAAAAAAAAAAAAAAAAAAAAAAAAAAAAAAAAAAAAAAAAAAAAAAAAAAAAAAAAAAAAAAAAAAAAAAAAAAAAAAAAAAAAAAAAAAAAAAAAAAAAAAAAAAAAAAAAAAAAAAAAAAAAAAAAAAAAAAAAAAAAAAAAAAAAAAAAAAAAAAAAAAAAAAAAAAAAAAAAAAAAAAAAAAAAAAAAAAAAAAAAAAAAAAAAAAAAAAAAAAAAAAAAAAAAAAAAAAAAAAAAAAAAAAAAAAAAAAAAAAAAAAAAAAAAAAAAAAAAAAAAAAAAAAAAAAAAAAAAAAAAAAAAAAAAAAAAAAAAAAAAAAAAAAAAAAAAAAAAAAAAAAAAAAAAAAAAAAAAAAAAAAAAAAAAAAAAAAAAAAAAAAAAAAAAAAAAAAAAA==",
        "encoding": "base64",
        "path": [
         "_data",
         "data",
         "completeness_count_|_Datetime_Logging2",
         "value"
        ]
       },
       {
        "data": "AAAAAAAAAAABAAAAAAAAAAAAAAAAAAAAAAAAAAEAAAAAAAAAAAAAAAEAAAABAAAAAAAAAAAAAAAAAAAAAQAAAAAAAAAAAAAAAAAAAAAAAAAAAAAAAAAAAAAAAAAAAAAAAAAAAAAAAAABAAAAAQAAAAAAAAAAAAAAAAAAAAEAAAABAAAAAQAAAAAAAAAAAAAAAAAAAAEAAAAAAAAAAAAAAAAAAAAAAAAAAAAAAAAAAAAAAAAAAAAAAAEAAAAAAAAAAAAAAAAAAAAAAAAAAAAAAAAAAAAAAAAAAAAAAAEAAAAAAAAAAQAAAAAAAAAAAAAAAAAAAAAAAAAAAAAAAAAAAAAAAAAAAAAAAAAAAAAAAAAAAAAAAQAAAAAAAAAAAAAAAAAAAAAAAAAAAAAAAAAAAAAAAAAAAAAAAAAAAAAAAAAAAAAAAAAAAAEAAAAAAAAAAAAAAAAAAAAAAAAAAAAAAAAAAAAAAAAAAAAAAAEAAAAAAAAAAAAAAAAAAAAAAAAAAAAAAAAAAAAAAAAAAAAAAAAAAAABAAAAAAAAAAAAAAAAAAAAAAAAAAAAAAAAAAAAAAAAAA==",
        "encoding": "base64",
        "path": [
         "_data",
         "data",
         "completeness_count_|_Gender",
         "value"
        ]
       },
       {
        "data": "AAAAAAAAAAAAAAAAAAAAAAAAAAAAAAAAAAAAAAAAAAAAAAAAAAAAAAAAAAAAAAAAAAAAAAAAAAAAAAAAAAAAAAAAAAAAAAAAAAAAAAAAAAAAAAAAAAAAAAEAAAAAAAAAAQAAAAAAAAAAAAAAAAAAAAAAAAAAAAAAAAAAAAAAAAAAAAAAAAAAAAAAAAAAAAAAAAAAAAAAAAAAAAAAAAAAAAAAAAAAAAAAAAAAAAEAAAAAAAAAAAAAAAAAAAAAAAAAAAAAAAAAAAAAAAAAAAAAAAAAAAAAAAAAAAAAAAAAAAAAAAAAAAAAAAAAAAABAAAAAAAAAAAAAAAAAAAAAQAAAAAAAAABAAAAAAAAAAAAAAAAAAAAAAAAAAAAAAAAAAAAAAAAAAAAAAAAAAAAAAAAAAAAAAAAAAAAAAAAAAAAAAAAAAAAAAAAAAAAAAAAAAAAAAAAAAAAAAAAAAAAAAAAAAAAAAAAAAAAAAAAAAAAAAAAAAAAAAAAAAAAAAAAAAAAAQAAAAAAAAABAAAAAAAAAAAAAAAAAAAAAAAAAAEAAAAAAAAAAQAAAAAAAAAAAAAAAAAAAA==",
        "encoding": "base64",
        "path": [
         "_data",
         "data",
         "completeness_count_|_Height_cm",
         "value"
        ]
       },
       {
        "data": "AAAAAAAAAAAAAAAAAQAAAAEAAAABAAAAAQAAAAAAAAAAAAAAAAAAAAAAAAAAAAAAAAAAAAAAAAAAAAAAAAAAAAEAAAAAAAAAAAAAAAAAAAAAAAAAAQAAAAAAAAAAAAAAAAAAAAAAAAAAAAAAAAAAAAAAAAAAAAAAAAAAAAAAAAAAAAAAAAAAAAAAAAAAAAAAAAAAAAAAAAAAAAAAAAAAAAAAAAAAAAAAAAAAAAAAAAAAAAAAAAAAAAAAAAAAAAAAAQAAAAAAAAAAAAAAAAAAAAAAAAAAAAAAAAAAAAAAAAAAAAAAAAAAAAAAAAAAAAAAAAAAAAAAAAAAAAAAAAAAAAAAAAAAAAAAAAAAAAAAAAAAAAAAAAAAAAAAAAAAAAAAAAAAAAAAAAAAAAAAAAAAAAAAAAAAAAAAAAAAAAAAAAAAAAAAAAAAAAAAAAAAAAAAAAAAAAAAAAAAAAAAAAAAAAAAAAAAAAAAAAAAAAAAAAAAAAAAAAAAAAAAAAAAAAAAAAAAAAAAAAAAAAAAAAAAAAAAAAAAAAAAAAAAAAAAAAAAAAAAAAAAAAAAAAAAAAAAAAAAAA==",
        "encoding": "base64",
        "path": [
         "_data",
         "data",
         "completeness_count_|_ICD_10_Code",
         "value"
        ]
       },
       {
        "data": "AAAAAAAAAAAAAAAAAAAAAAAAAAAAAAAAAAAAAAAAAAAAAAAAAAAAAAAAAAAAAAAAAAAAAAAAAAAAAAAAAAAAAAAAAAAAAAAAAAAAAAAAAAAAAAAAAAAAAAAAAAAAAAAAAAAAAAAAAAAAAAAAAAAAAAAAAAAAAAAAAAAAAAAAAAAAAAAAAAAAAAAAAAAAAAAAAAAAAAAAAAAAAAAAAAAAAAAAAAAAAAAAAAAAAAAAAAAAAAAAAAAAAAAAAAAAAAAAAAAAAAAAAAAAAAAAAAAAAAAAAAAAAAAAAAAAAAAAAAAAAAAAAAAAAAAAAAAAAAAAAAAAAAAAAAAAAAAAAAAAAAAAAAAAAAAAAAAAAAAAAAAAAAAAAAAAAAAAAAAAAAAAAAAAAAAAAAAAAAAAAAAAAAAAAAAAAAAAAAAAAAAAAAAAAAAAAAAAAAAAAAAAAAAAAAAAAAAAAAAAAAAAAAAAAAAAAAAAAAAAAAAAAAAAAAAAAAAAAAAAAAAAAAAAAAAAAAAAAAAAAAAAAAAAAAAAAAAAAAAAAAAAAAAAAAAAAAAAAAAAAAAAAAAAAAAAAAAAAAAAAA==",
        "encoding": "base64",
        "path": [
         "_data",
         "data",
         "completeness_count_|_Metastatic_Indicator",
         "value"
        ]
       },
       {
        "data": "AAAAAAAAAAAAAAAAAAAAAAAAAAAAAAAAAAAAAAAAAAAAAAAAAAAAAAAAAAAAAAAAAAAAAAAAAAAAAAAAAAAAAAAAAAAAAAAAAAAAAAAAAAAAAAAAAAAAAAAAAAAAAAAAAAAAAAAAAAAAAAAAAAAAAAAAAAAAAAAAAAAAAAAAAAAAAAAAAAAAAAAAAAAAAAAAAAAAAAAAAAAAAAAAAAAAAAEAAAAAAAAAAAAAAAAAAAAAAAAAAAAAAAAAAAABAAAAAAAAAAEAAAAAAAAAAAAAAAEAAAAAAAAAAQAAAAEAAAAAAAAAAAAAAAAAAAAAAAAAAAAAAAAAAAAAAAAAAAAAAAAAAAAAAAAAAAAAAAAAAAAAAAAAAAAAAAAAAAAAAAAAAAAAAAAAAAAAAAAAAAAAAAAAAAAAAAAAAAAAAAAAAAAAAAAAAAAAAAAAAAAAAAAAAAAAAAAAAAAAAAAAAQAAAAAAAAAAAAAAAAAAAAAAAAAAAAAAAAAAAAAAAAAAAAAAAAAAAAAAAAAAAAAAAAAAAAAAAAAAAAAAAAAAAAAAAAAAAAAAAAAAAAAAAAAAAAAAAAAAAA==",
        "encoding": "base64",
        "path": [
         "_data",
         "data",
         "completeness_count_|_NHS_number",
         "value"
        ]
       },
       {
        "data": "AAAAAAAAAAAAAAAAAAAAAAAAAAAAAAAAAAAAAAAAAAAAAAAAAAAAAAAAAAAAAAAAAAAAAAAAAAAAAAAAAAAAAAAAAAAAAAAAAAAAAAAAAAAAAAAAAAAAAAAAAAAAAAAAAAAAAAAAAAAAAAAAAAAAAAAAAAAAAAAAAAAAAAAAAAAAAAAAAAAAAAAAAAAAAAAAAAAAAAAAAAAAAAAAAAAAAAAAAAAAAAAAAAAAAAAAAAAAAAAAAAAAAAAAAAAAAAAAAAAAAAAAAAAAAAAAAAAAAAAAAAAAAAAAAAAAAAAAAAAAAAAAAAAAAAAAAAAAAAAAAAAAAAAAAAAAAAAAAAAAAAAAAAAAAAAAAAAAAAAAAAAAAAAAAAAAAAAAAAAAAAAAAAAAAAAAAAAAAAAAAAAAAAAAAAAAAAAAAAAAAAAAAAAAAAAAAAAAAAAAAAAAAAAAAAAAAAAAAAAAAAAAAAAAAAAAAAAAAAAAAAAAAAAAAAAAAAAAAAAAAAAAAAAAAAAAAAAAAAAAAAAAAAAAAAAAAAAAAAAAAAAAAAAAAAAAAAAAAAAAAAAAAAAAAAAAAAAAAAAAAA==",
        "encoding": "base64",
        "path": [
         "_data",
         "data",
         "completeness_count_|_Patient_ID",
         "value"
        ]
       },
       {
        "data": "AAAAAAAAAAAAAAAAAAAAAAAAAAAAAAAAAAAAAAAAAAAAAAAAAAAAAAAAAAAAAAAAAAAAAAAAAAAAAAAAAAAAAAAAAAAAAAAAAAAAAAAAAAAAAAAAAAAAAAAAAAAAAAAAAAAAAAAAAAAAAAAAAAAAAAAAAAAAAAAAAAAAAAAAAAAAAAAAAAAAAAAAAAAAAAAAAAAAAAAAAAAAAAAAAAAAAAAAAAAAAAAAAAAAAAAAAAAAAAAAAAAAAAAAAAAAAAAAAAAAAAAAAAAAAAAAAAAAAAAAAAAAAAAAAAAAAAAAAAAAAAAAAAAAAAAAAAAAAAAAAAAAAAAAAAAAAAAAAAAAAAAAAAAAAAAAAAAAAAAAAAAAAAAAAAAAAAAAAAAAAAAAAAAAAAAAAAAAAAAAAAAAAAAAAAAAAAAAAAAAAAAAAAAAAAAAAAAAAAAAAAAAAAAAAAAAAAAAAAAAAAAAAAAAAAAAAAAAAAAAAAAAAAAAAAAAAAAAAAAAAAAAAAAAAAAAAAAAAAAAAAAAAAAAAAAAAAAAAAAAAAAAAAAAAAAAAAAAAAAAAAAAAAAAAAAAAAAAAAAAAA==",
        "encoding": "base64",
        "path": [
         "_data",
         "data",
         "completeness_count_|_Postcode",
         "value"
        ]
       },
       {
        "data": "AAAAAAAAAAAAAAAAAQAAAAAAAAAAAAAAAAAAAAAAAAAAAAAAAAAAAAAAAAAAAAAAAAAAAAAAAAAAAAAAAAAAAAAAAAAAAAAAAAAAAAAAAAAAAAAAAAAAAAAAAAAAAAAAAAAAAAAAAAAAAAAAAAAAAAAAAAAAAAAAAAAAAAAAAAAAAAAAAAAAAAAAAAAAAAAAAAAAAAAAAAAAAAAAAAAAAAAAAAAAAAAAAAAAAAAAAAAAAAAAAAAAAAAAAAAAAAAAAAAAAAAAAAAAAAAAAAAAAAAAAAAAAAAAAAAAAAAAAAAAAAAAAAAAAAAAAAAAAAAAAAAAAAAAAAAAAAAAAAAAAAAAAAAAAAAAAAAAAAAAAAAAAAAAAAAAAAAAAAAAAAAAAAAAAAAAAAAAAAAAAAAAAAAAAAAAAAAAAAAAAAAAAAAAAAAAAAAAAAAAAAAAAAAAAAAAAAAAAAAAAAAAAAAAAAAAAAAAAAAAAAAAAAAAAAAAAAAAAAAAAAAAAAAAAAAAAAAAAAAAAAAAAAAAAAAAAAAAAAAAAAAAAAAAAAAAAAAAAAAAAAAAAAAAAAAAAAAAAAAAAA==",
        "encoding": "base64",
        "path": [
         "_data",
         "data",
         "completeness_count_|_Regimen_Start_Date",
         "value"
        ]
       },
       {
        "data": "AAAAAAAAAAAAAAAAAAAAAAAAAAAAAAAAAAAAAAAAAAAAAAAAAAAAAAAAAAAAAAAAAAAAAAAAAAAAAAAAAAAAAAAAAAAAAAAAAAAAAAAAAAAAAAAAAAAAAAAAAAAAAAAAAAAAAAAAAAAAAAAAAAAAAAAAAAAAAAAAAAAAAAAAAAAAAAAAAAAAAAAAAAAAAAAAAAAAAAAAAAAAAAAAAAAAAAAAAAAAAAAAAAAAAAAAAAAAAAAAAAAAAAAAAAAAAAAAAAAAAAAAAAAAAAAAAAAAAAAAAAAAAAAAAAAAAAAAAAAAAAAAAAAAAAAAAAAAAAAAAAAAAAAAAAAAAAAAAAAAAAAAAAAAAAAAAAAAAAAAAAAAAAAAAAAAAAAAAAAAAAAAAAAAAAAAAAAAAAAAAAAAAAAAAAAAAAAAAAAAAAAAAAAAAAAAAAAAAAAAAAAAAAAAAAAAAAAAAAAAAAAAAAAAAAAAAAAAAAAAAAAAAAAAAAAAAAAAAAAAAAAAAAAAAAAAAAAAAAAAAAAAAAAAAAAAAAAAAAAAAAAAAAAAAAAAAAAAAAAAAAAAAAAAAAAAAAAAAAAAAA==",
        "encoding": "base64",
        "path": [
         "_data",
         "data",
         "completeness_count_|_Tumour_M_Stage",
         "value"
        ]
       },
       {
        "data": "AQAAAAEAAAABAAAAAQAAAAEAAAABAAAAAQAAAAEAAAABAAAAAQAAAAAAAAAAAAAAAQAAAAEAAAABAAAAAQAAAAEAAAABAAAAAQAAAAEAAAABAAAAAQAAAAEAAAAAAAAAAAAAAAAAAAAAAAAAAAAAAAAAAAAAAAAAAAAAAAAAAAAAAAAAAAAAAAAAAAAAAAAAAAAAAAAAAAAAAAAAAAAAAAAAAAAAAAAAAAAAAAAAAAAAAAAAAAAAAAAAAAAAAAAAAAAAAAAAAAAAAAAAAAAAAAAAAAAAAAAAAAAAAAAAAAAAAAAAAAAAAAAAAAAAAAAAAAAAAAAAAAAAAAAAAAAAAAAAAAAAAAAAAAAAAAAAAAAAAAAAAAAAAAAAAAAAAAAAAAAAAAAAAAAAAAAAAAAAAAAAAAAAAAAAAAAAAAAAAAAAAAAAAAAAAAAAAAAAAAAAAAAAAAAAAAAAAAAAAAAAAAAAAAAAAAAAAAAAAAAAAAAAAAAAAAAAAAAAAAAAAAAAAAAAAAAAAAAAAAAAAAAAAAAAAAAAAAAAAAAAAAAAAAAAAAAAAAAAAAAAAAAAAAAAAAAAAA==",
        "encoding": "base64",
        "path": [
         "_data",
         "data",
         "completeness_count_|_Tumour_Stage",
         "value"
        ]
       },
       {
        "data": "AQAAAAAAAAAAAAAAAAAAAAAAAAAAAAAAAQAAAAAAAAAAAAAAAAAAAAAAAAAAAAAAAAAAAAAAAAAAAAAAAAAAAAAAAAAAAAAAAAAAAAAAAAAAAAAAAQAAAAAAAAAAAAAAAAAAAAAAAAAAAAAAAAAAAAAAAAAAAAAAAAAAAAAAAAABAAAAAQAAAAAAAAAAAAAAAAAAAAEAAAAAAAAAAAAAAAAAAAAAAAAAAQAAAAAAAAAAAAAAAAAAAAAAAAAAAAAAAAAAAAAAAAAAAAAAAAAAAAAAAAAAAAAAAAAAAAAAAAAAAAAAAAAAAAEAAAABAAAAAAAAAAAAAAAAAAAAAAAAAAAAAAAAAAAAAAAAAAAAAAAAAAAAAAAAAAAAAAAAAAAAAAAAAAAAAAAAAAAAAAAAAAAAAAABAAAAAAAAAAAAAAAAAAAAAAAAAAAAAAAAAAAAAAAAAAAAAAAAAAAAAAAAAAAAAAAAAAAAAAAAAAEAAAAAAAAAAAAAAAAAAAAAAAAAAAAAAAAAAAAAAAAAAAAAAAAAAAAAAAAAAAAAAAAAAAAAAAAAAAAAAAAAAAAAAAAAAAAAAA==",
        "encoding": "base64",
        "path": [
         "_data",
         "data",
         "completeness_count_|_Weight_kg",
         "value"
        ]
       },
       {
        "data": "AQAAAAAAAAAAAAAAAAAAAAAAAAAAAAAAAAAAAAAAAAAAAAAAAAAAAAEAAAAAAAAAAAAAAAAAAAAAAAAAAAAAAAAAAAAAAAAAAAAAAAAAAAAAAAAAAAAAAAAAAAAAAAAAAAAAAAAAAAAAAAAAAAAAAAAAAAAAAAAAAAAAAAAAAAAAAAAAAAAAAAAAAAAAAAAAAAAAAAAAAAAAAAAAAAAAAAAAAAAAAAAAAAAAAAAAAAAAAAAAAAAAAAAAAAAAAAAAAAAAAAAAAAAAAAAAAAAAAAAAAAAAAAAAAAAAAAAAAAAAAAAAAAAAAAAAAAAAAAAAAAAAAAAAAAAAAAAAAAAAAAAAAAAAAAAAAAAAAAAAAAAAAAAAAAAAAAAAAAAAAAAAAAAAAAAAAAAAAAAAAAAAAAAAAAAAAAAAAAAAAAAAAAAAAAAAAAAAAAAAAAAAAAAAAAAAAAAAAAAAAAAAAAAAAAAAAAAAAAAAAAAAAAAAAAAAAAAAAAAAAAAAAAAAAAAAAAAAAAAAAAAAAAAAAAAAAAAAAAAAAAAAAAAAAAAAAAAAAAAAAAAAAAAAAAAAAAAAAAAAAA==",
        "encoding": "base64",
        "path": [
         "_data",
         "data",
         "row_uniqueness_|_full_row_uniqueness",
         "value"
        ]
       },
       {
        "data": "AQAAAAAAAAAAAAAAAAAAAAAAAAAAAAAAAAAAAAAAAAAAAAAAAAAAAAEAAAAAAAAAAAAAAAAAAAAAAAAAAAAAAAAAAAAAAAAAAAAAAAAAAAAAAAAAAAAAAAAAAAAAAAAAAAAAAAAAAAAAAAAAAAAAAAAAAAAAAAAAAAAAAAAAAAAAAAAAAAAAAAAAAAAAAAAAAAAAAAAAAAAAAAAAAAAAAAAAAAAAAAAAAAAAAAAAAAAAAAAAAAAAAAAAAAAAAAAAAAAAAAAAAAAAAAAAAAAAAAAAAAAAAAAAAAAAAAAAAAAAAAAAAAAAAAAAAAAAAAAAAAAAAAAAAAAAAAAAAAAAAAAAAAAAAAAAAAAAAAAAAAAAAAAAAAAAAAAAAAAAAAAAAAAAAAAAAAAAAAAAAAAAAAAAAAAAAAAAAAAAAAAAAAAAAAAAAAAAAAAAAAAAAAAAAAAAAAAAAAAAAAAAAAAAAAAAAAAAAAAAAAAAAAAAAAAAAAAAAAAAAAAAAAAAAAAAAAAAAAAAAAAAAAAAAAAAAAAAAAAAAAAAAAAAAAAAAAAAAAAAAAAAAAAAAAAAAAAAAAAAAA==",
        "encoding": "base64",
        "path": [
         "_data",
         "data",
         "uniqueness_count_|_full_row_uniqueness",
         "value"
        ]
       },
       {
        "data": "AQAAAAEAAAABAAAAAQAAAAEAAAABAAAAAQAAAAEAAAABAAAAAQAAAAEAAAABAAAAAQAAAAEAAAABAAAAAQAAAAEAAAABAAAAAQAAAAEAAAAAAAAAAAAAAAAAAAAAAAAAAAAAAAAAAAAAAAAAAAAAAAAAAAAAAAAAAAAAAAAAAAAAAAAAAAAAAAAAAAAAAAAAAAAAAAAAAAAAAAAAAAAAAAAAAAAAAAAAAAAAAAAAAAAAAAAAAAAAAAAAAAAAAAAAAAAAAAAAAAAAAAAAAAAAAAAAAAAAAAAAAAAAAAAAAAAAAAAAAAAAAAAAAAAAAAAAAAAAAAAAAAAAAAAAAAAAAAAAAAAAAAAAAAAAAAAAAAAAAAAAAAAAAAAAAAAAAAAAAAAAAAAAAAAAAAAAAAAAAAAAAAAAAAAAAAAAAAAAAAABAAAAAQAAAAEAAAABAAAAAQAAAAEAAAABAAAAAQAAAAEAAAABAAAAAQAAAAEAAAABAAAAAQAAAAEAAAABAAAAAQAAAAEAAAABAAAAAQAAAAEAAAABAAAAAQAAAAEAAAABAAAAAQAAAAEAAAABAAAAAQAAAA==",
        "encoding": "base64",
        "path": [
         "_data",
         "data",
         "Consistency_Compare_|_Metastatic_Indicator",
         "value"
        ]
       },
       {
        "data": "AQAAAAAAAAAAAAAAAAAAAAAAAAAAAAAAAAAAAAAAAAAAAAAAAAAAAAAAAAAAAAAAAAAAAAAAAAAAAAAAAAAAAAAAAAAAAAAAAAAAAAEAAAAAAAAAAAAAAAAAAAAAAAAAAAAAAAAAAAAAAAAAAAAAAAAAAAAAAAAAAAAAAAAAAAAAAAAAAAAAAAAAAAAAAAAAAQAAAAAAAAAAAAAAAAAAAAAAAAAAAAAAAAAAAAAAAAAAAAAAAAAAAAAAAAAAAAAAAAAAAAAAAAAAAAAAAAAAAAAAAAAAAAAAAAAAAAAAAAAAAAAAAAAAAAAAAAAAAAAAAAAAAAAAAAAAAAAAAAAAAAAAAAAAAAAAAQAAAAEAAAAAAAAAAAAAAAAAAAAAAAAAAAAAAAEAAAAAAAAAAAAAAAAAAAAAAAAAAAAAAAAAAAAAAAAAAAAAAAAAAAAAAAAAAAAAAAAAAAAAAAAAAAAAAAAAAAAAAAAAAAAAAAAAAAAAAAAAAAAAAAAAAAAAAAAAAAAAAAAAAAAAAAAAAAAAAAAAAAAAAAAAAAAAAAAAAAAAAAAAAAAAAAAAAAAAAAAAAAAAAA==",
        "encoding": "base64",
        "path": [
         "_data",
         "data",
         "Consistency_Date_Relations_|_Date_of_Diagnosis",
         "value"
        ]
       },
       {
        "data": "AQAAAAAAAAAAAAAAAAAAAAAAAAAAAAAAAAAAAAAAAAAAAAAAAAAAAAAAAAAAAAAAAAAAAAAAAAAAAAAAAAAAAAAAAAAAAAAAAAAAAAEAAAAAAAAAAAAAAAAAAAAAAAAAAAAAAAAAAAAAAAAAAAAAAAAAAAAAAAAAAAAAAAAAAAAAAAAAAAAAAAAAAAAAAAAAAQAAAAAAAAAAAAAAAAAAAAAAAAAAAAAAAAAAAAAAAAAAAAAAAAAAAAAAAAAAAAAAAAAAAAAAAAAAAAAAAAAAAAAAAAAAAAAAAAAAAAAAAAAAAAAAAAAAAAAAAAAAAAAAAAAAAAAAAAAAAAAAAAAAAAAAAAAAAAAAAQAAAAEAAAAAAAAAAAAAAAAAAAAAAAAAAAAAAAEAAAAAAAAAAAAAAAAAAAAAAAAAAAAAAAAAAAAAAAAAAAAAAAAAAAAAAAAAAAAAAAAAAAAAAAAAAAAAAAAAAAAAAAAAAAAAAAAAAAAAAAAAAAAAAAAAAAAAAAAAAAAAAAAAAAAAAAAAAAAAAAAAAAAAAAAAAAAAAAAAAAAAAAAAAAAAAAAAAAAAAAAAAAAAAA==",
        "encoding": "base64",
        "path": [
         "_data",
         "data",
         "Consistency_Date_Relations_|_Date_of_Birth",
         "value"
        ]
       },
       {
        "data": "AAAAAAAAAAAAAAAAAAAAAAAAAAABAAAAAAAAAAAAAAAAAAAAAAAAAAAAAAAAAAAAAQAAAAAAAAAAAAAAAAAAAAAAAAAAAAAAAAAAAAAAAAAAAAAAAAAAAAAAAAAAAAAAAAAAAAAAAAAAAAAAAAAAAAAAAAAAAAAAAAAAAAAAAAAAAAAAAQAAAAAAAAAAAAAAAAAAAAAAAAAAAAAAAAAAAAAAAAAAAAAAAAAAAAAAAAAAAAAAAAAAAAAAAAAAAAAAAAAAAAAAAAAAAAAAAAAAAAAAAAAAAAAAAAAAAAAAAAAAAAAAAAAAAAAAAAAAAAAAAAAAAAAAAAAAAAAAAAAAAAAAAAAAAAAAAQAAAAEAAAAAAAAAAAAAAAAAAAAAAAAAAAAAAAAAAAAAAAAAAAAAAAEAAAAAAAAAAAAAAAAAAAAAAAAAAAAAAAEAAAAAAAAAAAAAAAAAAAAAAAAAAAAAAAAAAAABAAAAAAAAAAAAAAAAAAAAAAAAAAAAAAAAAAAAAAAAAAAAAAAAAAAAAQAAAAAAAAAAAAAAAAAAAAAAAAAAAAAAAAAAAAAAAAAAAAAAAAAAAA==",
        "encoding": "base64",
        "path": [
         "_data",
         "data",
         "Consistency_Date_Relations_|_Datetime_Event1",
         "value"
        ]
       },
       {
        "data": "AAAAAAAAAAAAAAAAAAAAAAAAAAABAAAAAAAAAAAAAAAAAAAAAAAAAAAAAAAAAAAAAQAAAAAAAAAAAAAAAAAAAAAAAAAAAAAAAAAAAAAAAAAAAAAAAAAAAAAAAAAAAAAAAAAAAAAAAAAAAAAAAAAAAAAAAAAAAAAAAAAAAAAAAAAAAAAAAQAAAAAAAAAAAAAAAAAAAAAAAAAAAAAAAAAAAAAAAAAAAAAAAAAAAAAAAAAAAAAAAAAAAAAAAAAAAAAAAAAAAAAAAAAAAAAAAAAAAAAAAAAAAAAAAAAAAAAAAAAAAAAAAAAAAAAAAAAAAAAAAAAAAAAAAAAAAAAAAAAAAAAAAAAAAAAAAQAAAAEAAAAAAAAAAAAAAAAAAAAAAAAAAAAAAAAAAAAAAAAAAAAAAAEAAAAAAAAAAAAAAAAAAAAAAAAAAAAAAAEAAAAAAAAAAAAAAAAAAAAAAAAAAAAAAAAAAAABAAAAAAAAAAAAAAAAAAAAAAAAAAAAAAAAAAAAAAAAAAAAAAAAAAAAAQAAAAAAAAAAAAAAAAAAAAAAAAAAAAAAAAAAAAAAAAAAAAAAAAAAAA==",
        "encoding": "base64",
        "path": [
         "_data",
         "data",
         "Consistency_Date_Relations_|_Datetime_Logging1",
         "value"
        ]
       },
       {
        "data": "AAAAAAAAAAAAAAAAAAAAAAAAAAAAAAAAAAAAAAAAAAAAAAAAAAAAAAAAAAAAAAAAAAAAAAAAAAAAAAAAAAAAAAAAAAAAAAAAAAAAAAAAAAAAAAAAAAAAAAAAAAAAAAAAAAAAAAAAAAAAAAAAAAAAAAAAAAAAAAAAAAAAAAAAAAAAAAAAAAAAAAAAAAAAAAAAAAAAAAAAAAAAAAAAAAAAAAAAAAAAAAAAAAAAAAAAAAAAAAAAAAAAAAAAAAAAAAAAAAAAAAAAAAAAAAAAAAAAAAAAAAAAAAAAAAAAAAAAAAAAAAAAAAAAAAAAAAAAAAAAAAAAAAAAAAAAAAAAAAAAAAAAAAAAAAAAAAAAAAAAAAAAAAAAAAAAAAAAAAAAAAAAAAAAAAAAAAAAAAAAAAAAAAEAAAAAAAAAAAAAAAAAAAAAAAAAAAAAAAAAAAAAAAAAAAAAAAAAAAABAAAAAAAAAAAAAAAAAAAAAAAAAAAAAAAAAAAAAAAAAAAAAAAAAAAAAAAAAAAAAAAAAAAAAAAAAAAAAAAAAAAAAAAAAAAAAAAAAAAAAAAAAAAAAAAAAAAAAAAAAA==",
        "encoding": "base64",
        "path": [
         "_data",
         "data",
         "Consistency_Date_Relations_|_Datetime_Event2",
         "value"
        ]
       },
       {
        "data": "AQAAAAAAAAAAAAAAAAAAAAAAAAAAAAAAAAAAAAAAAAAAAAAAAAAAAAAAAAAAAAAAAAAAAAAAAAAAAAAAAAAAAAAAAAAAAAAAAAAAAAEAAAAAAAAAAAAAAAAAAAAAAAAAAAAAAAAAAAAAAAAAAAAAAAAAAAAAAAAAAAAAAAAAAAAAAAAAAAAAAAAAAAAAAAAAAQAAAAAAAAAAAAAAAAAAAAAAAAAAAAAAAAAAAAAAAAAAAAAAAAAAAAAAAAAAAAAAAAAAAAAAAAAAAAAAAAAAAAAAAAAAAAAAAAAAAAAAAAAAAAAAAAAAAAAAAAAAAAAAAAAAAAAAAAAAAAAAAAAAAAAAAAAAAAAAAQAAAAEAAAAAAAAAAAAAAAAAAAAAAAAAAAAAAAEAAAAAAAAAAAAAAAAAAAAAAAAAAAAAAAAAAAAAAAAAAAAAAAAAAAAAAAAAAAAAAAAAAAAAAAAAAAAAAAAAAAAAAAAAAAAAAAAAAAAAAAAAAAAAAAAAAAAAAAAAAAAAAAAAAAAAAAAAAAAAAAAAAAAAAAAAAAAAAAAAAAAAAAAAAAAAAAAAAAAAAAAAAAAAAA==",
        "encoding": "base64",
        "path": [
         "_data",
         "data",
         "consistency_count_|_Date_of_Birth",
         "value"
        ]
       },
       {
        "data": "AQAAAAAAAAAAAAAAAAAAAAAAAAAAAAAAAAAAAAAAAAAAAAAAAAAAAAAAAAAAAAAAAAAAAAAAAAAAAAAAAAAAAAAAAAAAAAAAAAAAAAEAAAAAAAAAAAAAAAAAAAAAAAAAAAAAAAAAAAAAAAAAAAAAAAAAAAAAAAAAAAAAAAAAAAAAAAAAAAAAAAAAAAAAAAAAAQAAAAAAAAAAAAAAAAAAAAAAAAAAAAAAAAAAAAAAAAAAAAAAAAAAAAAAAAAAAAAAAAAAAAAAAAAAAAAAAAAAAAAAAAAAAAAAAAAAAAAAAAAAAAAAAAAAAAAAAAAAAAAAAAAAAAAAAAAAAAAAAAAAAAAAAAAAAAAAAQAAAAEAAAAAAAAAAAAAAAAAAAAAAAAAAAAAAAEAAAAAAAAAAAAAAAAAAAAAAAAAAAAAAAAAAAAAAAAAAAAAAAAAAAAAAAAAAAAAAAAAAAAAAAAAAAAAAAAAAAAAAAAAAAAAAAAAAAAAAAAAAAAAAAAAAAAAAAAAAAAAAAAAAAAAAAAAAAAAAAAAAAAAAAAAAAAAAAAAAAAAAAAAAAAAAAAAAAAAAAAAAAAAAA==",
        "encoding": "base64",
        "path": [
         "_data",
         "data",
         "consistency_count_|_Date_of_Diagnosis",
         "value"
        ]
       },
       {
        "data": "AAAAAAAAAAAAAAAAAAAAAAAAAAABAAAAAAAAAAAAAAAAAAAAAAAAAAAAAAAAAAAAAQAAAAAAAAAAAAAAAAAAAAAAAAAAAAAAAAAAAAAAAAAAAAAAAAAAAAAAAAAAAAAAAAAAAAAAAAAAAAAAAAAAAAAAAAAAAAAAAAAAAAAAAAAAAAAAAQAAAAAAAAAAAAAAAAAAAAAAAAAAAAAAAAAAAAAAAAAAAAAAAAAAAAAAAAAAAAAAAAAAAAAAAAAAAAAAAAAAAAAAAAAAAAAAAAAAAAAAAAAAAAAAAAAAAAAAAAAAAAAAAAAAAAAAAAAAAAAAAAAAAAAAAAAAAAAAAAAAAAAAAAAAAAAAAQAAAAEAAAAAAAAAAAAAAAAAAAAAAAAAAAAAAAAAAAAAAAAAAAAAAAEAAAAAAAAAAAAAAAAAAAAAAAAAAAAAAAEAAAAAAAAAAAAAAAAAAAAAAAAAAAAAAAAAAAABAAAAAAAAAAAAAAAAAAAAAAAAAAAAAAAAAAAAAAAAAAAAAAAAAAAAAQAAAAAAAAAAAAAAAAAAAAAAAAAAAAAAAAAAAAAAAAAAAAAAAAAAAA==",
        "encoding": "base64",
        "path": [
         "_data",
         "data",
         "consistency_count_|_Datetime_Event1",
         "value"
        ]
       },
       {
        "data": "AAAAAAAAAAAAAAAAAAAAAAAAAAAAAAAAAAAAAAAAAAAAAAAAAAAAAAAAAAAAAAAAAAAAAAAAAAAAAAAAAAAAAAAAAAAAAAAAAAAAAAAAAAAAAAAAAAAAAAAAAAAAAAAAAAAAAAAAAAAAAAAAAAAAAAAAAAAAAAAAAAAAAAAAAAAAAAAAAAAAAAAAAAAAAAAAAAAAAAAAAAAAAAAAAAAAAAAAAAAAAAAAAAAAAAAAAAAAAAAAAAAAAAAAAAAAAAAAAAAAAAAAAAAAAAAAAAAAAAAAAAAAAAAAAAAAAAAAAAAAAAAAAAAAAAAAAAAAAAAAAAAAAAAAAAAAAAAAAAAAAAAAAAAAAAAAAAAAAAAAAAAAAAAAAAAAAAAAAAAAAAAAAAAAAAAAAAAAAAAAAAAAAAEAAAAAAAAAAAAAAAAAAAAAAAAAAAAAAAAAAAAAAAAAAAAAAAAAAAABAAAAAAAAAAAAAAAAAAAAAAAAAAAAAAAAAAAAAAAAAAAAAAAAAAAAAAAAAAAAAAAAAAAAAAAAAAAAAAAAAAAAAAAAAAAAAAAAAAAAAAAAAAAAAAAAAAAAAAAAAA==",
        "encoding": "base64",
        "path": [
         "_data",
         "data",
         "consistency_count_|_Datetime_Event2",
         "value"
        ]
       },
       {
        "data": "AAAAAAAAAAAAAAAAAAAAAAAAAAABAAAAAAAAAAAAAAAAAAAAAAAAAAAAAAAAAAAAAQAAAAAAAAAAAAAAAAAAAAAAAAAAAAAAAAAAAAAAAAAAAAAAAAAAAAAAAAAAAAAAAAAAAAAAAAAAAAAAAAAAAAAAAAAAAAAAAAAAAAAAAAAAAAAAAQAAAAAAAAAAAAAAAAAAAAAAAAAAAAAAAAAAAAAAAAAAAAAAAAAAAAAAAAAAAAAAAAAAAAAAAAAAAAAAAAAAAAAAAAAAAAAAAAAAAAAAAAAAAAAAAAAAAAAAAAAAAAAAAAAAAAAAAAAAAAAAAAAAAAAAAAAAAAAAAAAAAAAAAAAAAAAAAQAAAAEAAAAAAAAAAAAAAAAAAAAAAAAAAAAAAAAAAAAAAAAAAAAAAAEAAAAAAAAAAAAAAAAAAAAAAAAAAAAAAAEAAAAAAAAAAAAAAAAAAAAAAAAAAAAAAAAAAAABAAAAAAAAAAAAAAAAAAAAAAAAAAAAAAAAAAAAAAAAAAAAAAAAAAAAAQAAAAAAAAAAAAAAAAAAAAAAAAAAAAAAAAAAAAAAAAAAAAAAAAAAAA==",
        "encoding": "base64",
        "path": [
         "_data",
         "data",
         "consistency_count_|_Datetime_Logging1",
         "value"
        ]
       },
       {
        "data": "AQAAAAEAAAABAAAAAQAAAAEAAAABAAAAAQAAAAEAAAABAAAAAQAAAAEAAAABAAAAAQAAAAEAAAABAAAAAQAAAAEAAAABAAAAAQAAAAEAAAAAAAAAAAAAAAAAAAAAAAAAAAAAAAAAAAAAAAAAAAAAAAAAAAAAAAAAAAAAAAAAAAAAAAAAAAAAAAAAAAAAAAAAAAAAAAAAAAAAAAAAAAAAAAAAAAAAAAAAAAAAAAAAAAAAAAAAAAAAAAAAAAAAAAAAAAAAAAAAAAAAAAAAAAAAAAAAAAAAAAAAAAAAAAAAAAAAAAAAAAAAAAAAAAAAAAAAAAAAAAAAAAAAAAAAAAAAAAAAAAAAAAAAAAAAAAAAAAAAAAAAAAAAAAAAAAAAAAAAAAAAAAAAAAAAAAAAAAAAAAAAAAAAAAAAAAAAAAAAAAABAAAAAQAAAAEAAAABAAAAAQAAAAEAAAABAAAAAQAAAAEAAAABAAAAAQAAAAEAAAABAAAAAQAAAAEAAAABAAAAAQAAAAEAAAABAAAAAQAAAAEAAAABAAAAAQAAAAEAAAABAAAAAQAAAAEAAAABAAAAAQAAAA==",
        "encoding": "base64",
        "path": [
         "_data",
         "data",
         "consistency_count_|_Metastatic_Indicator",
         "value"
        ]
       },
       {
        "data": "AAAAAAAAAAAAAAAAAAAAAAAAAAAAAAAAAQAAAAAAAAAAAAAAAAAAAAAAAAAAAAAAAAAAAAAAAAAAAAAAAAAAAAAAAAAAAAAAAQAAAAAAAAAAAAAAAAAAAAAAAAAAAAAAAAAAAAAAAAAAAAAAAQAAAAAAAAAAAAAAAAAAAAAAAAAAAAAAAAAAAAAAAAAAAAAAAAAAAAAAAAAAAAAAAAAAAAAAAAAAAAAAAAAAAAEAAAAAAAAAAQAAAAAAAAABAAAAAAAAAAAAAAAAAAAAAAAAAAAAAAAAAAAAAAAAAAAAAAAAAAAAAAAAAAEAAAAAAAAAAQAAAAAAAAAAAAAAAAAAAAAAAAAAAAAAAAAAAAAAAAAAAAAAAAAAAAAAAAAAAAAAAQAAAAAAAAAAAAAAAAAAAAAAAAAAAAAAAAAAAAAAAAAAAAAAAAAAAAAAAAAAAAAAAAAAAAAAAAAAAAAAAAAAAAAAAAAAAAAAAQAAAAAAAAAAAAAAAAAAAAAAAAAAAAAAAAAAAAAAAAAAAAAAAAAAAAEAAAABAAAAAQAAAAEAAAABAAAAAQAAAAEAAAABAAAAAQAAAA==",
        "encoding": "base64",
        "path": [
         "_data",
         "data",
         "Timeliness_Date_Diff_|_Datetime_Event1",
         "value"
        ]
       },
       {
        "data": "AQAAAAEAAAABAAAAAQAAAAEAAAABAAAAAQAAAAEAAAABAAAAAQAAAAEAAAABAAAAAQAAAAEAAAAAAAAAAQAAAAEAAAABAAAAAQAAAAEAAAABAAAAAQAAAAEAAAABAAAAAQAAAAEAAAABAAAAAQAAAAEAAAABAAAAAQAAAAEAAAABAAAAAAAAAAEAAAABAAAAAQAAAAEAAAABAAAAAQAAAAEAAAABAAAAAQAAAAEAAAABAAAAAQAAAAEAAAABAAAAAQAAAAEAAAABAAAAAQAAAAAAAAABAAAAAQAAAAEAAAABAAAAAQAAAAEAAAABAAAAAQAAAAEAAAABAAAAAQAAAAEAAAABAAAAAAAAAAEAAAABAAAAAQAAAAEAAAABAAAAAQAAAAEAAAABAAAAAQAAAAAAAAABAAAAAQAAAAEAAAABAAAAAQAAAAEAAAABAAAAAQAAAAEAAAAAAAAAAQAAAAEAAAABAAAAAQAAAAEAAAABAAAAAQAAAAEAAAABAAAAAQAAAAEAAAABAAAAAQAAAAEAAAABAAAAAQAAAAEAAAABAAAAAQAAAAEAAAABAAAAAQAAAA==",
        "encoding": "base64",
        "path": [
         "_data",
         "data",
         "Timeliness_Date_Diff_|_Datetime_Event2",
         "value"
        ]
       },
       {
        "data": "AAAAAAAAAAAAAAAAAAAAAAAAAAAAAAAAAQAAAAAAAAAAAAAAAAAAAAAAAAAAAAAAAAAAAAAAAAAAAAAAAAAAAAAAAAAAAAAAAQAAAAAAAAAAAAAAAAAAAAAAAAAAAAAAAAAAAAAAAAAAAAAAAQAAAAAAAAAAAAAAAAAAAAAAAAAAAAAAAAAAAAAAAAAAAAAAAAAAAAAAAAAAAAAAAAAAAAAAAAAAAAAAAAAAAAEAAAAAAAAAAQAAAAAAAAABAAAAAAAAAAAAAAAAAAAAAAAAAAAAAAAAAAAAAAAAAAAAAAAAAAAAAAAAAAEAAAAAAAAAAQAAAAAAAAAAAAAAAAAAAAAAAAAAAAAAAAAAAAAAAAAAAAAAAAAAAAAAAAAAAAAAAQAAAAAAAAAAAAAAAAAAAAAAAAAAAAAAAAAAAAAAAAAAAAAAAAAAAAAAAAAAAAAAAAAAAAAAAAAAAAAAAAAAAAAAAAAAAAAAAQAAAAAAAAAAAAAAAAAAAAAAAAAAAAAAAAAAAAAAAAAAAAAAAAAAAAEAAAABAAAAAQAAAAEAAAABAAAAAQAAAAEAAAABAAAAAQAAAA==",
        "encoding": "base64",
        "path": [
         "_data",
         "data",
         "timeliness_count_|_Datetime_Event1",
         "value"
        ]
       },
       {
        "data": "AQAAAAEAAAABAAAAAQAAAAEAAAABAAAAAQAAAAEAAAABAAAAAQAAAAEAAAABAAAAAQAAAAEAAAAAAAAAAQAAAAEAAAABAAAAAQAAAAEAAAABAAAAAQAAAAEAAAABAAAAAQAAAAEAAAABAAAAAQAAAAEAAAABAAAAAQAAAAEAAAABAAAAAAAAAAEAAAABAAAAAQAAAAEAAAABAAAAAQAAAAEAAAABAAAAAQAAAAEAAAABAAAAAQAAAAEAAAABAAAAAQAAAAEAAAABAAAAAQAAAAAAAAABAAAAAQAAAAEAAAABAAAAAQAAAAEAAAABAAAAAQAAAAEAAAABAAAAAQAAAAEAAAABAAAAAAAAAAEAAAABAAAAAQAAAAEAAAABAAAAAQAAAAEAAAABAAAAAQAAAAAAAAABAAAAAQAAAAEAAAABAAAAAQAAAAEAAAABAAAAAQAAAAEAAAAAAAAAAQAAAAEAAAABAAAAAQAAAAEAAAABAAAAAQAAAAEAAAABAAAAAQAAAAEAAAABAAAAAQAAAAEAAAABAAAAAQAAAAEAAAABAAAAAQAAAAEAAAABAAAAAQAAAA==",
        "encoding": "base64",
        "path": [
         "_data",
         "data",
         "timeliness_count_|_Datetime_Event2",
         "value"
        ]
       },
       {
        "data": "AQAAAAAAAAAAAAAAAAAAAAAAAAAAAAAAAAAAAAAAAAAAAAAAAAAAAAAAAAAAAAAAAAAAAAAAAAAAAAAAAAAAAAAAAAAAAAAAAAAAAAAAAAAAAAAAAAAAAAAAAAAAAAAAAAAAAAAAAAAAAAAAAAAAAAAAAAAAAAAAAAAAAAAAAAAAAAAAAAAAAAAAAAAAAAAAAAAAAAAAAAAAAAAAAAAAAAAAAAAAAAAAAAAAAAAAAAAAAAAAAAAAAAAAAAAAAAAAAAAAAAAAAAAAAAAAAAAAAAAAAAAAAAAAAAAAAAAAAAAAAAAAAAAAAAAAAAAAAAAAAAAAAAAAAAAAAAAAAAAAAAAAAAAAAAAAAAAAAAAAAAAAAAAAAAAAAAAAAAAAAAAAAAAAAAAAAAAAAAAAAAAAAAAAAAAAAAAAAAAAAAAAAAAAAAAAAAAAAAAAAAAAAAAAAAAAAAAAAAAAAAAAAAAAAAAAAAAAAAAAAAAAAAAAAAAAAAAAAAAAAAAAAAAAAAAAAAAAAAAAAAAAAAAAAAAAAAAAAAAAAAAAAAAAAAAAAAAAAAAAAAAAAAAAAAAAAAAAAAAAAA==",
        "encoding": "base64",
        "path": [
         "_data",
         "data",
         "Validity_Dates_Future_|_Date_of_Diagnosis",
         "value"
        ]
       },
       {
        "data": "AQAAAAAAAAAAAAAAAAAAAAAAAAAAAAAAAAAAAAAAAAAAAAAAAAAAAAAAAAAAAAAAAAAAAAAAAAAAAAAAAAAAAAAAAAAAAAAAAAAAAAAAAAAAAAAAAAAAAAAAAAAAAAAAAAAAAAAAAAAAAAAAAAAAAAAAAAAAAAAAAAAAAAAAAAAAAAAAAAAAAAAAAAAAAAAAAAAAAAAAAAAAAAAAAAAAAAAAAAAAAAAAAAAAAAAAAAAAAAAAAAAAAAAAAAAAAAAAAAAAAAAAAAAAAAAAAAAAAAAAAAAAAAAAAAAAAAAAAAAAAAAAAAAAAAAAAAAAAAAAAAAAAAAAAAAAAAAAAAAAAAAAAAAAAAAAAAAAAAAAAAAAAAAAAAAAAAAAAAAAAAAAAAAAAAAAAAAAAAAAAAAAAAAAAAAAAAAAAAAAAAAAAAAAAAAAAAAAAAAAAAAAAAAAAAAAAAAAAAAAAAAAAAAAAAAAAAAAAAAAAAAAAAAAAAAAAAAAAAAAAAAAAAAAAAAAAAAAAAAAAAAAAAAAAAAAAAAAAAAAAAAAAAAAAAAAAAAAAAAAAAAAAAAAAAAAAAAAAAAAAA==",
        "encoding": "base64",
        "path": [
         "_data",
         "data",
         "Validity_Dates_Future_|_Date_of_Birth",
         "value"
        ]
       },
       {
        "data": "AQAAAAEAAAAAAAAAAAAAAAAAAAAAAAAAAAAAAAAAAAAAAAAAAAAAAAAAAAAAAAAAAAAAAAAAAAAAAAAAAAAAAAAAAAAAAAAAAAAAAAAAAAAAAAAAAAAAAAAAAAAAAAAAAAAAAAAAAAAAAAAAAAAAAAAAAAAAAAAAAAAAAAAAAAAAAAAAAAAAAAAAAAAAAAAAAAAAAAAAAAAAAAAAAAAAAAAAAAAAAAAAAAAAAAAAAAAAAAAAAAAAAAAAAAAAAAAAAAAAAAAAAAAAAAAAAAAAAAAAAAAAAAAAAAAAAAAAAAAAAAAAAAAAAAAAAAAAAAAAAAAAAAAAAAAAAAAAAAAAAAAAAAAAAAAAAAAAAAAAAAAAAAAAAAAAAAAAAAAAAAAAAAAAAAAAAAAAAAAAAAAAAAAAAAAAAAAAAAAAAAAAAAAAAAAAAAAAAAAAAAAAAAAAAAAAAAAAAAAAAAAAAAAAAAAAAAAAAAAAAAAAAAAAAAAAAAAAAAAAAAAAAAAAAAAAAAAAAAAAAAAAAAAAAAAAAAAAAAAAAAAAAAAAAAAAAAAAAAAAAAAAAAAAAAAAAAAAAAAAAA==",
        "encoding": "base64",
        "path": [
         "_data",
         "data",
         "Validity_Dates_Future_|_Regimen_Start_Date",
         "value"
        ]
       },
       {
        "data": "AAAAAAAAAAAAAAAAAQAAAAAAAAAAAAAAAAAAAAEAAAAAAAAAAAAAAAAAAAAAAAAAAQAAAAAAAAAAAAAAAAAAAAAAAAAAAAAAAAAAAAAAAAABAAAAAQAAAAAAAAAAAAAAAQAAAAAAAAABAAAAAAAAAAAAAAABAAAAAAAAAAEAAAABAAAAAAAAAAAAAAABAAAAAAAAAAAAAAAAAAAAAQAAAAEAAAABAAAAAAAAAAAAAAAAAAAAAAAAAAAAAAAAAAAAAAAAAAEAAAABAAAAAAAAAAEAAAAAAAAAAAAAAAAAAAAAAAAAAAAAAAAAAAABAAAAAAAAAAAAAAAAAAAAAAAAAAAAAAAAAAAAAAAAAAAAAAABAAAAAQAAAAAAAAAAAAAAAAAAAAAAAAABAAAAAAAAAAAAAAAAAAAAAAAAAAAAAAAAAAAAAAAAAAAAAAAAAAAAAAAAAAAAAAAAAAAAAAAAAAAAAAAAAAAAAAAAAAAAAAABAAAAAQAAAAAAAAAAAAAAAAAAAAAAAAAAAAAAAAAAAAAAAAAAAAAAAAAAAAAAAAAAAAAAAAAAAAAAAAAAAAAAAAAAAA==",
        "encoding": "base64",
        "path": [
         "_data",
         "data",
         "Validity_Dates_Future_|_Datetime_Event1",
         "value"
        ]
       },
       {
        "data": "AAAAAAAAAAAAAAAAAQAAAAAAAAAAAAAAAAAAAAEAAAAAAAAAAAAAAAAAAAAAAAAAAQAAAAAAAAAAAAAAAAAAAAAAAAAAAAAAAAAAAAAAAAABAAAAAQAAAAAAAAAAAAAAAQAAAAAAAAABAAAAAAAAAAAAAAABAAAAAAAAAAEAAAABAAAAAAAAAAAAAAABAAAAAAAAAAAAAAAAAAAAAQAAAAEAAAABAAAAAAAAAAAAAAAAAAAAAAAAAAAAAAAAAAAAAAAAAAEAAAABAAAAAAAAAAEAAAAAAAAAAAAAAAAAAAAAAAAAAAAAAAAAAAABAAAAAAAAAAAAAAAAAAAAAAAAAAAAAAAAAAAAAAAAAAAAAAABAAAAAQAAAAAAAAAAAAAAAAAAAAAAAAABAAAAAAAAAAAAAAAAAAAAAAAAAAAAAAAAAAAAAAAAAAAAAAAAAAAAAAAAAAAAAAAAAAAAAAAAAAAAAAAAAAAAAAAAAAAAAAABAAAAAQAAAAAAAAAAAAAAAAAAAAAAAAAAAAAAAAAAAAAAAAAAAAAAAAAAAAAAAAAAAAAAAAAAAAAAAAAAAAAAAAAAAA==",
        "encoding": "base64",
        "path": [
         "_data",
         "data",
         "Validity_Dates_Future_|_Datetime_Logging1",
         "value"
        ]
       },
       {
        "data": "AAAAAAAAAAAAAAAAAAAAAAAAAAAAAAAAAAAAAAAAAAAAAAAAAAAAAAAAAAABAAAAAAAAAAAAAAAAAAAAAQAAAAAAAAABAAAAAAAAAAAAAAAAAAAAAAAAAAEAAAABAAAAAQAAAAAAAAAAAAAAAAAAAAAAAAABAAAAAQAAAAAAAAABAAAAAQAAAAAAAAABAAAAAAAAAAAAAAAAAAAAAAAAAAEAAAAAAAAAAAAAAAAAAAABAAAAAQAAAAAAAAAAAAAAAQAAAAAAAAAAAAAAAAAAAAAAAAAAAAAAAAAAAAAAAAAAAAAAAAAAAAEAAAAAAAAAAAAAAAAAAAAAAAAAAAAAAAEAAAABAAAAAQAAAAAAAAABAAAAAQAAAAEAAAAAAAAAAAAAAAAAAAAAAAAAAQAAAAAAAAAAAAAAAAAAAAAAAAAAAAAAAAAAAAAAAAAAAAAAAAAAAAAAAAABAAAAAAAAAAAAAAABAAAAAAAAAAAAAAAAAAAAAAAAAAAAAAAAAAAAAQAAAAEAAAAAAAAAAQAAAAAAAAAAAAAAAAAAAAAAAAAAAAAAAAAAAAAAAAAAAAAAAAAAAA==",
        "encoding": "base64",
        "path": [
         "_data",
         "data",
         "Validity_Dates_Future_|_Datetime_Event2",
         "value"
        ]
       },
       {
        "data": "AAAAAAAAAAAAAAAAAAAAAAAAAAAAAAAAAAAAAAAAAAAAAAAAAAAAAAAAAAABAAAAAAAAAAAAAAAAAAAAAQAAAAAAAAABAAAAAAAAAAAAAAAAAAAAAAAAAAEAAAABAAAAAQAAAAAAAAAAAAAAAAAAAAAAAAABAAAAAQAAAAAAAAABAAAAAQAAAAAAAAABAAAAAAAAAAAAAAAAAAAAAAAAAAEAAAAAAAAAAAAAAAAAAAABAAAAAQAAAAAAAAAAAAAAAQAAAAAAAAAAAAAAAAAAAAAAAAAAAAAAAAAAAAAAAAAAAAAAAAAAAAEAAAAAAAAAAAAAAAAAAAAAAAAAAAAAAAEAAAABAAAAAQAAAAAAAAABAAAAAQAAAAEAAAAAAAAAAAAAAAAAAAAAAAAAAQAAAAAAAAAAAAAAAAAAAAAAAAAAAAAAAAAAAAAAAAAAAAAAAAAAAAAAAAABAAAAAAAAAAAAAAABAAAAAAAAAAAAAAAAAAAAAAAAAAAAAAAAAAAAAQAAAAEAAAAAAAAAAQAAAAAAAAAAAAAAAAAAAAAAAAAAAAAAAAAAAAAAAAAAAAAAAAAAAA==",
        "encoding": "base64",
        "path": [
         "_data",
         "data",
         "Validity_Dates_Future_|_Datetime_Logging2",
         "value"
        ]
       },
       {
        "data": "AAAAAAAAAAAAAAAAAAAAAAAAAAAAAAAAAAAAAAAAAAAAAAAAAAAAAAAAAAAAAAAAAAAAAAAAAAAAAAAAAAAAAAAAAAAAAAAAAAAAAAAAAAAAAAAAAAAAAAAAAAAAAAAAAAAAAAAAAAAAAAAAAAAAAAAAAAAAAAAAAAAAAAAAAAAAAAAAAAAAAAAAAAAAAAAAAAAAAAAAAAAAAAAAAAAAAAAAAAAAAAAAAAAAAAAAAAAAAAAAAAAAAAAAAAAAAAAAAAAAAAAAAAAAAAAAAAAAAAAAAAAAAAAAAAAAAAAAAAAAAAAAAAAAAAAAAAAAAAAAAAAAAAAAAAAAAAAAAAAAAAAAAAAAAAAAAAAAAAAAAAAAAAAAAAAAAAAAAAAAAAAAAAAAAAAAAAAAAAAAAAAAAAAAAAAAAAAAAAAAAAAAAAAAAAAAAAAAAAAAAAAAAAAAAAAAAAAAAAAAAAAAAAAAAAAAAAAAAAAAAAAAAAAAAAAAAAAAAAAAAAAAAAAAAAAAAAAAAAAAAAAAAAAAAAAAAAAAAAAAAAAAAAAAAAAAAAAAAAAAAAAAAAAAAAAAAAAAAAAAAA==",
        "encoding": "base64",
        "path": [
         "_data",
         "data",
         "Validity_Postcode_UK_|_Postcode",
         "value"
        ]
       },
       {
        "data": "AAAAAAAAAAAAAAAAAAAAAAAAAAAAAAAAAAAAAAAAAAAAAAAAAAAAAAAAAAAAAAAAAAAAAAAAAAAAAAAAAAAAAAAAAAAAAAAAAAAAAAAAAAAAAAAAAAAAAAAAAAAAAAAAAAAAAAAAAAAAAAAAAAAAAAAAAAAAAAAAAAAAAAAAAAAAAAAAAAAAAAAAAAAAAAAAAAAAAAAAAAAAAAAAAAAAAAAAAAAAAAAAAAAAAAAAAAAAAAAAAAAAAAAAAAAAAAAAAAAAAAAAAAAAAAAAAAAAAAAAAAAAAAAAAAAAAAAAAAAAAAAAAAAAAAAAAAAAAAAAAAAAAAAAAAAAAAAAAAAAAAAAAAAAAAAAAAAAAAAAAAAAAAAAAAAAAAAAAAAAAAAAAAAAAAAAAAAAAAAAAAAAAAAAAAAAAAAAAAAAAAAAAAAAAAAAAAAAAAAAAAAAAAAAAAAAAAAAAAAAAAAAAAAAAAAAAAAAAAAAAAAAAAAAAAAAAAAAAAAAAAAAAAAAAAAAAAAAAAAAAAAAAAAAAAAAAAAAAAAAAAAAAAAAAAAAAAAAAAAAAAAAAAAAAAAAAAAAAAAAAA==",
        "encoding": "base64",
        "path": [
         "_data",
         "data",
         "Validity_Lookup_Table_|_Gender",
         "value"
        ]
       },
       {
        "data": "AAAAAAAAAAABAAAAAAAAAAAAAAAAAAAAAAAAAAEAAAABAAAAAQAAAAEAAAABAAAAAQAAAAAAAAABAAAAAAAAAAAAAAABAAAAAQAAAAEAAAABAAAAAAAAAAEAAAABAAAAAQAAAAEAAAABAAAAAQAAAAEAAAAAAAAAAQAAAAEAAAABAAAAAQAAAAEAAAABAAAAAQAAAAEAAAABAAAAAQAAAAAAAAABAAAAAQAAAAEAAAABAAAAAQAAAAEAAAABAAAAAAAAAAEAAAABAAAAAQAAAAEAAAABAAAAAQAAAAEAAAABAAAAAQAAAAEAAAABAAAAAQAAAAAAAAABAAAAAQAAAAEAAAABAAAAAAAAAAEAAAAAAAAAAQAAAAEAAAABAAAAAQAAAAAAAAAAAAAAAQAAAAEAAAABAAAAAQAAAAEAAAABAAAAAQAAAAEAAAABAAAAAAAAAAEAAAABAAAAAAAAAAEAAAABAAAAAQAAAAEAAAABAAAAAQAAAAEAAAABAAAAAAAAAAAAAAABAAAAAQAAAAEAAAABAAAAAQAAAAEAAAABAAAAAQAAAAAAAAAAAAAAAQAAAA==",
        "encoding": "base64",
        "path": [
         "_data",
         "data",
         "Validity_Lookup_Table_|_ICD_10_Code",
         "value"
        ]
       },
       {
        "data": "AAAAAAAAAAAAAAAAAAAAAAAAAAAAAAAAAAAAAAAAAAAAAAAAAAAAAAAAAAAAAAAAAAAAAAAAAAAAAAAAAAAAAAAAAAAAAAAAAAAAAAAAAAAAAAAAAAAAAAAAAAABAAAAAAAAAAAAAAAAAAAAAQAAAAAAAAAAAAAAAQAAAAEAAAAAAAAAAAAAAAEAAAAAAAAAAAAAAAAAAAABAAAAAAAAAAAAAAAAAAAAAQAAAAAAAAAAAAAAAQAAAAEAAAAAAAAAAAAAAAEAAAAAAAAAAAAAAAAAAAABAAAAAAAAAAAAAAAAAAAAAQAAAAAAAAAAAAAAAQAAAAEAAAAAAAAAAAAAAAEAAAAAAAAAAAAAAAAAAAAAAAAAAAAAAAAAAAABAAAAAAAAAAAAAAABAAAAAQAAAAAAAAAAAAAAAQAAAAAAAAAAAAAAAAAAAAEAAAAAAAAAAAAAAAAAAAABAAAAAAAAAAAAAAAAAAAAAQAAAAAAAAAAAAAAAQAAAAEAAAAAAAAAAAAAAAEAAAAAAAAAAAAAAAAAAAABAAAAAAAAAAAAAAAAAAAAAQAAAAAAAAAAAAAAAQAAAA==",
        "encoding": "base64",
        "path": [
         "_data",
         "data",
         "Validity_Lookup_Table_|_Tumour_Stage",
         "value"
        ]
       },
       {
        "data": "AAAAAAAAAAAAAAAAAAAAAAAAAAAAAAAAAAAAAAAAAAAAAAAAAAAAAAAAAAAAAAAAAAAAAAAAAAAAAAAAAAAAAAAAAAAAAAAAAAAAAAAAAAAAAAAAAAAAAAAAAAAAAAAAAAAAAAAAAAAAAAAAAAAAAAAAAAAAAAAAAAAAAAAAAAAAAAAAAAAAAAAAAAAAAAAAAAAAAAAAAAAAAAAAAAAAAAAAAAAAAAAAAAAAAAAAAAAAAAAAAAAAAAAAAAAAAAAAAAAAAAAAAAAAAAAAAAAAAAAAAAAAAAAAAAAAAAAAAAAAAAAAAAAAAAAAAAAAAAAAAAAAAAAAAAAAAAAAAAAAAAAAAAAAAAAAAAAAAAAAAAAAAAAAAAAAAAAAAAAAAAAAAAAAAAAAAAAAAAAAAAAAAAAAAAAAAAAAAAAAAAAAAAAAAAAAAAAAAAAAAAAAAAAAAAAAAAAAAAAAAAAAAAAAAAAAAAAAAAAAAAAAAAAAAAAAAAAAAAAAAAAAAAAAAAAAAAAAAAAAAAAAAAAAAAAAAAAAAAAAAAAAAAAAAAAAAAAAAAAAAAAAAAAAAAAAAAAAAAAAAA==",
        "encoding": "base64",
        "path": [
         "_data",
         "data",
         "Validity_Lookup_Table_|_Tumour_M_Stage",
         "value"
        ]
       },
       {
        "data": "AAAAAAAAAAAAAAAAAAAAAAAAAAAAAAAAAAAAAAAAAAAAAAAAAAAAAAAAAAAAAAAAAAAAAAAAAAAAAAAAAAAAAAAAAAAAAAAAAAAAAAAAAAAAAAAAAAAAAAAAAAAAAAAAAAAAAAAAAAAAAAAAAAAAAAAAAAAAAAAAAAAAAAAAAAAAAAAAAAAAAAAAAAAAAAAAAAAAAAAAAAAAAAAAAAAAAAAAAAAAAAAAAAAAAAAAAAAAAAAAAAAAAAAAAAAAAAAAAAAAAAAAAAAAAAAAAAAAAAAAAAAAAAAAAAAAAAAAAAAAAAAAAAAAAAAAAAAAAAAAAAAAAAAAAAAAAAAAAAAAAAAAAAAAAAAAAAAAAAAAAAAAAAAAAAAAAAAAAAAAAAAAAAAAAAAAAAAAAAAAAAAAAAAAAAAAAAAAAAAAAAAAAAAAAAAAAAAAAAAAAAAAAAAAAAAAAAAAAAAAAAAAAAAAAAAAAAAAAAAAAAAAAAAAAAAAAAAAAAAAAAAAAAAAAAAAAAAAAAAAAAAAAAAAAAAAAAAAAAAAAAAAAAAAAAAAAAAAAAAAAAAAAAAAAAAAAAAAAAAAAA==",
        "encoding": "base64",
        "path": [
         "_data",
         "data",
         "Validity_Pattern_|_Date_of_Diagnosis",
         "value"
        ]
       },
       {
        "data": "AAAAAAAAAAAAAAAAAAAAAAAAAAAAAAAAAAAAAAAAAAAAAAAAAAAAAAAAAAAAAAAAAAAAAAAAAAAAAAAAAAAAAAAAAAAAAAAAAAAAAAAAAAAAAAAAAAAAAAAAAAAAAAAAAAAAAAAAAAAAAAAAAAAAAAAAAAAAAAAAAAAAAAAAAAAAAAAAAAAAAAAAAAAAAAAAAAAAAAAAAAAAAAAAAAAAAAAAAAAAAAAAAAAAAAAAAAAAAAAAAAAAAAAAAAAAAAAAAAAAAAAAAAAAAAAAAAAAAAAAAAAAAAAAAAAAAAAAAAAAAAAAAAAAAAAAAAAAAAAAAAAAAAAAAAAAAAAAAAAAAAAAAAAAAAAAAAAAAAAAAAAAAAAAAAAAAAAAAAAAAAAAAAAAAAAAAAAAAAAAAAAAAAAAAAAAAAAAAAAAAAAAAAAAAAAAAAAAAAAAAAAAAAAAAAAAAAAAAAAAAAAAAAAAAAAAAAAAAAAAAAAAAAAAAAAAAAAAAAAAAAAAAAAAAAAAAAAAAAAAAAAAAAAAAAAAAAAAAAAAAAAAAAAAAAAAAAAAAAAAAAAAAAAAAAAAAAAAAAAAAA==",
        "encoding": "base64",
        "path": [
         "_data",
         "data",
         "Validity_Pattern_|_Date_of_Birth",
         "value"
        ]
       },
       {
        "data": "AAAAAAAAAAAAAAAAAAAAAAAAAAAAAAAAAAAAAAAAAAAAAAAAAAAAAAAAAAAAAAAAAAAAAAAAAAAAAAAAAAAAAAAAAAAAAAAAAAAAAAAAAAAAAAAAAAAAAAAAAAAAAAAAAAAAAAAAAAAAAAAAAAAAAAAAAAAAAAAAAAAAAAAAAAAAAAAAAAAAAAAAAAAAAAAAAAAAAAAAAAAAAAAAAAAAAAAAAAAAAAAAAAAAAAAAAAAAAAAAAAAAAAAAAAAAAAAAAAAAAAAAAAAAAAAAAAAAAAAAAAAAAAAAAAAAAAAAAAAAAAAAAAAAAAAAAAAAAAAAAAAAAAAAAAAAAAAAAAAAAAAAAAAAAAAAAAAAAAAAAAAAAAAAAAAAAAAAAAAAAAAAAAAAAAAAAAAAAAAAAAAAAAAAAAAAAAAAAAAAAAAAAAAAAAAAAAAAAAAAAAAAAAAAAAAAAAAAAAAAAAAAAAAAAAAAAAAAAAAAAAAAAAAAAAAAAAAAAAAAAAAAAAAAAAAAAAAAAAAAAAAAAAAAAAAAAAAAAAAAAAAAAAAAAAAAAAAAAAAAAAAAAAAAAAAAAAAAAAAAAA==",
        "encoding": "base64",
        "path": [
         "_data",
         "data",
         "Validity_Pattern_|_Regimen_Start_Date",
         "value"
        ]
       },
       {
        "data": "AAAAAAAAAAAAAAAAAAAAAAAAAAAAAAAAAAAAAAAAAAAAAAAAAAAAAAAAAAAAAAAAAAAAAAAAAAAAAAAAAAAAAAAAAAAAAAAAAAAAAAAAAAAAAAAAAAAAAAAAAAAAAAAAAAAAAAAAAAAAAAAAAAAAAAAAAAAAAAAAAAAAAAAAAAAAAAAAAAAAAAAAAAAAAAAAAAAAAAAAAAAAAAAAAAAAAAAAAAAAAAAAAAAAAAAAAAAAAAAAAAAAAAAAAAAAAAAAAAAAAAAAAAAAAAAAAAAAAAAAAAAAAAAAAAAAAAAAAAAAAAAAAAAAAAAAAAAAAAAAAAAAAAAAAAAAAAAAAAAAAAAAAAAAAAAAAAAAAAAAAAAAAAAAAAAAAAAAAAAAAAAAAAAAAAAAAAAAAAAAAAAAAAAAAAAAAAAAAAAAAAAAAAAAAAAAAAAAAAAAAAAAAAAAAAAAAAAAAAAAAAAAAAAAAAAAAAAAAAAAAAAAAAAAAAAAAAAAAAAAAAAAAAAAAAAAAAAAAAAAAAAAAAAAAAAAAAEAAAABAAAAAQAAAAEAAAABAAAAAQAAAAEAAAABAAAAAQAAAA==",
        "encoding": "base64",
        "path": [
         "_data",
         "data",
         "Validity_Pattern_|_Datetime_Event1",
         "value"
        ]
       },
       {
        "data": "AAAAAAAAAAAAAAAAAAAAAAAAAAAAAAAAAAAAAAAAAAAAAAAAAAAAAAAAAAAAAAAAAAAAAAAAAAAAAAAAAAAAAAAAAAAAAAAAAAAAAAAAAAAAAAAAAAAAAAAAAAAAAAAAAAAAAAAAAAAAAAAAAAAAAAAAAAAAAAAAAAAAAAAAAAAAAAAAAAAAAAAAAAAAAAAAAAAAAAAAAAAAAAAAAAAAAAAAAAAAAAAAAAAAAAAAAAAAAAAAAAAAAAAAAAAAAAAAAAAAAAAAAAAAAAAAAAAAAAAAAAAAAAAAAAAAAAAAAAAAAAAAAAAAAAAAAAAAAAAAAAAAAAAAAAAAAAAAAAAAAAAAAAAAAAAAAAAAAAAAAAAAAAAAAAAAAAAAAAAAAAAAAAAAAAAAAAAAAAAAAAAAAAAAAAAAAAAAAAAAAAAAAAAAAAAAAAAAAAAAAAAAAAAAAAAAAAAAAAAAAAAAAAAAAAAAAAAAAAAAAAAAAAAAAAAAAAAAAAAAAAAAAAAAAAAAAAAAAAAAAAAAAAAAAAAAAAAAAAAAAAAAAAAAAAAAAAAAAAAAAAAAAAAAAAAAAAAAAAAAAA==",
        "encoding": "base64",
        "path": [
         "_data",
         "data",
         "Validity_Pattern_|_Datetime_Logging1",
         "value"
        ]
       },
       {
        "data": "AAAAAAAAAAAAAAAAAAAAAAAAAAAAAAAAAAAAAAAAAAAAAAAAAAAAAAAAAAAAAAAAAAAAAAAAAAAAAAAAAAAAAAAAAAAAAAAAAAAAAAAAAAAAAAAAAAAAAAAAAAAAAAAAAAAAAAAAAAAAAAAAAAAAAAAAAAAAAAAAAAAAAAAAAAAAAAAAAAAAAAAAAAAAAAAAAAAAAAAAAAAAAAAAAAAAAAAAAAAAAAAAAAAAAAAAAAAAAAAAAAAAAAAAAAAAAAAAAAAAAAAAAAAAAAAAAAAAAAAAAAAAAAAAAAAAAAAAAAAAAAAAAAAAAAAAAAAAAAAAAAAAAAAAAAAAAAAAAAAAAAAAAAAAAAAAAAAAAAAAAAAAAAAAAAAAAAAAAAAAAAAAAAAAAAAAAAAAAAAAAAAAAAAAAAAAAAAAAAAAAAAAAAAAAAAAAAAAAAAAAAAAAAAAAAAAAAAAAAAAAAAAAAAAAAAAAAAAAAAAAAAAAAAAAAAAAAAAAAAAAAAAAAAAAAAAAAAAAAAAAAAAAAAAAAAAAAAAAAAAAAAAAAAAAAAAAAAAAAAAAAAAAAAAAAAAAAAAAAAAAA==",
        "encoding": "base64",
        "path": [
         "_data",
         "data",
         "Validity_Pattern_|_Datetime_Event2",
         "value"
        ]
       },
       {
        "data": "AAAAAAAAAAAAAAAAAAAAAAAAAAAAAAAAAAAAAAAAAAAAAAAAAAAAAAAAAAAAAAAAAAAAAAAAAAAAAAAAAAAAAAAAAAAAAAAAAAAAAAAAAAAAAAAAAAAAAAAAAAAAAAAAAAAAAAAAAAAAAAAAAAAAAAAAAAAAAAAAAAAAAAAAAAAAAAAAAAAAAAAAAAAAAAAAAAAAAAAAAAAAAAAAAAAAAAAAAAAAAAAAAAAAAAAAAAAAAAAAAAAAAAAAAAAAAAAAAAAAAAAAAAAAAAAAAAAAAAAAAAAAAAAAAAAAAAAAAAAAAAAAAAAAAAAAAAAAAAAAAAAAAAAAAAAAAAAAAAAAAAAAAAAAAAAAAAAAAAAAAAAAAAAAAAAAAAAAAAAAAAAAAAAAAAAAAAAAAAAAAAAAAAAAAAAAAAAAAAAAAAAAAAAAAAAAAAAAAAAAAAAAAAAAAAAAAAAAAAAAAAAAAAAAAAAAAAAAAAAAAAAAAAAAAAAAAAAAAAAAAAAAAAAAAAAAAAAAAAAAAAAAAAAAAAAAAAEAAAABAAAAAQAAAAEAAAABAAAAAQAAAAEAAAABAAAAAQAAAA==",
        "encoding": "base64",
        "path": [
         "_data",
         "data",
         "Validity_Pattern_|_Datetime_Logging2",
         "value"
        ]
       },
       {
        "data": "AQAAAAAAAAAAAAAAAAAAAAAAAAAAAAAAAAAAAAAAAAAAAAAAAAAAAAAAAAAAAAAAAAAAAAAAAAAAAAAAAAAAAAAAAAAAAAAAAAAAAAAAAAAAAAAAAAAAAAAAAAAAAAAAAAAAAAAAAAAAAAAAAAAAAAAAAAAAAAAAAAAAAAAAAAAAAAAAAAAAAAAAAAAAAAAAAAAAAAAAAAAAAAAAAAAAAAAAAAAAAAAAAAAAAAAAAAAAAAAAAAAAAAAAAAAAAAAAAAAAAAAAAAAAAAAAAAAAAAAAAAAAAAAAAAAAAAAAAAAAAAAAAAAAAAAAAAAAAAAAAAAAAAAAAAAAAAAAAAAAAAAAAAAAAAAAAAAAAAAAAAAAAAAAAAAAAAAAAAAAAAAAAAAAAAAAAAAAAAAAAAAAAAAAAAAAAAAAAAAAAAAAAAAAAAAAAAAAAAAAAAAAAAAAAAAAAAAAAAAAAAAAAAAAAAAAAAAAAAAAAAAAAAAAAAAAAAAAAAAAAAAAAAAAAAAAAAAAAAAAAAAAAAAAAAAAAAAAAAAAAAAAAAAAAAAAAAAAAAAAAAAAAAAAAAAAAAAAAAAAAA==",
        "encoding": "base64",
        "path": [
         "_data",
         "data",
         "validity_count_|_Date_of_Birth",
         "value"
        ]
       },
       {
        "data": "AQAAAAAAAAAAAAAAAAAAAAAAAAAAAAAAAAAAAAAAAAAAAAAAAAAAAAAAAAAAAAAAAAAAAAAAAAAAAAAAAAAAAAAAAAAAAAAAAAAAAAAAAAAAAAAAAAAAAAAAAAAAAAAAAAAAAAAAAAAAAAAAAAAAAAAAAAAAAAAAAAAAAAAAAAAAAAAAAAAAAAAAAAAAAAAAAAAAAAAAAAAAAAAAAAAAAAAAAAAAAAAAAAAAAAAAAAAAAAAAAAAAAAAAAAAAAAAAAAAAAAAAAAAAAAAAAAAAAAAAAAAAAAAAAAAAAAAAAAAAAAAAAAAAAAAAAAAAAAAAAAAAAAAAAAAAAAAAAAAAAAAAAAAAAAAAAAAAAAAAAAAAAAAAAAAAAAAAAAAAAAAAAAAAAAAAAAAAAAAAAAAAAAAAAAAAAAAAAAAAAAAAAAAAAAAAAAAAAAAAAAAAAAAAAAAAAAAAAAAAAAAAAAAAAAAAAAAAAAAAAAAAAAAAAAAAAAAAAAAAAAAAAAAAAAAAAAAAAAAAAAAAAAAAAAAAAAAAAAAAAAAAAAAAAAAAAAAAAAAAAAAAAAAAAAAAAAAAAAAAAA==",
        "encoding": "base64",
        "path": [
         "_data",
         "data",
         "validity_count_|_Date_of_Diagnosis",
         "value"
        ]
       },
       {
        "data": "AAAAAAAAAAAAAAAAAQAAAAAAAAAAAAAAAAAAAAEAAAAAAAAAAAAAAAAAAAAAAAAAAQAAAAAAAAAAAAAAAAAAAAAAAAAAAAAAAAAAAAAAAAABAAAAAQAAAAAAAAAAAAAAAQAAAAAAAAABAAAAAAAAAAAAAAABAAAAAAAAAAEAAAABAAAAAAAAAAAAAAABAAAAAAAAAAAAAAAAAAAAAQAAAAEAAAABAAAAAAAAAAAAAAAAAAAAAAAAAAAAAAAAAAAAAAAAAAEAAAABAAAAAAAAAAEAAAAAAAAAAAAAAAAAAAAAAAAAAAAAAAAAAAABAAAAAAAAAAAAAAAAAAAAAAAAAAAAAAAAAAAAAAAAAAAAAAABAAAAAQAAAAAAAAAAAAAAAAAAAAAAAAABAAAAAAAAAAAAAAAAAAAAAAAAAAAAAAAAAAAAAAAAAAAAAAAAAAAAAAAAAAAAAAAAAAAAAAAAAAAAAAAAAAAAAAAAAAAAAAABAAAAAQAAAAAAAAAAAAAAAAAAAAAAAAAAAAAAAAAAAAEAAAABAAAAAQAAAAEAAAABAAAAAQAAAAEAAAABAAAAAQAAAA==",
        "encoding": "base64",
        "path": [
         "_data",
         "data",
         "validity_count_|_Datetime_Event1",
         "value"
        ]
       },
       {
        "data": "AAAAAAAAAAAAAAAAAAAAAAAAAAAAAAAAAAAAAAAAAAAAAAAAAAAAAAAAAAABAAAAAAAAAAAAAAAAAAAAAQAAAAAAAAABAAAAAAAAAAAAAAAAAAAAAAAAAAEAAAABAAAAAQAAAAAAAAAAAAAAAAAAAAAAAAABAAAAAQAAAAAAAAABAAAAAQAAAAAAAAABAAAAAAAAAAAAAAAAAAAAAAAAAAEAAAAAAAAAAAAAAAAAAAABAAAAAQAAAAAAAAAAAAAAAQAAAAAAAAAAAAAAAAAAAAAAAAAAAAAAAAAAAAAAAAAAAAAAAAAAAAEAAAAAAAAAAAAAAAAAAAAAAAAAAAAAAAEAAAABAAAAAQAAAAAAAAABAAAAAQAAAAEAAAAAAAAAAAAAAAAAAAAAAAAAAQAAAAAAAAAAAAAAAAAAAAAAAAAAAAAAAAAAAAAAAAAAAAAAAAAAAAAAAAABAAAAAAAAAAAAAAABAAAAAAAAAAAAAAAAAAAAAAAAAAAAAAAAAAAAAQAAAAEAAAAAAAAAAQAAAAAAAAAAAAAAAAAAAAAAAAAAAAAAAAAAAAAAAAAAAAAAAAAAAA==",
        "encoding": "base64",
        "path": [
         "_data",
         "data",
         "validity_count_|_Datetime_Event2",
         "value"
        ]
       },
       {
        "data": "AAAAAAAAAAAAAAAAAQAAAAAAAAAAAAAAAAAAAAEAAAAAAAAAAAAAAAAAAAAAAAAAAQAAAAAAAAAAAAAAAAAAAAAAAAAAAAAAAAAAAAAAAAABAAAAAQAAAAAAAAAAAAAAAQAAAAAAAAABAAAAAAAAAAAAAAABAAAAAAAAAAEAAAABAAAAAAAAAAAAAAABAAAAAAAAAAAAAAAAAAAAAQAAAAEAAAABAAAAAAAAAAAAAAAAAAAAAAAAAAAAAAAAAAAAAAAAAAEAAAABAAAAAAAAAAEAAAAAAAAAAAAAAAAAAAAAAAAAAAAAAAAAAAABAAAAAAAAAAAAAAAAAAAAAAAAAAAAAAAAAAAAAAAAAAAAAAABAAAAAQAAAAAAAAAAAAAAAAAAAAAAAAABAAAAAAAAAAAAAAAAAAAAAAAAAAAAAAAAAAAAAAAAAAAAAAAAAAAAAAAAAAAAAAAAAAAAAAAAAAAAAAAAAAAAAAAAAAAAAAABAAAAAQAAAAAAAAAAAAAAAAAAAAAAAAAAAAAAAAAAAAAAAAAAAAAAAAAAAAAAAAAAAAAAAAAAAAAAAAAAAAAAAAAAAA==",
        "encoding": "base64",
        "path": [
         "_data",
         "data",
         "validity_count_|_Datetime_Logging1",
         "value"
        ]
       },
       {
        "data": "AAAAAAAAAAAAAAAAAAAAAAAAAAAAAAAAAAAAAAAAAAAAAAAAAAAAAAAAAAABAAAAAAAAAAAAAAAAAAAAAQAAAAAAAAABAAAAAAAAAAAAAAAAAAAAAAAAAAEAAAABAAAAAQAAAAAAAAAAAAAAAAAAAAAAAAABAAAAAQAAAAAAAAABAAAAAQAAAAAAAAABAAAAAAAAAAAAAAAAAAAAAAAAAAEAAAAAAAAAAAAAAAAAAAABAAAAAQAAAAAAAAAAAAAAAQAAAAAAAAAAAAAAAAAAAAAAAAAAAAAAAAAAAAAAAAAAAAAAAAAAAAEAAAAAAAAAAAAAAAAAAAAAAAAAAAAAAAEAAAABAAAAAQAAAAAAAAABAAAAAQAAAAEAAAAAAAAAAAAAAAAAAAAAAAAAAQAAAAAAAAAAAAAAAAAAAAAAAAAAAAAAAAAAAAAAAAAAAAAAAAAAAAAAAAABAAAAAAAAAAAAAAABAAAAAAAAAAAAAAAAAAAAAAAAAAAAAAAAAAAAAQAAAAEAAAAAAAAAAQAAAAEAAAABAAAAAQAAAAEAAAABAAAAAQAAAAEAAAABAAAAAQAAAA==",
        "encoding": "base64",
        "path": [
         "_data",
         "data",
         "validity_count_|_Datetime_Logging2",
         "value"
        ]
       },
       {
        "data": "AAAAAAAAAAAAAAAAAAAAAAAAAAAAAAAAAAAAAAAAAAAAAAAAAAAAAAAAAAAAAAAAAAAAAAAAAAAAAAAAAAAAAAAAAAAAAAAAAAAAAAAAAAAAAAAAAAAAAAAAAAAAAAAAAAAAAAAAAAAAAAAAAAAAAAAAAAAAAAAAAAAAAAAAAAAAAAAAAAAAAAAAAAAAAAAAAAAAAAAAAAAAAAAAAAAAAAAAAAAAAAAAAAAAAAAAAAAAAAAAAAAAAAAAAAAAAAAAAAAAAAAAAAAAAAAAAAAAAAAAAAAAAAAAAAAAAAAAAAAAAAAAAAAAAAAAAAAAAAAAAAAAAAAAAAAAAAAAAAAAAAAAAAAAAAAAAAAAAAAAAAAAAAAAAAAAAAAAAAAAAAAAAAAAAAAAAAAAAAAAAAAAAAAAAAAAAAAAAAAAAAAAAAAAAAAAAAAAAAAAAAAAAAAAAAAAAAAAAAAAAAAAAAAAAAAAAAAAAAAAAAAAAAAAAAAAAAAAAAAAAAAAAAAAAAAAAAAAAAAAAAAAAAAAAAAAAAAAAAAAAAAAAAAAAAAAAAAAAAAAAAAAAAAAAAAAAAAAAAAAAA==",
        "encoding": "base64",
        "path": [
         "_data",
         "data",
         "validity_count_|_Gender",
         "value"
        ]
       },
       {
        "data": "AAAAAAAAAAABAAAAAAAAAAAAAAAAAAAAAAAAAAEAAAABAAAAAQAAAAEAAAABAAAAAQAAAAAAAAABAAAAAAAAAAAAAAABAAAAAQAAAAEAAAABAAAAAAAAAAEAAAABAAAAAQAAAAEAAAABAAAAAQAAAAEAAAAAAAAAAQAAAAEAAAABAAAAAQAAAAEAAAABAAAAAQAAAAEAAAABAAAAAQAAAAAAAAABAAAAAQAAAAEAAAABAAAAAQAAAAEAAAABAAAAAAAAAAEAAAABAAAAAQAAAAEAAAABAAAAAQAAAAEAAAABAAAAAQAAAAEAAAABAAAAAQAAAAAAAAABAAAAAQAAAAEAAAABAAAAAAAAAAEAAAAAAAAAAQAAAAEAAAABAAAAAQAAAAAAAAAAAAAAAQAAAAEAAAABAAAAAQAAAAEAAAABAAAAAQAAAAEAAAABAAAAAAAAAAEAAAABAAAAAAAAAAEAAAABAAAAAQAAAAEAAAABAAAAAQAAAAEAAAABAAAAAAAAAAAAAAABAAAAAQAAAAEAAAABAAAAAQAAAAEAAAABAAAAAQAAAAAAAAAAAAAAAQAAAA==",
        "encoding": "base64",
        "path": [
         "_data",
         "data",
         "validity_count_|_ICD_10_Code",
         "value"
        ]
       },
       {
        "data": "AAAAAAAAAAAAAAAAAAAAAAAAAAAAAAAAAAAAAAAAAAAAAAAAAAAAAAAAAAAAAAAAAAAAAAAAAAAAAAAAAAAAAAAAAAAAAAAAAAAAAAAAAAAAAAAAAAAAAAAAAAAAAAAAAAAAAAAAAAAAAAAAAAAAAAAAAAAAAAAAAAAAAAAAAAAAAAAAAAAAAAAAAAAAAAAAAAAAAAAAAAAAAAAAAAAAAAAAAAAAAAAAAAAAAAAAAAAAAAAAAAAAAAAAAAAAAAAAAAAAAAAAAAAAAAAAAAAAAAAAAAAAAAAAAAAAAAAAAAAAAAAAAAAAAAAAAAAAAAAAAAAAAAAAAAAAAAAAAAAAAAAAAAAAAAAAAAAAAAAAAAAAAAAAAAAAAAAAAAAAAAAAAAAAAAAAAAAAAAAAAAAAAAAAAAAAAAAAAAAAAAAAAAAAAAAAAAAAAAAAAAAAAAAAAAAAAAAAAAAAAAAAAAAAAAAAAAAAAAAAAAAAAAAAAAAAAAAAAAAAAAAAAAAAAAAAAAAAAAAAAAAAAAAAAAAAAAAAAAAAAAAAAAAAAAAAAAAAAAAAAAAAAAAAAAAAAAAAAAAAAA==",
        "encoding": "base64",
        "path": [
         "_data",
         "data",
         "validity_count_|_Postcode",
         "value"
        ]
       },
       {
        "data": "AQAAAAEAAAAAAAAAAAAAAAAAAAAAAAAAAAAAAAAAAAAAAAAAAAAAAAAAAAAAAAAAAAAAAAAAAAAAAAAAAAAAAAAAAAAAAAAAAAAAAAAAAAAAAAAAAAAAAAAAAAAAAAAAAAAAAAAAAAAAAAAAAAAAAAAAAAAAAAAAAAAAAAAAAAAAAAAAAAAAAAAAAAAAAAAAAAAAAAAAAAAAAAAAAAAAAAAAAAAAAAAAAAAAAAAAAAAAAAAAAAAAAAAAAAAAAAAAAAAAAAAAAAAAAAAAAAAAAAAAAAAAAAAAAAAAAAAAAAAAAAAAAAAAAAAAAAAAAAAAAAAAAAAAAAAAAAAAAAAAAAAAAAAAAAAAAAAAAAAAAAAAAAAAAAAAAAAAAAAAAAAAAAAAAAAAAAAAAAAAAAAAAAAAAAAAAAAAAAAAAAAAAAAAAAAAAAAAAAAAAAAAAAAAAAAAAAAAAAAAAAAAAAAAAAAAAAAAAAAAAAAAAAAAAAAAAAAAAAAAAAAAAAAAAAAAAAAAAAAAAAAAAAAAAAAAAAAAAAAAAAAAAAAAAAAAAAAAAAAAAAAAAAAAAAAAAAAAAAAAAA==",
        "encoding": "base64",
        "path": [
         "_data",
         "data",
         "validity_count_|_Regimen_Start_Date",
         "value"
        ]
       },
       {
        "data": "AAAAAAAAAAAAAAAAAAAAAAAAAAAAAAAAAAAAAAAAAAAAAAAAAAAAAAAAAAAAAAAAAAAAAAAAAAAAAAAAAAAAAAAAAAAAAAAAAAAAAAAAAAAAAAAAAAAAAAAAAAAAAAAAAAAAAAAAAAAAAAAAAAAAAAAAAAAAAAAAAAAAAAAAAAAAAAAAAAAAAAAAAAAAAAAAAAAAAAAAAAAAAAAAAAAAAAAAAAAAAAAAAAAAAAAAAAAAAAAAAAAAAAAAAAAAAAAAAAAAAAAAAAAAAAAAAAAAAAAAAAAAAAAAAAAAAAAAAAAAAAAAAAAAAAAAAAAAAAAAAAAAAAAAAAAAAAAAAAAAAAAAAAAAAAAAAAAAAAAAAAAAAAAAAAAAAAAAAAAAAAAAAAAAAAAAAAAAAAAAAAAAAAAAAAAAAAAAAAAAAAAAAAAAAAAAAAAAAAAAAAAAAAAAAAAAAAAAAAAAAAAAAAAAAAAAAAAAAAAAAAAAAAAAAAAAAAAAAAAAAAAAAAAAAAAAAAAAAAAAAAAAAAAAAAAAAAAAAAAAAAAAAAAAAAAAAAAAAAAAAAAAAAAAAAAAAAAAAAAAAA==",
        "encoding": "base64",
        "path": [
         "_data",
         "data",
         "validity_count_|_Tumour_M_Stage",
         "value"
        ]
       },
       {
        "data": "AAAAAAAAAAAAAAAAAAAAAAAAAAAAAAAAAAAAAAAAAAAAAAAAAAAAAAAAAAAAAAAAAAAAAAAAAAAAAAAAAAAAAAAAAAAAAAAAAAAAAAAAAAAAAAAAAAAAAAAAAAABAAAAAAAAAAAAAAAAAAAAAQAAAAAAAAAAAAAAAQAAAAEAAAAAAAAAAAAAAAEAAAAAAAAAAAAAAAAAAAABAAAAAAAAAAAAAAAAAAAAAQAAAAAAAAAAAAAAAQAAAAEAAAAAAAAAAAAAAAEAAAAAAAAAAAAAAAAAAAABAAAAAAAAAAAAAAAAAAAAAQAAAAAAAAAAAAAAAQAAAAEAAAAAAAAAAAAAAAEAAAAAAAAAAAAAAAAAAAAAAAAAAAAAAAAAAAABAAAAAAAAAAAAAAABAAAAAQAAAAAAAAAAAAAAAQAAAAAAAAAAAAAAAAAAAAEAAAAAAAAAAAAAAAAAAAABAAAAAAAAAAAAAAAAAAAAAQAAAAAAAAAAAAAAAQAAAAEAAAAAAAAAAAAAAAEAAAAAAAAAAAAAAAAAAAABAAAAAAAAAAAAAAAAAAAAAQAAAAAAAAAAAAAAAQAAAA==",
        "encoding": "base64",
        "path": [
         "_data",
         "data",
         "validity_count_|_Tumour_Stage",
         "value"
        ]
       },
       {
        "data": "AAAAAAEAAAACAAAAAwAAAAQAAAAFAAAABgAAAAcAAAAIAAAACQAAAAoAAAALAAAADAAAAA0AAAAOAAAADwAAABAAAAARAAAAEgAAABMAAAAUAAAAFQAAABYAAAAXAAAAGAAAABkAAAAaAAAAGwAAABwAAAAdAAAAHgAAAB8AAAAgAAAAIQAAACIAAAAjAAAAJAAAACUAAAAmAAAAJwAAACgAAAApAAAAKgAAACsAAAAsAAAALQAAAC4AAAAvAAAAMAAAADEAAAAyAAAAMwAAADQAAAA1AAAANgAAADcAAAA4AAAAOQAAADoAAAA7AAAAPAAAAD0AAAA+AAAAPwAAAEAAAABBAAAAQgAAAEMAAABEAAAARQAAAEYAAABHAAAASAAAAEkAAABKAAAASwAAAEwAAABNAAAATgAAAE8AAABQAAAAUQAAAFIAAABTAAAAVAAAAFUAAABWAAAAVwAAAFgAAABZAAAAWgAAAFsAAABcAAAAXQAAAF4AAABfAAAAYAAAAGEAAABiAAAAYwAAAGQAAABlAAAAZgAAAGcAAABoAAAAaQAAAGoAAABrAAAAbAAAAA==",
        "encoding": "base64",
        "path": [
         "_data",
         "data",
         "ipydguuid",
         "value"
        ]
       }
      ],
      "model_module": "ipydatagrid",
      "model_module_version": "^1.3.1",
      "model_name": "DataGridModel",
      "state": {
       "_data": {
        "data": {
         "Completeness_Empty_|_Age": {
          "dtype": "int32",
          "shape": [
           109
          ],
          "type": null
         },
         "Completeness_Empty_|_BMI": {
          "dtype": "int32",
          "shape": [
           109
          ],
          "type": null
         },
         "Completeness_Empty_|_Date_of_Birth": {
          "dtype": "int32",
          "shape": [
           109
          ],
          "type": null
         },
         "Completeness_Empty_|_Date_of_Diagnosis": {
          "dtype": "int32",
          "shape": [
           109
          ],
          "type": null
         },
         "Completeness_Empty_|_Datetime_Event1": {
          "dtype": "int32",
          "shape": [
           109
          ],
          "type": null
         },
         "Completeness_Empty_|_Datetime_Event2": {
          "dtype": "int32",
          "shape": [
           109
          ],
          "type": null
         },
         "Completeness_Empty_|_Datetime_Logging1": {
          "dtype": "int32",
          "shape": [
           109
          ],
          "type": null
         },
         "Completeness_Empty_|_Datetime_Logging2": {
          "dtype": "int32",
          "shape": [
           109
          ],
          "type": null
         },
         "Completeness_Empty_|_Gender": {
          "dtype": "int32",
          "shape": [
           109
          ],
          "type": null
         },
         "Completeness_Empty_|_Height_cm": {
          "dtype": "int32",
          "shape": [
           109
          ],
          "type": null
         },
         "Completeness_Empty_|_ICD_10_Code": {
          "dtype": "int32",
          "shape": [
           109
          ],
          "type": null
         },
         "Completeness_Empty_|_Metastatic_Indicator": {
          "dtype": "int32",
          "shape": [
           109
          ],
          "type": null
         },
         "Completeness_Empty_|_NHS_number": {
          "dtype": "int32",
          "shape": [
           109
          ],
          "type": null
         },
         "Completeness_Empty_|_Patient_ID": {
          "dtype": "int32",
          "shape": [
           109
          ],
          "type": null
         },
         "Completeness_Empty_|_Postcode": {
          "dtype": "int32",
          "shape": [
           109
          ],
          "type": null
         },
         "Completeness_Empty_|_Regimen_Start_Date": {
          "dtype": "int32",
          "shape": [
           109
          ],
          "type": null
         },
         "Completeness_Empty_|_Tumour_M_Stage": {
          "dtype": "int32",
          "shape": [
           109
          ],
          "type": null
         },
         "Completeness_Empty_|_Tumour_Stage": {
          "dtype": "int32",
          "shape": [
           109
          ],
          "type": null
         },
         "Completeness_Empty_|_Weight_kg": {
          "dtype": "int32",
          "shape": [
           109
          ],
          "type": null
         },
         "Completeness_Encoded_|_Gender": {
          "dtype": "int32",
          "shape": [
           109
          ],
          "type": null
         },
         "Completeness_Encoded_|_ICD_10_Code": {
          "dtype": "int32",
          "shape": [
           109
          ],
          "type": null
         },
         "Completeness_Encoded_|_NHS_number": {
          "dtype": "int32",
          "shape": [
           109
          ],
          "type": null
         },
         "Completeness_Encoded_|_Postcode": {
          "dtype": "int32",
          "shape": [
           109
          ],
          "type": null
         },
         "Completeness_Encoded_|_Tumour_Stage": {
          "dtype": "int32",
          "shape": [
           109
          ],
          "type": null
         },
         "Completeness_NULL_|_Age": {
          "dtype": "int32",
          "shape": [
           109
          ],
          "type": null
         },
         "Completeness_NULL_|_BMI": {
          "dtype": "int32",
          "shape": [
           109
          ],
          "type": null
         },
         "Completeness_NULL_|_Date_of_Birth": {
          "dtype": "int32",
          "shape": [
           109
          ],
          "type": null
         },
         "Completeness_NULL_|_Date_of_Diagnosis": {
          "dtype": "int32",
          "shape": [
           109
          ],
          "type": null
         },
         "Completeness_NULL_|_Datetime_Event1": {
          "dtype": "int32",
          "shape": [
           109
          ],
          "type": null
         },
         "Completeness_NULL_|_Datetime_Event2": {
          "dtype": "int32",
          "shape": [
           109
          ],
          "type": null
         },
         "Completeness_NULL_|_Datetime_Logging1": {
          "dtype": "int32",
          "shape": [
           109
          ],
          "type": null
         },
         "Completeness_NULL_|_Datetime_Logging2": {
          "dtype": "int32",
          "shape": [
           109
          ],
          "type": null
         },
         "Completeness_NULL_|_Gender": {
          "dtype": "int32",
          "shape": [
           109
          ],
          "type": null
         },
         "Completeness_NULL_|_Height_cm": {
          "dtype": "int32",
          "shape": [
           109
          ],
          "type": null
         },
         "Completeness_NULL_|_ICD_10_Code": {
          "dtype": "int32",
          "shape": [
           109
          ],
          "type": null
         },
         "Completeness_NULL_|_Metastatic_Indicator": {
          "dtype": "int32",
          "shape": [
           109
          ],
          "type": null
         },
         "Completeness_NULL_|_NHS_number": {
          "dtype": "int32",
          "shape": [
           109
          ],
          "type": null
         },
         "Completeness_NULL_|_Patient_ID": {
          "dtype": "int32",
          "shape": [
           109
          ],
          "type": null
         },
         "Completeness_NULL_|_Postcode": {
          "dtype": "int32",
          "shape": [
           109
          ],
          "type": null
         },
         "Completeness_NULL_|_Regimen_Start_Date": {
          "dtype": "int32",
          "shape": [
           109
          ],
          "type": null
         },
         "Completeness_NULL_|_Tumour_M_Stage": {
          "dtype": "int32",
          "shape": [
           109
          ],
          "type": null
         },
         "Completeness_NULL_|_Tumour_Stage": {
          "dtype": "int32",
          "shape": [
           109
          ],
          "type": null
         },
         "Completeness_NULL_|_Weight_kg": {
          "dtype": "int32",
          "shape": [
           109
          ],
          "type": null
         },
         "Consistency_Compare_|_Metastatic_Indicator": {
          "dtype": "int32",
          "shape": [
           109
          ],
          "type": null
         },
         "Consistency_Date_Relations_|_Date_of_Birth": {
          "dtype": "int32",
          "shape": [
           109
          ],
          "type": null
         },
         "Consistency_Date_Relations_|_Date_of_Diagnosis": {
          "dtype": "int32",
          "shape": [
           109
          ],
          "type": null
         },
         "Consistency_Date_Relations_|_Datetime_Event1": {
          "dtype": "int32",
          "shape": [
           109
          ],
          "type": null
         },
         "Consistency_Date_Relations_|_Datetime_Event2": {
          "dtype": "int32",
          "shape": [
           109
          ],
          "type": null
         },
         "Consistency_Date_Relations_|_Datetime_Logging1": {
          "dtype": "int32",
          "shape": [
           109
          ],
          "type": null
         },
         "Timeliness_Date_Diff_|_Datetime_Event1": {
          "dtype": "int32",
          "shape": [
           109
          ],
          "type": null
         },
         "Timeliness_Date_Diff_|_Datetime_Event2": {
          "dtype": "int32",
          "shape": [
           109
          ],
          "type": null
         },
         "Validity_Dates_Future_|_Date_of_Birth": {
          "dtype": "int32",
          "shape": [
           109
          ],
          "type": null
         },
         "Validity_Dates_Future_|_Date_of_Diagnosis": {
          "dtype": "int32",
          "shape": [
           109
          ],
          "type": null
         },
         "Validity_Dates_Future_|_Datetime_Event1": {
          "dtype": "int32",
          "shape": [
           109
          ],
          "type": null
         },
         "Validity_Dates_Future_|_Datetime_Event2": {
          "dtype": "int32",
          "shape": [
           109
          ],
          "type": null
         },
         "Validity_Dates_Future_|_Datetime_Logging1": {
          "dtype": "int32",
          "shape": [
           109
          ],
          "type": null
         },
         "Validity_Dates_Future_|_Datetime_Logging2": {
          "dtype": "int32",
          "shape": [
           109
          ],
          "type": null
         },
         "Validity_Dates_Future_|_Regimen_Start_Date": {
          "dtype": "int32",
          "shape": [
           109
          ],
          "type": null
         },
         "Validity_Lookup_Table_|_Gender": {
          "dtype": "int32",
          "shape": [
           109
          ],
          "type": null
         },
         "Validity_Lookup_Table_|_ICD_10_Code": {
          "dtype": "int32",
          "shape": [
           109
          ],
          "type": null
         },
         "Validity_Lookup_Table_|_Tumour_M_Stage": {
          "dtype": "int32",
          "shape": [
           109
          ],
          "type": null
         },
         "Validity_Lookup_Table_|_Tumour_Stage": {
          "dtype": "int32",
          "shape": [
           109
          ],
          "type": null
         },
         "Validity_Pattern_|_Date_of_Birth": {
          "dtype": "int32",
          "shape": [
           109
          ],
          "type": null
         },
         "Validity_Pattern_|_Date_of_Diagnosis": {
          "dtype": "int32",
          "shape": [
           109
          ],
          "type": null
         },
         "Validity_Pattern_|_Datetime_Event1": {
          "dtype": "int32",
          "shape": [
           109
          ],
          "type": null
         },
         "Validity_Pattern_|_Datetime_Event2": {
          "dtype": "int32",
          "shape": [
           109
          ],
          "type": null
         },
         "Validity_Pattern_|_Datetime_Logging1": {
          "dtype": "int32",
          "shape": [
           109
          ],
          "type": null
         },
         "Validity_Pattern_|_Datetime_Logging2": {
          "dtype": "int32",
          "shape": [
           109
          ],
          "type": null
         },
         "Validity_Pattern_|_Regimen_Start_Date": {
          "dtype": "int32",
          "shape": [
           109
          ],
          "type": null
         },
         "Validity_Postcode_UK_|_Postcode": {
          "dtype": "int32",
          "shape": [
           109
          ],
          "type": null
         },
         "completeness_count_|_Age": {
          "dtype": "int32",
          "shape": [
           109
          ],
          "type": null
         },
         "completeness_count_|_BMI": {
          "dtype": "int32",
          "shape": [
           109
          ],
          "type": null
         },
         "completeness_count_|_Date_of_Birth": {
          "dtype": "int32",
          "shape": [
           109
          ],
          "type": null
         },
         "completeness_count_|_Date_of_Diagnosis": {
          "dtype": "int32",
          "shape": [
           109
          ],
          "type": null
         },
         "completeness_count_|_Datetime_Event1": {
          "dtype": "int32",
          "shape": [
           109
          ],
          "type": null
         },
         "completeness_count_|_Datetime_Event2": {
          "dtype": "int32",
          "shape": [
           109
          ],
          "type": null
         },
         "completeness_count_|_Datetime_Logging1": {
          "dtype": "int32",
          "shape": [
           109
          ],
          "type": null
         },
         "completeness_count_|_Datetime_Logging2": {
          "dtype": "int32",
          "shape": [
           109
          ],
          "type": null
         },
         "completeness_count_|_Gender": {
          "dtype": "int32",
          "shape": [
           109
          ],
          "type": null
         },
         "completeness_count_|_Height_cm": {
          "dtype": "int32",
          "shape": [
           109
          ],
          "type": null
         },
         "completeness_count_|_ICD_10_Code": {
          "dtype": "int32",
          "shape": [
           109
          ],
          "type": null
         },
         "completeness_count_|_Metastatic_Indicator": {
          "dtype": "int32",
          "shape": [
           109
          ],
          "type": null
         },
         "completeness_count_|_NHS_number": {
          "dtype": "int32",
          "shape": [
           109
          ],
          "type": null
         },
         "completeness_count_|_Patient_ID": {
          "dtype": "int32",
          "shape": [
           109
          ],
          "type": null
         },
         "completeness_count_|_Postcode": {
          "dtype": "int32",
          "shape": [
           109
          ],
          "type": null
         },
         "completeness_count_|_Regimen_Start_Date": {
          "dtype": "int32",
          "shape": [
           109
          ],
          "type": null
         },
         "completeness_count_|_Tumour_M_Stage": {
          "dtype": "int32",
          "shape": [
           109
          ],
          "type": null
         },
         "completeness_count_|_Tumour_Stage": {
          "dtype": "int32",
          "shape": [
           109
          ],
          "type": null
         },
         "completeness_count_|_Weight_kg": {
          "dtype": "int32",
          "shape": [
           109
          ],
          "type": null
         },
         "consistency_count_|_Date_of_Birth": {
          "dtype": "int32",
          "shape": [
           109
          ],
          "type": null
         },
         "consistency_count_|_Date_of_Diagnosis": {
          "dtype": "int32",
          "shape": [
           109
          ],
          "type": null
         },
         "consistency_count_|_Datetime_Event1": {
          "dtype": "int32",
          "shape": [
           109
          ],
          "type": null
         },
         "consistency_count_|_Datetime_Event2": {
          "dtype": "int32",
          "shape": [
           109
          ],
          "type": null
         },
         "consistency_count_|_Datetime_Logging1": {
          "dtype": "int32",
          "shape": [
           109
          ],
          "type": null
         },
         "consistency_count_|_Metastatic_Indicator": {
          "dtype": "int32",
          "shape": [
           109
          ],
          "type": null
         },
         "ipydguuid": {
          "dtype": "int32",
          "shape": [
           109
          ],
          "type": null
         },
         "key": {
          "dtype": "int32",
          "shape": [
           109
          ],
          "type": null
         },
         "row_uniqueness_|_full_row_uniqueness": {
          "dtype": "int32",
          "shape": [
           109
          ],
          "type": null
         },
         "timeliness_count_|_Datetime_Event1": {
          "dtype": "int32",
          "shape": [
           109
          ],
          "type": null
         },
         "timeliness_count_|_Datetime_Event2": {
          "dtype": "int32",
          "shape": [
           109
          ],
          "type": null
         },
         "uniqueness_count_|_full_row_uniqueness": {
          "dtype": "int32",
          "shape": [
           109
          ],
          "type": null
         },
         "validity_count_|_Date_of_Birth": {
          "dtype": "int32",
          "shape": [
           109
          ],
          "type": null
         },
         "validity_count_|_Date_of_Diagnosis": {
          "dtype": "int32",
          "shape": [
           109
          ],
          "type": null
         },
         "validity_count_|_Datetime_Event1": {
          "dtype": "int32",
          "shape": [
           109
          ],
          "type": null
         },
         "validity_count_|_Datetime_Event2": {
          "dtype": "int32",
          "shape": [
           109
          ],
          "type": null
         },
         "validity_count_|_Datetime_Logging1": {
          "dtype": "int32",
          "shape": [
           109
          ],
          "type": null
         },
         "validity_count_|_Datetime_Logging2": {
          "dtype": "int32",
          "shape": [
           109
          ],
          "type": null
         },
         "validity_count_|_Gender": {
          "dtype": "int32",
          "shape": [
           109
          ],
          "type": null
         },
         "validity_count_|_ICD_10_Code": {
          "dtype": "int32",
          "shape": [
           109
          ],
          "type": null
         },
         "validity_count_|_Postcode": {
          "dtype": "int32",
          "shape": [
           109
          ],
          "type": null
         },
         "validity_count_|_Regimen_Start_Date": {
          "dtype": "int32",
          "shape": [
           109
          ],
          "type": null
         },
         "validity_count_|_Tumour_M_Stage": {
          "dtype": "int32",
          "shape": [
           109
          ],
          "type": null
         },
         "validity_count_|_Tumour_Stage": {
          "dtype": "int32",
          "shape": [
           109
          ],
          "type": null
         }
        },
        "fields": [
         {
          "key": "$NaN$"
         },
         {
          "Completeness_NULL_|_Patient_ID": "$NaN$"
         },
         {
          "Completeness_NULL_|_NHS_number": "$NaN$"
         },
         {
          "Completeness_NULL_|_Gender": "$NaN$"
         },
         {
          "Completeness_NULL_|_Date_of_Diagnosis": "$NaN$"
         },
         {
          "Completeness_NULL_|_Date_of_Birth": "$NaN$"
         },
         {
          "Completeness_NULL_|_Age": "$NaN$"
         },
         {
          "Completeness_NULL_|_Weight_kg": "$NaN$"
         },
         {
          "Completeness_NULL_|_Height_cm": "$NaN$"
         },
         {
          "Completeness_NULL_|_BMI": "$NaN$"
         },
         {
          "Completeness_NULL_|_Postcode": "$NaN$"
         },
         {
          "Completeness_NULL_|_ICD_10_Code": "$NaN$"
         },
         {
          "Completeness_NULL_|_Tumour_Stage": "$NaN$"
         },
         {
          "Completeness_NULL_|_Metastatic_Indicator": "$NaN$"
         },
         {
          "Completeness_NULL_|_Tumour_M_Stage": "$NaN$"
         },
         {
          "Completeness_NULL_|_Regimen_Start_Date": "$NaN$"
         },
         {
          "Completeness_NULL_|_Datetime_Event1": "$NaN$"
         },
         {
          "Completeness_NULL_|_Datetime_Logging1": "$NaN$"
         },
         {
          "Completeness_NULL_|_Datetime_Event2": "$NaN$"
         },
         {
          "Completeness_NULL_|_Datetime_Logging2": "$NaN$"
         },
         {
          "Completeness_Empty_|_Patient_ID": "$NaN$"
         },
         {
          "Completeness_Empty_|_NHS_number": "$NaN$"
         },
         {
          "Completeness_Empty_|_Gender": "$NaN$"
         },
         {
          "Completeness_Empty_|_Date_of_Diagnosis": "$NaN$"
         },
         {
          "Completeness_Empty_|_Date_of_Birth": "$NaN$"
         },
         {
          "Completeness_Empty_|_Age": "$NaN$"
         },
         {
          "Completeness_Empty_|_Weight_kg": "$NaN$"
         },
         {
          "Completeness_Empty_|_Height_cm": "$NaN$"
         },
         {
          "Completeness_Empty_|_BMI": "$NaN$"
         },
         {
          "Completeness_Empty_|_Postcode": "$NaN$"
         },
         {
          "Completeness_Empty_|_ICD_10_Code": "$NaN$"
         },
         {
          "Completeness_Empty_|_Tumour_Stage": "$NaN$"
         },
         {
          "Completeness_Empty_|_Metastatic_Indicator": "$NaN$"
         },
         {
          "Completeness_Empty_|_Tumour_M_Stage": "$NaN$"
         },
         {
          "Completeness_Empty_|_Regimen_Start_Date": "$NaN$"
         },
         {
          "Completeness_Empty_|_Datetime_Event1": "$NaN$"
         },
         {
          "Completeness_Empty_|_Datetime_Logging1": "$NaN$"
         },
         {
          "Completeness_Empty_|_Datetime_Event2": "$NaN$"
         },
         {
          "Completeness_Empty_|_Datetime_Logging2": "$NaN$"
         },
         {
          "Completeness_Encoded_|_NHS_number": "$NaN$"
         },
         {
          "Completeness_Encoded_|_Gender": "$NaN$"
         },
         {
          "Completeness_Encoded_|_Postcode": "$NaN$"
         },
         {
          "Completeness_Encoded_|_ICD_10_Code": "$NaN$"
         },
         {
          "Completeness_Encoded_|_Tumour_Stage": "$NaN$"
         },
         {
          "completeness_count_|_Age": "$NaN$"
         },
         {
          "completeness_count_|_BMI": "$NaN$"
         },
         {
          "completeness_count_|_Date_of_Birth": "$NaN$"
         },
         {
          "completeness_count_|_Date_of_Diagnosis": "$NaN$"
         },
         {
          "completeness_count_|_Datetime_Event1": "$NaN$"
         },
         {
          "completeness_count_|_Datetime_Event2": "$NaN$"
         },
         {
          "completeness_count_|_Datetime_Logging1": "$NaN$"
         },
         {
          "completeness_count_|_Datetime_Logging2": "$NaN$"
         },
         {
          "completeness_count_|_Gender": "$NaN$"
         },
         {
          "completeness_count_|_Height_cm": "$NaN$"
         },
         {
          "completeness_count_|_ICD_10_Code": "$NaN$"
         },
         {
          "completeness_count_|_Metastatic_Indicator": "$NaN$"
         },
         {
          "completeness_count_|_NHS_number": "$NaN$"
         },
         {
          "completeness_count_|_Patient_ID": "$NaN$"
         },
         {
          "completeness_count_|_Postcode": "$NaN$"
         },
         {
          "completeness_count_|_Regimen_Start_Date": "$NaN$"
         },
         {
          "completeness_count_|_Tumour_M_Stage": "$NaN$"
         },
         {
          "completeness_count_|_Tumour_Stage": "$NaN$"
         },
         {
          "completeness_count_|_Weight_kg": "$NaN$"
         },
         {
          "row_uniqueness_|_full_row_uniqueness": "$NaN$"
         },
         {
          "uniqueness_count_|_full_row_uniqueness": "$NaN$"
         },
         {
          "Consistency_Compare_|_Metastatic_Indicator": "$NaN$"
         },
         {
          "Consistency_Date_Relations_|_Date_of_Diagnosis": "$NaN$"
         },
         {
          "Consistency_Date_Relations_|_Date_of_Birth": "$NaN$"
         },
         {
          "Consistency_Date_Relations_|_Datetime_Event1": "$NaN$"
         },
         {
          "Consistency_Date_Relations_|_Datetime_Logging1": "$NaN$"
         },
         {
          "Consistency_Date_Relations_|_Datetime_Event2": "$NaN$"
         },
         {
          "consistency_count_|_Date_of_Birth": "$NaN$"
         },
         {
          "consistency_count_|_Date_of_Diagnosis": "$NaN$"
         },
         {
          "consistency_count_|_Datetime_Event1": "$NaN$"
         },
         {
          "consistency_count_|_Datetime_Event2": "$NaN$"
         },
         {
          "consistency_count_|_Datetime_Logging1": "$NaN$"
         },
         {
          "consistency_count_|_Metastatic_Indicator": "$NaN$"
         },
         {
          "Timeliness_Date_Diff_|_Datetime_Event1": "$NaN$"
         },
         {
          "Timeliness_Date_Diff_|_Datetime_Event2": "$NaN$"
         },
         {
          "timeliness_count_|_Datetime_Event1": "$NaN$"
         },
         {
          "timeliness_count_|_Datetime_Event2": "$NaN$"
         },
         {
          "Validity_Dates_Future_|_Date_of_Diagnosis": "$NaN$"
         },
         {
          "Validity_Dates_Future_|_Date_of_Birth": "$NaN$"
         },
         {
          "Validity_Dates_Future_|_Regimen_Start_Date": "$NaN$"
         },
         {
          "Validity_Dates_Future_|_Datetime_Event1": "$NaN$"
         },
         {
          "Validity_Dates_Future_|_Datetime_Logging1": "$NaN$"
         },
         {
          "Validity_Dates_Future_|_Datetime_Event2": "$NaN$"
         },
         {
          "Validity_Dates_Future_|_Datetime_Logging2": "$NaN$"
         },
         {
          "Validity_Postcode_UK_|_Postcode": "$NaN$"
         },
         {
          "Validity_Lookup_Table_|_Gender": "$NaN$"
         },
         {
          "Validity_Lookup_Table_|_ICD_10_Code": "$NaN$"
         },
         {
          "Validity_Lookup_Table_|_Tumour_Stage": "$NaN$"
         },
         {
          "Validity_Lookup_Table_|_Tumour_M_Stage": "$NaN$"
         },
         {
          "Validity_Pattern_|_Date_of_Diagnosis": "$NaN$"
         },
         {
          "Validity_Pattern_|_Date_of_Birth": "$NaN$"
         },
         {
          "Validity_Pattern_|_Regimen_Start_Date": "$NaN$"
         },
         {
          "Validity_Pattern_|_Datetime_Event1": "$NaN$"
         },
         {
          "Validity_Pattern_|_Datetime_Logging1": "$NaN$"
         },
         {
          "Validity_Pattern_|_Datetime_Event2": "$NaN$"
         },
         {
          "Validity_Pattern_|_Datetime_Logging2": "$NaN$"
         },
         {
          "validity_count_|_Date_of_Birth": "$NaN$"
         },
         {
          "validity_count_|_Date_of_Diagnosis": "$NaN$"
         },
         {
          "validity_count_|_Datetime_Event1": "$NaN$"
         },
         {
          "validity_count_|_Datetime_Event2": "$NaN$"
         },
         {
          "validity_count_|_Datetime_Logging1": "$NaN$"
         },
         {
          "validity_count_|_Datetime_Logging2": "$NaN$"
         },
         {
          "validity_count_|_Gender": "$NaN$"
         },
         {
          "validity_count_|_ICD_10_Code": "$NaN$"
         },
         {
          "validity_count_|_Postcode": "$NaN$"
         },
         {
          "validity_count_|_Regimen_Start_Date": "$NaN$"
         },
         {
          "validity_count_|_Tumour_M_Stage": "$NaN$"
         },
         {
          "validity_count_|_Tumour_Stage": "$NaN$"
         },
         {
          "ipydguuid": "$NaN$"
         }
        ],
        "schema": {
         "fields": [
          {
           "name": "key",
           "type": "integer"
          },
          {
           "name": "Completeness_NULL_|_Patient_ID",
           "type": "integer"
          },
          {
           "name": "Completeness_NULL_|_NHS_number",
           "type": "integer"
          },
          {
           "name": "Completeness_NULL_|_Gender",
           "type": "integer"
          },
          {
           "name": "Completeness_NULL_|_Date_of_Diagnosis",
           "type": "integer"
          },
          {
           "name": "Completeness_NULL_|_Date_of_Birth",
           "type": "integer"
          },
          {
           "name": "Completeness_NULL_|_Age",
           "type": "integer"
          },
          {
           "name": "Completeness_NULL_|_Weight_kg",
           "type": "integer"
          },
          {
           "name": "Completeness_NULL_|_Height_cm",
           "type": "integer"
          },
          {
           "name": "Completeness_NULL_|_BMI",
           "type": "integer"
          },
          {
           "name": "Completeness_NULL_|_Postcode",
           "type": "integer"
          },
          {
           "name": "Completeness_NULL_|_ICD_10_Code",
           "type": "integer"
          },
          {
           "name": "Completeness_NULL_|_Tumour_Stage",
           "type": "integer"
          },
          {
           "name": "Completeness_NULL_|_Metastatic_Indicator",
           "type": "integer"
          },
          {
           "name": "Completeness_NULL_|_Tumour_M_Stage",
           "type": "integer"
          },
          {
           "name": "Completeness_NULL_|_Regimen_Start_Date",
           "type": "integer"
          },
          {
           "name": "Completeness_NULL_|_Datetime_Event1",
           "type": "integer"
          },
          {
           "name": "Completeness_NULL_|_Datetime_Logging1",
           "type": "integer"
          },
          {
           "name": "Completeness_NULL_|_Datetime_Event2",
           "type": "integer"
          },
          {
           "name": "Completeness_NULL_|_Datetime_Logging2",
           "type": "integer"
          },
          {
           "name": "Completeness_Empty_|_Patient_ID",
           "type": "integer"
          },
          {
           "name": "Completeness_Empty_|_NHS_number",
           "type": "integer"
          },
          {
           "name": "Completeness_Empty_|_Gender",
           "type": "integer"
          },
          {
           "name": "Completeness_Empty_|_Date_of_Diagnosis",
           "type": "integer"
          },
          {
           "name": "Completeness_Empty_|_Date_of_Birth",
           "type": "integer"
          },
          {
           "name": "Completeness_Empty_|_Age",
           "type": "integer"
          },
          {
           "name": "Completeness_Empty_|_Weight_kg",
           "type": "integer"
          },
          {
           "name": "Completeness_Empty_|_Height_cm",
           "type": "integer"
          },
          {
           "name": "Completeness_Empty_|_BMI",
           "type": "integer"
          },
          {
           "name": "Completeness_Empty_|_Postcode",
           "type": "integer"
          },
          {
           "name": "Completeness_Empty_|_ICD_10_Code",
           "type": "integer"
          },
          {
           "name": "Completeness_Empty_|_Tumour_Stage",
           "type": "integer"
          },
          {
           "name": "Completeness_Empty_|_Metastatic_Indicator",
           "type": "integer"
          },
          {
           "name": "Completeness_Empty_|_Tumour_M_Stage",
           "type": "integer"
          },
          {
           "name": "Completeness_Empty_|_Regimen_Start_Date",
           "type": "integer"
          },
          {
           "name": "Completeness_Empty_|_Datetime_Event1",
           "type": "integer"
          },
          {
           "name": "Completeness_Empty_|_Datetime_Logging1",
           "type": "integer"
          },
          {
           "name": "Completeness_Empty_|_Datetime_Event2",
           "type": "integer"
          },
          {
           "name": "Completeness_Empty_|_Datetime_Logging2",
           "type": "integer"
          },
          {
           "name": "Completeness_Encoded_|_NHS_number",
           "type": "integer"
          },
          {
           "name": "Completeness_Encoded_|_Gender",
           "type": "integer"
          },
          {
           "name": "Completeness_Encoded_|_Postcode",
           "type": "integer"
          },
          {
           "name": "Completeness_Encoded_|_ICD_10_Code",
           "type": "integer"
          },
          {
           "name": "Completeness_Encoded_|_Tumour_Stage",
           "type": "integer"
          },
          {
           "name": "completeness_count_|_Age",
           "type": "integer"
          },
          {
           "name": "completeness_count_|_BMI",
           "type": "integer"
          },
          {
           "name": "completeness_count_|_Date_of_Birth",
           "type": "integer"
          },
          {
           "name": "completeness_count_|_Date_of_Diagnosis",
           "type": "integer"
          },
          {
           "name": "completeness_count_|_Datetime_Event1",
           "type": "integer"
          },
          {
           "name": "completeness_count_|_Datetime_Event2",
           "type": "integer"
          },
          {
           "name": "completeness_count_|_Datetime_Logging1",
           "type": "integer"
          },
          {
           "name": "completeness_count_|_Datetime_Logging2",
           "type": "integer"
          },
          {
           "name": "completeness_count_|_Gender",
           "type": "integer"
          },
          {
           "name": "completeness_count_|_Height_cm",
           "type": "integer"
          },
          {
           "name": "completeness_count_|_ICD_10_Code",
           "type": "integer"
          },
          {
           "name": "completeness_count_|_Metastatic_Indicator",
           "type": "integer"
          },
          {
           "name": "completeness_count_|_NHS_number",
           "type": "integer"
          },
          {
           "name": "completeness_count_|_Patient_ID",
           "type": "integer"
          },
          {
           "name": "completeness_count_|_Postcode",
           "type": "integer"
          },
          {
           "name": "completeness_count_|_Regimen_Start_Date",
           "type": "integer"
          },
          {
           "name": "completeness_count_|_Tumour_M_Stage",
           "type": "integer"
          },
          {
           "name": "completeness_count_|_Tumour_Stage",
           "type": "integer"
          },
          {
           "name": "completeness_count_|_Weight_kg",
           "type": "integer"
          },
          {
           "name": "row_uniqueness_|_full_row_uniqueness",
           "type": "integer"
          },
          {
           "name": "uniqueness_count_|_full_row_uniqueness",
           "type": "integer"
          },
          {
           "name": "Consistency_Compare_|_Metastatic_Indicator",
           "type": "integer"
          },
          {
           "name": "Consistency_Date_Relations_|_Date_of_Diagnosis",
           "type": "integer"
          },
          {
           "name": "Consistency_Date_Relations_|_Date_of_Birth",
           "type": "integer"
          },
          {
           "name": "Consistency_Date_Relations_|_Datetime_Event1",
           "type": "integer"
          },
          {
           "name": "Consistency_Date_Relations_|_Datetime_Logging1",
           "type": "integer"
          },
          {
           "name": "Consistency_Date_Relations_|_Datetime_Event2",
           "type": "integer"
          },
          {
           "name": "consistency_count_|_Date_of_Birth",
           "type": "integer"
          },
          {
           "name": "consistency_count_|_Date_of_Diagnosis",
           "type": "integer"
          },
          {
           "name": "consistency_count_|_Datetime_Event1",
           "type": "integer"
          },
          {
           "name": "consistency_count_|_Datetime_Event2",
           "type": "integer"
          },
          {
           "name": "consistency_count_|_Datetime_Logging1",
           "type": "integer"
          },
          {
           "name": "consistency_count_|_Metastatic_Indicator",
           "type": "integer"
          },
          {
           "name": "Timeliness_Date_Diff_|_Datetime_Event1",
           "type": "integer"
          },
          {
           "name": "Timeliness_Date_Diff_|_Datetime_Event2",
           "type": "integer"
          },
          {
           "name": "timeliness_count_|_Datetime_Event1",
           "type": "integer"
          },
          {
           "name": "timeliness_count_|_Datetime_Event2",
           "type": "integer"
          },
          {
           "name": "Validity_Dates_Future_|_Date_of_Diagnosis",
           "type": "integer"
          },
          {
           "name": "Validity_Dates_Future_|_Date_of_Birth",
           "type": "integer"
          },
          {
           "name": "Validity_Dates_Future_|_Regimen_Start_Date",
           "type": "integer"
          },
          {
           "name": "Validity_Dates_Future_|_Datetime_Event1",
           "type": "integer"
          },
          {
           "name": "Validity_Dates_Future_|_Datetime_Logging1",
           "type": "integer"
          },
          {
           "name": "Validity_Dates_Future_|_Datetime_Event2",
           "type": "integer"
          },
          {
           "name": "Validity_Dates_Future_|_Datetime_Logging2",
           "type": "integer"
          },
          {
           "name": "Validity_Postcode_UK_|_Postcode",
           "type": "integer"
          },
          {
           "name": "Validity_Lookup_Table_|_Gender",
           "type": "integer"
          },
          {
           "name": "Validity_Lookup_Table_|_ICD_10_Code",
           "type": "integer"
          },
          {
           "name": "Validity_Lookup_Table_|_Tumour_Stage",
           "type": "integer"
          },
          {
           "name": "Validity_Lookup_Table_|_Tumour_M_Stage",
           "type": "integer"
          },
          {
           "name": "Validity_Pattern_|_Date_of_Diagnosis",
           "type": "integer"
          },
          {
           "name": "Validity_Pattern_|_Date_of_Birth",
           "type": "integer"
          },
          {
           "name": "Validity_Pattern_|_Regimen_Start_Date",
           "type": "integer"
          },
          {
           "name": "Validity_Pattern_|_Datetime_Event1",
           "type": "integer"
          },
          {
           "name": "Validity_Pattern_|_Datetime_Logging1",
           "type": "integer"
          },
          {
           "name": "Validity_Pattern_|_Datetime_Event2",
           "type": "integer"
          },
          {
           "name": "Validity_Pattern_|_Datetime_Logging2",
           "type": "integer"
          },
          {
           "name": "validity_count_|_Date_of_Birth",
           "type": "integer"
          },
          {
           "name": "validity_count_|_Date_of_Diagnosis",
           "type": "integer"
          },
          {
           "name": "validity_count_|_Datetime_Event1",
           "type": "integer"
          },
          {
           "name": "validity_count_|_Datetime_Event2",
           "type": "integer"
          },
          {
           "name": "validity_count_|_Datetime_Logging1",
           "type": "integer"
          },
          {
           "name": "validity_count_|_Datetime_Logging2",
           "type": "integer"
          },
          {
           "name": "validity_count_|_Gender",
           "type": "integer"
          },
          {
           "name": "validity_count_|_ICD_10_Code",
           "type": "integer"
          },
          {
           "name": "validity_count_|_Postcode",
           "type": "integer"
          },
          {
           "name": "validity_count_|_Regimen_Start_Date",
           "type": "integer"
          },
          {
           "name": "validity_count_|_Tumour_M_Stage",
           "type": "integer"
          },
          {
           "name": "validity_count_|_Tumour_Stage",
           "type": "integer"
          },
          {
           "name": "ipydguuid",
           "type": "integer"
          }
         ],
         "pandas_version": "1.4.0",
         "primaryKey": [
          "key",
          "ipydguuid"
         ],
         "primaryKeyUuid": "ipydguuid"
        }
       },
       "_dom_classes": [],
       "_model_module": "ipydatagrid",
       "_model_module_version": "^1.3.1",
       "_model_name": "DataGridModel",
       "_transforms": [],
       "_view_count": null,
       "_view_module": "ipydatagrid",
       "_view_module_version": "^1.3.1",
       "_view_name": "DataGridView",
       "_visible_rows": [],
       "auto_fit_columns": false,
       "auto_fit_params": {
        "area": "all",
        "numCols": null,
        "padding": 30
       },
       "base_column_header_size": 30,
       "base_column_size": 180,
       "base_row_header_size": 64,
       "base_row_size": 20,
       "column_widths": {},
       "corner_renderer": null,
       "default_renderer": "IPY_MODEL_f5b8a90554aa47b3a077d18fb7248a97",
       "editable": false,
       "grid_style": {
        "header_background_color": "#fb8072"
       },
       "header_renderer": "IPY_MODEL_bda1791b3c3642e9ba65cef0b60066ec",
       "header_visibility": "column",
       "horizontal_stripes": false,
       "layout": "IPY_MODEL_7eca3626930a418694d8ac0a6bf709e4",
       "renderers": {},
       "selection_mode": "none",
       "selections": [],
       "tabbable": null,
       "tooltip": null,
       "vertical_stripes": false
      }
     },
     "e97ee58b7f06471a80745f93ef002b38": {
      "model_module": "ipydatagrid",
      "model_module_version": "^1.3.1",
      "model_name": "TextRendererModel",
      "state": {
       "_model_module": "ipydatagrid",
       "_model_module_version": "^1.3.1",
       "_model_name": "TextRendererModel",
       "_view_count": null,
       "_view_module": "ipydatagrid",
       "_view_module_version": "^1.3.1",
       "_view_name": "TextRendererView",
       "background_color": "#fb9a99",
       "font": "12px sans-serif",
       "format": null,
       "format_type": "number",
       "horizontal_alignment": "left",
       "missing": "",
       "text_color": "IPY_MODEL_c19af3e8c4fe4055bb4a5eaee8c3e40d",
       "text_elide_direction": "right",
       "text_value": null,
       "text_wrap": false,
       "vertical_alignment": "center"
      }
     },
     "eacadad5f0dc49e2b189b0b3afa7fd4d": {
      "model_module": "ipydatagrid",
      "model_module_version": "^1.3.1",
      "model_name": "VegaExprModel",
      "state": {
       "_model_module": "ipydatagrid",
       "_model_module_version": "^1.3.1",
       "_model_name": "VegaExprModel",
       "_view_count": null,
       "_view_module": "ipydatagrid",
       "_view_module_version": "^1.3.1",
       "_view_name": "VegaExprView",
       "value": "default_value"
      }
     },
     "eb6297049ee34338aa8ca946928a2739": {
      "model_module": "ipydatagrid",
      "model_module_version": "^1.3.1",
      "model_name": "VegaExprModel",
      "state": {
       "_model_module": "ipydatagrid",
       "_model_module_version": "^1.3.1",
       "_model_name": "VegaExprModel",
       "_view_count": null,
       "_view_module": "ipydatagrid",
       "_view_module_version": "^1.3.1",
       "_view_name": "VegaExprView",
       "value": "default_value"
      }
     },
     "ede68b998c474bed916cae4afe53d2d6": {
      "model_module": "ipydatagrid",
      "model_module_version": "^1.3.1",
      "model_name": "TextRendererModel",
      "state": {
       "_model_module": "ipydatagrid",
       "_model_module_version": "^1.3.1",
       "_model_name": "TextRendererModel",
       "_view_count": null,
       "_view_module": "ipydatagrid",
       "_view_module_version": "^1.3.1",
       "_view_name": "TextRendererView",
       "background_color": "#fdbf6f",
       "font": "12px sans-serif",
       "format": null,
       "format_type": "number",
       "horizontal_alignment": "left",
       "missing": "",
       "text_color": "IPY_MODEL_8a2be33e882844108bdcb41432410114",
       "text_elide_direction": "right",
       "text_value": null,
       "text_wrap": false,
       "vertical_alignment": "center"
      }
     },
     "edf523ec9b634d92a4ab068e115e9ce7": {
      "model_module": "ipydatagrid",
      "model_module_version": "^1.3.1",
      "model_name": "TextRendererModel",
      "state": {
       "_model_module": "ipydatagrid",
       "_model_module_version": "^1.3.1",
       "_model_name": "TextRendererModel",
       "_view_count": null,
       "_view_module": "ipydatagrid",
       "_view_module_version": "^1.3.1",
       "_view_name": "TextRendererView",
       "background_color": "#b2df8a",
       "font": "12px sans-serif",
       "format": null,
       "format_type": "number",
       "horizontal_alignment": "left",
       "missing": "",
       "text_color": "IPY_MODEL_a57fc39e6da94bdbbe202dabfa8fc10b",
       "text_elide_direction": "right",
       "text_value": null,
       "text_wrap": false,
       "vertical_alignment": "center"
      }
     },
     "ef72e742296741a89a85f7e2cd0503a4": {
      "buffers": [
       {
        "data": "AAAAAAEAAAACAAAAAwAAAAQAAAAFAAAABgAAAAcAAAAIAAAACQAAAAoAAAALAAAADAAAAA0AAAAOAAAADwAAABAAAAARAAAAEgAAABMAAAAUAAAAFQAAABYAAAAXAAAAGAAAABkAAAAaAAAAGwAAABwAAAA=",
        "encoding": "base64",
        "path": [
         "_data",
         "data",
         "key",
         "value"
        ]
       },
       {
        "data": "AAAAAAEAAAACAAAAAwAAAAQAAAAFAAAABgAAAAcAAAAIAAAACQAAAAoAAAALAAAADAAAAA0AAAAOAAAADwAAABAAAAARAAAAEgAAABMAAAAUAAAAFQAAABYAAAAXAAAAGAAAABkAAAAaAAAAGwAAABwAAAA=",
        "encoding": "base64",
        "path": [
         "_data",
         "data",
         "ipydguuid",
         "value"
        ]
       }
      ],
      "model_module": "ipydatagrid",
      "model_module_version": "^1.3.1",
      "model_name": "DataGridModel",
      "state": {
       "_data": {
        "data": {
         "Description": [
          "Name of the fields of the source input data.",
          "The datetime format pattern specified by ISO standards.",
          "Count of \"NULL\" values.",
          "Count of empty records.",
          "TRUE/FALSE indicator if field uses codes to indicate missingness, e.g. \"Unknown\" or \"999\".",
          "A list of values or codes that represent missingness of data. Each possible unique value is separated by a pipe delimiter.",
          "TRUE/FALSE indicator if field is expected to be unique, e.g. patient identifier.",
          "TRUE/FALSE to indicate if field should be compared with another from the same input dataset for consistency checks.",
          "Enter the name of the field to compare against. To do this, \"Consistency_Compare\" must equal \"TRUE\" for field 1. Then the comparison field (field 2) is named here.",
          "Map the permissible correct comparison values between Field 1 and Field 2, respectively. For example a one-to-one comparison Field 1 : Field 2 values may be {\"Apples\":\"Oranges\", \"Wolves\":\"Bears\"}. A one-to-many or many-to-many comparison is possible using lists, e.g. {[\"Fruit\"]:[\"Apples\", \"Oranges\"]}.",
          "TRUE/FALSE if a date field should be compared with another.",
          "Relationship of the comparison (<, >, <=, or >=), e.g. \"Date of Birth\" < \"Date of Death\".",
          "Name of the compared datetime field if \"Consistency_Date_Relations\" = \"TRUE\".",
          "Indicator to perform a calculation between two datetime fields. ",
          "If \"Timeliness_Date_Diff\" = \"TRUE\", here you specify which field in the same dataset to calculate a time-difference from.",
          "What is the permissible threshold (in minutes) for the date time difference? For example, raise an error if (Datetime_Logging1 - Datetime_Event1) >= 10 minutes.",
          "TRUE/FALSE indicator to raise an error if a future date is found.",
          "TRUE/FALSE if a date range is applicable.",
          "If \"Validity_Dates_Future\" = \"TRUE\", what is the minimum permissible date.",
          "If \"Validity_Dates_Future\" = \"TRUE\", what is the maximum permissible date.",
          "TRUE/FALSE if the NHS validity algorithm checker is applicable.",
          "TRUE/FALSE to raise an error if invalid UK postcodes are detected.",
          "TRUE/FALSE if a data standard is applicable.",
          "If \"Validity_Lookup_Table\"=\"TRUE\", what is the filename of the data standard. Ensure the csv/xlsx file is available in the proper directory. DQMaRC assumes the file is in current directory + '/../src/data/lookups'.",
          "TRUE/FALSE if a numerical range applicable, e.g. 0-100?",
          "If \"Validity_Range\"=\"TRUE\", supply the numerical range permissible. The min and max range values are separated by a pipe delimiter.",
          "TRUE/FALSE if a valid pattern is applicable. ",
          "If \"Validity_Pattern\"=\"TRUE\", supply the permissible pattern in regex form, e.g. [0-9]{2}/[0-9]{2}/[0-9]{2} or (\\d{2})/(\\d{2})/(\\d{4}) (\\d{2}):(\\d{2})",
          "TRUE/FALSE if a gold standard reference dataset is applicable."
         ],
         "Example_Data": [
          "Metastatic_Indicator",
          "%d/%m/%Y %H:%M",
          "TRUE or FALSE",
          "TRUE or FALSE",
          "TRUE or FALSE",
          "Missing|N/A|Empty",
          "TRUE or FALSE",
          "TRUE or FALSE",
          "Tumour_M_Stage",
          "{\"Present\": [\"M1\", \"M1a\"]}",
          "TRUE or FALSE",
          "<, >, <=, >=",
          "Date_of_Birth",
          "TRUE or FALSE",
          "Datetime_Logging1",
          "10",
          "TRUE or FALSE",
          "TRUE or FALSE",
          "01/01/1900",
          "01/01/2025",
          "TRUE or FALSE",
          "TRUE or FALSE",
          "TRUE or FALSE",
          "LU_toydf_ICD10_v5.csv",
          "TRUE or FALSE",
          "0|110",
          "TRUE or FALSE",
          "[0-9]{2}/[0-9]{2}/[0-9]{2}",
          "TRUE or FALSE"
         ],
         "Python_Data_Type": [
          "String",
          "String",
          "Boolean",
          "Boolean",
          "Boolean",
          "String",
          "Boolean",
          "Boolean",
          "String",
          "Pandas dictionary",
          "Boolean",
          "String",
          "String",
          "Boolean",
          "String",
          "Integer",
          "Boolean",
          "Boolean",
          "String",
          "String",
          "Boolean",
          "Boolean",
          "Boolean",
          "String",
          "Boolean",
          "String",
          "Boolean",
          "String",
          "Boolean"
         ],
         "Test Parameter": [
          "Field",
          "Date_Format",
          "Completeness_NULL",
          "Completeness_Empty",
          "Completeness_Encoded",
          "Completeness_Encoded_Mapping",
          "Uniqueness_Rows",
          "Consistency_Compare",
          "Consistency_Compare_Field",
          "Consistency_Compare_Mapping",
          "Consistency_Date_Relations",
          "Consistency_Date_Relationship",
          "Consistency_Date_Relations_Field",
          "Timeliness_Date_Diff",
          "Timeliness_Date_Diff_Field",
          "Timeliness_Date_Diff_Threshold",
          "Validity_Dates_Future",
          "Validity_Date_Range",
          "Validity_Date_Range_Min",
          "Validity_Date_Range_Max",
          "Validity_NHS_Number",
          "Validity_Postcode_UK",
          "Validity_Lookup_Table",
          "Validity_Lookup_Table_Filename",
          "Validity_Range",
          "Validity_Range_Numeric",
          "Validity_Pattern",
          "Validity_Pattern_Regex",
          "Accuracy_Gold_Standard"
         ],
         "ipydguuid": {
          "dtype": "int32",
          "shape": [
           29
          ],
          "type": null
         },
         "key": {
          "dtype": "int32",
          "shape": [
           29
          ],
          "type": null
         }
        },
        "fields": [
         {
          "key": "$NaN$"
         },
         {
          "Test Parameter": "$NaN$"
         },
         {
          "Python_Data_Type": "$NaN$"
         },
         {
          "Example_Data": "$NaN$"
         },
         {
          "Description": "$NaN$"
         },
         {
          "ipydguuid": "$NaN$"
         }
        ],
        "schema": {
         "fields": [
          {
           "name": "key",
           "type": "integer"
          },
          {
           "name": "Test Parameter",
           "type": "string"
          },
          {
           "name": "Python_Data_Type",
           "type": "string"
          },
          {
           "name": "Example_Data",
           "type": "string"
          },
          {
           "name": "Description",
           "type": "string"
          },
          {
           "name": "ipydguuid",
           "type": "integer"
          }
         ],
         "pandas_version": "1.4.0",
         "primaryKey": [
          "key",
          "ipydguuid"
         ],
         "primaryKeyUuid": "ipydguuid"
        }
       },
       "_dom_classes": [],
       "_model_module": "ipydatagrid",
       "_model_module_version": "^1.3.1",
       "_model_name": "DataGridModel",
       "_transforms": [],
       "_view_count": null,
       "_view_module": "ipydatagrid",
       "_view_module_version": "^1.3.1",
       "_view_name": "DataGridView",
       "_visible_rows": [],
       "auto_fit_columns": false,
       "auto_fit_params": {
        "area": "all",
        "numCols": null,
        "padding": 30
       },
       "base_column_header_size": 30,
       "base_column_size": 180,
       "base_row_header_size": 64,
       "base_row_size": 20,
       "column_widths": {},
       "corner_renderer": null,
       "default_renderer": "IPY_MODEL_366215c881b24dfeb4cc033624026454",
       "editable": false,
       "grid_style": {
        "header_background_color": "#b2df8a"
       },
       "header_renderer": "IPY_MODEL_edf523ec9b634d92a4ab068e115e9ce7",
       "header_visibility": "column",
       "horizontal_stripes": false,
       "layout": "IPY_MODEL_70fca55724fc4d86bb0a8553241a9c01",
       "renderers": {},
       "selection_mode": "none",
       "selections": [],
       "tabbable": null,
       "tooltip": null,
       "vertical_stripes": false
      }
     },
     "f5b8a90554aa47b3a077d18fb7248a97": {
      "model_module": "ipydatagrid",
      "model_module_version": "^1.3.1",
      "model_name": "TextRendererModel",
      "state": {
       "_model_module": "ipydatagrid",
       "_model_module_version": "^1.3.1",
       "_model_name": "TextRendererModel",
       "_view_count": null,
       "_view_module": "ipydatagrid",
       "_view_module_version": "^1.3.1",
       "_view_name": "TextRendererView",
       "background_color": "IPY_MODEL_54345c34355d4c49a692cede87a77ec4",
       "font": "12px sans-serif",
       "format": null,
       "format_type": "number",
       "horizontal_alignment": "left",
       "missing": "",
       "text_color": "IPY_MODEL_312aaff60bb44d4cb29d14d6a8e292aa",
       "text_elide_direction": "right",
       "text_value": null,
       "text_wrap": false,
       "vertical_alignment": "center"
      }
     },
     "f9a9cbd1fd624a7fb493e0b91507687c": {
      "model_module": "ipydatagrid",
      "model_module_version": "^1.3.1",
      "model_name": "TextRendererModel",
      "state": {
       "_model_module": "ipydatagrid",
       "_model_module_version": "^1.3.1",
       "_model_name": "TextRendererModel",
       "_view_count": null,
       "_view_module": "ipydatagrid",
       "_view_module_version": "^1.3.1",
       "_view_name": "TextRendererView",
       "background_color": "IPY_MODEL_23e208104f7a4a39a5e0e48069771f24",
       "font": "12px sans-serif",
       "format": null,
       "format_type": "number",
       "horizontal_alignment": "left",
       "missing": "",
       "text_color": "IPY_MODEL_34a748ee47e44765847ab08b2865c5e8",
       "text_elide_direction": "right",
       "text_value": null,
       "text_wrap": false,
       "vertical_alignment": "center"
      }
     }
    },
    "version_major": 2,
    "version_minor": 0
   }
  }
 },
 "nbformat": 4,
 "nbformat_minor": 5
}
